{
  "cells": [
    {
      "cell_type": "markdown",
      "id": "79e7a9e9-6bd0-4bc7-8833-d36788457e7f",
      "metadata": {
        "id": "79e7a9e9-6bd0-4bc7-8833-d36788457e7f"
      },
      "source": [
        "# Нефтедобывающая компания \"ГлавРосГосНефть\""
      ]
    },
    {
      "cell_type": "markdown",
      "id": "cba87e5f-4bf2-4c42-86c9-0a04cf5eaf7a",
      "metadata": {
        "id": "cba87e5f-4bf2-4c42-86c9-0a04cf5eaf7a"
      },
      "source": [
        "Допустим, вы работаете в добывающей компании «ГлавРосГосНефть». Нужно решить, где бурить новую скважину.\n",
        "\n",
        "Шаги для выбора локации обычно такие:\n",
        "\n",
        "- В избранном регионе собирают характеристики для скважин: качество нефти и объём её запасов;\n",
        "- Строят модель для предсказания объёма запасов в новых скважинах;\n",
        "- Выбирают скважины с самыми высокими оценками значений;\n",
        "- Определяют регион с максимальной суммарной прибылью отобранных скважин.\n",
        "\n",
        "Вам предоставлены пробы нефти в трёх регионах. Характеристики для каждой скважины в регионе уже известны. Постройте модель для определения региона, где добыча принесёт наибольшую прибыль. Проанализируйте возможную прибыль и риски техникой *Bootstrap.*"
      ]
    },
    {
      "cell_type": "markdown",
      "id": "cee6d807-e887-4675-b770-9d611c410d5b",
      "metadata": {
        "id": "cee6d807-e887-4675-b770-9d611c410d5b"
      },
      "source": [
        "# Описание данных"
      ]
    },
    {
      "cell_type": "markdown",
      "id": "15b3bb00-158f-4e3a-ab8d-3c5638011bf6",
      "metadata": {
        "id": "15b3bb00-158f-4e3a-ab8d-3c5638011bf6"
      },
      "source": [
        "Данные геологоразведки трёх регионов находятся в файлах:\n",
        "\n",
        "- `/datasets/geo_data_0.csv`.\n",
        "- `/datasets/geo_data_1.csv`.\n",
        "- `/datasets/geo_data_2.csv`.\n",
        "- *id* — уникальный идентификатор скважины;\n",
        "- *f0, f1, f2* — три признака точек (неважно, что они означают, но сами признаки значимы);\n",
        "- *product* — объём запасов в скважине (тыс. баррелей).\n",
        "\n",
        "**Условия задачи:**\n",
        "\n",
        "- Для обучения модели подходит только линейная регрессия (остальные — недостаточно предсказуемые).\n",
        "- При разведке региона исследуют 500 точек, из которых с помощью машинного обучения выбирают 200 лучших для разработки.\n",
        "- Бюджет на разработку скважин в регионе — 10 млрд рублей.\n",
        "- При нынешних ценах один баррель сырья приносит 450 рублей дохода. Доход с каждой единицы продукта составляет 450 тыс. рублей, поскольку объём указан в тысячах баррелей.\n",
        "- После оценки рисков нужно оставить лишь те регионы, в которых вероятность убытков меньше 2.5%. Среди них выбирают регион с наибольшей средней прибылью.\n",
        "\n",
        "Данные синтетические: детали контрактов и характеристики месторождений не разглашаются."
      ]
    },
    {
      "cell_type": "markdown",
      "id": "5ad8fb13-40f8-45a8-a0ce-375546c59d3f",
      "metadata": {
        "id": "5ad8fb13-40f8-45a8-a0ce-375546c59d3f"
      },
      "source": [
        "# Загрузка и предобработка данных"
      ]
    },
    {
      "cell_type": "code",
      "execution_count": null,
      "id": "42c6f319-b2f4-4784-b44a-31a8db7bb656",
      "metadata": {
        "id": "42c6f319-b2f4-4784-b44a-31a8db7bb656"
      },
      "outputs": [],
      "source": [
        "#!pip install --upgrade scikit-learn -q"
      ]
    },
    {
      "cell_type": "code",
      "execution_count": null,
      "id": "eb4b5304-574b-4fec-ba5e-9c5cadbe8186",
      "metadata": {
        "id": "eb4b5304-574b-4fec-ba5e-9c5cadbe8186"
      },
      "outputs": [],
      "source": [
        "import pandas as pd\n",
        "import numpy as np\n",
        "import matplotlib.pyplot as plt\n",
        "import seaborn as sns\n",
        "from scipy import stats as st\n",
        "\n",
        "from sklearn.linear_model import LinearRegression\n",
        "\n",
        "from sklearn.metrics import mean_squared_error, r2_score\n",
        "from sklearn.model_selection import train_test_split\n",
        "from sklearn.preprocessing import StandardScaler"
      ]
    },
    {
      "cell_type": "code",
      "execution_count": null,
      "id": "6bd3f6a8-d072-4ccf-9477-20da9f489708",
      "metadata": {
        "id": "6bd3f6a8-d072-4ccf-9477-20da9f489708"
      },
      "outputs": [],
      "source": [
        "data_1 = pd.read_csv('https://code.s3.yandex.net/datasets/geo_data_0.csv')\n",
        "data_2 = pd.read_csv('https://code.s3.yandex.net/datasets/geo_data_1.csv')\n",
        "data_3 = pd.read_csv('https://code.s3.yandex.net/datasets/geo_data_2.csv')"
      ]
    },
    {
      "cell_type": "code",
      "execution_count": null,
      "id": "7f149125-4d8e-41ad-8318-c56b7029c457",
      "metadata": {
        "id": "7f149125-4d8e-41ad-8318-c56b7029c457",
        "outputId": "105628af-450e-48c1-8fcd-4ad929df9241"
      },
      "outputs": [
        {
          "name": "stdout",
          "output_type": "stream",
          "text": [
            "<class 'pandas.core.frame.DataFrame'>\n",
            "RangeIndex: 100000 entries, 0 to 99999\n",
            "Data columns (total 5 columns):\n",
            " #   Column   Non-Null Count   Dtype  \n",
            "---  ------   --------------   -----  \n",
            " 0   id       100000 non-null  object \n",
            " 1   f0       100000 non-null  float64\n",
            " 2   f1       100000 non-null  float64\n",
            " 3   f2       100000 non-null  float64\n",
            " 4   product  100000 non-null  float64\n",
            "dtypes: float64(4), object(1)\n",
            "memory usage: 3.8+ MB\n",
            "\n",
            "<class 'pandas.core.frame.DataFrame'>\n",
            "RangeIndex: 100000 entries, 0 to 99999\n",
            "Data columns (total 5 columns):\n",
            " #   Column   Non-Null Count   Dtype  \n",
            "---  ------   --------------   -----  \n",
            " 0   id       100000 non-null  object \n",
            " 1   f0       100000 non-null  float64\n",
            " 2   f1       100000 non-null  float64\n",
            " 3   f2       100000 non-null  float64\n",
            " 4   product  100000 non-null  float64\n",
            "dtypes: float64(4), object(1)\n",
            "memory usage: 3.8+ MB\n",
            "\n",
            "<class 'pandas.core.frame.DataFrame'>\n",
            "RangeIndex: 100000 entries, 0 to 99999\n",
            "Data columns (total 5 columns):\n",
            " #   Column   Non-Null Count   Dtype  \n",
            "---  ------   --------------   -----  \n",
            " 0   id       100000 non-null  object \n",
            " 1   f0       100000 non-null  float64\n",
            " 2   f1       100000 non-null  float64\n",
            " 3   f2       100000 non-null  float64\n",
            " 4   product  100000 non-null  float64\n",
            "dtypes: float64(4), object(1)\n",
            "memory usage: 3.8+ MB\n"
          ]
        }
      ],
      "source": [
        "data_1.info()\n",
        "print()\n",
        "data_2.info()\n",
        "print()\n",
        "data_3.info()"
      ]
    },
    {
      "cell_type": "code",
      "execution_count": null,
      "id": "0f08f2a7-221e-44cc-8762-c50d0ec57839",
      "metadata": {
        "id": "0f08f2a7-221e-44cc-8762-c50d0ec57839",
        "outputId": "c8b78833-e2c9-4ae7-f1ce-9b5df7f8c3fc"
      },
      "outputs": [
        {
          "data": {
            "text/html": [
              "<div>\n",
              "<style scoped>\n",
              "    .dataframe tbody tr th:only-of-type {\n",
              "        vertical-align: middle;\n",
              "    }\n",
              "\n",
              "    .dataframe tbody tr th {\n",
              "        vertical-align: top;\n",
              "    }\n",
              "\n",
              "    .dataframe thead th {\n",
              "        text-align: right;\n",
              "    }\n",
              "</style>\n",
              "<table border=\"1\" class=\"dataframe\">\n",
              "  <thead>\n",
              "    <tr style=\"text-align: right;\">\n",
              "      <th></th>\n",
              "      <th>id</th>\n",
              "      <th>f0</th>\n",
              "      <th>f1</th>\n",
              "      <th>f2</th>\n",
              "      <th>product</th>\n",
              "    </tr>\n",
              "  </thead>\n",
              "  <tbody>\n",
              "    <tr>\n",
              "      <th>0</th>\n",
              "      <td>txEyH</td>\n",
              "      <td>0.705745</td>\n",
              "      <td>-0.497823</td>\n",
              "      <td>1.221170</td>\n",
              "      <td>105.280062</td>\n",
              "    </tr>\n",
              "    <tr>\n",
              "      <th>1</th>\n",
              "      <td>2acmU</td>\n",
              "      <td>1.334711</td>\n",
              "      <td>-0.340164</td>\n",
              "      <td>4.365080</td>\n",
              "      <td>73.037750</td>\n",
              "    </tr>\n",
              "    <tr>\n",
              "      <th>2</th>\n",
              "      <td>409Wp</td>\n",
              "      <td>1.022732</td>\n",
              "      <td>0.151990</td>\n",
              "      <td>1.419926</td>\n",
              "      <td>85.265647</td>\n",
              "    </tr>\n",
              "    <tr>\n",
              "      <th>3</th>\n",
              "      <td>iJLyR</td>\n",
              "      <td>-0.032172</td>\n",
              "      <td>0.139033</td>\n",
              "      <td>2.978566</td>\n",
              "      <td>168.620776</td>\n",
              "    </tr>\n",
              "    <tr>\n",
              "      <th>4</th>\n",
              "      <td>Xdl7t</td>\n",
              "      <td>1.988431</td>\n",
              "      <td>0.155413</td>\n",
              "      <td>4.751769</td>\n",
              "      <td>154.036647</td>\n",
              "    </tr>\n",
              "  </tbody>\n",
              "</table>\n",
              "</div>"
            ],
            "text/plain": [
              "      id        f0        f1        f2     product\n",
              "0  txEyH  0.705745 -0.497823  1.221170  105.280062\n",
              "1  2acmU  1.334711 -0.340164  4.365080   73.037750\n",
              "2  409Wp  1.022732  0.151990  1.419926   85.265647\n",
              "3  iJLyR -0.032172  0.139033  2.978566  168.620776\n",
              "4  Xdl7t  1.988431  0.155413  4.751769  154.036647"
            ]
          },
          "execution_count": 5,
          "metadata": {},
          "output_type": "execute_result"
        }
      ],
      "source": [
        "data_1.head()"
      ]
    },
    {
      "cell_type": "code",
      "execution_count": null,
      "id": "029caf47-5d3b-47a8-9024-1880635bc202",
      "metadata": {
        "id": "029caf47-5d3b-47a8-9024-1880635bc202",
        "outputId": "d40aa607-0720-4b53-dd69-4d58295870d3"
      },
      "outputs": [
        {
          "data": {
            "text/html": [
              "<div>\n",
              "<style scoped>\n",
              "    .dataframe tbody tr th:only-of-type {\n",
              "        vertical-align: middle;\n",
              "    }\n",
              "\n",
              "    .dataframe tbody tr th {\n",
              "        vertical-align: top;\n",
              "    }\n",
              "\n",
              "    .dataframe thead th {\n",
              "        text-align: right;\n",
              "    }\n",
              "</style>\n",
              "<table border=\"1\" class=\"dataframe\">\n",
              "  <thead>\n",
              "    <tr style=\"text-align: right;\">\n",
              "      <th></th>\n",
              "      <th>id</th>\n",
              "      <th>f0</th>\n",
              "      <th>f1</th>\n",
              "      <th>f2</th>\n",
              "      <th>product</th>\n",
              "    </tr>\n",
              "  </thead>\n",
              "  <tbody>\n",
              "    <tr>\n",
              "      <th>0</th>\n",
              "      <td>kBEdx</td>\n",
              "      <td>-15.001348</td>\n",
              "      <td>-8.276000</td>\n",
              "      <td>-0.005876</td>\n",
              "      <td>3.179103</td>\n",
              "    </tr>\n",
              "    <tr>\n",
              "      <th>1</th>\n",
              "      <td>62mP7</td>\n",
              "      <td>14.272088</td>\n",
              "      <td>-3.475083</td>\n",
              "      <td>0.999183</td>\n",
              "      <td>26.953261</td>\n",
              "    </tr>\n",
              "    <tr>\n",
              "      <th>2</th>\n",
              "      <td>vyE1P</td>\n",
              "      <td>6.263187</td>\n",
              "      <td>-5.948386</td>\n",
              "      <td>5.001160</td>\n",
              "      <td>134.766305</td>\n",
              "    </tr>\n",
              "    <tr>\n",
              "      <th>3</th>\n",
              "      <td>KcrkZ</td>\n",
              "      <td>-13.081196</td>\n",
              "      <td>-11.506057</td>\n",
              "      <td>4.999415</td>\n",
              "      <td>137.945408</td>\n",
              "    </tr>\n",
              "    <tr>\n",
              "      <th>4</th>\n",
              "      <td>AHL4O</td>\n",
              "      <td>12.702195</td>\n",
              "      <td>-8.147433</td>\n",
              "      <td>5.004363</td>\n",
              "      <td>134.766305</td>\n",
              "    </tr>\n",
              "  </tbody>\n",
              "</table>\n",
              "</div>"
            ],
            "text/plain": [
              "      id         f0         f1        f2     product\n",
              "0  kBEdx -15.001348  -8.276000 -0.005876    3.179103\n",
              "1  62mP7  14.272088  -3.475083  0.999183   26.953261\n",
              "2  vyE1P   6.263187  -5.948386  5.001160  134.766305\n",
              "3  KcrkZ -13.081196 -11.506057  4.999415  137.945408\n",
              "4  AHL4O  12.702195  -8.147433  5.004363  134.766305"
            ]
          },
          "execution_count": 6,
          "metadata": {},
          "output_type": "execute_result"
        }
      ],
      "source": [
        "data_2.head()"
      ]
    },
    {
      "cell_type": "code",
      "execution_count": null,
      "id": "291a4ed8-8226-4a3b-a023-42b8981b08f3",
      "metadata": {
        "id": "291a4ed8-8226-4a3b-a023-42b8981b08f3",
        "outputId": "4d2610ab-11f4-4d9c-8059-a1f6a9758300"
      },
      "outputs": [
        {
          "data": {
            "text/html": [
              "<div>\n",
              "<style scoped>\n",
              "    .dataframe tbody tr th:only-of-type {\n",
              "        vertical-align: middle;\n",
              "    }\n",
              "\n",
              "    .dataframe tbody tr th {\n",
              "        vertical-align: top;\n",
              "    }\n",
              "\n",
              "    .dataframe thead th {\n",
              "        text-align: right;\n",
              "    }\n",
              "</style>\n",
              "<table border=\"1\" class=\"dataframe\">\n",
              "  <thead>\n",
              "    <tr style=\"text-align: right;\">\n",
              "      <th></th>\n",
              "      <th>id</th>\n",
              "      <th>f0</th>\n",
              "      <th>f1</th>\n",
              "      <th>f2</th>\n",
              "      <th>product</th>\n",
              "    </tr>\n",
              "  </thead>\n",
              "  <tbody>\n",
              "    <tr>\n",
              "      <th>0</th>\n",
              "      <td>fwXo0</td>\n",
              "      <td>-1.146987</td>\n",
              "      <td>0.963328</td>\n",
              "      <td>-0.828965</td>\n",
              "      <td>27.758673</td>\n",
              "    </tr>\n",
              "    <tr>\n",
              "      <th>1</th>\n",
              "      <td>WJtFt</td>\n",
              "      <td>0.262778</td>\n",
              "      <td>0.269839</td>\n",
              "      <td>-2.530187</td>\n",
              "      <td>56.069697</td>\n",
              "    </tr>\n",
              "    <tr>\n",
              "      <th>2</th>\n",
              "      <td>ovLUW</td>\n",
              "      <td>0.194587</td>\n",
              "      <td>0.289035</td>\n",
              "      <td>-5.586433</td>\n",
              "      <td>62.871910</td>\n",
              "    </tr>\n",
              "    <tr>\n",
              "      <th>3</th>\n",
              "      <td>q6cA6</td>\n",
              "      <td>2.236060</td>\n",
              "      <td>-0.553760</td>\n",
              "      <td>0.930038</td>\n",
              "      <td>114.572842</td>\n",
              "    </tr>\n",
              "    <tr>\n",
              "      <th>4</th>\n",
              "      <td>WPMUX</td>\n",
              "      <td>-0.515993</td>\n",
              "      <td>1.716266</td>\n",
              "      <td>5.899011</td>\n",
              "      <td>149.600746</td>\n",
              "    </tr>\n",
              "  </tbody>\n",
              "</table>\n",
              "</div>"
            ],
            "text/plain": [
              "      id        f0        f1        f2     product\n",
              "0  fwXo0 -1.146987  0.963328 -0.828965   27.758673\n",
              "1  WJtFt  0.262778  0.269839 -2.530187   56.069697\n",
              "2  ovLUW  0.194587  0.289035 -5.586433   62.871910\n",
              "3  q6cA6  2.236060 -0.553760  0.930038  114.572842\n",
              "4  WPMUX -0.515993  1.716266  5.899011  149.600746"
            ]
          },
          "execution_count": 7,
          "metadata": {},
          "output_type": "execute_result"
        }
      ],
      "source": [
        "data_3.head()"
      ]
    },
    {
      "cell_type": "markdown",
      "id": "23a77468-5027-44ce-9538-700801afe2a0",
      "metadata": {
        "id": "23a77468-5027-44ce-9538-700801afe2a0"
      },
      "source": [
        "Посмотрим на пропуски"
      ]
    },
    {
      "cell_type": "code",
      "execution_count": null,
      "id": "ed7b5242-1450-43b8-9339-6ce36a0c3e80",
      "metadata": {
        "id": "ed7b5242-1450-43b8-9339-6ce36a0c3e80",
        "outputId": "e6423076-4fe0-4f4f-aabc-b22d44687814"
      },
      "outputs": [
        {
          "name": "stdout",
          "output_type": "stream",
          "text": [
            "Количество пропусков в \"data_1\":\n",
            "id         0\n",
            "f0         0\n",
            "f1         0\n",
            "f2         0\n",
            "product    0\n",
            "dtype: int64\n"
          ]
        }
      ],
      "source": [
        "print('Количество пропусков в \\\"data_1\\\":', data_1.isna().sum(), sep='\\n')"
      ]
    },
    {
      "cell_type": "code",
      "execution_count": null,
      "id": "f7992e82-f42a-4829-980b-35186a73d805",
      "metadata": {
        "id": "f7992e82-f42a-4829-980b-35186a73d805",
        "outputId": "768a9ad2-c2a9-451f-a505-98625d272a66"
      },
      "outputs": [
        {
          "name": "stdout",
          "output_type": "stream",
          "text": [
            "Количество пропусков в \"data_2\":\n",
            "id         0\n",
            "f0         0\n",
            "f1         0\n",
            "f2         0\n",
            "product    0\n",
            "dtype: int64\n"
          ]
        }
      ],
      "source": [
        "print('Количество пропусков в \\\"data_2\\\":', data_2.isna().sum(), sep='\\n')"
      ]
    },
    {
      "cell_type": "code",
      "execution_count": null,
      "id": "e8afdf53-75bc-4db5-a0cf-827ac19f01c4",
      "metadata": {
        "id": "e8afdf53-75bc-4db5-a0cf-827ac19f01c4",
        "outputId": "e011fa2f-38bd-45a1-be20-fd23cca5137a"
      },
      "outputs": [
        {
          "name": "stdout",
          "output_type": "stream",
          "text": [
            "Количество пропусков в \"data_3\":\n",
            "id         0\n",
            "f0         0\n",
            "f1         0\n",
            "f2         0\n",
            "product    0\n",
            "dtype: int64\n"
          ]
        }
      ],
      "source": [
        "print('Количество пропусков в \\\"data_3\\\":', data_3.isna().sum(), sep='\\n')"
      ]
    },
    {
      "cell_type": "code",
      "execution_count": null,
      "id": "ba108fb2-f7e1-4a61-9817-ec45d036163e",
      "metadata": {
        "id": "ba108fb2-f7e1-4a61-9817-ec45d036163e",
        "outputId": "51e57f80-cd0e-46cb-e818-aae11c451cd6"
      },
      "outputs": [
        {
          "name": "stdout",
          "output_type": "stream",
          "text": [
            "Количество дубликатов в \"data_1\" равно 0\n"
          ]
        }
      ],
      "source": [
        "print('Количество дубликатов в \\\"data_1\\\" равно', data_1.duplicated().sum())"
      ]
    },
    {
      "cell_type": "code",
      "execution_count": null,
      "id": "c7e8bbf5-17f2-429c-a760-b2c31e89869b",
      "metadata": {
        "id": "c7e8bbf5-17f2-429c-a760-b2c31e89869b",
        "outputId": "c86d73c8-875a-4627-c611-6ccbceb102c8"
      },
      "outputs": [
        {
          "name": "stdout",
          "output_type": "stream",
          "text": [
            "Количество дубликатов в \"data_2\" равно 0\n"
          ]
        }
      ],
      "source": [
        "print('Количество дубликатов в \\\"data_2\\\" равно', data_2.duplicated().sum())"
      ]
    },
    {
      "cell_type": "code",
      "execution_count": null,
      "id": "de90595e-9e2e-4862-a6c2-5eabcc73f77f",
      "metadata": {
        "id": "de90595e-9e2e-4862-a6c2-5eabcc73f77f",
        "outputId": "dd7292da-711d-40a5-a7de-988add7eb0c5"
      },
      "outputs": [
        {
          "name": "stdout",
          "output_type": "stream",
          "text": [
            "Количество дубликатов в \"data_3\" равно 0\n"
          ]
        }
      ],
      "source": [
        "print('Количество дубликатов в \\\"data_3\\\" равно', data_3.duplicated().sum())"
      ]
    },
    {
      "cell_type": "markdown",
      "id": "86664e4b-edea-44b3-8a54-89823caa9411",
      "metadata": {
        "id": "86664e4b-edea-44b3-8a54-89823caa9411"
      },
      "source": [
        "**Промежуточный вывод:**\n",
        "Имеется 3 датасета, с одинаковым количеством строк и столбцов (100000, 5). Ни пропусков, ни явных дубликатов нет."
      ]
    },
    {
      "cell_type": "markdown",
      "id": "91819712-33b0-4108-b864-49da16381b8a",
      "metadata": {
        "id": "91819712-33b0-4108-b864-49da16381b8a"
      },
      "source": [
        "# Исследовательский анализ данных"
      ]
    },
    {
      "cell_type": "markdown",
      "id": "c31c809a-08c9-407e-854a-26f56521846d",
      "metadata": {
        "id": "c31c809a-08c9-407e-854a-26f56521846d"
      },
      "source": [
        "Выведем гистограммы для каждого датасета:"
      ]
    },
    {
      "cell_type": "code",
      "execution_count": null,
      "id": "464939ca-bad0-4de7-a99d-fac621c84ca8",
      "metadata": {
        "id": "464939ca-bad0-4de7-a99d-fac621c84ca8"
      },
      "outputs": [],
      "source": [
        "def draw_histplot(data):\n",
        "    fig, axs = plt.subplots(2, 2, figsize=(11, 10))\n",
        "    fig.suptitle('Распределение признаков')\n",
        "\n",
        "    axs[0, 0].hist(data['f0'], bins=50)\n",
        "    axs[0, 0].set_title('f0')\n",
        "\n",
        "    axs[0, 1].hist(data['f1'], bins=50)\n",
        "    axs[0, 1].set_title('f1')\n",
        "\n",
        "    axs[1, 0].hist(data['f2'], bins=50)\n",
        "    axs[1, 0].set_title('f2')\n",
        "\n",
        "    axs[1, 1].hist(data['product'], bins=50)\n",
        "    axs[1, 1].set_title('product')\n",
        "\n",
        "    plt.show()"
      ]
    },
    {
      "cell_type": "code",
      "execution_count": null,
      "id": "760e2fb5-959d-4380-a5cd-80a71453ab68",
      "metadata": {
        "id": "760e2fb5-959d-4380-a5cd-80a71453ab68"
      },
      "outputs": [],
      "source": [
        "def draw_boxplot(data):\n",
        "    fig, axs = plt.subplots(2, 2, figsize=(11, 10))\n",
        "\n",
        "    plt.suptitle('Ящики с усами', fontsize=14)\n",
        "\n",
        "    sns.boxplot(data['f0'], ax=axs[0][0], linewidth=1)\n",
        "    axs[0][0].set_title('f0', fontsize=13)\n",
        "\n",
        "    sns.boxplot(data['f1'], ax=axs[0][1], linewidth=1)\n",
        "    axs[0][1].set_title('f1', fontsize=13)\n",
        "\n",
        "    sns.boxplot(data['f2'], ax=axs[1][0], linewidth=1)\n",
        "    axs[1][0].set_title('f2', fontsize=13)\n",
        "\n",
        "    sns.boxplot(data['product'], ax=axs[1][1], linewidth=1)\n",
        "    axs[1][1].set_title('product', fontsize=13)\n",
        "\n",
        "    plt.show();"
      ]
    },
    {
      "cell_type": "code",
      "execution_count": null,
      "id": "537e6aac-c2bb-4b54-be1c-15e4d0bbeb5f",
      "metadata": {
        "id": "537e6aac-c2bb-4b54-be1c-15e4d0bbeb5f",
        "outputId": "5475da90-8306-472e-d045-c98e8b9f92df"
      },
      "outputs": [
        {
          "data": {
            "image/png": "[encoded data removed]",
            "text/plain": [
              "<Figure size 792x720 with 4 Axes>"
            ]
          },
          "metadata": {
            "needs_background": "light"
          },
          "output_type": "display_data"
        }
      ],
      "source": [
        "draw_histplot(data_1)"
      ]
    },
    {
      "cell_type": "markdown",
      "id": "b773b58d-5995-4a3b-b463-9d5f49facbfe",
      "metadata": {
        "id": "b773b58d-5995-4a3b-b463-9d5f49facbfe"
      },
      "source": [
        "Все признаки, за исключением `f2`, имеют ненормальное распределение"
      ]
    },
    {
      "cell_type": "code",
      "execution_count": null,
      "id": "f94f722b-556c-4f8b-86d5-883d5cbaff8d",
      "metadata": {
        "id": "f94f722b-556c-4f8b-86d5-883d5cbaff8d",
        "outputId": "13333f58-fdd8-49e7-d89a-d4e751b9f72f"
      },
      "outputs": [
        {
          "data": {
            "image/png": "[encoded data removed]",
            "text/plain": [
              "<Figure size 792x720 with 4 Axes>"
            ]
          },
          "metadata": {
            "needs_background": "light"
          },
          "output_type": "display_data"
        }
      ],
      "source": [
        "draw_histplot(data_2)"
      ]
    },
    {
      "cell_type": "markdown",
      "id": "7c1ceed5-f006-45fb-a51c-40bfa869b25e",
      "metadata": {
        "id": "7c1ceed5-f006-45fb-a51c-40bfa869b25e"
      },
      "source": [
        "Здесь ситуация похожая, но нормальное распределение имеет признак `f1`"
      ]
    },
    {
      "cell_type": "code",
      "execution_count": null,
      "id": "6bc36234-d4cc-4e15-8029-57f3e6807fa3",
      "metadata": {
        "id": "6bc36234-d4cc-4e15-8029-57f3e6807fa3",
        "outputId": "970029e8-424b-42ac-e735-587d794b07ea"
      },
      "outputs": [
        {
          "data": {
            "image/png": "[encoded data removed]",
            "text/plain": [
              "<Figure size 792x720 with 4 Axes>"
            ]
          },
          "metadata": {
            "needs_background": "light"
          },
          "output_type": "display_data"
        }
      ],
      "source": [
        "draw_histplot(data_3)"
      ]
    },
    {
      "cell_type": "markdown",
      "id": "03c23676-2f64-47f7-9c44-05f7df40db4c",
      "metadata": {
        "id": "03c23676-2f64-47f7-9c44-05f7df40db4c"
      },
      "source": [
        "И ящики с усами"
      ]
    },
    {
      "cell_type": "code",
      "execution_count": null,
      "id": "14359f04-53b2-45f5-a05a-a2cd022ff6ee",
      "metadata": {
        "id": "14359f04-53b2-45f5-a05a-a2cd022ff6ee",
        "outputId": "1e23dcf6-d173-45b6-8956-28e95911cd8d"
      },
      "outputs": [
        {
          "name": "stderr",
          "output_type": "stream",
          "text": [
            "/opt/conda/lib/python3.9/site-packages/seaborn/_decorators.py:36: FutureWarning: Pass the following variable as a keyword arg: x. From version 0.12, the only valid positional argument will be `data`, and passing other arguments without an explicit keyword will result in an error or misinterpretation.\n",
            "  warnings.warn(\n",
            "/opt/conda/lib/python3.9/site-packages/seaborn/_decorators.py:36: FutureWarning: Pass the following variable as a keyword arg: x. From version 0.12, the only valid positional argument will be `data`, and passing other arguments without an explicit keyword will result in an error or misinterpretation.\n",
            "  warnings.warn(\n",
            "/opt/conda/lib/python3.9/site-packages/seaborn/_decorators.py:36: FutureWarning: Pass the following variable as a keyword arg: x. From version 0.12, the only valid positional argument will be `data`, and passing other arguments without an explicit keyword will result in an error or misinterpretation.\n",
            "  warnings.warn(\n",
            "/opt/conda/lib/python3.9/site-packages/seaborn/_decorators.py:36: FutureWarning: Pass the following variable as a keyword arg: x. From version 0.12, the only valid positional argument will be `data`, and passing other arguments without an explicit keyword will result in an error or misinterpretation.\n",
            "  warnings.warn(\n"
          ]
        },
        {
          "data": {
            "image/png": "[encoded data removed]",
            "text/plain": [
              "<Figure size 792x720 with 4 Axes>"
            ]
          },
          "metadata": {
            "needs_background": "light"
          },
          "output_type": "display_data"
        }
      ],
      "source": [
        "draw_boxplot(data_1)"
      ]
    },
    {
      "cell_type": "code",
      "execution_count": null,
      "id": "889d9eeb-3643-4bbc-9d3f-142246dd2d92",
      "metadata": {
        "id": "889d9eeb-3643-4bbc-9d3f-142246dd2d92",
        "outputId": "893b0d3b-dfb3-4c81-adab-c37d2c18b0d0"
      },
      "outputs": [
        {
          "name": "stderr",
          "output_type": "stream",
          "text": [
            "/opt/conda/lib/python3.9/site-packages/seaborn/_decorators.py:36: FutureWarning: Pass the following variable as a keyword arg: x. From version 0.12, the only valid positional argument will be `data`, and passing other arguments without an explicit keyword will result in an error or misinterpretation.\n",
            "  warnings.warn(\n",
            "/opt/conda/lib/python3.9/site-packages/seaborn/_decorators.py:36: FutureWarning: Pass the following variable as a keyword arg: x. From version 0.12, the only valid positional argument will be `data`, and passing other arguments without an explicit keyword will result in an error or misinterpretation.\n",
            "  warnings.warn(\n",
            "/opt/conda/lib/python3.9/site-packages/seaborn/_decorators.py:36: FutureWarning: Pass the following variable as a keyword arg: x. From version 0.12, the only valid positional argument will be `data`, and passing other arguments without an explicit keyword will result in an error or misinterpretation.\n",
            "  warnings.warn(\n",
            "/opt/conda/lib/python3.9/site-packages/seaborn/_decorators.py:36: FutureWarning: Pass the following variable as a keyword arg: x. From version 0.12, the only valid positional argument will be `data`, and passing other arguments without an explicit keyword will result in an error or misinterpretation.\n",
            "  warnings.warn(\n"
          ]
        },
        {
          "data": {
            "image/png": "[encoded data removed]",
            "text/plain": [
              "<Figure size 792x720 with 4 Axes>"
            ]
          },
          "metadata": {
            "needs_background": "light"
          },
          "output_type": "display_data"
        }
      ],
      "source": [
        "draw_boxplot(data_2)"
      ]
    },
    {
      "cell_type": "code",
      "execution_count": null,
      "id": "a2632904-4402-4488-a4f6-787968463d75",
      "metadata": {
        "id": "a2632904-4402-4488-a4f6-787968463d75",
        "outputId": "087c9a87-fc91-422e-9536-cd010c6e8add"
      },
      "outputs": [
        {
          "name": "stderr",
          "output_type": "stream",
          "text": [
            "/opt/conda/lib/python3.9/site-packages/seaborn/_decorators.py:36: FutureWarning: Pass the following variable as a keyword arg: x. From version 0.12, the only valid positional argument will be `data`, and passing other arguments without an explicit keyword will result in an error or misinterpretation.\n",
            "  warnings.warn(\n",
            "/opt/conda/lib/python3.9/site-packages/seaborn/_decorators.py:36: FutureWarning: Pass the following variable as a keyword arg: x. From version 0.12, the only valid positional argument will be `data`, and passing other arguments without an explicit keyword will result in an error or misinterpretation.\n",
            "  warnings.warn(\n",
            "/opt/conda/lib/python3.9/site-packages/seaborn/_decorators.py:36: FutureWarning: Pass the following variable as a keyword arg: x. From version 0.12, the only valid positional argument will be `data`, and passing other arguments without an explicit keyword will result in an error or misinterpretation.\n",
            "  warnings.warn(\n",
            "/opt/conda/lib/python3.9/site-packages/seaborn/_decorators.py:36: FutureWarning: Pass the following variable as a keyword arg: x. From version 0.12, the only valid positional argument will be `data`, and passing other arguments without an explicit keyword will result in an error or misinterpretation.\n",
            "  warnings.warn(\n"
          ]
        },
        {
          "data": {
            "image/png": "[encoded data removed]",
            "text/plain": [
              "<Figure size 792x720 with 4 Axes>"
            ]
          },
          "metadata": {
            "needs_background": "light"
          },
          "output_type": "display_data"
        }
      ],
      "source": [
        "draw_boxplot(data_3)"
      ]
    },
    {
      "cell_type": "markdown",
      "id": "a7b748be-72fc-4623-814e-8f551475a811",
      "metadata": {
        "id": "a7b748be-72fc-4623-814e-8f551475a811"
      },
      "source": [
        "Здесь у признаков `f0`, `f1` и `f2` нормальное распределение"
      ]
    },
    {
      "cell_type": "code",
      "execution_count": null,
      "id": "bdf7702f-bb95-4ab7-bbd1-b1ff4df398ce",
      "metadata": {
        "id": "bdf7702f-bb95-4ab7-bbd1-b1ff4df398ce",
        "outputId": "51f018b3-bebe-472e-b3b5-bbddcd4c0c1e"
      },
      "outputs": [
        {
          "data": {
            "image/png": "[encoded data removed]",
            "text/plain": [
              "<Figure size 1584x360 with 6 Axes>"
            ]
          },
          "metadata": {
            "needs_background": "light"
          },
          "output_type": "display_data"
        },
        {
          "data": {
            "text/plain": [
              "<Figure size 576x504 with 0 Axes>"
            ]
          },
          "metadata": {},
          "output_type": "display_data"
        }
      ],
      "source": [
        "fig, axs = plt.subplots(1, 3, figsize=(22, 5))\n",
        "plt.figure(figsize=(8, 7))\n",
        "sns.heatmap(data_1.drop('id', axis=1).corr(),\n",
        "            annot=True,\n",
        "            cmap='cividis',\n",
        "            fmt='.2f',\n",
        "            ax=axs[0])\n",
        "axs[0].set_title('data_1')\n",
        "\n",
        "sns.heatmap(data_2.drop('id', axis=1).corr(),\n",
        "            annot=True,\n",
        "            cmap='cividis',\n",
        "            fmt='.2f',\n",
        "            ax=axs[1])\n",
        "axs[1].set_title('data_2')\n",
        "\n",
        "sns.heatmap(data_3.drop('id', axis=1).corr(),\n",
        "            annot=True,\n",
        "            cmap='cividis',\n",
        "            fmt='.2f',\n",
        "            ax=axs[2])\n",
        "axs[2].set_title('data_3')\n",
        "\n",
        "plt.show()"
      ]
    },
    {
      "cell_type": "markdown",
      "id": "155ebe9c-e38b-4cc5-bb7a-ee50a5bc032a",
      "metadata": {
        "id": "155ebe9c-e38b-4cc5-bb7a-ee50a5bc032a"
      },
      "source": [
        "Можно заметить мультиколлинеарность во втором датасете у признаков `f2` и `product`"
      ]
    },
    {
      "cell_type": "markdown",
      "id": "b11e135e-9862-423d-b64c-1c0f90d9c413",
      "metadata": {
        "id": "b11e135e-9862-423d-b64c-1c0f90d9c413"
      },
      "source": [
        "# Обучение модели"
      ]
    },
    {
      "cell_type": "code",
      "execution_count": null,
      "id": "32d6643e-b7ab-432e-9268-472173d50dd7",
      "metadata": {
        "id": "32d6643e-b7ab-432e-9268-472173d50dd7"
      },
      "outputs": [],
      "source": [
        "def linear_model(data):\n",
        "    RANDOM_STATE = 42\n",
        "    TEST_SIZE = 0.25\n",
        "\n",
        "    X = data.drop(['id', 'product'], axis=1)\n",
        "    y = data['product']\n",
        "\n",
        "    X_train, X_valid, y_train, y_valid = train_test_split(\n",
        "        X,\n",
        "        y,\n",
        "        random_state=RANDOM_STATE,\n",
        "        test_size=TEST_SIZE)\n",
        "\n",
        "    num_col_names = ['f0', 'f1', 'f2']\n",
        "\n",
        "    # Масштабируем\n",
        "    scaler = StandardScaler()\n",
        "    X_train_scaled = scaler.fit_transform(X_train[num_col_names])\n",
        "    X_valid_scaled = scaler.transform(X_valid[num_col_names])\n",
        "\n",
        "    X_train_scaled = pd.DataFrame(X_train_scaled, columns=num_col_names)\n",
        "    X_valid_scaled = pd.DataFrame(X_valid_scaled, columns=num_col_names)\n",
        "\n",
        "    # Инициализируем модель линейной регрессии и обучаем ее\n",
        "    model_lr = LinearRegression()\n",
        "    model_lr.fit(X_train, y_train)\n",
        "    # Наш прогноз\n",
        "    predictions = model_lr.predict(X_valid)\n",
        "\n",
        "    return y_valid, model_lr, predictions, scaler"
      ]
    },
    {
      "cell_type": "markdown",
      "id": "b2238618-b0f6-4f60-8bf2-4c823b678047",
      "metadata": {
        "id": "b2238618-b0f6-4f60-8bf2-4c823b678047"
      },
      "source": [
        "**Первый регион**"
      ]
    },
    {
      "cell_type": "code",
      "execution_count": null,
      "id": "4d03abb0-6c19-43ac-b08d-0c9be98e69a2",
      "metadata": {
        "id": "4d03abb0-6c19-43ac-b08d-0c9be98e69a2"
      },
      "outputs": [],
      "source": [
        "y_valid_1, model_1, predict_1, scaler_1 = linear_model(data_1)"
      ]
    },
    {
      "cell_type": "code",
      "execution_count": null,
      "id": "f6c89411-090e-424b-b85b-8cad222ecf43",
      "metadata": {
        "id": "f6c89411-090e-424b-b85b-8cad222ecf43"
      },
      "outputs": [],
      "source": [
        "rmse_1 = mean_squared_error(y_valid_1, predict_1) ** 0.5"
      ]
    },
    {
      "cell_type": "code",
      "execution_count": null,
      "id": "76dc9be0-69cb-454e-8000-6da60017f90c",
      "metadata": {
        "id": "76dc9be0-69cb-454e-8000-6da60017f90c",
        "outputId": "a683d22a-3706-45d0-9288-7c374e7649bd"
      },
      "outputs": [
        {
          "name": "stdout",
          "output_type": "stream",
          "text": [
            "Средний запас сырья: 92.4 тыс. баррелей\n",
            "RMSE = 37.76\n"
          ]
        }
      ],
      "source": [
        "print(f'Средний запас сырья: {round(predict_1.mean(), 2)} тыс. баррелей')\n",
        "print(f'RMSE = {round(rmse_1, 2)}')"
      ]
    },
    {
      "cell_type": "markdown",
      "id": "de456d77-f168-4350-b43d-2d7424207ba1",
      "metadata": {
        "id": "de456d77-f168-4350-b43d-2d7424207ba1"
      },
      "source": [
        "**Второй регион**"
      ]
    },
    {
      "cell_type": "code",
      "execution_count": null,
      "id": "cde8ccdc-a862-44cc-be62-d611cd3525ad",
      "metadata": {
        "id": "cde8ccdc-a862-44cc-be62-d611cd3525ad"
      },
      "outputs": [],
      "source": [
        "y_valid_2, model_2, predict_2, scaler_2 = linear_model(data_2)"
      ]
    },
    {
      "cell_type": "code",
      "execution_count": null,
      "id": "bda8f5c3-2c42-4cc1-adde-9b0d77a53bcb",
      "metadata": {
        "id": "bda8f5c3-2c42-4cc1-adde-9b0d77a53bcb"
      },
      "outputs": [],
      "source": [
        "rmse_2 = mean_squared_error(y_valid_2, predict_2) ** 0.5"
      ]
    },
    {
      "cell_type": "code",
      "execution_count": null,
      "id": "47e25b0b-f079-4b01-9514-ecb3b0d6ab04",
      "metadata": {
        "id": "47e25b0b-f079-4b01-9514-ecb3b0d6ab04",
        "outputId": "b7855d7c-e0fd-4a48-89a5-2f80567a9334"
      },
      "outputs": [
        {
          "name": "stdout",
          "output_type": "stream",
          "text": [
            "Средний запас сырья: 68.71 тыс. баррелей\n",
            "RMSE = 0.89\n"
          ]
        }
      ],
      "source": [
        "print(f'Средний запас сырья: {round(predict_2.mean(), 2)} тыс. баррелей')\n",
        "print(f'RMSE = {round(rmse_2, 2)}')"
      ]
    },
    {
      "cell_type": "markdown",
      "id": "67f85d89-00c4-4c4d-9a02-96d5637b03e1",
      "metadata": {
        "id": "67f85d89-00c4-4c4d-9a02-96d5637b03e1"
      },
      "source": [
        "**Третий регион**"
      ]
    },
    {
      "cell_type": "code",
      "execution_count": null,
      "id": "1cef22e6-8dca-4b63-9903-f0ad3455062a",
      "metadata": {
        "id": "1cef22e6-8dca-4b63-9903-f0ad3455062a"
      },
      "outputs": [],
      "source": [
        "y_valid_3, model_3, predict_3, scaler_3 = linear_model(data_3)"
      ]
    },
    {
      "cell_type": "code",
      "execution_count": null,
      "id": "0da648fd-92d9-4186-af52-219a3ecd41ec",
      "metadata": {
        "id": "0da648fd-92d9-4186-af52-219a3ecd41ec"
      },
      "outputs": [],
      "source": [
        "rmse_3 = mean_squared_error(y_valid_3, predict_3) ** 0.5"
      ]
    },
    {
      "cell_type": "code",
      "execution_count": null,
      "id": "297feec4-55e0-4c3e-8c5d-fc72bf436040",
      "metadata": {
        "id": "297feec4-55e0-4c3e-8c5d-fc72bf436040",
        "outputId": "4ce1051f-6142-439d-8f40-d9023d1feac1"
      },
      "outputs": [
        {
          "name": "stdout",
          "output_type": "stream",
          "text": [
            "Средний запас сырья: 94.77 тыс. баррелей\n",
            "RMSE = 40.15\n"
          ]
        }
      ],
      "source": [
        "print(f'Средний запас сырья: {round(predict_3.mean(), 2)} тыс. баррелей')\n",
        "print(f'RMSE = {round(rmse_3, 2)}')"
      ]
    },
    {
      "cell_type": "markdown",
      "id": "056eb063-9b71-4d1a-9c21-f650e204b008",
      "metadata": {
        "id": "056eb063-9b71-4d1a-9c21-f650e204b008"
      },
      "source": [
        "## Выводы"
      ]
    },
    {
      "cell_type": "markdown",
      "id": "516e1f0f-f4f3-43cc-abf6-ce8dfc808fbf",
      "metadata": {
        "id": "516e1f0f-f4f3-43cc-abf6-ce8dfc808fbf"
      },
      "source": [
        "1. Данные были разделены на обучающую и валидационную в соотношении 75:25;\n",
        "2. Признаки были масштабированы с помощью `StandardScaler()`;\n",
        "3. Результаты модели:\n",
        "    - В первом регионе средний запас сырья - 92.4 тыс баррелей, RMSE = 37.76;\n",
        "    - Во втором регионе средний запас сырья - 68.71 тыс. баррелей, RMSE = 0.89;\n",
        "    - В третьем регионе средний запас сырья - 94.77 тыс. баррелей, RMSE = 40.15.\n",
        "4. Прогноз во втором регионе прогноз вышел точный, хотя средний запас сырья меньше, чем в остальных. Первый и третий регион не особо отличается по метрике"
      ]
    },
    {
      "cell_type": "markdown",
      "id": "daa00ce8-b953-4696-afe2-d9e26ba76843",
      "metadata": {
        "id": "daa00ce8-b953-4696-afe2-d9e26ba76843"
      },
      "source": [
        "# Расчет прибыли"
      ]
    },
    {
      "cell_type": "code",
      "execution_count": null,
      "id": "c5c55053-8f0f-462e-acec-9bdf738a844c",
      "metadata": {
        "id": "c5c55053-8f0f-462e-acec-9bdf738a844c"
      },
      "outputs": [],
      "source": [
        "budget = 10000000000 # Бюджет на разработку скважин\n",
        "income = 450000 # Доход с тысячи баррелей продукта\n",
        "total_points = 500 # Количество исследуемых точек для разработки\n",
        "best_points = 200 # Количество лучших точек для разработки"
      ]
    },
    {
      "cell_type": "markdown",
      "id": "7f6d59f4-82d7-4e83-880e-47266788ecc1",
      "metadata": {
        "id": "7f6d59f4-82d7-4e83-880e-47266788ecc1"
      },
      "source": [
        "Для того, чтобы найти достаточный объём сырья для безубыточной разработки новой скважины используем формулу $$\\frac{\\text{Бюджет}}{\\text{Количество}\\space\\text{скважин} × \\text{Доход}\\space\\text{с}\\space\\text{единицы}\\space\n",
        "\\text{продукта}}$$"
      ]
    },
    {
      "cell_type": "code",
      "execution_count": null,
      "id": "3651a311-df7d-4b8b-ab6e-b94f7002f33d",
      "metadata": {
        "id": "3651a311-df7d-4b8b-ab6e-b94f7002f33d",
        "outputId": "98f687b3-a7ac-4019-a9b2-859427b59565"
      },
      "outputs": [
        {
          "name": "stdout",
          "output_type": "stream",
          "text": [
            "Достаточный объём сырья для безубыточной разработки новой скважины равен 111.11 тыс. баррелей\n"
          ]
        }
      ],
      "source": [
        "volume = budget / (income * best_points)\n",
        "print(f'Достаточный объём сырья для безубыточной разработки новой скважины равен {round(volume, 2)} тыс. баррелей')"
      ]
    },
    {
      "cell_type": "markdown",
      "id": "6258b7cb-76a8-4806-8f47-71f94d993a27",
      "metadata": {
        "id": "6258b7cb-76a8-4806-8f47-71f94d993a27"
      },
      "source": [
        "Данные по среднему запасу сырья:\n",
        "- В первом регионе - 92.4 тыс баррелей;\n",
        "- Во втором регионе - 68.71 тыс. баррелей;\n",
        "- В третьем регионе - 94. тыс. баррелей.\n",
        "\n",
        "Средний запас сырья в каждом регионе меньше необходимого минимума для разработки скважины. Выберем скважины с максимальным объемом сырья"
      ]
    },
    {
      "cell_type": "markdown",
      "id": "980c07b3-4624-4412-835b-7ad53d2bd7f2",
      "metadata": {
        "id": "980c07b3-4624-4412-835b-7ad53d2bd7f2"
      },
      "source": [
        "# Функция для расчёта прибыли"
      ]
    },
    {
      "cell_type": "code",
      "execution_count": null,
      "id": "bb4155a2-1293-4ec0-bc6b-9a21d03db108",
      "metadata": {
        "id": "bb4155a2-1293-4ec0-bc6b-9a21d03db108"
      },
      "outputs": [],
      "source": [
        "def profit(target_values, predictions):\n",
        "    sorted_predict = pd.Series(predictions, index=target_values.index).sort_values(ascending=False)\n",
        "\n",
        "    revenue = target_values[sorted_predict.index][:best_points].sum()\n",
        "\n",
        "    return revenue * income - budget"
      ]
    },
    {
      "cell_type": "code",
      "execution_count": null,
      "id": "14b349ad-96bd-422c-9abe-c02864f9fb59",
      "metadata": {
        "id": "14b349ad-96bd-422c-9abe-c02864f9fb59",
        "outputId": "d30c37fe-84fd-4dde-dd93-823311314b75"
      },
      "outputs": [
        {
          "name": "stdout",
          "output_type": "stream",
          "text": [
            "Прибыль в первом регионе: 3359141114.5 рублей\n"
          ]
        }
      ],
      "source": [
        "print(f'Прибыль в первом регионе: {round(profit(y_valid_1, predict_1), 1)} рублей')"
      ]
    },
    {
      "cell_type": "code",
      "execution_count": null,
      "id": "ee94b063-05b6-4b2d-8429-39180272ba3f",
      "metadata": {
        "id": "ee94b063-05b6-4b2d-8429-39180272ba3f",
        "outputId": "b097987b-6f59-4646-de7e-0f87caeb20b0"
      },
      "outputs": [
        {
          "name": "stdout",
          "output_type": "stream",
          "text": [
            "Прибыль во втором регионе: 2415086696.7 рублей\n"
          ]
        }
      ],
      "source": [
        "print(f'Прибыль во втором регионе: {round(profit(y_valid_2, predict_2), 1)} рублей')"
      ]
    },
    {
      "cell_type": "code",
      "execution_count": null,
      "id": "ee916c14-9761-4179-a4c0-92b3c58da61b",
      "metadata": {
        "id": "ee916c14-9761-4179-a4c0-92b3c58da61b",
        "outputId": "5421f849-bf29-470a-a77e-b5a19b61ec1a"
      },
      "outputs": [
        {
          "name": "stdout",
          "output_type": "stream",
          "text": [
            "Прибыль в третьем регионе: 2598571759.4 рублей\n"
          ]
        }
      ],
      "source": [
        "print(f'Прибыль в третьем регионе: {round(profit(y_valid_3, predict_3), 1)} рублей')"
      ]
    },
    {
      "cell_type": "markdown",
      "id": "a0051f09-f5c2-4e40-bc2f-ddd83d780685",
      "metadata": {
        "id": "a0051f09-f5c2-4e40-bc2f-ddd83d780685"
      },
      "source": [
        "Самая большая прибыль вышла у первого региона - 3.36 млрд рублей"
      ]
    },
    {
      "cell_type": "markdown",
      "id": "d1e26346-a79d-4fec-b6d0-908f97574e88",
      "metadata": {
        "id": "d1e26346-a79d-4fec-b6d0-908f97574e88"
      },
      "source": [
        "# Подсчет рисков и прибыли"
      ]
    },
    {
      "cell_type": "code",
      "execution_count": null,
      "id": "b470164f-a0ad-4678-b747-32eb91270b4d",
      "metadata": {
        "id": "b470164f-a0ad-4678-b747-32eb91270b4d"
      },
      "outputs": [],
      "source": [
        "def bootstrap_analysis(target, predict, points_development=500, best_points=200):\n",
        "    samples = []\n",
        "    count_loss = 0\n",
        "    state = np.random.RandomState(12345)\n",
        "    predict_series = pd.Series(predict, index=target.index)\n",
        "\n",
        "    for _ in range(1000):\n",
        "        target_subsample = target.sample(n=points_development, replace=True, random_state=state)\n",
        "        probs_subsample = predict_series[target_subsample.index]\n",
        "        samples.append(profit(target_subsample, probs_subsample))\n",
        "\n",
        "    count_loss = sum(1 for i in samples if i < 0)\n",
        "\n",
        "    samples = pd.Series(samples)\n",
        "    mean_profit = samples.mean()\n",
        "\n",
        "    lower_interval = samples.quantile(0.025)\n",
        "    upper_interval = samples.quantile(0.975)\n",
        "\n",
        "    print(f'Средняя прибыль в регионе равна {round(mean_profit / 1e6, 2)} млн. рублей')\n",
        "    print(f'95%-й доверительный интервал: {round(lower_interval / 1e6, 2)} млн. рублей - {round(upper_interval / 1e6, 2)} млн. рублей')\n",
        "    print(f'Вероятность убытка в регионе: {round((samples < 0).mean() * 100, 2)}%')\n"
      ]
    },
    {
      "cell_type": "markdown",
      "id": "beb23f5f-5d73-426a-8064-79e7bb1818ef",
      "metadata": {
        "id": "beb23f5f-5d73-426a-8064-79e7bb1818ef"
      },
      "source": [
        "**Первый регион:**"
      ]
    },
    {
      "cell_type": "code",
      "execution_count": null,
      "id": "0d13eac4-64a8-4d67-ade5-683437f85d2d",
      "metadata": {
        "id": "0d13eac4-64a8-4d67-ade5-683437f85d2d",
        "outputId": "b13df883-ce67-42b0-f58a-61b90b5af5e6"
      },
      "outputs": [
        {
          "name": "stdout",
          "output_type": "stream",
          "text": [
            "Средняя прибыль в регионе равна 435.93 млн. рублей\n",
            "95%-й доверительный интервал: -116.23 млн. рублей - 966.5 млн. рублей\n",
            "Вероятность убытка в регионе: 6.1%\n"
          ]
        }
      ],
      "source": [
        "bootstrap_analysis(y_valid_1, predict_1)"
      ]
    },
    {
      "cell_type": "markdown",
      "id": "44f39457-1532-422e-af0c-74d41f4ef2ac",
      "metadata": {
        "id": "44f39457-1532-422e-af0c-74d41f4ef2ac"
      },
      "source": [
        "**Второй регион:**"
      ]
    },
    {
      "cell_type": "code",
      "execution_count": null,
      "id": "d8e9abb9-b12f-4cc0-ad6f-4d1f33dc7529",
      "metadata": {
        "id": "d8e9abb9-b12f-4cc0-ad6f-4d1f33dc7529",
        "outputId": "c310da14-5475-47fb-c7a8-854ca4e72e4f"
      },
      "outputs": [
        {
          "name": "stdout",
          "output_type": "stream",
          "text": [
            "Средняя прибыль в регионе равна 489.66 млн. рублей\n",
            "95%-й доверительный интервал: 55.12 млн. рублей - 905.76 млн. рублей\n",
            "Вероятность убытка в регионе: 1.1%\n"
          ]
        }
      ],
      "source": [
        "bootstrap_analysis(y_valid_2, predict_2)"
      ]
    },
    {
      "cell_type": "markdown",
      "id": "1935eb41-3346-4eab-8fe5-900e4a948550",
      "metadata": {
        "id": "1935eb41-3346-4eab-8fe5-900e4a948550"
      },
      "source": [
        "**Третий регион:**"
      ]
    },
    {
      "cell_type": "code",
      "execution_count": null,
      "id": "839809fd-2d46-49ad-94ff-757b9dba57f8",
      "metadata": {
        "id": "839809fd-2d46-49ad-94ff-757b9dba57f8",
        "outputId": "d2bc842f-3cd5-4bcd-b424-a64014654b58"
      },
      "outputs": [
        {
          "name": "stdout",
          "output_type": "stream",
          "text": [
            "Средняя прибыль в регионе равна 403.69 млн. рублей\n",
            "95%-й доверительный интервал: -153.12 млн. рублей - 952.89 млн. рублей\n",
            "Вероятность убытка в регионе: 7.1%\n"
          ]
        }
      ],
      "source": [
        "bootstrap_analysis(y_valid_3, predict_3)"
      ]
    },
    {
      "cell_type": "markdown",
      "id": "4f576e8c-fb49-42ca-9c6c-9e54e8b426cc",
      "metadata": {
        "id": "4f576e8c-fb49-42ca-9c6c-9e54e8b426cc"
      },
      "source": [
        "# Вывод"
      ]
    },
    {
      "cell_type": "markdown",
      "id": "93be7698-966e-48de-bc20-9c4e15c46d8d",
      "metadata": {
        "id": "93be7698-966e-48de-bc20-9c4e15c46d8d"
      },
      "source": [
        "После применения технологии Bootstrap, мы выявили среднюю прибыль в регионе, 95%-й доверительный интервал и вероятность убытка в данном регионе.\n",
        "\n",
        "Согласно результатам, нам подходит только второй регион для разработки 200 скважин, так как вероятность убытка здесь составляет 1.1%, а в соответствии с условиями задачи вероятность должна быть меньше 2.5%, но и доход здесь самый высокий - 490 млн. рублей\n",
        "\n",
        "Поэтому, компании \"ГлавРосГосНефть\" рекомендуется строить скважины во **втором регионе**"
      ]
    }
  ],
  "metadata": {
    "ExecuteTimeLog": [
      {
        "duration": 10,
        "start_time": "2024-02-27T12:28:12.545Z"
      },
      {
        "duration": 4,
        "start_time": "2024-02-27T12:28:24.826Z"
      },
      {
        "duration": 1522,
        "start_time": "2024-02-27T12:28:24.833Z"
      },
      {
        "duration": 944,
        "start_time": "2024-02-27T12:28:26.357Z"
      },
      {
        "duration": 37,
        "start_time": "2024-02-27T12:28:27.303Z"
      },
      {
        "duration": 13,
        "start_time": "2024-02-27T12:28:27.342Z"
      },
      {
        "duration": 18,
        "start_time": "2024-02-27T12:28:27.356Z"
      },
      {
        "duration": 30,
        "start_time": "2024-02-27T12:28:27.376Z"
      },
      {
        "duration": 22,
        "start_time": "2024-02-27T12:28:27.408Z"
      },
      {
        "duration": 16,
        "start_time": "2024-02-27T12:28:27.432Z"
      },
      {
        "duration": 14,
        "start_time": "2024-02-27T12:28:27.449Z"
      },
      {
        "duration": 47,
        "start_time": "2024-02-27T12:28:27.465Z"
      },
      {
        "duration": 39,
        "start_time": "2024-02-27T12:28:27.513Z"
      },
      {
        "duration": 54,
        "start_time": "2024-02-27T12:28:27.555Z"
      },
      {
        "duration": 5,
        "start_time": "2024-02-27T12:28:27.611Z"
      },
      {
        "duration": 17,
        "start_time": "2024-02-27T12:28:27.617Z"
      },
      {
        "duration": 685,
        "start_time": "2024-02-27T12:28:27.635Z"
      },
      {
        "duration": 699,
        "start_time": "2024-02-27T12:28:28.321Z"
      },
      {
        "duration": 666,
        "start_time": "2024-02-27T12:28:29.021Z"
      },
      {
        "duration": 371,
        "start_time": "2024-02-27T12:28:29.689Z"
      },
      {
        "duration": 450,
        "start_time": "2024-02-27T12:28:30.062Z"
      },
      {
        "duration": 378,
        "start_time": "2024-02-27T12:28:30.514Z"
      },
      {
        "duration": 995,
        "start_time": "2024-02-27T12:28:30.894Z"
      },
      {
        "duration": 6,
        "start_time": "2024-02-27T12:28:31.891Z"
      },
      {
        "duration": 64,
        "start_time": "2024-02-27T12:28:31.898Z"
      },
      {
        "duration": 27,
        "start_time": "2024-02-27T12:28:31.964Z"
      },
      {
        "duration": 98,
        "start_time": "2024-02-27T12:28:31.993Z"
      },
      {
        "duration": 44,
        "start_time": "2024-02-27T12:28:32.093Z"
      },
      {
        "duration": 52,
        "start_time": "2024-02-27T12:28:32.139Z"
      },
      {
        "duration": 120,
        "start_time": "2024-02-27T12:28:32.193Z"
      },
      {
        "duration": 59,
        "start_time": "2024-02-27T12:28:32.314Z"
      },
      {
        "duration": 32,
        "start_time": "2024-02-27T12:28:32.375Z"
      },
      {
        "duration": 107,
        "start_time": "2024-02-27T12:28:32.409Z"
      },
      {
        "duration": 71,
        "start_time": "2024-02-27T12:28:32.518Z"
      },
      {
        "duration": 25,
        "start_time": "2024-02-27T12:28:32.596Z"
      },
      {
        "duration": 9,
        "start_time": "2024-02-27T12:28:32.623Z"
      },
      {
        "duration": 16,
        "start_time": "2024-02-27T12:28:32.633Z"
      },
      {
        "duration": 10,
        "start_time": "2024-02-27T12:28:32.654Z"
      },
      {
        "duration": 12,
        "start_time": "2024-02-27T12:28:32.666Z"
      },
      {
        "duration": 25,
        "start_time": "2024-02-27T12:28:32.680Z"
      },
      {
        "duration": 1457,
        "start_time": "2024-02-27T12:28:32.707Z"
      },
      {
        "duration": 1365,
        "start_time": "2024-02-27T12:28:34.165Z"
      },
      {
        "duration": 1327,
        "start_time": "2024-02-27T12:28:35.531Z"
      },
      {
        "duration": 5,
        "start_time": "2024-02-27T12:30:06.084Z"
      },
      {
        "duration": 1325,
        "start_time": "2024-02-27T12:30:07.899Z"
      },
      {
        "duration": 1358,
        "start_time": "2024-02-27T12:30:09.226Z"
      },
      {
        "duration": 1337,
        "start_time": "2024-02-27T12:30:10.587Z"
      },
      {
        "duration": 5,
        "start_time": "2024-02-27T12:31:02.163Z"
      },
      {
        "duration": 1342,
        "start_time": "2024-02-27T12:31:02.955Z"
      },
      {
        "duration": 1408,
        "start_time": "2024-02-27T12:31:04.299Z"
      },
      {
        "duration": 1369,
        "start_time": "2024-02-27T12:31:05.708Z"
      },
      {
        "duration": 4,
        "start_time": "2024-02-27T12:31:51.287Z"
      },
      {
        "duration": 1525,
        "start_time": "2024-02-27T12:31:51.293Z"
      },
      {
        "duration": 1190,
        "start_time": "2024-02-27T12:31:52.820Z"
      },
      {
        "duration": 38,
        "start_time": "2024-02-27T12:31:54.011Z"
      },
      {
        "duration": 12,
        "start_time": "2024-02-27T12:31:54.050Z"
      },
      {
        "duration": 30,
        "start_time": "2024-02-27T12:31:54.063Z"
      },
      {
        "duration": 9,
        "start_time": "2024-02-27T12:31:54.094Z"
      },
      {
        "duration": 26,
        "start_time": "2024-02-27T12:31:54.104Z"
      },
      {
        "duration": 11,
        "start_time": "2024-02-27T12:31:54.133Z"
      },
      {
        "duration": 16,
        "start_time": "2024-02-27T12:31:54.146Z"
      },
      {
        "duration": 58,
        "start_time": "2024-02-27T12:31:54.164Z"
      },
      {
        "duration": 40,
        "start_time": "2024-02-27T12:31:54.224Z"
      },
      {
        "duration": 58,
        "start_time": "2024-02-27T12:31:54.265Z"
      },
      {
        "duration": 5,
        "start_time": "2024-02-27T12:31:54.325Z"
      },
      {
        "duration": 23,
        "start_time": "2024-02-27T12:31:54.331Z"
      },
      {
        "duration": 721,
        "start_time": "2024-02-27T12:31:54.356Z"
      },
      {
        "duration": 741,
        "start_time": "2024-02-27T12:31:55.079Z"
      },
      {
        "duration": 661,
        "start_time": "2024-02-27T12:31:55.821Z"
      },
      {
        "duration": 384,
        "start_time": "2024-02-27T12:31:56.486Z"
      },
      {
        "duration": 448,
        "start_time": "2024-02-27T12:31:56.871Z"
      },
      {
        "duration": 372,
        "start_time": "2024-02-27T12:31:57.320Z"
      },
      {
        "duration": 968,
        "start_time": "2024-02-27T12:31:57.694Z"
      },
      {
        "duration": 5,
        "start_time": "2024-02-27T12:31:58.664Z"
      },
      {
        "duration": 46,
        "start_time": "2024-02-27T12:31:58.672Z"
      },
      {
        "duration": 67,
        "start_time": "2024-02-27T12:31:58.721Z"
      },
      {
        "duration": 108,
        "start_time": "2024-02-27T12:31:58.790Z"
      },
      {
        "duration": 29,
        "start_time": "2024-02-27T12:31:58.900Z"
      },
      {
        "duration": 59,
        "start_time": "2024-02-27T12:31:58.931Z"
      },
      {
        "duration": 5,
        "start_time": "2024-02-27T12:31:58.996Z"
      },
      {
        "duration": 55,
        "start_time": "2024-02-27T12:31:59.088Z"
      },
      {
        "duration": 5,
        "start_time": "2024-02-27T12:31:59.190Z"
      },
      {
        "duration": 96,
        "start_time": "2024-02-27T12:31:59.197Z"
      },
      {
        "duration": 5,
        "start_time": "2024-02-27T12:31:59.294Z"
      },
      {
        "duration": 11,
        "start_time": "2024-02-27T12:31:59.301Z"
      },
      {
        "duration": 6,
        "start_time": "2024-02-27T12:31:59.314Z"
      },
      {
        "duration": 11,
        "start_time": "2024-02-27T12:31:59.322Z"
      },
      {
        "duration": 15,
        "start_time": "2024-02-27T12:31:59.335Z"
      },
      {
        "duration": 8,
        "start_time": "2024-02-27T12:31:59.352Z"
      },
      {
        "duration": 27,
        "start_time": "2024-02-27T12:31:59.362Z"
      },
      {
        "duration": 1389,
        "start_time": "2024-02-27T12:31:59.391Z"
      },
      {
        "duration": 1406,
        "start_time": "2024-02-27T12:32:00.782Z"
      },
      {
        "duration": 1376,
        "start_time": "2024-02-27T12:32:02.189Z"
      }
    ],
    "kernelspec": {
      "display_name": "Python 3 (ipykernel)",
      "language": "python",
      "name": "python3"
    },
    "language_info": {
      "codemirror_mode": {
        "name": "ipython",
        "version": 3
      },
      "file_extension": ".py",
      "mimetype": "text/x-python",
      "name": "python",
      "nbconvert_exporter": "python",
      "pygments_lexer": "ipython3",
      "version": "3.9.5"
    },
    "toc": {
      "base_numbering": 1,
      "nav_menu": {},
      "number_sections": true,
      "sideBar": true,
      "skip_h1_title": true,
      "title_cell": "Table of Contents",
      "title_sidebar": "Contents",
      "toc_cell": false,
      "toc_position": {},
      "toc_section_display": true,
      "toc_window_display": false
    },
    "colab": {
      "provenance": []
    }
  },
  "nbformat": 4,
  "nbformat_minor": 5
}