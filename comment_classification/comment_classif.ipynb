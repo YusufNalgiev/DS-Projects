{
 "cells": [
  {
   "cell_type": "markdown",
   "metadata": {
    "id": "OHsH-e56Lo9W"
   },
   "source": [
    "<img src=\"http://s3.amazonaws.com/pix.iemoji.com/images/emoji/apple/ios-12/256/waving-hand.png\" align=left width=44, heigth=44>\n",
    "<div class=\"alert alert-info\">\n",
    "<b> Комментарий ревьюера</b>\n",
    "\n",
    "\n",
    "Привет, Юсуп! Давай знакомиться! Меня зовут Дмитрий Махортов, и я буду проверять твой проект. Сразу предлагаю общение на «ты» 🙂, но если тебе это не комфортно, то дай знать, и мы перейдем на «вы».\n",
    "\n",
    "Моя основная цель — не указать на совершенные тобою ошибки, а поделиться своим опытом и помочь тебе погрузиться в увлекательный мир работы с данными и вырасти в крепкого профи. Это отдаленная цель. А ближайшая - сделать твою работу еще лучше )).\n",
    "   \n",
    "    \n",
    "Все ключевые этапы в работе выполнены, и я вижу что с проектом ты справшяешься. Есть моменты, которые нужно доработать, но я уверен, у тебя все получится.\n",
    "        \n",
    "Расскажу как обычно проходит проверка:    \n",
    "Бывают моменты, которые требуют пристального внимания. Комментарии по ним выделены <span style='background-color:#F7B3A4'> красным цветом </span> и обозначены значком 🛑. После их доработки проект будет принят.  🙂\n",
    "\n",
    "<span style='background-color:#B7EBA7'> Зеленым цветом </span> и значком ✅ отмечены удачные и элегантные решения, на которые можно опираться в будущих проектах. Или советы «со звездочкой», которые помогут тебе в будущем.\n",
    "\n",
    "<span style='background-color:#F9EDA6'>Жёлтым цветом </span> и значком ⚠️ выделено то, что в следующий раз можно сделать по-другому. Ты можешь учесть эти комментарии при выполнении будущих заданий или доработать проект сейчас (однако это не обязательно).\n",
    "\n",
    "Давай работать над проектом в диалоге: **если ты что-то меняешь в проекте по моим рекомендациям — пиши об этом**. Выбери для своих комментариев какой-то заметный цвет, так мне будет легче отследить изменения. Пожалуйста, **не перемещай, не изменяй и не удаляй мои комментарии**. Всё это поможет выполнить повторную проверку твоего проекта оперативнее.\n",
    "</div>"
   ]
  },
  {
   "cell_type": "markdown",
   "metadata": {
    "id": "M5RjKDziLo9e"
   },
   "source": [
    "<div class=\"alert\" style=\"background-color:#ead7f7;color:#8737bf\">\n",
    "    <font size=\"3\"><b>образец комментария студента</b></font>\n",
    "   \n",
    "Можешь использовать этот комментарий. Просто удали этот текст и вместо него напиши свой 🙂\n",
    "\n",
    "</div>"
   ]
  },
  {
   "cell_type": "markdown",
   "metadata": {
    "id": "Kb-IGWOEqQCd"
   },
   "source": [
    "<div class=\"alert\" style=\"background-color:#ead7f7;color:#8737bf\">\n",
    "    <font size=\"3\"><b>Rомментарий студента</b></font>\n",
    "   \n",
    "Дмитрий, привет. Спасибо за ревью моего проекта)\n",
    "\n",
    "</div>"
   ]
  },
  {
   "cell_type": "markdown",
   "metadata": {
    "id": "0xArQOutLo9f",
    "toc": true
   },
   "source": [
    "<h1>Содержание<span class=\"tocSkip\"></span></h1>\n",
    "<div class=\"toc\"><ul class=\"toc-item\"><li><span><a href=\"#Подготовка\" data-toc-modified-id=\"Подготовка-1\"><span class=\"toc-item-num\">1&nbsp;&nbsp;</span>Подготовка</a></span><ul class=\"toc-item\"><li><span><a href=\"#Промежуточные-выводы\" data-toc-modified-id=\"Промежуточные-выводы-1.1\"><span class=\"toc-item-num\">1.1&nbsp;&nbsp;</span>Промежуточные выводы</a></span></li></ul></li><li><span><a href=\"#Обучение\" data-toc-modified-id=\"Обучение-2\"><span class=\"toc-item-num\">2&nbsp;&nbsp;</span>Обучение</a></span><ul class=\"toc-item\"><li><span><a href=\"#Логистическая-регрессия\" data-toc-modified-id=\"Логистическая-регрессия-2.1\"><span class=\"toc-item-num\">2.1&nbsp;&nbsp;</span>Логистическая регрессия</a></span></li><li><span><a href=\"#DecisionTreeClassifier\" data-toc-modified-id=\"DecisionTreeClassifier-2.2\"><span class=\"toc-item-num\">2.2&nbsp;&nbsp;</span>DecisionTreeClassifier</a></span></li><li><span><a href=\"#LGBMClassifier\" data-toc-modified-id=\"LGBMClassifier-2.3\"><span class=\"toc-item-num\">2.3&nbsp;&nbsp;</span>LGBMClassifier</a></span></li><li><span><a href=\"#Анализ-моделей\" data-toc-modified-id=\"Анализ-моделей-2.4\"><span class=\"toc-item-num\">2.4&nbsp;&nbsp;</span>Анализ моделей</a></span></li></ul></li><li><span><a href=\"#Выводы\" data-toc-modified-id=\"Выводы-3\"><span class=\"toc-item-num\">3&nbsp;&nbsp;</span>Выводы</a></span></li><li><span><a href=\"#Чек-лист-проверки\" data-toc-modified-id=\"Чек-лист-проверки-4\"><span class=\"toc-item-num\">4&nbsp;&nbsp;</span>Чек-лист проверки</a></span></li></ul></div>"
   ]
  },
  {
   "cell_type": "markdown",
   "metadata": {
    "id": "30AkhK9oGZ_w"
   },
   "source": [
    "# Проект для «Викишоп»"
   ]
  },
  {
   "cell_type": "markdown",
   "metadata": {
    "id": "VhbeVvu-GZ_x"
   },
   "source": [
    "Интернет-магазин «Викишоп» запускает новый сервис. Теперь пользователи могут редактировать и дополнять описания товаров, как в вики-сообществах. То есть клиенты предлагают свои правки и комментируют изменения других. Магазину нужен инструмент, который будет искать токсичные комментарии и отправлять их на модерацию.\n",
    "\n",
    "Обучите модель классифицировать комментарии на позитивные и негативные. В вашем распоряжении набор данных с разметкой о токсичности правок.\n",
    "\n",
    "Постройте модель со значением метрики качества *F1* не меньше 0.75.\n",
    "\n",
    "**Инструкция по выполнению проекта**\n",
    "\n",
    "1. Загрузите и подготовьте данные.\n",
    "2. Обучите разные модели.\n",
    "3. Сделайте выводы.\n",
    "\n",
    "Для выполнения проекта применять *BERT* необязательно, но вы можете попробовать.\n",
    "\n",
    "**Описание данных**\n",
    "\n",
    "Данные находятся в файле `toxic_comments.csv`. Столбец *text* в нём содержит текст комментария, а *toxic* — целевой признак.\n",
    "\n",
    "Проект выполнялся с помощью Google Colab"
   ]
  },
  {
   "cell_type": "markdown",
   "metadata": {
    "id": "cl8g0FrKGZ_z"
   },
   "source": [
    "## Подготовка"
   ]
  },
  {
   "cell_type": "code",
   "execution_count": 1,
   "metadata": {
    "id": "j98H4mrpGZ_0"
   },
   "outputs": [
    {
     "ename": "ModuleNotFoundError",
     "evalue": "No module named 'spacy'",
     "output_type": "error",
     "traceback": [
      "\u001b[1;31m---------------------------------------------------------------------------\u001b[0m",
      "\u001b[1;31mModuleNotFoundError\u001b[0m                       Traceback (most recent call last)",
      "Cell \u001b[1;32mIn[1], line 27\u001b[0m\n\u001b[0;32m     25\u001b[0m \u001b[38;5;28;01mfrom\u001b[39;00m \u001b[38;5;21;01mnltk\u001b[39;00m\u001b[38;5;21;01m.\u001b[39;00m\u001b[38;5;21;01mtokenize\u001b[39;00m \u001b[38;5;28;01mimport\u001b[39;00m word_tokenize\n\u001b[0;32m     26\u001b[0m \u001b[38;5;28;01mfrom\u001b[39;00m \u001b[38;5;21;01mnltk\u001b[39;00m\u001b[38;5;21;01m.\u001b[39;00m\u001b[38;5;21;01mcorpus\u001b[39;00m \u001b[38;5;28;01mimport\u001b[39;00m stopwords\n\u001b[1;32m---> 27\u001b[0m \u001b[38;5;28;01mimport\u001b[39;00m \u001b[38;5;21;01mspacy\u001b[39;00m\n\u001b[0;32m     28\u001b[0m \u001b[38;5;28;01mfrom\u001b[39;00m \u001b[38;5;21;01msklearn\u001b[39;00m\u001b[38;5;21;01m.\u001b[39;00m\u001b[38;5;21;01mfeature_extraction\u001b[39;00m\u001b[38;5;21;01m.\u001b[39;00m\u001b[38;5;21;01mtext\u001b[39;00m \u001b[38;5;28;01mimport\u001b[39;00m TfidfVectorizer\n\u001b[0;32m     29\u001b[0m \u001b[38;5;28;01mimport\u001b[39;00m \u001b[38;5;21;01mtorch\u001b[39;00m\n",
      "\u001b[1;31mModuleNotFoundError\u001b[0m: No module named 'spacy'"
     ]
    }
   ],
   "source": [
    "import pandas as pd\n",
    "import numpy as np\n",
    "import numpy\n",
    "import re\n",
    "import matplotlib.pyplot as plt\n",
    "import seaborn as sns\n",
    "import warnings\n",
    "\n",
    "from sklearn.metrics import (\n",
    "    f1_score,\n",
    "    roc_auc_score,\n",
    "    make_scorer\n",
    ")\n",
    "\n",
    "\n",
    "from sklearn.model_selection import (\n",
    "    train_test_split,\n",
    "    GridSearchCV,\n",
    "    RandomizedSearchCV,\n",
    "    cross_val_score\n",
    ")\n",
    "\n",
    "import nltk\n",
    "from nltk.stem import WordNetLemmatizer\n",
    "from nltk.tokenize import word_tokenize\n",
    "from nltk.corpus import stopwords\n",
    "import spacy\n",
    "from sklearn.feature_extraction.text import TfidfVectorizer\n",
    "import torch\n",
    "import transformers\n",
    "from tqdm.notebook import tqdm\n",
    "\n",
    "from sklearn.linear_model import LogisticRegression\n",
    "from sklearn.tree import DecisionTreeClassifier\n",
    "from lightgbm import LGBMClassifier\n",
    "\n",
    "from sklearn.utils import shuffle\n",
    "from sklearn.pipeline import Pipeline"
   ]
  },
  {
   "cell_type": "markdown",
   "metadata": {
    "id": "hHJWXLx-Lo9o"
   },
   "source": [
    "<img src=\"https://emojigraph.org/media/apple/check-mark-button_2705.png\" align=left width=33, heigth=33>\n",
    "<div class=\"alert alert-success\">\n",
    "Отлично, все нужные библиотеки импортированы в начале ноутбука.Это хорошая практика.</div>"
   ]
  },
  {
   "cell_type": "code",
   "execution_count": 2,
   "metadata": {
    "colab": {
     "base_uri": "https://localhost:8080/"
    },
    "id": "lJkCZv6lkMaB",
    "outputId": "f08d5cdd-d407-48c7-cf10-fa1a04131c25"
   },
   "outputs": [
    {
     "name": "stderr",
     "output_type": "stream",
     "text": [
      "[nltk_data] Downloading package punkt to /home/jovyan/nltk_data...\n",
      "[nltk_data]   Package punkt is already up-to-date!\n",
      "[nltk_data] Downloading package stopwords to /home/jovyan/nltk_data...\n",
      "[nltk_data]   Package stopwords is already up-to-date!\n",
      "[nltk_data] Downloading package wordnet to /home/jovyan/nltk_data...\n",
      "[nltk_data]   Package wordnet is already up-to-date!\n"
     ]
    }
   ],
   "source": [
    "nltk.download('punkt')\n",
    "nltk.download('stopwords')\n",
    "nltk.download('wordnet')\n",
    "nlp = spacy.load(\"en_core_web_sm\")"
   ]
  },
  {
   "cell_type": "code",
   "execution_count": 3,
   "metadata": {
    "id": "dEZj4ho-uXnT"
   },
   "outputs": [],
   "source": [
    "RANDOM_STATE = 42\n",
    "TEST_SIZE=0.25"
   ]
  },
  {
   "cell_type": "code",
   "execution_count": 4,
   "metadata": {
    "id": "0CQftSsMHraG"
   },
   "outputs": [],
   "source": [
    "data = pd.read_csv('https://code.s3.yandex.net/datasets/toxic_comments.csv')"
   ]
  },
  {
   "cell_type": "code",
   "execution_count": 5,
   "metadata": {
    "colab": {
     "base_uri": "https://localhost:8080/",
     "height": 206
    },
    "id": "kI2y-5ZbHr0E",
    "outputId": "9e77319d-5ac0-4c15-ac10-8262a825e44e"
   },
   "outputs": [
    {
     "data": {
      "text/html": [
       "<div>\n",
       "<style scoped>\n",
       "    .dataframe tbody tr th:only-of-type {\n",
       "        vertical-align: middle;\n",
       "    }\n",
       "\n",
       "    .dataframe tbody tr th {\n",
       "        vertical-align: top;\n",
       "    }\n",
       "\n",
       "    .dataframe thead th {\n",
       "        text-align: right;\n",
       "    }\n",
       "</style>\n",
       "<table border=\"1\" class=\"dataframe\">\n",
       "  <thead>\n",
       "    <tr style=\"text-align: right;\">\n",
       "      <th></th>\n",
       "      <th>Unnamed: 0</th>\n",
       "      <th>text</th>\n",
       "      <th>toxic</th>\n",
       "    </tr>\n",
       "  </thead>\n",
       "  <tbody>\n",
       "    <tr>\n",
       "      <th>0</th>\n",
       "      <td>0</td>\n",
       "      <td>Explanation\\nWhy the edits made under my usern...</td>\n",
       "      <td>0</td>\n",
       "    </tr>\n",
       "    <tr>\n",
       "      <th>1</th>\n",
       "      <td>1</td>\n",
       "      <td>D'aww! He matches this background colour I'm s...</td>\n",
       "      <td>0</td>\n",
       "    </tr>\n",
       "    <tr>\n",
       "      <th>2</th>\n",
       "      <td>2</td>\n",
       "      <td>Hey man, I'm really not trying to edit war. It...</td>\n",
       "      <td>0</td>\n",
       "    </tr>\n",
       "    <tr>\n",
       "      <th>3</th>\n",
       "      <td>3</td>\n",
       "      <td>\"\\nMore\\nI can't make any real suggestions on ...</td>\n",
       "      <td>0</td>\n",
       "    </tr>\n",
       "    <tr>\n",
       "      <th>4</th>\n",
       "      <td>4</td>\n",
       "      <td>You, sir, are my hero. Any chance you remember...</td>\n",
       "      <td>0</td>\n",
       "    </tr>\n",
       "  </tbody>\n",
       "</table>\n",
       "</div>"
      ],
      "text/plain": [
       "   Unnamed: 0                                               text  toxic\n",
       "0           0  Explanation\\nWhy the edits made under my usern...      0\n",
       "1           1  D'aww! He matches this background colour I'm s...      0\n",
       "2           2  Hey man, I'm really not trying to edit war. It...      0\n",
       "3           3  \"\\nMore\\nI can't make any real suggestions on ...      0\n",
       "4           4  You, sir, are my hero. Any chance you remember...      0"
      ]
     },
     "execution_count": 5,
     "metadata": {},
     "output_type": "execute_result"
    }
   ],
   "source": [
    "data.head()"
   ]
  },
  {
   "cell_type": "code",
   "execution_count": 6,
   "metadata": {
    "colab": {
     "base_uri": "https://localhost:8080/"
    },
    "id": "jH_CSIqwHsG_",
    "outputId": "99b7c86e-2ed4-46bd-f391-31f494996f2c"
   },
   "outputs": [
    {
     "name": "stdout",
     "output_type": "stream",
     "text": [
      "<class 'pandas.core.frame.DataFrame'>\n",
      "RangeIndex: 159292 entries, 0 to 159291\n",
      "Data columns (total 3 columns):\n",
      " #   Column      Non-Null Count   Dtype \n",
      "---  ------      --------------   ----- \n",
      " 0   Unnamed: 0  159292 non-null  int64 \n",
      " 1   text        159292 non-null  object\n",
      " 2   toxic       159292 non-null  int64 \n",
      "dtypes: int64(2), object(1)\n",
      "memory usage: 3.6+ MB\n"
     ]
    }
   ],
   "source": [
    "data.info()"
   ]
  },
  {
   "cell_type": "markdown",
   "metadata": {
    "id": "swd6kqHQLo9q"
   },
   "source": [
    "<img src=\"https://emojigraph.org/media/apple/check-mark-button_2705.png\" align=left width=33, heigth=33>\n",
    "<div class=\"alert alert-success\">\n",
    "Данные загружены и исследованы.</div>"
   ]
  },
  {
   "cell_type": "markdown",
   "metadata": {
    "id": "602_1SWNqUwP"
   },
   "source": [
    "Уберем столбец `Unnamed:0`"
   ]
  },
  {
   "cell_type": "code",
   "execution_count": 7,
   "metadata": {
    "id": "ISOv2QFwqUPf"
   },
   "outputs": [],
   "source": [
    "data = data.drop(columns=['Unnamed: 0'])"
   ]
  },
  {
   "cell_type": "markdown",
   "metadata": {
    "id": "uPpStJjaLo9r"
   },
   "source": [
    "<img src=\"https://emojigraph.org/media/apple/check-mark-button_2705.png\" align=left width=33, heigth=33>\n",
    "<div class=\"alert alert-success\">\n",
    "    \n",
    "Да, все верно, столбец `'Unnamed: 0'` можно безболезненно удалить. Это \"старый\" индекс, который похоже забыли при пересохранении датасета.</div>"
   ]
  },
  {
   "cell_type": "markdown",
   "metadata": {
    "id": "oeVzn8b2rvgO"
   },
   "source": [
    "Посмотрим на распределение токсичных/нетоксичных комментариев"
   ]
  },
  {
   "cell_type": "code",
   "execution_count": 8,
   "metadata": {
    "colab": {
     "base_uri": "https://localhost:8080/",
     "height": 604
    },
    "id": "azrHWXsi5869",
    "outputId": "b18b0378-ad41-4747-ea4a-81641c91a730"
   },
   "outputs": [
    {
     "data": {
      "image/png": "[encoded data removed]",
      "text/plain": [
       "<Figure size 576x504 with 1 Axes>"
      ]
     },
     "metadata": {},
     "output_type": "display_data"
    }
   ],
   "source": [
    "plt.figure(figsize=(8, 7))\n",
    "data['toxic'].value_counts().plot(kind='pie', autopct='%1.1f%%')\n",
    "plt.legend(['Normal', 'Toxic'])\n",
    "plt.title('Распределение токсичных комментариев', fontsize=19)\n",
    "\n",
    "plt.show()"
   ]
  },
  {
   "cell_type": "markdown",
   "metadata": {
    "id": "qjHQkTS1Lo9r"
   },
   "source": [
    "<img src=\"https://emojigraph.org/media/apple/check-mark-button_2705.png\" align=left width=33, heigth=33>\n",
    "<div class=\"alert alert-success\">\n",
    "Молодец, исследован баланс классов. Это важная информация для задачи классификации.</div>"
   ]
  },
  {
   "cell_type": "markdown",
   "metadata": {
    "id": "gSLwD7G2tIQc"
   },
   "source": [
    "Датасет несбалансирован. При обучении на несбалансированных данных модель может стать склонной к предсказанию доминирующего класса, игнорируя меньшинственный класс."
   ]
  },
  {
   "cell_type": "markdown",
   "metadata": {
    "id": "IJDDrrY2Lo9s"
   },
   "source": [
    "<img src=\"https://upload.wikimedia.org/wikipedia/commons/thumb/8/81/Stop_sign.png/240px-Stop_sign.png\" align=left width=35, heigth=35>\n",
    "<div class=\"alert alert-danger\">\n",
    "    \n",
    "Балансировать можно только обучающую выборку, а ты сейчас сбалансировал все данные, как следствие изменил и валидационную и тестовые выборки. Фактически это эквивалентно \"подмене задачи\", ведь на сбалансированных даных достичь метрики легче. Это конечно позволит тебе показать красивые цифры, но реальное качество модели будет очень низким, ведь данные с которыми встретится модель в продакшеше являются несбалансированными.\n",
    "   \n",
    "Сразу предупрежу - не стоит отдельно балансировать обучающую выборку, ведь ты планируешь использовать кросс-валидацию и этому посвящен следующий комментарий.    \n",
    "</div>"
   ]
  },
  {
   "cell_type": "markdown",
   "metadata": {
    "id": "qoSIwbQnLo9s"
   },
   "source": [
    "<img src=\"https://upload.wikimedia.org/wikipedia/commons/thumb/8/81/Stop_sign.png/240px-Stop_sign.png\" align=left width=35, heigth=35>\n",
    "<div class=\"alert alert-danger\">\n",
    "    \n",
    "\n",
    "Для одной и той же модели оценка метрики f1 на сбалансированной выборке гораздо выше, чем на несбалансированной.\n",
    "    \n",
    "    \n",
    "Ты используешь поиск по сетке, в основе которого лежит кросс-валидация. Т.к. ты обучаешь объект GridSearchCV на сбалансированной обучающей выборке, в процессе кросс-валидации она будет разделена на несколько фолдов, из которых будут выделены валидационные и обучающие. И эти валидационные фолды тоже будут сбалансироваными. И как следствие, мы получим завышенные метрики и рискуем выбрать не самую лучшую модель и гиперпараметры.\n",
    "    \n",
    "   \n",
    "Самым лучшим решением будет вообще отказаться от балансировки. Но ты можешь попробовать совместить балансировку с кросс-валидацией. Как это делать можешь подробно посмотреть вот в этой статье\n",
    "    \n",
    "  https://kiwidamien.github.io/how-to-do-cross-validation-when-upsampling-data.html\n",
    "    \n",
    "Вот её перевод на русский (правда он периодически бывает недоступен)\n",
    "    \n",
    " https://datascience.xyz/practice/kak-delat-kross-validaciju-pri-apsemplinge-dannyh.html   \n",
    "    \n",
    "Но сразу предупрежу, SMOTE для признаков, полученных из текстов работает долго и плохо. Лучше использовать RanomOverSampler/RanomUnderSampler.    \n",
    "\n",
    "</div>"
   ]
  },
  {
   "cell_type": "markdown",
   "metadata": {
    "id": "Q9bFn70xM1Zl"
   },
   "source": [
    "<div class=\"alert\" style=\"background-color:#ead7f7;color:#8737bf\">\n",
    "    <font size=\"3\"><b>Комментарий студента</b></font>\n",
    "   \n",
    "Можно ли ограничить выборку для оптимизации времени? Например, в 2 раза\n",
    "\n",
    "</div>"
   ]
  },
  {
   "cell_type": "markdown",
   "metadata": {},
   "source": [
    "<img src=\"https://emojigraph.org/media/apple/check-mark-button_2705.png\" align=left width=33, heigth=33>\n",
    "<div class=\"alert alert-success\">\n",
    " <b>v2</b> \n",
    "С точки зрения максимизации  качества модели это конечно нежелательно. Но как компромис, учитывая ограничения по вермени/вычислительным мощностям,  то конечно можешь. Главное получить проходную метрику на тесте.\n",
    "</div>"
   ]
  },
  {
   "cell_type": "code",
   "execution_count": 9,
   "metadata": {
    "id": "L4Y7lg77NaSh"
   },
   "outputs": [],
   "source": [
    "data = data.sample(n=60000, random_state=42).reset_index(drop=True)"
   ]
  },
  {
   "cell_type": "code",
   "execution_count": 10,
   "metadata": {
    "colab": {
     "base_uri": "https://localhost:8080/",
     "height": 206
    },
    "id": "CIrmHJOVy6Tv",
    "outputId": "ac5db4d2-623c-4501-e5fe-a40849973bc0"
   },
   "outputs": [
    {
     "data": {
      "text/html": [
       "<div>\n",
       "<style scoped>\n",
       "    .dataframe tbody tr th:only-of-type {\n",
       "        vertical-align: middle;\n",
       "    }\n",
       "\n",
       "    .dataframe tbody tr th {\n",
       "        vertical-align: top;\n",
       "    }\n",
       "\n",
       "    .dataframe thead th {\n",
       "        text-align: right;\n",
       "    }\n",
       "</style>\n",
       "<table border=\"1\" class=\"dataframe\">\n",
       "  <thead>\n",
       "    <tr style=\"text-align: right;\">\n",
       "      <th></th>\n",
       "      <th>text</th>\n",
       "      <th>toxic</th>\n",
       "    </tr>\n",
       "  </thead>\n",
       "  <tbody>\n",
       "    <tr>\n",
       "      <th>0</th>\n",
       "      <td>Sometime back, I just happened to log on to ww...</td>\n",
       "      <td>0</td>\n",
       "    </tr>\n",
       "    <tr>\n",
       "      <th>1</th>\n",
       "      <td>\"\\n\\nThe latest edit is much better, don't mak...</td>\n",
       "      <td>0</td>\n",
       "    </tr>\n",
       "    <tr>\n",
       "      <th>2</th>\n",
       "      <td>\" October 2007 (UTC)\\n\\nI would think you'd be...</td>\n",
       "      <td>0</td>\n",
       "    </tr>\n",
       "    <tr>\n",
       "      <th>3</th>\n",
       "      <td>Thanks for the tip on the currency translation...</td>\n",
       "      <td>0</td>\n",
       "    </tr>\n",
       "    <tr>\n",
       "      <th>4</th>\n",
       "      <td>I would argue that if content on the Con in co...</td>\n",
       "      <td>0</td>\n",
       "    </tr>\n",
       "  </tbody>\n",
       "</table>\n",
       "</div>"
      ],
      "text/plain": [
       "                                                text  toxic\n",
       "0  Sometime back, I just happened to log on to ww...      0\n",
       "1  \"\\n\\nThe latest edit is much better, don't mak...      0\n",
       "2  \" October 2007 (UTC)\\n\\nI would think you'd be...      0\n",
       "3  Thanks for the tip on the currency translation...      0\n",
       "4  I would argue that if content on the Con in co...      0"
      ]
     },
     "execution_count": 10,
     "metadata": {},
     "output_type": "execute_result"
    }
   ],
   "source": [
    "data.head()"
   ]
  },
  {
   "cell_type": "code",
   "execution_count": 11,
   "metadata": {
    "id": "ZLqUPRo1_PH_"
   },
   "outputs": [],
   "source": [
    "def clear_text(text):\n",
    "    text = text.lower()\n",
    "    cleaned_text  = re.sub(r'(?:\\n|\\r)', ' ', text)\n",
    "    cleaned_text = re.sub(r'[^a-zA-Z ]+', '', text).strip()\n",
    "    return cleaned_text\n",
    "\n",
    "def lemmatize_text(text):\n",
    "    doc = nlp(text)\n",
    "\n",
    "    return ' '.join([token.lemma_ for token in doc])"
   ]
  },
  {
   "cell_type": "code",
   "execution_count": 12,
   "metadata": {
    "id": "duYR9WKCf2ok"
   },
   "outputs": [],
   "source": [
    "data['text'] = data['text'].apply(clear_text)"
   ]
  },
  {
   "cell_type": "code",
   "execution_count": 13,
   "metadata": {
    "id": "Mf4YG6mpiYNL"
   },
   "outputs": [
    {
     "ename": "NameError",
     "evalue": "name 'tqdm' is not defined",
     "output_type": "error",
     "traceback": [
      "\u001b[0;31m---------------------------------------------------------------------------\u001b[0m",
      "\u001b[0;31mNameError\u001b[0m                                 Traceback (most recent call last)",
      "\u001b[0;32m/tmp/ipykernel_48/1629770396.py\u001b[0m in \u001b[0;36m<module>\u001b[0;34m\u001b[0m\n\u001b[0;32m----> 1\u001b[0;31m \u001b[0mtqdm\u001b[0m\u001b[0;34m.\u001b[0m\u001b[0mpandas\u001b[0m\u001b[0;34m(\u001b[0m\u001b[0;34m)\u001b[0m\u001b[0;34m\u001b[0m\u001b[0;34m\u001b[0m\u001b[0m\n\u001b[0m\u001b[1;32m      2\u001b[0m \u001b[0;34m\u001b[0m\u001b[0m\n\u001b[1;32m      3\u001b[0m \u001b[0mdata\u001b[0m\u001b[0;34m[\u001b[0m\u001b[0;34m'lemmatized'\u001b[0m\u001b[0;34m]\u001b[0m \u001b[0;34m=\u001b[0m \u001b[0mdata\u001b[0m\u001b[0;34m[\u001b[0m\u001b[0;34m'text'\u001b[0m\u001b[0;34m]\u001b[0m\u001b[0;34m.\u001b[0m\u001b[0mapply\u001b[0m\u001b[0;34m(\u001b[0m\u001b[0mlemmatize_text\u001b[0m\u001b[0;34m)\u001b[0m\u001b[0;34m\u001b[0m\u001b[0;34m\u001b[0m\u001b[0m\n",
      "\u001b[0;31mNameError\u001b[0m: name 'tqdm' is not defined"
     ]
    }
   ],
   "source": [
    "tqdm.pandas()\n",
    "\n",
    "data['lemmatized'] = data['text'].apply(lemmatize_text)"
   ]
  },
  {
   "cell_type": "markdown",
   "metadata": {},
   "source": [
    "<img src=\"https://upload.wikimedia.org/wikipedia/commons/b/ba/Warning_sign_4.0.png\" align=left width=44, heigth=33>\n",
    "<div class=\"alert alert-warning\"> <b>v2</b> \n",
    "\n",
    "Правильная лемматизация длится долго... Минут 20-30, в зависимости от мощности компьютера. Гораздо комфортнее видеть прогресс выполнения этой длительной операции, чем сидеть и гадать \"а не зависла ли она\", \"закончит только к утру или через 30 секунд\"? Можно воспользоваться прогресс -баром от tqdm.\n",
    "    \n",
    "     \n",
    "    from tqdm.notebook import tqdm\n",
    "    tqdm.pandas()\n",
    "\n",
    "    data['lemm_text'] = data['text'].progress_apply(lemmafunction)\n",
    "    \n",
    "    \n",
    "    \n",
    "    \n",
    "</div>\n",
    "\n"
   ]
  },
  {
   "cell_type": "markdown",
   "metadata": {},
   "source": [
    "<img src=\"https://emojigraph.org/media/apple/check-mark-button_2705.png\" align=left width=33, heigth=33>\n",
    "<div class=\"alert alert-success\"> <b>v2</b> \n",
    "Очень круто, что ты используешь spaCy. Но лемматизаторspaCy работает безумно долго и скорее всего, у тебя сложилось впечатление, что он неудобен. На самом деле spaCy, в отличие от других библиотек - это библиотека ориентированая на создание индустриальных решений, тогда как другие библиотеки созданы для исследователей (академического сообщества). А работает он долго потому, что заодно с лемматизацией решает кучу других задач. Увидеть эти задачи ты можешь вызвав команду:\n",
    "    \n",
    "     nlp.pipe_names\n",
    "Скорее всего ты увидишь следующее:\n",
    "    \n",
    "     ['tok2vec', 'tagger', 'parser', 'attribute_ruler', 'lemmatizer', 'ner']\n",
    " \n",
    "Т.е. создавая объект nlp ты кроме нужной задачи (лемматизации) решаешь задачи получения эмбедингов, определение частей речи, определение взаимосвязей между токенами, нахождение именованных сущностей. Отключить не нужное повведение очень легко используя вот такой шаблон:\n",
    "    \n",
    "    disabled_pipes = [ \"parser\",  \"ner\"]\n",
    "    nlp = spacy.load('en_core_web_sm', disable=disabled_pipes)\n",
    "    \n",
    "И выполняться такой пайплайн будет  быстрее.\n",
    "    \n",
    "Важно - отключать нужно именно указанные мною шаги. Удаление остальных приведет к тому, что лемматизация прекратит работать.\n",
    "    \n",
    "А еще для ускорения spaCy можно использовать spaCy pipeline (https://spacy.io/usage/processing-pipelines)\n",
    "    \n",
    "    \n",
    "    lemm_texts = []\n",
    "\n",
    "    for doc in tqdm(nlp.pipe(data['text'].values, disable = ['ner', 'parser']), total=data.shape[0]):\n",
    "        lemm_text = \" \".join([i.lemma_ for i in doc])    \n",
    "        lemm_texts.append(lemm_text) \n",
    "    \n",
    "Когда я проверял, у меня получилось ускорить почти в два раза.</div>"
   ]
  },
  {
   "cell_type": "code",
   "execution_count": null,
   "metadata": {
    "colab": {
     "base_uri": "https://localhost:8080/",
     "height": 258
    },
    "id": "PtpmubKdqdlX",
    "outputId": "3d864a8b-0aee-4fce-e8a7-0248373b6d0c"
   },
   "outputs": [],
   "source": [
    "data[['lemmatized', 'text']].sample(5)"
   ]
  },
  {
   "cell_type": "code",
   "execution_count": null,
   "metadata": {
    "id": "XJ-HSvX6aErM"
   },
   "outputs": [],
   "source": [
    "data.to_csv('data_lemmatized', index=False)"
   ]
  },
  {
   "cell_type": "markdown",
   "metadata": {
    "id": "w8MHuTCPLo9t"
   },
   "source": [
    "<img src=\"https://upload.wikimedia.org/wikipedia/commons/thumb/8/81/Stop_sign.png/240px-Stop_sign.png\" align=left width=35, heigth=35>\n",
    "<div class=\"alert alert-danger\">\n",
    "Молодец, что используешь лемматизатор WordNetLemmatizer. Но в данном случае он отработал не очень хорошо, и если присмотреться к тексту это хорошо видно.\n",
    "    \n",
    " ![image.png](attachment:image.png)   \n",
    "    \n",
    " Например, в первой и второй  строке видим глаголы are и been, но это формы глагола be.\n",
    "    \n",
    "Как правило, совершаются следующие ошибки:\n",
    "    \n",
    " - Лемматизация должна производиться по одному слову, а не весь комментарий целиком\n",
    " - Слова должны быть приведены к нижнему регистру\n",
    " - Кроме самого слова в лемматизатор нужно передать дополнительную информацию о части речи слова (POS тег).\n",
    "    \n",
    "    \n",
    "    \n",
    "Ты можешь доработать подход с WordNetLemmatizer или использовать spaCy, там все отрабатывает \"из коробки\". Можешь посмотреть вот эту статью.  \n",
    "\n",
    "\n",
    "https://webdevblog.ru/podhody-lemmatizacii-s-primerami-v-python/\n",
    "    \n",
    "Хочу обратить твое внимание, что код из вышеуказанной статьи выполняется несколько дольше, чем оптимизированный, вот из этого топика\n",
    "    \n",
    "https://stackoverflow.com/questions/50992974/nltk-wordnetlemmatizer-not-lemmatizing-as-expected    \n",
    "    \n",
    "    \n",
    "    \n",
    "Совет - старайся сразу проверять  результаты лемматизации. Например, для предложения\n",
    "    \n",
    "    sentence = \"The striped bats are hanging on their feet for best\"\n",
    "    \n",
    "После лемматизации должен получиться вот такой результат\n",
    "    \n",
    "    \"the strip bat be hang on their foot for best\"    \n",
    "    \n",
    "Если будешь лемматизировать по второму способу, то слово  striped может остаться без изменений, это тоже  нормально (особенность алгоритма).       \n",
    "</div>"
   ]
  },
  {
   "cell_type": "markdown",
   "metadata": {
    "id": "AwcuTEycxPSa"
   },
   "source": [
    "### Промежуточные выводы"
   ]
  },
  {
   "cell_type": "markdown",
   "metadata": {
    "id": "DlclUAOcxZ7m"
   },
   "source": [
    "1. В датасете 159 тыс. строк и 3 столбца. Один из столбцов мы удалили, т.к. он дублировал индекс;\n",
    "2. Изначально, стоблец `toxic` содержал два значения: 1 и 0 (True и False) в соотношении 10.2% и 89.8% соответственно;\n",
    "3. Очистили и лемматизировали данные в столбце `text`."
   ]
  },
  {
   "cell_type": "markdown",
   "metadata": {
    "id": "gSbT6CAPGZ_1"
   },
   "source": [
    "## Обучение"
   ]
  },
  {
   "cell_type": "markdown",
   "metadata": {
    "id": "wvmTsD5XJb-U"
   },
   "source": [
    "Функция для кросс-валидации"
   ]
  },
  {
   "cell_type": "code",
   "execution_count": null,
   "metadata": {
    "id": "H70EqZLGIIj5"
   },
   "outputs": [],
   "source": [
    "def rscv(model, grid, njobs):\n",
    "    random_search = RandomizedSearchCV(\n",
    "    model,\n",
    "    grid,\n",
    "    cv=5,\n",
    "    n_jobs=njobs,\n",
    "    scoring='f1'\n",
    "    )\n",
    "    random_search.fit(X_train, y_train)\n",
    "    return (random_search.best_estimator_,\n",
    "            random_search.best_score_)"
   ]
  },
  {
   "cell_type": "markdown",
   "metadata": {
    "id": "i9m4zrkQZ0ZW"
   },
   "source": [
    "Разбиваем датасет на выборки, инициализируем TfidfVectorizer и трансформируем"
   ]
  },
  {
   "cell_type": "code",
   "execution_count": null,
   "metadata": {
    "id": "8hW9wgeyGZ_2"
   },
   "outputs": [],
   "source": [
    "X_train, X_test, y_train, y_test = train_test_split(\n",
    "    data['lemmatized'],\n",
    "    data['toxic'],\n",
    "    test_size=TEST_SIZE,\n",
    "    random_state=RANDOM_STATE\n",
    ")"
   ]
  },
  {
   "cell_type": "markdown",
   "metadata": {
    "id": "30khyj2yLo9u"
   },
   "source": [
    "<img src=\"https://emojigraph.org/media/apple/check-mark-button_2705.png\" align=left width=33, heigth=33>\n",
    "<div class=\"alert alert-success\">\n",
    "    \n",
    "Данные разделены на выборки. Но при работе со всем датасетом  я бы посоветовал тебе изменить пропорции и выделить на тест 10%. Причина простая - модели, которые мы обучаем чувствительны к объему обучающих данных. Чем больше слов они увидят в процессе обучения, и оценят их вклад в \"токсичность\", тем лучше будут модели. А для корректного тестирования и 10% данных вполне достаточно, учитывая немаленький размер датасета.\n",
    "\n",
    "</div>"
   ]
  },
  {
   "cell_type": "code",
   "execution_count": null,
   "metadata": {
    "id": "XC_chYo3m2Mb"
   },
   "outputs": [],
   "source": [
    "stop_words = list(stopwords.words('english'))"
   ]
  },
  {
   "cell_type": "code",
   "execution_count": null,
   "metadata": {
    "id": "r9RXY9ypnSW6"
   },
   "outputs": [],
   "source": [
    "#count_tf_idf = TfidfVectorizer(stop_words=stop_words)\n",
    "\n",
    "#X_train_tfidf = count_tf_idf.fit_transform(X_train)\n",
    "#X_test_tfidf = count_tf_idf.transform(X_test)"
   ]
  },
  {
   "cell_type": "code",
   "execution_count": null,
   "metadata": {
    "id": "CrqG1u_RZdw7"
   },
   "outputs": [],
   "source": [
    "lr_pipe = Pipeline(\n",
    "    [\n",
    "        (\"vect\", TfidfVectorizer()),\n",
    "        (\"clf\", LogisticRegression(random_state=RANDOM_STATE, class_weight='balanced')),\n",
    "    ]\n",
    ")\n",
    "\n",
    "dt_pipe = Pipeline(\n",
    "    [\n",
    "        (\"vect\", TfidfVectorizer()),\n",
    "        (\"clf\", DecisionTreeClassifier(random_state=RANDOM_STATE, class_weight='balanced')),\n",
    "    ]\n",
    ")\n",
    "\n",
    "lgbm_pipe = Pipeline(\n",
    "    [\n",
    "        (\"vect\", TfidfVectorizer()),\n",
    "        (\"clf\", LGBMClassifier(random_state=RANDOM_STATE, class_weight='balanced')),\n",
    "    ]\n",
    ")"
   ]
  },
  {
   "cell_type": "markdown",
   "metadata": {
    "id": "VXDRfYh_Lo9v"
   },
   "source": [
    "<img src=\"https://emojigraph.org/media/apple/check-mark-button_2705.png\" align=left width=33, heigth=33>\n",
    "<div class=\"alert alert-success\">\n",
    "👍 Молодец, получены признаки из текстов с помощью TF-IDF. И совершенно верно векторайзер вначале обучен на обучающем наборе и затем применен к тестовому</div>"
   ]
  },
  {
   "cell_type": "markdown",
   "metadata": {
    "id": "RjNbQunKAiUD"
   },
   "source": [
    "### Логистическая регрессия"
   ]
  },
  {
   "cell_type": "code",
   "execution_count": null,
   "metadata": {
    "id": "Jzg6dKcgAhOy"
   },
   "outputs": [],
   "source": [
    "lr_grid = {\n",
    "    'clf__C': range(10, 15)\n",
    "}"
   ]
  },
  {
   "cell_type": "markdown",
   "metadata": {
    "id": "-rwDSeUPLo9w"
   },
   "source": [
    "<img src=\"https://upload.wikimedia.org/wikipedia/commons/b/ba/Warning_sign_4.0.png\" align=left width=44, heigth=33>\n",
    "<div class=\"alert alert-warning\">\n",
    "Не стоит перебирать гиперпараметр \"решающий алгоритм\" - solver. Из спринта \"Численые методы\" ты знаешь, что модель логистической регрессии обучается методом градиентного спуска (при этом глобальный минимум у оптимизируемой функции один). Solver может влиять на скорость сходимости, КАК будут делаться шаги градиентного спуска (длина и направление), но в любом случае если они сойдутся - то в одной точке (возможны небольшие отклонения из за округлений).\n",
    "    \n",
    "Просто подбери экспериментально пару max_iter/solver (вне кросс-валидации), а поиском по сетке подбирай что-нибудь более значимое.    \n",
    "</div>"
   ]
  },
  {
   "cell_type": "markdown",
   "metadata": {
    "id": "d3nqL29ILo9w"
   },
   "source": [
    "<img src=\"https://emojigraph.org/media/apple/check-mark-button_2705.png\" align=left width=33, heigth=33>\n",
    "<div class=\"alert alert-success\">\n",
    "А вот подбор гиперпараметра С это очень правильное решение. Линейные модели очень хорошо работают с признаками, полученными из текстов. С помощью TF-IDF мы получили очень длинные разряженные вектора. И действительно, они очень длинные (длина около 140 000), при этом очень мало значений отличаются от нуля. Так вот, линейные модели гораздо лучше деревьев справляются с такими признаками. Но им нужно помочь - и ослабить регуляризацию, т.к. она заметно вырастает из за большого количества признаков. И делаем мы это как раз подбирая гиперпараметр С.\n",
    "    \n",
    "----------------------\n",
    "    \n",
    "    \n",
    "Но при работе со всем датасетом оптимум стоит искать в диапазоне 5-15    \n",
    "</div>"
   ]
  },
  {
   "cell_type": "code",
   "execution_count": null,
   "metadata": {
    "colab": {
     "base_uri": "https://localhost:8080/"
    },
    "id": "Nb9L4XTmEWOv",
    "outputId": "f3a798da-2ce5-4857-84fe-7458c0ad9b6f"
   },
   "outputs": [],
   "source": [
    "%%time\n",
    "logreg_model, logreg_f1 = rscv(lr_pipe, lr_grid, -1)"
   ]
  },
  {
   "cell_type": "markdown",
   "metadata": {
    "id": "2_kFO329Lo9x"
   },
   "source": [
    "<img src=\"https://upload.wikimedia.org/wikipedia/commons/b/ba/Warning_sign_4.0.png\" align=left width=44, heigth=33>\n",
    "<div class=\"alert alert-warning\">\n",
    "Поиск по сетке использует крос-валидацию.  А кросс-валидация одновремено с извлечением признаков из текстов требует особого подхода. Ты помнишь, что векторайзер мы обучали на обучающей выборке а применяли к тестовой. Что происходит при кросс-валидации? Ты разбиваешь большую обучающую выборку на несколько фолдов, из них выделяешь часть на обучение, часть на валидацию.  Но признаки (TF-IDF) уже обучены на всем наборе (обучающий + валидационный). Получается утечка данных. Чтобы избежать её нужно использовать pipeline из векторайзера и модели.\n",
    "    \n",
    "Пример такого пайплайна можно посмотреть в официальной документации\n",
    "    \n",
    "  https://scikit-learn.org/stable/auto_examples/model_selection/plot_grid_search_text_feature_extraction.html\n",
    "    \n",
    "И еще полезные материалы:\n",
    "    \n",
    "  https://newtechaudit.ru/pipeline-v-rabote-s-dannymi/      \n",
    "</div>"
   ]
  },
  {
   "cell_type": "code",
   "execution_count": null,
   "metadata": {
    "colab": {
     "base_uri": "https://localhost:8080/"
    },
    "id": "BUrLhNkpFA3F",
    "outputId": "e422cde3-f343-472b-fb04-1e98a64f6b6b"
   },
   "outputs": [],
   "source": [
    "print('Лучшая модель и её параметры:\\n\\n', logreg_model)\n",
    "print('Метрика F1 на тренировочной выборке:', logreg_f1)"
   ]
  },
  {
   "cell_type": "markdown",
   "metadata": {
    "id": "g8l4lijUF0gn"
   },
   "source": [
    "### DecisionTreeClassifier"
   ]
  },
  {
   "cell_type": "code",
   "execution_count": null,
   "metadata": {
    "id": "wcFpj0DTFzY0"
   },
   "outputs": [],
   "source": [
    "dtc_grid = {\n",
    "    'clf__max_depth': range(1, 15),\n",
    "    'clf__min_samples_leaf': range(1, 10)\n",
    "}"
   ]
  },
  {
   "cell_type": "code",
   "execution_count": null,
   "metadata": {
    "colab": {
     "base_uri": "https://localhost:8080/"
    },
    "id": "A6b7EN1wGQIc",
    "outputId": "148d04ed-d744-4d11-9b24-09fbda8f48c9"
   },
   "outputs": [],
   "source": [
    "%%time\n",
    "dectree_model, dectree_f1 = rscv(dt_pipe, dtc_grid, -1)"
   ]
  },
  {
   "cell_type": "markdown",
   "metadata": {
    "id": "ysc_3ojJLo9y"
   },
   "source": [
    "<img src=\"https://upload.wikimedia.org/wikipedia/commons/b/ba/Warning_sign_4.0.png\" align=left width=44, heigth=33>\n",
    "<div class=\"alert alert-warning\">\n",
    "Здесь тоже возникают утечки, вязанные с кросс-валидацией над признаками, полученными применением TfidfVectorizer ко всей обучающей выборке.      \n",
    "</div>"
   ]
  },
  {
   "cell_type": "code",
   "execution_count": null,
   "metadata": {
    "colab": {
     "base_uri": "https://localhost:8080/"
    },
    "id": "NPtUk6J6GibL",
    "outputId": "b61e1231-a7c0-4a94-d7f8-67df9d35ef54"
   },
   "outputs": [],
   "source": [
    "print('Лучшая модель и её параметры:\\n\\n', dectree_model)\n",
    "print('Метрика F1 на тренировочной выборке:', dectree_f1)"
   ]
  },
  {
   "cell_type": "markdown",
   "metadata": {
    "id": "-CJmetwWG4RN"
   },
   "source": [
    "### LGBMClassifier"
   ]
  },
  {
   "cell_type": "code",
   "execution_count": null,
   "metadata": {
    "id": "yAhG46TlG3bf"
   },
   "outputs": [],
   "source": [
    "lgbm_grid = {\n",
    "    'clf__num_leaves': [100, 150],\n",
    "    'clf__learning_rate': [0.1]\n",
    "}"
   ]
  },
  {
   "cell_type": "code",
   "execution_count": null,
   "metadata": {
    "colab": {
     "base_uri": "https://localhost:8080/"
    },
    "id": "C5OQTrY6MVwS",
    "outputId": "7a281194-c687-450d-cb26-c763ba684339"
   },
   "outputs": [],
   "source": [
    "%%time\n",
    "lgbm_model, lgbm_f1 = rscv(lgbm_pipe, lgbm_grid, 1)"
   ]
  },
  {
   "cell_type": "markdown",
   "metadata": {
    "id": "yfggIPhGLo90"
   },
   "source": [
    "<img src=\"https://upload.wikimedia.org/wikipedia/commons/b/ba/Warning_sign_4.0.png\" align=left width=44, heigth=33>\n",
    "<div class=\"alert alert-warning\">\n",
    "Здесь тоже возникают утечки, вязанные с кросс-валидацией над признаками, полученными применением TfidfVectorizer ко всей обучающей выборке.      \n",
    "</div>"
   ]
  },
  {
   "cell_type": "markdown",
   "metadata": {
    "id": "IhKaFV0fLo90"
   },
   "source": [
    "<img src=\"https://upload.wikimedia.org/wikipedia/commons/b/ba/Warning_sign_4.0.png\" align=left width=44, heigth=33>\n",
    "<div class=\"alert alert-warning\">\n",
    "    \n",
    "Если во время поиска по сетке  установить n_jobs=-1, то в случае LGBMRegressor обучение модели резко замедляется. Причина в том, что по умолчанию LGBMRegressor уже использует все спободные процессорные ядра. А ты дополнительно распараллеливаешь обучение  RandomizedSearchCV на количество процессорных ядер. Получается что задач больше чем свободных ядер и процессора постоянно переключаются между задачами пытаясь выполнить их параллельно. Получается \"пробка\" и скорость резко падает.   \n",
    "        \n",
    "    \n",
    "Можешь установить параметр n_jobs=1 у  LGBMRegressor или в RandomizedSearchCV/GridSearchCV. Тогда каждый процесс будет выполняться на своем процесорном ядре.   \n",
    "</div>"
   ]
  },
  {
   "cell_type": "code",
   "execution_count": null,
   "metadata": {
    "colab": {
     "base_uri": "https://localhost:8080/"
    },
    "id": "co7JKUPUNQRT",
    "outputId": "db6e6835-a0f5-41a2-8787-1ad0ad642517"
   },
   "outputs": [],
   "source": [
    "print('Лучшая модель и её параметры:\\n\\n', lgbm_model)\n",
    "print('Метрика F1 на тренировочной выборке:', lgbm_f1)"
   ]
  },
  {
   "cell_type": "markdown",
   "metadata": {
    "id": "-XuAPyzxVFv_"
   },
   "source": [
    "### Анализ моделей"
   ]
  },
  {
   "cell_type": "markdown",
   "metadata": {
    "id": "DIGLXnqjfw8G"
   },
   "source": [
    "Сравним все три модели по метрикам:"
   ]
  },
  {
   "cell_type": "code",
   "execution_count": null,
   "metadata": {
    "id": "NnvJv48TVAu7"
   },
   "outputs": [],
   "source": [
    "results = pd.DataFrame({\n",
    "    'LogisticRegression': [logreg_f1],\n",
    "    'DecisionTreeClassifier': [dectree_f1],\n",
    "    'LGBMClassifier': [lgbm_f1]\n",
    "}, index=['F1'])"
   ]
  },
  {
   "cell_type": "code",
   "execution_count": null,
   "metadata": {
    "id": "Y3BMaoHYgzdB"
   },
   "outputs": [],
   "source": []
  },
  {
   "cell_type": "code",
   "execution_count": null,
   "metadata": {
    "colab": {
     "base_uri": "https://localhost:8080/",
     "height": 143
    },
    "id": "Bm05ezGkds3F",
    "outputId": "ff905272-2737-43f4-d484-a4dc452ebba4"
   },
   "outputs": [],
   "source": [
    "results.T"
   ]
  },
  {
   "cell_type": "markdown",
   "metadata": {
    "id": "lpYjzxplf2xT"
   },
   "source": [
    "Лучшей моделью оказалась по метрике F1 LGBMClassifier, от нее не сильно отстает логистическая регрессия. Проверим метрику на тестовых данных"
   ]
  },
  {
   "cell_type": "code",
   "execution_count": null,
   "metadata": {
    "id": "-q_zpTiGgPU6"
   },
   "outputs": [],
   "source": [
    "predictions = logreg_model.predict(X_test)"
   ]
  },
  {
   "cell_type": "code",
   "execution_count": null,
   "metadata": {
    "colab": {
     "base_uri": "https://localhost:8080/"
    },
    "id": "p3k8NBnDgsga",
    "outputId": "f6082227-3001-46a9-96b1-5f9e2062e097"
   },
   "outputs": [],
   "source": [
    "f1 = f1_score(y_test, predictions)\n",
    "roc_auc = roc_auc_score(y_test, predictions)\n",
    "print('Метрика F1 равна', f1)"
   ]
  },
  {
   "cell_type": "markdown",
   "metadata": {
    "id": "G7XPOz2Eh8E6"
   },
   "source": [
    "<div class=\"alert\" style=\"background-color:#ead7f7;color:#8737bf\">\n",
    "    <font size=\"3\"><b>Комментарий студента</b></font>\n",
    "   \n",
    "Я тут не совсем понял. Я перевел тексты в векторы с помощью TfidfVectorizer, и сейчас использовал predict на \"сырых\" тестовых данных и это сработало. Не нужно ли мне было переводить тестовые данные в векторы?\n",
    "\n",
    "</div>"
   ]
  },
  {
   "cell_type": "markdown",
   "metadata": {},
   "source": [
    "<img src=\"https://emojigraph.org/media/apple/check-mark-button_2705.png\" align=left width=33, heigth=33>\n",
    "<div class=\"alert alert-success\">\n",
    "    <b>v2</b> Сейчас у тебя все верно.  В X_test у тебя содержатся тексты, а в пайплайне, который содержится в переменной logreg_model у тебя первым шагом идет векторизация, а вектор уже передается в логистическую регрессию.  </div>"
   ]
  },
  {
   "cell_type": "markdown",
   "metadata": {
    "id": "HWr-bh1-Lo91"
   },
   "source": [
    "<img src=\"https://emojigraph.org/media/apple/check-mark-button_2705.png\" align=left width=33, heigth=33>\n",
    "<div class=\"alert alert-success\">\n",
    "Молодец:\n",
    "    \n",
    "  - выбрана лучшая модель\n",
    "  - тестирование произведено корректно\n",
    "  - достигнута метрика f1 выше 0,75 на тестовой выборке\n",
    "</div>\n"
   ]
  },
  {
   "cell_type": "markdown",
   "metadata": {
    "id": "4KzSjzaWLo92"
   },
   "source": [
    "<img src=\"https://upload.wikimedia.org/wikipedia/commons/thumb/8/81/Stop_sign.png/240px-Stop_sign.png\" align=left width=35, heigth=35>\n",
    "<div class=\"alert alert-danger\">\n",
    "Но к сожалению достигнута она на сбалансированной выборке и завышена по сравнению с тем, какой она будет в продакшене, на несбалансированных данных.\n",
    "    \n",
    "Пожаулуйста \"повтори\" получение проходной метрики на \"честной\" тестовой выборке, семплированной из исходного распределения.\n",
    "</div>"
   ]
  },
  {
   "cell_type": "markdown",
   "metadata": {},
   "source": [
    "<img src=\"https://emojigraph.org/media/apple/check-mark-button_2705.png\" align=left width=33, heigth=33>\n",
    "<div class=\"alert alert-success\">\n",
    "    <b>v2</b> Сейчас все ОК, нужная метрика получена на честных тестовых данных</div>"
   ]
  },
  {
   "cell_type": "markdown",
   "metadata": {
    "id": "EKKCGzHLGZ_3"
   },
   "source": [
    "## Выводы"
   ]
  },
  {
   "cell_type": "markdown",
   "metadata": {
    "id": "oseJiVLN2miH"
   },
   "source": [
    "**Подготовка данных:**\n",
    "\n",
    "В ходе подготовки данных, мы загрузили датасет, состоящий из 159 тыс строк и 3 столбцов, удалили один из них.\n",
    "\n",
    "Графически описали распределение токсичных комментариев. Сбалансировали датасет, применив downsampling и лемматизировали текст.\n",
    "\n",
    "**Обучение модели:**\n",
    "\n",
    "Мы обучили три модели: LogisticRegression, DecisionTreeClassifier и LGBMClassifier. Выбор лучших гиперпараметров осуществлялся за счет **RandomizedSearchCV**. Результаты мы оценивали по двум характеристикам:\n",
    "1. F1-мера (основная)\n",
    "2. ROC-AUC (дополнительная)\n",
    "\n",
    "Результаты:\n",
    "\n",
    "| Модель                  | F1        |\n",
    "|-------------------------|-----------|\n",
    "| LogisticRegression      | 0.760142  |\n",
    "| DecisionTreeClassifier  | 0.444606  |\n",
    "| LGBMClassifier          | 0.749266  |\n",
    "\n",
    "\n",
    "\n",
    "\n",
    "**Лучшей моделью из трех оказалась LightBGM с результатами на тестовой выборке F1 = 0.76**"
   ]
  },
  {
   "cell_type": "code",
   "execution_count": null,
   "metadata": {
    "id": "1F-KOB48GZ_4"
   },
   "outputs": [],
   "source": []
  },
  {
   "cell_type": "markdown",
   "metadata": {
    "id": "dl0z2i4FGZ_5"
   },
   "source": [
    "## Чек-лист проверки"
   ]
  },
  {
   "cell_type": "markdown",
   "metadata": {
    "id": "0A5P6-ETGZ_5"
   },
   "source": [
    "- [x]  Jupyter Notebook открыт\n",
    "- [ ]  Весь код выполняется без ошибок\n",
    "- [x]  Ячейки с кодом расположены в порядке исполнения\n",
    "- [x]  Данные загружены и подготовлены\n",
    "- [x]  Модели обучены\n",
    "- [x]  Значение метрики *F1* не меньше 0.75\n",
    "- [x]  Выводы написаны"
   ]
  },
  {
   "cell_type": "markdown",
   "metadata": {},
   "source": [
    "<img src=\"http://s3.amazonaws.com/pix.iemoji.com/images/emoji/apple/ios-12/256/waving-hand.png\" align=left width=44, heigth=44>\n",
    "<div class=\"alert alert-info\">\n",
    "<b> Заключительный комментарий v2</b>\n",
    "    \n",
    "Вижу что ты доработал проект, он стал заметно лучше )))    \n",
    "\n",
    "Проект принят. Поздравляю и желаю дальнейших успехов!\n",
    "</div>"
   ]
  },
  {
   "cell_type": "markdown",
   "metadata": {
    "id": "dOLed33qLo92"
   },
   "source": [
    "<img src=\"http://s3.amazonaws.com/pix.iemoji.com/images/emoji/apple/ios-12/256/waving-hand.png\" align=left width=44, heigth=44>\n",
    "<div class=\"alert alert-info\">\n",
    "<b> Заключительный комментарий</b>\n",
    "Давай подведем итоги. В целом с проектом ты справляешься - текст предобработан, извлечены признаки и обучены классификаторы.\n",
    "    \n",
    "Но кое с чем нужно еще поработать.\n",
    "    \n",
    " - Пожалуста перепиши раздел с лемматизацией. Сейчас она выполняется некорректно.\n",
    " - Нельзя балансировать тестовую выборку\n",
    " - Пожалуйста избегай одновременного применения балансировки данных и кросс-валидации. Или выполняй балансировку внутри Pipeline.   \n",
    "\n",
    "\n",
    "     \n",
    "Жду твоих исправлений :)\n",
    "</div>"
   ]
  },
  {
   "cell_type": "markdown",
   "metadata": {
    "id": "HZt5bA4zLo93"
   },
   "source": [
    "<img src=\"http://s3.amazonaws.com/pix.iemoji.com/images/emoji/apple/ios-12/256/waving-hand.png\" align=left width=44, heigth=44>\n",
    "<div class=\"alert alert-info\">\n",
    "<b> рекомендации по доп. материалам</b>\n",
    "Если решишь погрузиться в область работы с текстами, очень советую несколько продвинутых бесплатных курсов.\n",
    "    \n",
    "   - Отличный бесплатный курс от Школы глубокого обучения МФТИ (https://stepik.org/org/dlschool), старт курса каждые пол года. Два семестра, один по основам и компьютерному зрению, второй по обработке естественного языка. Проходить нужно именно в таком порядке,т.к. почти весь современный NLP построен на нейронках.\n",
    "    \n",
    "   - \"Нейронные сети и компьютерное зрение\" от Samsung Research Russia (https://stepik.org/course/50352/syllabus). Есть также продолжение по NLP.  \n",
    "   - Трек NLP от сообщества ODS https://ods.ai/tracks/nlp-course-autumn-22\n",
    "    \n",
    "    \n",
    "А если на тебя произвели впечатление возможности ChatGPT и хочешь попробовать использовать возможности больших языковых моделей для решения своих задач, могу порекомендовать следующие курсы (но к сожалению все на английском).\n",
    "    \n",
    "  - https://www.coursera.org/learn/generative-ai-with-llms  (можно прослужать бесплатно)\n",
    "  - Короткие курсы на сайте https://www.deeplearning.ai/short-courses/  Самый свежак - как писать промпты, как использовать LLM для создания собственных приложений (например как создать бота на основе ChatGPT, который будет отвечать на вопросы по внутренней документации компании).  \n",
    "  - https://www.promptingguide.ai/introduction/settings\n",
    "    \n",
    "    \n",
    "Также можно обратиться к туториалу по использованию языковых моделей на HugingFace. Обрати внимание, для больше чем половины материалов доступен перевод на русский, хотя можно читать и на языке оригинала.\n",
    "    \n",
    "  https://huggingface.co/learn/nlp-course   \n",
    "\n",
    "</div>"
   ]
  },
  {
   "cell_type": "markdown",
   "metadata": {
    "id": "-_Hzuj_LLo93"
   },
   "source": []
  },
  {
   "cell_type": "code",
   "execution_count": null,
   "metadata": {
    "id": "l8azi8bz5gpK"
   },
   "outputs": [],
   "source": []
  }
 ],
 "metadata": {
  "ExecuteTimeLog": [
   {
    "duration": 5351,
    "start_time": "2024-04-25T21:27:30.874Z"
   },
   {
    "duration": 9,
    "start_time": "2024-04-25T21:30:14.133Z"
   },
   {
    "duration": 330,
    "start_time": "2024-04-25T21:30:17.981Z"
   },
   {
    "duration": 51,
    "start_time": "2024-04-27T15:26:10.232Z"
   },
   {
    "duration": 5383,
    "start_time": "2024-04-27T15:26:20.512Z"
   },
   {
    "duration": 806,
    "start_time": "2024-04-27T15:26:25.898Z"
   },
   {
    "duration": 2,
    "start_time": "2024-04-27T15:26:26.706Z"
   },
   {
    "duration": 2419,
    "start_time": "2024-04-27T15:26:26.709Z"
   },
   {
    "duration": 11,
    "start_time": "2024-04-27T15:26:29.130Z"
   },
   {
    "duration": 43,
    "start_time": "2024-04-27T15:26:29.142Z"
   },
   {
    "duration": 16,
    "start_time": "2024-04-27T15:26:29.186Z"
   },
   {
    "duration": 180,
    "start_time": "2024-04-27T15:26:29.203Z"
   },
   {
    "duration": 19,
    "start_time": "2024-04-27T15:26:29.384Z"
   },
   {
    "duration": 6,
    "start_time": "2024-04-27T15:26:29.405Z"
   },
   {
    "duration": 13,
    "start_time": "2024-04-27T15:26:29.412Z"
   },
   {
    "duration": 1217,
    "start_time": "2024-04-27T15:26:29.426Z"
   },
   {
    "duration": 353,
    "start_time": "2024-04-27T15:26:30.645Z"
   },
   {
    "duration": 0,
    "start_time": "2024-04-27T15:26:31.000Z"
   },
   {
    "duration": 0,
    "start_time": "2024-04-27T15:26:31.002Z"
   },
   {
    "duration": 0,
    "start_time": "2024-04-27T15:26:31.003Z"
   },
   {
    "duration": 0,
    "start_time": "2024-04-27T15:26:31.004Z"
   },
   {
    "duration": 0,
    "start_time": "2024-04-27T15:26:31.005Z"
   },
   {
    "duration": 0,
    "start_time": "2024-04-27T15:26:31.006Z"
   },
   {
    "duration": 0,
    "start_time": "2024-04-27T15:26:31.008Z"
   },
   {
    "duration": 0,
    "start_time": "2024-04-27T15:26:31.009Z"
   },
   {
    "duration": 0,
    "start_time": "2024-04-27T15:26:31.010Z"
   },
   {
    "duration": 0,
    "start_time": "2024-04-27T15:26:31.011Z"
   },
   {
    "duration": 0,
    "start_time": "2024-04-27T15:26:31.012Z"
   },
   {
    "duration": 0,
    "start_time": "2024-04-27T15:26:31.014Z"
   },
   {
    "duration": 0,
    "start_time": "2024-04-27T15:26:31.015Z"
   },
   {
    "duration": 0,
    "start_time": "2024-04-27T15:26:31.016Z"
   },
   {
    "duration": 0,
    "start_time": "2024-04-27T15:26:31.017Z"
   },
   {
    "duration": 0,
    "start_time": "2024-04-27T15:26:31.018Z"
   },
   {
    "duration": 0,
    "start_time": "2024-04-27T15:26:31.019Z"
   },
   {
    "duration": 0,
    "start_time": "2024-04-27T15:26:31.020Z"
   },
   {
    "duration": 0,
    "start_time": "2024-04-27T15:26:31.021Z"
   },
   {
    "duration": 0,
    "start_time": "2024-04-27T15:26:31.022Z"
   }
  ],
  "colab": {
   "provenance": []
  },
  "kernelspec": {
   "display_name": "Python 3 (ipykernel)",
   "language": "python",
   "name": "python3"
  },
  "language_info": {
   "codemirror_mode": {
    "name": "ipython",
    "version": 3
   },
   "file_extension": ".py",
   "mimetype": "text/x-python",
   "name": "python",
   "nbconvert_exporter": "python",
   "pygments_lexer": "ipython3",
   "version": "3.9.5"
  },
  "toc": {
   "base_numbering": 1,
   "nav_menu": {},
   "number_sections": true,
   "sideBar": true,
   "skip_h1_title": true,
   "title_cell": "Содержание",
   "title_sidebar": "Contents",
   "toc_cell": true,
   "toc_position": {
    "height": "calc(100% - 180px)",
    "left": "10px",
    "top": "150px",
    "width": "302.391px"
   },
   "toc_section_display": true,
   "toc_window_display": false
  }
 },
 "nbformat": 4,
 "nbformat_minor": 4
}
