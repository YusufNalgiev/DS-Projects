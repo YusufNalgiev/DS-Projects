{
 "cells": [
  {
   "cell_type": "markdown",
   "id": "a47b652b",
   "metadata": {},
   "source": [
    "<font color='DarkBlue' size=+2><b>Комментарий ревьюера</b></font><br>\n",
    "<font color='DarkBlue'>Привет, Юсуп! <br>Меня зовут Олег Мазуренко, и я буду проверять этот проект. Спасибо за проделанную работу! <br>Ко мне можно обращаться на «ты». Как мне обращаться, напиши.</font><br>\n",
    "<font color='DarkBlue'>Я буду использовать различные цвета, чтобы было удобнее воспринимать мои комментарии:</font><br>\n",
    "<font color='DarkBlue'>Синий текст &mdash; просто текст комментария.</font><br>\n",
    "<font color='DarkGreen'>👌 Зеленый текст &mdash; все отлично.</font><br>\n",
    "<font color='DarkMagenta'>👉 Фиолетовый текст &mdash; сделано все правильно, однако есть рекомендации, на что стоит обратить внимание. Реализованные рекомендации позволят нам наработать опыт решения задачи разными способами или посмотреть на задачу под иным углом.</font><br>\n",
    "<font color='Red'>🛠 Красный текст &mdash; есть недочеты, они иногда бывают. </font><br><font color='DarkBlue'>Любая ошибка это возможность посмотреть на задачу с другой стороны и освоить новые знания, по этому не надо расстраиваться, если они есть.</font><br>\n",
    "<font color='DarkBlue'>Обращаю внимание, что комментарии ревьюера после проверки удалять нельзя они помогают отследить логику исправления или изменения проекта. Это дополнительный навык при обучении. Свой исправляемый код лучше тоже не удалять, а ремить #, это позволит акцентировать изменения в ходе подготовки окончательного варианта проекта.<br>\n",
    "Ответы на мои комментарии лучше тоже помечать. \n",
    "Например: </font><font color='Blue'><b>Комментарий студента</b></font><br>\n",
    "<font color='DarkBlue'><b>Теперь посмотрим, что у нас получилось!</b></font>"
   ]
  },
  {
   "cell_type": "markdown",
   "id": "ba256433",
   "metadata": {
    "deletable": false,
    "editable": false,
    "id": "c81daeeb"
   },
   "source": [
    "# Исследование надежности заемщиков\n"
   ]
  },
  {
   "cell_type": "markdown",
   "id": "30848c34",
   "metadata": {},
   "source": [
    "<font color='DarkBlue'><b>Комментарий ревьюера</b></font><br>\n",
    "<font color='DarkMagenta'>👉 Хочу обратить внимание, что во всех следующих проектах необходимо будет делать описание проекта. Где отразить какая цель исследования, какой контекст (особенности отрасли и данных), что планируем делать (план исследования). <br>В реальном проекте не будет инструкции и задач, которые необходимо выполнить, по этому будем учиться делать описание проекта самостоятельно.</font>"
   ]
  },
  {
   "cell_type": "markdown",
   "id": "2d5ecd8a",
   "metadata": {
    "deletable": false,
    "editable": false,
    "id": "827c20bf"
   },
   "source": [
    "Во второй части проекта вы выполните шаги 3 и 4. Их вручную проверит ревьюер.\n",
    "Чтобы вам не пришлось писать код заново для шагов 1 и 2, мы добавили авторские решения в ячейки с кодом. \n",
    "\n"
   ]
  },
  {
   "cell_type": "markdown",
   "id": "256cead5",
   "metadata": {
    "deletable": false,
    "editable": false,
    "id": "744d7639"
   },
   "source": [
    "## Откройте таблицу и изучите общую информацию о данных"
   ]
  },
  {
   "cell_type": "markdown",
   "id": "fa591390",
   "metadata": {
    "deletable": false,
    "editable": false,
    "id": "e7a14c31"
   },
   "source": [
    "**Задание 1. Импортируйте библиотеку pandas. Считайте данные из csv-файла в датафрейм и сохраните в переменную `data`. Путь к файлу:**\n",
    "\n",
    "`/datasets/data.csv`"
   ]
  },
  {
   "cell_type": "code",
   "execution_count": 1,
   "id": "80bf4861",
   "metadata": {
    "deletable": false,
    "id": "7bcf75c9"
   },
   "outputs": [],
   "source": [
    "import pandas as pd\n",
    "\n",
    "try:\n",
    "    data = pd.read_csv('/datasets/data.csv')\n",
    "except:\n",
    "    data = pd.read_csv('https://code.s3.yandex.net/datasets/data.csv')"
   ]
  },
  {
   "cell_type": "markdown",
   "id": "be6eb163",
   "metadata": {
    "deletable": false,
    "editable": false,
    "id": "b8038fe3"
   },
   "source": [
    "**Задание 2. Выведите первые 20 строчек датафрейма `data` на экран.**"
   ]
  },
  {
   "cell_type": "code",
   "execution_count": 2,
   "id": "ca5076ea",
   "metadata": {
    "deletable": false,
    "id": "2a7cab99",
    "outputId": "1a8f3ef2-d323-4ec2-ddf7-89670b5944c4"
   },
   "outputs": [
    {
     "data": {
      "text/html": [
       "<div>\n",
       "<style scoped>\n",
       "    .dataframe tbody tr th:only-of-type {\n",
       "        vertical-align: middle;\n",
       "    }\n",
       "\n",
       "    .dataframe tbody tr th {\n",
       "        vertical-align: top;\n",
       "    }\n",
       "\n",
       "    .dataframe thead th {\n",
       "        text-align: right;\n",
       "    }\n",
       "</style>\n",
       "<table border=\"1\" class=\"dataframe\">\n",
       "  <thead>\n",
       "    <tr style=\"text-align: right;\">\n",
       "      <th></th>\n",
       "      <th>children</th>\n",
       "      <th>days_employed</th>\n",
       "      <th>dob_years</th>\n",
       "      <th>education</th>\n",
       "      <th>education_id</th>\n",
       "      <th>family_status</th>\n",
       "      <th>family_status_id</th>\n",
       "      <th>gender</th>\n",
       "      <th>income_type</th>\n",
       "      <th>debt</th>\n",
       "      <th>total_income</th>\n",
       "      <th>purpose</th>\n",
       "    </tr>\n",
       "  </thead>\n",
       "  <tbody>\n",
       "    <tr>\n",
       "      <th>0</th>\n",
       "      <td>1</td>\n",
       "      <td>-8437.673028</td>\n",
       "      <td>42</td>\n",
       "      <td>высшее</td>\n",
       "      <td>0</td>\n",
       "      <td>женат / замужем</td>\n",
       "      <td>0</td>\n",
       "      <td>F</td>\n",
       "      <td>сотрудник</td>\n",
       "      <td>0</td>\n",
       "      <td>253875.639453</td>\n",
       "      <td>покупка жилья</td>\n",
       "    </tr>\n",
       "    <tr>\n",
       "      <th>1</th>\n",
       "      <td>1</td>\n",
       "      <td>-4024.803754</td>\n",
       "      <td>36</td>\n",
       "      <td>среднее</td>\n",
       "      <td>1</td>\n",
       "      <td>женат / замужем</td>\n",
       "      <td>0</td>\n",
       "      <td>F</td>\n",
       "      <td>сотрудник</td>\n",
       "      <td>0</td>\n",
       "      <td>112080.014102</td>\n",
       "      <td>приобретение автомобиля</td>\n",
       "    </tr>\n",
       "    <tr>\n",
       "      <th>2</th>\n",
       "      <td>0</td>\n",
       "      <td>-5623.422610</td>\n",
       "      <td>33</td>\n",
       "      <td>Среднее</td>\n",
       "      <td>1</td>\n",
       "      <td>женат / замужем</td>\n",
       "      <td>0</td>\n",
       "      <td>M</td>\n",
       "      <td>сотрудник</td>\n",
       "      <td>0</td>\n",
       "      <td>145885.952297</td>\n",
       "      <td>покупка жилья</td>\n",
       "    </tr>\n",
       "    <tr>\n",
       "      <th>3</th>\n",
       "      <td>3</td>\n",
       "      <td>-4124.747207</td>\n",
       "      <td>32</td>\n",
       "      <td>среднее</td>\n",
       "      <td>1</td>\n",
       "      <td>женат / замужем</td>\n",
       "      <td>0</td>\n",
       "      <td>M</td>\n",
       "      <td>сотрудник</td>\n",
       "      <td>0</td>\n",
       "      <td>267628.550329</td>\n",
       "      <td>дополнительное образование</td>\n",
       "    </tr>\n",
       "    <tr>\n",
       "      <th>4</th>\n",
       "      <td>0</td>\n",
       "      <td>340266.072047</td>\n",
       "      <td>53</td>\n",
       "      <td>среднее</td>\n",
       "      <td>1</td>\n",
       "      <td>гражданский брак</td>\n",
       "      <td>1</td>\n",
       "      <td>F</td>\n",
       "      <td>пенсионер</td>\n",
       "      <td>0</td>\n",
       "      <td>158616.077870</td>\n",
       "      <td>сыграть свадьбу</td>\n",
       "    </tr>\n",
       "    <tr>\n",
       "      <th>5</th>\n",
       "      <td>0</td>\n",
       "      <td>-926.185831</td>\n",
       "      <td>27</td>\n",
       "      <td>высшее</td>\n",
       "      <td>0</td>\n",
       "      <td>гражданский брак</td>\n",
       "      <td>1</td>\n",
       "      <td>M</td>\n",
       "      <td>компаньон</td>\n",
       "      <td>0</td>\n",
       "      <td>255763.565419</td>\n",
       "      <td>покупка жилья</td>\n",
       "    </tr>\n",
       "    <tr>\n",
       "      <th>6</th>\n",
       "      <td>0</td>\n",
       "      <td>-2879.202052</td>\n",
       "      <td>43</td>\n",
       "      <td>высшее</td>\n",
       "      <td>0</td>\n",
       "      <td>женат / замужем</td>\n",
       "      <td>0</td>\n",
       "      <td>F</td>\n",
       "      <td>компаньон</td>\n",
       "      <td>0</td>\n",
       "      <td>240525.971920</td>\n",
       "      <td>операции с жильем</td>\n",
       "    </tr>\n",
       "    <tr>\n",
       "      <th>7</th>\n",
       "      <td>0</td>\n",
       "      <td>-152.779569</td>\n",
       "      <td>50</td>\n",
       "      <td>СРЕДНЕЕ</td>\n",
       "      <td>1</td>\n",
       "      <td>женат / замужем</td>\n",
       "      <td>0</td>\n",
       "      <td>M</td>\n",
       "      <td>сотрудник</td>\n",
       "      <td>0</td>\n",
       "      <td>135823.934197</td>\n",
       "      <td>образование</td>\n",
       "    </tr>\n",
       "    <tr>\n",
       "      <th>8</th>\n",
       "      <td>2</td>\n",
       "      <td>-6929.865299</td>\n",
       "      <td>35</td>\n",
       "      <td>ВЫСШЕЕ</td>\n",
       "      <td>0</td>\n",
       "      <td>гражданский брак</td>\n",
       "      <td>1</td>\n",
       "      <td>F</td>\n",
       "      <td>сотрудник</td>\n",
       "      <td>0</td>\n",
       "      <td>95856.832424</td>\n",
       "      <td>на проведение свадьбы</td>\n",
       "    </tr>\n",
       "    <tr>\n",
       "      <th>9</th>\n",
       "      <td>0</td>\n",
       "      <td>-2188.756445</td>\n",
       "      <td>41</td>\n",
       "      <td>среднее</td>\n",
       "      <td>1</td>\n",
       "      <td>женат / замужем</td>\n",
       "      <td>0</td>\n",
       "      <td>M</td>\n",
       "      <td>сотрудник</td>\n",
       "      <td>0</td>\n",
       "      <td>144425.938277</td>\n",
       "      <td>покупка жилья для семьи</td>\n",
       "    </tr>\n",
       "    <tr>\n",
       "      <th>10</th>\n",
       "      <td>2</td>\n",
       "      <td>-4171.483647</td>\n",
       "      <td>36</td>\n",
       "      <td>высшее</td>\n",
       "      <td>0</td>\n",
       "      <td>женат / замужем</td>\n",
       "      <td>0</td>\n",
       "      <td>M</td>\n",
       "      <td>компаньон</td>\n",
       "      <td>0</td>\n",
       "      <td>113943.491460</td>\n",
       "      <td>покупка недвижимости</td>\n",
       "    </tr>\n",
       "    <tr>\n",
       "      <th>11</th>\n",
       "      <td>0</td>\n",
       "      <td>-792.701887</td>\n",
       "      <td>40</td>\n",
       "      <td>среднее</td>\n",
       "      <td>1</td>\n",
       "      <td>женат / замужем</td>\n",
       "      <td>0</td>\n",
       "      <td>F</td>\n",
       "      <td>сотрудник</td>\n",
       "      <td>0</td>\n",
       "      <td>77069.234271</td>\n",
       "      <td>покупка коммерческой недвижимости</td>\n",
       "    </tr>\n",
       "    <tr>\n",
       "      <th>12</th>\n",
       "      <td>0</td>\n",
       "      <td>NaN</td>\n",
       "      <td>65</td>\n",
       "      <td>среднее</td>\n",
       "      <td>1</td>\n",
       "      <td>гражданский брак</td>\n",
       "      <td>1</td>\n",
       "      <td>M</td>\n",
       "      <td>пенсионер</td>\n",
       "      <td>0</td>\n",
       "      <td>NaN</td>\n",
       "      <td>сыграть свадьбу</td>\n",
       "    </tr>\n",
       "    <tr>\n",
       "      <th>13</th>\n",
       "      <td>0</td>\n",
       "      <td>-1846.641941</td>\n",
       "      <td>54</td>\n",
       "      <td>неоконченное высшее</td>\n",
       "      <td>2</td>\n",
       "      <td>женат / замужем</td>\n",
       "      <td>0</td>\n",
       "      <td>F</td>\n",
       "      <td>сотрудник</td>\n",
       "      <td>0</td>\n",
       "      <td>130458.228857</td>\n",
       "      <td>приобретение автомобиля</td>\n",
       "    </tr>\n",
       "    <tr>\n",
       "      <th>14</th>\n",
       "      <td>0</td>\n",
       "      <td>-1844.956182</td>\n",
       "      <td>56</td>\n",
       "      <td>высшее</td>\n",
       "      <td>0</td>\n",
       "      <td>гражданский брак</td>\n",
       "      <td>1</td>\n",
       "      <td>F</td>\n",
       "      <td>компаньон</td>\n",
       "      <td>1</td>\n",
       "      <td>165127.911772</td>\n",
       "      <td>покупка жилой недвижимости</td>\n",
       "    </tr>\n",
       "    <tr>\n",
       "      <th>15</th>\n",
       "      <td>1</td>\n",
       "      <td>-972.364419</td>\n",
       "      <td>26</td>\n",
       "      <td>среднее</td>\n",
       "      <td>1</td>\n",
       "      <td>женат / замужем</td>\n",
       "      <td>0</td>\n",
       "      <td>F</td>\n",
       "      <td>сотрудник</td>\n",
       "      <td>0</td>\n",
       "      <td>116820.904450</td>\n",
       "      <td>строительство собственной недвижимости</td>\n",
       "    </tr>\n",
       "    <tr>\n",
       "      <th>16</th>\n",
       "      <td>0</td>\n",
       "      <td>-1719.934226</td>\n",
       "      <td>35</td>\n",
       "      <td>среднее</td>\n",
       "      <td>1</td>\n",
       "      <td>женат / замужем</td>\n",
       "      <td>0</td>\n",
       "      <td>F</td>\n",
       "      <td>сотрудник</td>\n",
       "      <td>0</td>\n",
       "      <td>289202.704229</td>\n",
       "      <td>недвижимость</td>\n",
       "    </tr>\n",
       "    <tr>\n",
       "      <th>17</th>\n",
       "      <td>0</td>\n",
       "      <td>-2369.999720</td>\n",
       "      <td>33</td>\n",
       "      <td>высшее</td>\n",
       "      <td>0</td>\n",
       "      <td>гражданский брак</td>\n",
       "      <td>1</td>\n",
       "      <td>M</td>\n",
       "      <td>сотрудник</td>\n",
       "      <td>0</td>\n",
       "      <td>90410.586745</td>\n",
       "      <td>строительство недвижимости</td>\n",
       "    </tr>\n",
       "    <tr>\n",
       "      <th>18</th>\n",
       "      <td>0</td>\n",
       "      <td>400281.136913</td>\n",
       "      <td>53</td>\n",
       "      <td>среднее</td>\n",
       "      <td>1</td>\n",
       "      <td>вдовец / вдова</td>\n",
       "      <td>2</td>\n",
       "      <td>F</td>\n",
       "      <td>пенсионер</td>\n",
       "      <td>0</td>\n",
       "      <td>56823.777243</td>\n",
       "      <td>на покупку подержанного автомобиля</td>\n",
       "    </tr>\n",
       "    <tr>\n",
       "      <th>19</th>\n",
       "      <td>0</td>\n",
       "      <td>-10038.818549</td>\n",
       "      <td>48</td>\n",
       "      <td>СРЕДНЕЕ</td>\n",
       "      <td>1</td>\n",
       "      <td>в разводе</td>\n",
       "      <td>3</td>\n",
       "      <td>F</td>\n",
       "      <td>сотрудник</td>\n",
       "      <td>0</td>\n",
       "      <td>242831.107982</td>\n",
       "      <td>на покупку своего автомобиля</td>\n",
       "    </tr>\n",
       "  </tbody>\n",
       "</table>\n",
       "</div>"
      ],
      "text/plain": [
       "    children  days_employed  dob_years            education  education_id  \\\n",
       "0          1   -8437.673028         42               высшее             0   \n",
       "1          1   -4024.803754         36              среднее             1   \n",
       "2          0   -5623.422610         33              Среднее             1   \n",
       "3          3   -4124.747207         32              среднее             1   \n",
       "4          0  340266.072047         53              среднее             1   \n",
       "5          0    -926.185831         27               высшее             0   \n",
       "6          0   -2879.202052         43               высшее             0   \n",
       "7          0    -152.779569         50              СРЕДНЕЕ             1   \n",
       "8          2   -6929.865299         35               ВЫСШЕЕ             0   \n",
       "9          0   -2188.756445         41              среднее             1   \n",
       "10         2   -4171.483647         36               высшее             0   \n",
       "11         0    -792.701887         40              среднее             1   \n",
       "12         0            NaN         65              среднее             1   \n",
       "13         0   -1846.641941         54  неоконченное высшее             2   \n",
       "14         0   -1844.956182         56               высшее             0   \n",
       "15         1    -972.364419         26              среднее             1   \n",
       "16         0   -1719.934226         35              среднее             1   \n",
       "17         0   -2369.999720         33               высшее             0   \n",
       "18         0  400281.136913         53              среднее             1   \n",
       "19         0  -10038.818549         48              СРЕДНЕЕ             1   \n",
       "\n",
       "       family_status  family_status_id gender income_type  debt  \\\n",
       "0    женат / замужем                 0      F   сотрудник     0   \n",
       "1    женат / замужем                 0      F   сотрудник     0   \n",
       "2    женат / замужем                 0      M   сотрудник     0   \n",
       "3    женат / замужем                 0      M   сотрудник     0   \n",
       "4   гражданский брак                 1      F   пенсионер     0   \n",
       "5   гражданский брак                 1      M   компаньон     0   \n",
       "6    женат / замужем                 0      F   компаньон     0   \n",
       "7    женат / замужем                 0      M   сотрудник     0   \n",
       "8   гражданский брак                 1      F   сотрудник     0   \n",
       "9    женат / замужем                 0      M   сотрудник     0   \n",
       "10   женат / замужем                 0      M   компаньон     0   \n",
       "11   женат / замужем                 0      F   сотрудник     0   \n",
       "12  гражданский брак                 1      M   пенсионер     0   \n",
       "13   женат / замужем                 0      F   сотрудник     0   \n",
       "14  гражданский брак                 1      F   компаньон     1   \n",
       "15   женат / замужем                 0      F   сотрудник     0   \n",
       "16   женат / замужем                 0      F   сотрудник     0   \n",
       "17  гражданский брак                 1      M   сотрудник     0   \n",
       "18    вдовец / вдова                 2      F   пенсионер     0   \n",
       "19         в разводе                 3      F   сотрудник     0   \n",
       "\n",
       "     total_income                                 purpose  \n",
       "0   253875.639453                           покупка жилья  \n",
       "1   112080.014102                 приобретение автомобиля  \n",
       "2   145885.952297                           покупка жилья  \n",
       "3   267628.550329              дополнительное образование  \n",
       "4   158616.077870                         сыграть свадьбу  \n",
       "5   255763.565419                           покупка жилья  \n",
       "6   240525.971920                       операции с жильем  \n",
       "7   135823.934197                             образование  \n",
       "8    95856.832424                   на проведение свадьбы  \n",
       "9   144425.938277                 покупка жилья для семьи  \n",
       "10  113943.491460                    покупка недвижимости  \n",
       "11   77069.234271       покупка коммерческой недвижимости  \n",
       "12            NaN                         сыграть свадьбу  \n",
       "13  130458.228857                 приобретение автомобиля  \n",
       "14  165127.911772              покупка жилой недвижимости  \n",
       "15  116820.904450  строительство собственной недвижимости  \n",
       "16  289202.704229                            недвижимость  \n",
       "17   90410.586745              строительство недвижимости  \n",
       "18   56823.777243      на покупку подержанного автомобиля  \n",
       "19  242831.107982            на покупку своего автомобиля  "
      ]
     },
     "execution_count": 2,
     "metadata": {},
     "output_type": "execute_result"
    }
   ],
   "source": [
    "data.head(20)"
   ]
  },
  {
   "cell_type": "markdown",
   "id": "2e1bfd1d",
   "metadata": {
    "deletable": false,
    "editable": false,
    "id": "1c12e233"
   },
   "source": [
    "**Задание 3. Выведите основную информацию о датафрейме с помощью метода `info()`.**"
   ]
  },
  {
   "cell_type": "code",
   "execution_count": 3,
   "id": "e1b606ab",
   "metadata": {
    "deletable": false,
    "id": "2b757bca",
    "outputId": "15376089-8dad-46c9-b520-c05248d43158"
   },
   "outputs": [
    {
     "name": "stdout",
     "output_type": "stream",
     "text": [
      "<class 'pandas.core.frame.DataFrame'>\n",
      "RangeIndex: 21525 entries, 0 to 21524\n",
      "Data columns (total 12 columns):\n",
      " #   Column            Non-Null Count  Dtype  \n",
      "---  ------            --------------  -----  \n",
      " 0   children          21525 non-null  int64  \n",
      " 1   days_employed     19351 non-null  float64\n",
      " 2   dob_years         21525 non-null  int64  \n",
      " 3   education         21525 non-null  object \n",
      " 4   education_id      21525 non-null  int64  \n",
      " 5   family_status     21525 non-null  object \n",
      " 6   family_status_id  21525 non-null  int64  \n",
      " 7   gender            21525 non-null  object \n",
      " 8   income_type       21525 non-null  object \n",
      " 9   debt              21525 non-null  int64  \n",
      " 10  total_income      19351 non-null  float64\n",
      " 11  purpose           21525 non-null  object \n",
      "dtypes: float64(2), int64(5), object(5)\n",
      "memory usage: 2.0+ MB\n"
     ]
    }
   ],
   "source": [
    "data.info()"
   ]
  },
  {
   "cell_type": "markdown",
   "id": "27a99e1f",
   "metadata": {
    "deletable": false,
    "editable": false,
    "id": "333ec665"
   },
   "source": [
    "## Предобработка данных"
   ]
  },
  {
   "cell_type": "markdown",
   "id": "77ccfcc9",
   "metadata": {
    "deletable": false,
    "editable": false,
    "id": "02d92d53"
   },
   "source": [
    "### Удаление пропусков"
   ]
  },
  {
   "cell_type": "markdown",
   "id": "c491ad54",
   "metadata": {
    "deletable": false,
    "editable": false,
    "id": "cd84967c"
   },
   "source": [
    "**Задание 4. Выведите количество пропущенных значений для каждого столбца. Используйте комбинацию двух методов.**"
   ]
  },
  {
   "cell_type": "code",
   "execution_count": 4,
   "id": "e32459f2",
   "metadata": {
    "deletable": false,
    "id": "7f9b2309",
    "outputId": "81f4d817-781c-465c-ed15-91ce4446810d"
   },
   "outputs": [
    {
     "data": {
      "text/plain": [
       "children               0\n",
       "days_employed       2174\n",
       "dob_years              0\n",
       "education              0\n",
       "education_id           0\n",
       "family_status          0\n",
       "family_status_id       0\n",
       "gender                 0\n",
       "income_type            0\n",
       "debt                   0\n",
       "total_income        2174\n",
       "purpose                0\n",
       "dtype: int64"
      ]
     },
     "execution_count": 4,
     "metadata": {},
     "output_type": "execute_result"
    }
   ],
   "source": [
    "data.isna().sum()"
   ]
  },
  {
   "cell_type": "markdown",
   "id": "c0820719",
   "metadata": {
    "deletable": false,
    "editable": false,
    "id": "db86e27b"
   },
   "source": [
    "**Задание 5. В двух столбцах есть пропущенные значения. Один из них — `days_employed`. Пропуски в этом столбце вы обработаете на следующем этапе. Другой столбец с пропущенными значениями — `total_income` — хранит данные о доходах. На сумму дохода сильнее всего влияет тип занятости, поэтому заполнить пропуски в этом столбце нужно медианным значением по каждому типу из столбца `income_type`. Например, у человека с типом занятости `сотрудник` пропуск в столбце `total_income` должен быть заполнен медианным доходом среди всех записей с тем же типом.**"
   ]
  },
  {
   "cell_type": "code",
   "execution_count": 5,
   "id": "6fcde682",
   "metadata": {
    "deletable": false,
    "id": "42006a93"
   },
   "outputs": [],
   "source": [
    "for t in data['income_type'].unique():\n",
    "    data.loc[(data['income_type'] == t) & (data['total_income'].isna()), 'total_income'] = \\\n",
    "    data.loc[(data['income_type'] == t), 'total_income'].median()"
   ]
  },
  {
   "cell_type": "markdown",
   "id": "cdc547f1",
   "metadata": {
    "deletable": false,
    "editable": false,
    "id": "89da5ece"
   },
   "source": [
    "### Обработка аномальных значений"
   ]
  },
  {
   "cell_type": "markdown",
   "id": "dac568e9",
   "metadata": {
    "deletable": false,
    "editable": false,
    "id": "57964554"
   },
   "source": [
    "**Задание 6. В данных могут встречаться артефакты (аномалии) — значения, которые не отражают действительность и появились по какой-то ошибке. таким артефактом будет отрицательное количество дней трудового стажа в столбце `days_employed`. Для реальных данных это нормально. Обработайте значения в этом столбце: замените все отрицательные значения положительными с помощью метода `abs()`.**"
   ]
  },
  {
   "cell_type": "code",
   "execution_count": 6,
   "id": "e28e2d80",
   "metadata": {
    "deletable": false,
    "id": "f6f055bf"
   },
   "outputs": [],
   "source": [
    "data['days_employed'] = data['days_employed'].abs()"
   ]
  },
  {
   "cell_type": "markdown",
   "id": "85299530",
   "metadata": {
    "deletable": false,
    "editable": false,
    "id": "6107dd2f"
   },
   "source": [
    "**Задание 7. Для каждого типа занятости выведите медианное значение трудового стажа `days_employed` в днях.**"
   ]
  },
  {
   "cell_type": "code",
   "execution_count": 7,
   "id": "b7d3a406",
   "metadata": {
    "deletable": false,
    "id": "85a5faf6",
    "outputId": "801ef80e-522b-4668-f34e-565af7432bcf"
   },
   "outputs": [
    {
     "data": {
      "text/plain": [
       "income_type\n",
       "безработный        366413.652744\n",
       "в декрете            3296.759962\n",
       "госслужащий          2689.368353\n",
       "компаньон            1547.382223\n",
       "пенсионер          365213.306266\n",
       "предприниматель       520.848083\n",
       "сотрудник            1574.202821\n",
       "студент               578.751554\n",
       "Name: days_employed, dtype: float64"
      ]
     },
     "execution_count": 7,
     "metadata": {},
     "output_type": "execute_result"
    }
   ],
   "source": [
    "data.groupby('income_type')['days_employed'].agg('median')"
   ]
  },
  {
   "cell_type": "markdown",
   "id": "6a1c7df4",
   "metadata": {
    "deletable": false,
    "editable": false,
    "id": "38d1a030"
   },
   "source": [
    "У двух типов (безработные и пенсионеры) получатся аномально большие значения. Исправить такие значения сложно, поэтому оставьте их как есть. Тем более этот столбец не понадобится вам для исследования."
   ]
  },
  {
   "cell_type": "markdown",
   "id": "4cd89dc0",
   "metadata": {
    "deletable": false,
    "editable": false,
    "id": "d8a9f147"
   },
   "source": [
    "**Задание 8. Выведите перечень уникальных значений столбца `children`.**"
   ]
  },
  {
   "cell_type": "code",
   "execution_count": 8,
   "id": "9e25bdaf",
   "metadata": {
    "deletable": false,
    "id": "ef5056eb",
    "outputId": "6975b15c-7f95-4697-d16d-a0c79b657b03"
   },
   "outputs": [
    {
     "data": {
      "text/plain": [
       "array([ 1,  0,  3,  2, -1,  4, 20,  5], dtype=int64)"
      ]
     },
     "execution_count": 8,
     "metadata": {},
     "output_type": "execute_result"
    }
   ],
   "source": [
    "data['children'].unique()"
   ]
  },
  {
   "cell_type": "markdown",
   "id": "a96d2714",
   "metadata": {
    "deletable": false,
    "editable": false,
    "id": "40b9ebf2"
   },
   "source": [
    "**Задание 9. В столбце `children` есть два аномальных значения. Удалите строки, в которых встречаются такие аномальные значения из датафрейма `data`.**"
   ]
  },
  {
   "cell_type": "code",
   "execution_count": 9,
   "id": "6dc805b4",
   "metadata": {
    "deletable": false,
    "id": "3ff9801d"
   },
   "outputs": [],
   "source": [
    "data = data[(data['children'] != -1) & (data['children'] != 20)]"
   ]
  },
  {
   "cell_type": "markdown",
   "id": "cfd689ca",
   "metadata": {
    "deletable": false,
    "editable": false,
    "id": "bbc4d0ce"
   },
   "source": [
    "**Задание 10. Ещё раз выведите перечень уникальных значений столбца `children`, чтобы убедиться, что артефакты удалены.**"
   ]
  },
  {
   "cell_type": "code",
   "execution_count": 10,
   "id": "401078e5",
   "metadata": {
    "deletable": false,
    "id": "ad4fa8b7",
    "outputId": "b2097101-d49d-44d9-901b-32a65c9463d1"
   },
   "outputs": [
    {
     "data": {
      "text/plain": [
       "array([1, 0, 3, 2, 4, 5], dtype=int64)"
      ]
     },
     "execution_count": 10,
     "metadata": {},
     "output_type": "execute_result"
    }
   ],
   "source": [
    "data['children'].unique()"
   ]
  },
  {
   "cell_type": "markdown",
   "id": "dfb59522",
   "metadata": {
    "deletable": false,
    "editable": false,
    "id": "75440b63"
   },
   "source": [
    "### Удаление пропусков (продолжение)"
   ]
  },
  {
   "cell_type": "markdown",
   "id": "053834fb",
   "metadata": {
    "deletable": false,
    "editable": false,
    "id": "f4ea573f"
   },
   "source": [
    "**Задание 11. Заполните пропуски в столбце `days_employed` медианными значениями по каждого типа занятости `income_type`.**"
   ]
  },
  {
   "cell_type": "code",
   "execution_count": 11,
   "id": "49b0d8c4",
   "metadata": {
    "deletable": false,
    "id": "af6b1a7e"
   },
   "outputs": [],
   "source": [
    "for t in data['income_type'].unique():\n",
    "    data.loc[(data['income_type'] == t) & (data['days_employed'].isna()), 'days_employed'] = \\\n",
    "    data.loc[(data['income_type'] == t), 'days_employed'].median()"
   ]
  },
  {
   "cell_type": "markdown",
   "id": "69110d7e",
   "metadata": {
    "deletable": false,
    "editable": false,
    "id": "2753f40d"
   },
   "source": [
    "**Задание 12. Убедитесь, что все пропуски заполнены. Проверьте себя и ещё раз выведите количество пропущенных значений для каждого столбца с помощью двух методов.**"
   ]
  },
  {
   "cell_type": "code",
   "execution_count": 12,
   "id": "774d7a1f",
   "metadata": {
    "deletable": false,
    "id": "55f78bc2",
    "outputId": "8da1e4e1-358e-4e87-98c9-f261bce0a7b2"
   },
   "outputs": [
    {
     "data": {
      "text/plain": [
       "children            0\n",
       "days_employed       0\n",
       "dob_years           0\n",
       "education           0\n",
       "education_id        0\n",
       "family_status       0\n",
       "family_status_id    0\n",
       "gender              0\n",
       "income_type         0\n",
       "debt                0\n",
       "total_income        0\n",
       "purpose             0\n",
       "dtype: int64"
      ]
     },
     "execution_count": 12,
     "metadata": {},
     "output_type": "execute_result"
    }
   ],
   "source": [
    "data.isna().sum()"
   ]
  },
  {
   "cell_type": "markdown",
   "id": "8f8d92d9",
   "metadata": {
    "deletable": false,
    "editable": false,
    "id": "ddc81e43"
   },
   "source": [
    "### Изменение типов данных"
   ]
  },
  {
   "cell_type": "markdown",
   "id": "10417587",
   "metadata": {
    "deletable": false,
    "editable": false,
    "id": "42d19d24"
   },
   "source": [
    "**Задание 13. Замените вещественный тип данных в столбце `total_income` на целочисленный с помощью метода `astype()`.**"
   ]
  },
  {
   "cell_type": "code",
   "execution_count": 13,
   "id": "cdc34890",
   "metadata": {
    "deletable": false,
    "id": "920b65ad"
   },
   "outputs": [],
   "source": [
    "data['total_income'] = data['total_income'].astype(int)\n",
    "data['children'] = data['children'].astype(int)\n",
    "data['debt'] = data['debt'].astype(int)"
   ]
  },
  {
   "cell_type": "markdown",
   "id": "b5d7035b",
   "metadata": {
    "deletable": false,
    "editable": false,
    "id": "80c420ba"
   },
   "source": [
    "### Обработка дубликатов"
   ]
  },
  {
   "cell_type": "markdown",
   "id": "a60c1068",
   "metadata": {
    "deletable": false,
    "editable": false
   },
   "source": [
    "**Задание 14. Обработайте неявные дубликаты в столбце `education`. В этом столбце есть одни и те же значения, но записанные по-разному: с использованием заглавных и строчных букв. Приведите их к нижнему регистру. Проверьте остальные столбцы.**"
   ]
  },
  {
   "cell_type": "code",
   "execution_count": 14,
   "id": "a4417ca4",
   "metadata": {
    "deletable": false
   },
   "outputs": [],
   "source": [
    "data['education'] = data['education'].str.lower()"
   ]
  },
  {
   "cell_type": "markdown",
   "id": "56b2ce06",
   "metadata": {
    "deletable": false,
    "editable": false,
    "id": "dc587695"
   },
   "source": [
    "**Задание 15. Выведите на экран количество строк-дубликатов в данных. Если такие строки присутствуют, удалите их.**"
   ]
  },
  {
   "cell_type": "code",
   "execution_count": 15,
   "id": "af691d1b",
   "metadata": {
    "deletable": false,
    "id": "3ee445e4",
    "outputId": "9684deba-1934-42d1-99e1-cda61740f822"
   },
   "outputs": [
    {
     "data": {
      "text/plain": [
       "71"
      ]
     },
     "execution_count": 15,
     "metadata": {},
     "output_type": "execute_result"
    }
   ],
   "source": [
    "data.duplicated().sum()"
   ]
  },
  {
   "cell_type": "code",
   "execution_count": 16,
   "id": "f62e33c2",
   "metadata": {
    "deletable": false,
    "id": "8575fe05"
   },
   "outputs": [],
   "source": [
    "data = data.drop_duplicates()"
   ]
  },
  {
   "cell_type": "markdown",
   "id": "9dce33e6",
   "metadata": {
    "deletable": false,
    "editable": false,
    "id": "9904cf55"
   },
   "source": [
    "### Категоризация данных"
   ]
  },
  {
   "cell_type": "markdown",
   "id": "bdddb66e",
   "metadata": {
    "deletable": false,
    "editable": false,
    "id": "72fcc8a2"
   },
   "source": [
    "**Задание 16. На основании диапазонов, указанных ниже, создайте в датафрейме `data` столбец `total_income_category` с категориями:**\n",
    "\n",
    "- 0–30000 — `'E'`;\n",
    "- 30001–50000 — `'D'`;\n",
    "- 50001–200000 — `'C'`;\n",
    "- 200001–1000000 — `'B'`;\n",
    "- 1000001 и выше — `'A'`.\n",
    "\n",
    "\n",
    "**Например, кредитополучателю с доходом 25000 нужно назначить категорию `'E'`, а клиенту, получающему 235000, — `'B'`. Используйте собственную функцию с именем `categorize_income()` и метод `apply()`.**"
   ]
  },
  {
   "cell_type": "code",
   "execution_count": 17,
   "id": "c9c2b6dd",
   "metadata": {
    "deletable": false,
    "id": "e1771346"
   },
   "outputs": [],
   "source": [
    "def categorize_income(income):\n",
    "    try:\n",
    "        if 0 <= income <= 30000:\n",
    "            return 'E'\n",
    "        elif 30001 <= income <= 50000:\n",
    "            return 'D'\n",
    "        elif 50001 <= income <= 200000:\n",
    "            return 'C'\n",
    "        elif 200001 <= income <= 1000000:\n",
    "            return 'B'\n",
    "        elif income >= 1000001:\n",
    "            return 'A'\n",
    "    except:\n",
    "        pass"
   ]
  },
  {
   "cell_type": "code",
   "execution_count": 18,
   "id": "b3a1b622",
   "metadata": {
    "deletable": false,
    "id": "d5f3586d"
   },
   "outputs": [],
   "source": [
    "data['total_income_category'] = data['total_income'].apply(categorize_income)"
   ]
  },
  {
   "cell_type": "markdown",
   "id": "9896043f",
   "metadata": {
    "deletable": false,
    "editable": false,
    "id": "dde49b5c"
   },
   "source": [
    "**Задание 17. Выведите на экран перечень уникальных целей взятия кредита из столбца `purpose`.**"
   ]
  },
  {
   "cell_type": "code",
   "execution_count": 19,
   "id": "6b97ae4a",
   "metadata": {
    "deletable": false,
    "id": "f67ce9b3",
    "outputId": "673c12d9-7d7e-4ae0-9812-c622c89dd244"
   },
   "outputs": [
    {
     "data": {
      "text/plain": [
       "array(['покупка жилья', 'приобретение автомобиля',\n",
       "       'дополнительное образование', 'сыграть свадьбу',\n",
       "       'операции с жильем', 'образование', 'на проведение свадьбы',\n",
       "       'покупка жилья для семьи', 'покупка недвижимости',\n",
       "       'покупка коммерческой недвижимости', 'покупка жилой недвижимости',\n",
       "       'строительство собственной недвижимости', 'недвижимость',\n",
       "       'строительство недвижимости', 'на покупку подержанного автомобиля',\n",
       "       'на покупку своего автомобиля',\n",
       "       'операции с коммерческой недвижимостью',\n",
       "       'строительство жилой недвижимости', 'жилье',\n",
       "       'операции со своей недвижимостью', 'автомобили',\n",
       "       'заняться образованием', 'сделка с подержанным автомобилем',\n",
       "       'получение образования', 'автомобиль', 'свадьба',\n",
       "       'получение дополнительного образования', 'покупка своего жилья',\n",
       "       'операции с недвижимостью', 'получение высшего образования',\n",
       "       'свой автомобиль', 'сделка с автомобилем',\n",
       "       'профильное образование', 'высшее образование',\n",
       "       'покупка жилья для сдачи', 'на покупку автомобиля', 'ремонт жилью',\n",
       "       'заняться высшим образованием'], dtype=object)"
      ]
     },
     "execution_count": 19,
     "metadata": {},
     "output_type": "execute_result"
    }
   ],
   "source": [
    "data['purpose'].unique()"
   ]
  },
  {
   "cell_type": "markdown",
   "id": "6dccef84",
   "metadata": {
    "deletable": false,
    "editable": false,
    "id": "85d0aef0"
   },
   "source": [
    "**Задание 18. Создайте функцию, которая на основании данных из столбца `purpose` сформирует новый столбец `purpose_category`, в который войдут следующие категории:**\n",
    "\n",
    "- `'операции с автомобилем'`,\n",
    "- `'операции с недвижимостью'`,\n",
    "- `'проведение свадьбы'`,\n",
    "- `'получение образования'`.\n",
    "\n",
    "**Например, если в столбце `purpose` находится подстрока `'на покупку автомобиля'`, то в столбце `purpose_category` должна появиться строка `'операции с автомобилем'`.**\n",
    "\n",
    "**Используйте собственную функцию с именем `categorize_purpose()` и метод `apply()`. Изучите данные в столбце `purpose` и определите, какие подстроки помогут вам правильно определить категорию.**"
   ]
  },
  {
   "cell_type": "code",
   "execution_count": 20,
   "id": "2e1abe56",
   "metadata": {
    "deletable": false,
    "id": "e149fab4"
   },
   "outputs": [],
   "source": [
    "def categorize_purpose(row):\n",
    "    try:\n",
    "        if 'автом' in row:\n",
    "            return 'операции с автомобилем'\n",
    "        elif 'жил' in row or 'недвиж' in row:\n",
    "            return 'операции с недвижимостью'\n",
    "        elif 'свад' in row:\n",
    "            return 'проведение свадьбы'\n",
    "        elif 'образов' in row:\n",
    "            return 'получение образования'\n",
    "    except:\n",
    "        return 'нет категории'"
   ]
  },
  {
   "cell_type": "code",
   "execution_count": 21,
   "id": "b7f411a0",
   "metadata": {
    "deletable": false,
    "id": "bf36e69b"
   },
   "outputs": [],
   "source": [
    "data['purpose_category'] = data['purpose'].apply(categorize_purpose)"
   ]
  },
  {
   "cell_type": "code",
   "execution_count": 22,
   "id": "9675caba",
   "metadata": {},
   "outputs": [
    {
     "name": "stdout",
     "output_type": "stream",
     "text": [
      "<class 'pandas.core.frame.DataFrame'>\n",
      "Index: 21331 entries, 0 to 21524\n",
      "Data columns (total 14 columns):\n",
      " #   Column                 Non-Null Count  Dtype  \n",
      "---  ------                 --------------  -----  \n",
      " 0   children               21331 non-null  int32  \n",
      " 1   days_employed          21331 non-null  float64\n",
      " 2   dob_years              21331 non-null  int64  \n",
      " 3   education              21331 non-null  object \n",
      " 4   education_id           21331 non-null  int64  \n",
      " 5   family_status          21331 non-null  object \n",
      " 6   family_status_id       21331 non-null  int64  \n",
      " 7   gender                 21331 non-null  object \n",
      " 8   income_type            21331 non-null  object \n",
      " 9   debt                   21331 non-null  int32  \n",
      " 10  total_income           21331 non-null  int32  \n",
      " 11  purpose                21331 non-null  object \n",
      " 12  total_income_category  21331 non-null  object \n",
      " 13  purpose_category       21331 non-null  object \n",
      "dtypes: float64(1), int32(3), int64(3), object(7)\n",
      "memory usage: 2.2+ MB\n"
     ]
    }
   ],
   "source": [
    "data.info()"
   ]
  },
  {
   "cell_type": "markdown",
   "id": "2992f16c",
   "metadata": {
    "deletable": false,
    "editable": false,
    "id": "09b242bf"
   },
   "source": [
    "### Шаг 3. Исследуйте данные и ответьте на вопросы"
   ]
  },
  {
   "cell_type": "markdown",
   "id": "231b0cfa",
   "metadata": {
    "deletable": false,
    "editable": false,
    "id": "c5d66278"
   },
   "source": [
    "#### 3.1 Есть ли зависимость между количеством детей и возвратом кредита в срок?"
   ]
  },
  {
   "cell_type": "markdown",
   "id": "0d4232dc",
   "metadata": {
    "deletable": false,
    "id": "2cacfc4a"
   },
   "source": [
    "Построим сводную таблицу `children_pivot` и добавим еще один столбец - `Доля должников`. В нем будет отражено отношение числа должников к общему числу заемщиков"
   ]
  },
  {
   "cell_type": "code",
   "execution_count": 23,
   "id": "26c54c4b",
   "metadata": {},
   "outputs": [],
   "source": [
    "children_pivot = data.pivot_table('debt', index='children', aggfunc=['count', 'sum', 'mean'], fill_value=0)"
   ]
  },
  {
   "cell_type": "code",
   "execution_count": 24,
   "id": "d570d224",
   "metadata": {},
   "outputs": [
    {
     "data": {
      "text/html": [
       "<div>\n",
       "<style scoped>\n",
       "    .dataframe tbody tr th:only-of-type {\n",
       "        vertical-align: middle;\n",
       "    }\n",
       "\n",
       "    .dataframe tbody tr th {\n",
       "        vertical-align: top;\n",
       "    }\n",
       "\n",
       "    .dataframe thead tr th {\n",
       "        text-align: left;\n",
       "    }\n",
       "\n",
       "    .dataframe thead tr:last-of-type th {\n",
       "        text-align: right;\n",
       "    }\n",
       "</style>\n",
       "<table border=\"1\" class=\"dataframe\">\n",
       "  <thead>\n",
       "    <tr>\n",
       "      <th></th>\n",
       "      <th>Всего кредитополучателей</th>\n",
       "      <th>Всего должников</th>\n",
       "      <th>Доля должников</th>\n",
       "    </tr>\n",
       "    <tr>\n",
       "      <th></th>\n",
       "      <th></th>\n",
       "      <th></th>\n",
       "      <th></th>\n",
       "    </tr>\n",
       "    <tr>\n",
       "      <th>children</th>\n",
       "      <th></th>\n",
       "      <th></th>\n",
       "      <th></th>\n",
       "    </tr>\n",
       "  </thead>\n",
       "  <tbody>\n",
       "    <tr>\n",
       "      <th>0</th>\n",
       "      <td>14091</td>\n",
       "      <td>1063</td>\n",
       "      <td>0.075438</td>\n",
       "    </tr>\n",
       "    <tr>\n",
       "      <th>1</th>\n",
       "      <td>4808</td>\n",
       "      <td>444</td>\n",
       "      <td>0.092346</td>\n",
       "    </tr>\n",
       "    <tr>\n",
       "      <th>2</th>\n",
       "      <td>2052</td>\n",
       "      <td>194</td>\n",
       "      <td>0.094542</td>\n",
       "    </tr>\n",
       "    <tr>\n",
       "      <th>3</th>\n",
       "      <td>330</td>\n",
       "      <td>27</td>\n",
       "      <td>0.081818</td>\n",
       "    </tr>\n",
       "    <tr>\n",
       "      <th>4</th>\n",
       "      <td>41</td>\n",
       "      <td>4</td>\n",
       "      <td>0.097561</td>\n",
       "    </tr>\n",
       "    <tr>\n",
       "      <th>5</th>\n",
       "      <td>9</td>\n",
       "      <td>0</td>\n",
       "      <td>0.000000</td>\n",
       "    </tr>\n",
       "  </tbody>\n",
       "</table>\n",
       "</div>"
      ],
      "text/plain": [
       "         Всего кредитополучателей Всего должников Доля должников\n",
       "                                                                \n",
       "children                                                        \n",
       "0                           14091            1063       0.075438\n",
       "1                            4808             444       0.092346\n",
       "2                            2052             194       0.094542\n",
       "3                             330              27       0.081818\n",
       "4                              41               4       0.097561\n",
       "5                               9               0       0.000000"
      ]
     },
     "execution_count": 24,
     "metadata": {},
     "output_type": "execute_result"
    }
   ],
   "source": [
    "children_pivot = children_pivot.rename(columns={'count': 'Всего кредитополучателей', 'sum': 'Всего должников', 'mean': 'Доля должников', 'debt': ''})\n",
    "children_pivot"
   ]
  },
  {
   "attachments": {
    "image.png": {
     "image/png": "[encoded data removed]"
    }
   },
   "cell_type": "markdown",
   "id": "3667e434",
   "metadata": {},
   "source": [
    "<font color='DarkBlue'><b>Комментарий ревьюера</b></font><br>\n",
    "<font color='DarkMagenta'>👉 Лучше строить сводную таблицу со следующими колонками: 'Всего кредитополучателей', 'Всего должников', 'Доля должников'. В этом случае таблица строится со следующими параметрами: `aggfunc=['count', 'sum', 'mean']`. Примерно вот так:</font>\n",
    "![image.png](attachment:image.png)"
   ]
  },
  {
   "cell_type": "markdown",
   "id": "2b141f11",
   "metadata": {},
   "source": [
    "<font color='DarkBlue'><b>Комментарий ревьюера 2</b></font><br>\n",
    "<font color='DarkMagenta'>👉 Можно сделать вот так, через функцию.</font>"
   ]
  },
  {
   "cell_type": "code",
   "execution_count": 25,
   "id": "527460d9",
   "metadata": {},
   "outputs": [
    {
     "data": {
      "text/html": [
       "<style type=\"text/css\">\n",
       "#T_0e807_row0_col0, #T_0e807_row0_col1, #T_0e807_row4_col2 {\n",
       "  background-color: #08306b;\n",
       "  color: #f1f1f1;\n",
       "}\n",
       "#T_0e807_row0_col2 {\n",
       "  background-color: #1c6bb0;\n",
       "  color: #f1f1f1;\n",
       "}\n",
       "#T_0e807_row1_col0 {\n",
       "  background-color: #a9cfe5;\n",
       "  color: #000000;\n",
       "}\n",
       "#T_0e807_row1_col1 {\n",
       "  background-color: #8dc1dd;\n",
       "  color: #000000;\n",
       "}\n",
       "#T_0e807_row1_col2 {\n",
       "  background-color: #083d7f;\n",
       "  color: #f1f1f1;\n",
       "}\n",
       "#T_0e807_row2_col0 {\n",
       "  background-color: #dae8f6;\n",
       "  color: #000000;\n",
       "}\n",
       "#T_0e807_row2_col1 {\n",
       "  background-color: #d3e4f3;\n",
       "  color: #000000;\n",
       "}\n",
       "#T_0e807_row2_col2 {\n",
       "  background-color: #083776;\n",
       "  color: #f1f1f1;\n",
       "}\n",
       "#T_0e807_row3_col0 {\n",
       "  background-color: #f3f8fe;\n",
       "  color: #000000;\n",
       "}\n",
       "#T_0e807_row3_col1 {\n",
       "  background-color: #f2f8fd;\n",
       "  color: #000000;\n",
       "}\n",
       "#T_0e807_row3_col2 {\n",
       "  background-color: #0f5aa3;\n",
       "  color: #f1f1f1;\n",
       "}\n",
       "#T_0e807_row4_col0, #T_0e807_row4_col1, #T_0e807_row5_col0, #T_0e807_row5_col1, #T_0e807_row5_col2 {\n",
       "  background-color: #f7fbff;\n",
       "  color: #000000;\n",
       "}\n",
       "</style>\n",
       "<table id=\"T_0e807\">\n",
       "  <thead>\n",
       "    <tr>\n",
       "      <th class=\"blank level0\" >&nbsp;</th>\n",
       "      <th id=\"T_0e807_level0_col0\" class=\"col_heading level0 col0\" >Всего кредитополучателей</th>\n",
       "      <th id=\"T_0e807_level0_col1\" class=\"col_heading level0 col1\" >Всего должников</th>\n",
       "      <th id=\"T_0e807_level0_col2\" class=\"col_heading level0 col2\" >Доля должников</th>\n",
       "    </tr>\n",
       "    <tr>\n",
       "      <th class=\"index_name level0\" >children</th>\n",
       "      <th class=\"blank col0\" >&nbsp;</th>\n",
       "      <th class=\"blank col1\" >&nbsp;</th>\n",
       "      <th class=\"blank col2\" >&nbsp;</th>\n",
       "    </tr>\n",
       "  </thead>\n",
       "  <tbody>\n",
       "    <tr>\n",
       "      <th id=\"T_0e807_level0_row0\" class=\"row_heading level0 row0\" >0</th>\n",
       "      <td id=\"T_0e807_row0_col0\" class=\"data row0 col0\" >14091.000</td>\n",
       "      <td id=\"T_0e807_row0_col1\" class=\"data row0 col1\" >1063.000</td>\n",
       "      <td id=\"T_0e807_row0_col2\" class=\"data row0 col2\" >0.075</td>\n",
       "    </tr>\n",
       "    <tr>\n",
       "      <th id=\"T_0e807_level0_row1\" class=\"row_heading level0 row1\" >1</th>\n",
       "      <td id=\"T_0e807_row1_col0\" class=\"data row1 col0\" >4808.000</td>\n",
       "      <td id=\"T_0e807_row1_col1\" class=\"data row1 col1\" >444.000</td>\n",
       "      <td id=\"T_0e807_row1_col2\" class=\"data row1 col2\" >0.092</td>\n",
       "    </tr>\n",
       "    <tr>\n",
       "      <th id=\"T_0e807_level0_row2\" class=\"row_heading level0 row2\" >2</th>\n",
       "      <td id=\"T_0e807_row2_col0\" class=\"data row2 col0\" >2052.000</td>\n",
       "      <td id=\"T_0e807_row2_col1\" class=\"data row2 col1\" >194.000</td>\n",
       "      <td id=\"T_0e807_row2_col2\" class=\"data row2 col2\" >0.095</td>\n",
       "    </tr>\n",
       "    <tr>\n",
       "      <th id=\"T_0e807_level0_row3\" class=\"row_heading level0 row3\" >3</th>\n",
       "      <td id=\"T_0e807_row3_col0\" class=\"data row3 col0\" >330.000</td>\n",
       "      <td id=\"T_0e807_row3_col1\" class=\"data row3 col1\" >27.000</td>\n",
       "      <td id=\"T_0e807_row3_col2\" class=\"data row3 col2\" >0.082</td>\n",
       "    </tr>\n",
       "    <tr>\n",
       "      <th id=\"T_0e807_level0_row4\" class=\"row_heading level0 row4\" >4</th>\n",
       "      <td id=\"T_0e807_row4_col0\" class=\"data row4 col0\" >41.000</td>\n",
       "      <td id=\"T_0e807_row4_col1\" class=\"data row4 col1\" >4.000</td>\n",
       "      <td id=\"T_0e807_row4_col2\" class=\"data row4 col2\" >0.098</td>\n",
       "    </tr>\n",
       "    <tr>\n",
       "      <th id=\"T_0e807_level0_row5\" class=\"row_heading level0 row5\" >5</th>\n",
       "      <td id=\"T_0e807_row5_col0\" class=\"data row5 col0\" >9.000</td>\n",
       "      <td id=\"T_0e807_row5_col1\" class=\"data row5 col1\" >0.000</td>\n",
       "      <td id=\"T_0e807_row5_col2\" class=\"data row5 col2\" >0.000</td>\n",
       "    </tr>\n",
       "  </tbody>\n",
       "</table>\n"
      ],
      "text/plain": [
       "<pandas.io.formats.style.Styler at 0x2aa4ee236d0>"
      ]
     },
     "metadata": {},
     "output_type": "display_data"
    }
   ],
   "source": [
    "# Комментарий ревьюера 2\n",
    "# Создаем копию датасета, что бы не работать с исходным\n",
    "temp = data.copy()\n",
    "# Напишем функцию, так как все задачи аналогичны\n",
    "def que(category):\n",
    "    data_temp = temp.pivot_table(index=category, values='debt', aggfunc=['count', 'sum', 'mean'])\n",
    "    data_temp.columns = ['Всего кредитополучателей', 'Всего должников', 'Доля должников']\n",
    "    # Оформим таблицу цветным градиентом, но можно ее вывести и просто display(data_temp)\n",
    "    display(data_temp.style.format(\"{:.3f}\").background_gradient(cmap='Blues', axis=0))\n",
    "    \n",
    "que('children')"
   ]
  },
  {
   "cell_type": "markdown",
   "id": "d50f7e2d",
   "metadata": {},
   "source": [
    "Таблица состоит из столбцов `0` - количество человек без задолженностей, `1` - количество человек с задолженностью, `Доля должников` - отношение задолжников к общему числу заемщиков. Индексом мы взяли количество детей `children` (от 0 до 5) "
   ]
  },
  {
   "cell_type": "markdown",
   "id": "f18b1511",
   "metadata": {
    "deletable": false,
    "id": "3a6b99ec"
   },
   "source": [
    "**Вывод:** Из таблицы видно, что чаще вовремя платят кредит люди, не имеющие детей, реже - те, у кого 2 или 4 ребенка (стоит отметить, что для \"5\" детей данных недостаточно). **Зависимость есть**."
   ]
  },
  {
   "cell_type": "markdown",
   "id": "465ed03e",
   "metadata": {},
   "source": [
    "<font color='DarkBlue'><b>Комментарий ревьюера 2</b></font><br>\n",
    "<font color='DarkGreen'>👌 Правильный вывод, действительно семьи без детей не несут дополнительных расходов и своевременно обслуживают свой кредит. У клиентов с детьми более высокая расходная часть семейного бюджета, поэтому и возникают сложности со своевременной выплатой по кредитным обязательствам.</font><br>\n",
    "<font color='DarkMagenta'>👉 Следовало обратить внимание на несбалансированность выборок для каждой категории, при малой выборке нельзя делать обоснованные выводы.</font>"
   ]
  },
  {
   "cell_type": "markdown",
   "id": "94854004",
   "metadata": {},
   "source": [
    "<font color='DarkBlue'><b>Комментарий ревьюера</b></font><br>\n",
    "<font color='Red'>🛠 Не правильный вывод. При сравнении долей (а здесь не равные выборки), необходимо учитывать не разницу в долях, а процент, когда максимальная доля принимается за 100%. В данном случае разница между крайними значениями долей должников (не учитывая категорию с 5-тью детьми) составляет более 22%.</font>"
   ]
  },
  {
   "cell_type": "markdown",
   "id": "2306579e",
   "metadata": {
    "deletable": false,
    "editable": false,
    "id": "97be82ca"
   },
   "source": [
    "#### 3.2 Есть ли зависимость между семейным положением и возвратом кредита в срок?"
   ]
  },
  {
   "cell_type": "markdown",
   "id": "724fdb52",
   "metadata": {},
   "source": [
    "Создадим сводную таблицу `family_status_pivot`, в которую добавим столбец `Доля должников`. В нем будет отражено отношение должников к общему числу заемщиков для каждой категории семейного положения."
   ]
  },
  {
   "cell_type": "code",
   "execution_count": 26,
   "id": "fb544e70",
   "metadata": {},
   "outputs": [],
   "source": [
    "family_status_pivot = data.pivot_table(values='debt', index='family_status', aggfunc=['count', 'sum', 'mean'], fill_value=0)"
   ]
  },
  {
   "cell_type": "code",
   "execution_count": 27,
   "id": "e6e106e2",
   "metadata": {
    "deletable": false,
    "id": "dc3f7ee8"
   },
   "outputs": [
    {
     "data": {
      "text/html": [
       "<div>\n",
       "<style scoped>\n",
       "    .dataframe tbody tr th:only-of-type {\n",
       "        vertical-align: middle;\n",
       "    }\n",
       "\n",
       "    .dataframe tbody tr th {\n",
       "        vertical-align: top;\n",
       "    }\n",
       "\n",
       "    .dataframe thead tr th {\n",
       "        text-align: left;\n",
       "    }\n",
       "\n",
       "    .dataframe thead tr:last-of-type th {\n",
       "        text-align: right;\n",
       "    }\n",
       "</style>\n",
       "<table border=\"1\" class=\"dataframe\">\n",
       "  <thead>\n",
       "    <tr>\n",
       "      <th></th>\n",
       "      <th>Всего кредитополучателей</th>\n",
       "      <th>Всего должников</th>\n",
       "      <th>Доля должников</th>\n",
       "    </tr>\n",
       "    <tr>\n",
       "      <th></th>\n",
       "      <th></th>\n",
       "      <th></th>\n",
       "      <th></th>\n",
       "    </tr>\n",
       "    <tr>\n",
       "      <th>family_status</th>\n",
       "      <th></th>\n",
       "      <th></th>\n",
       "      <th></th>\n",
       "    </tr>\n",
       "  </thead>\n",
       "  <tbody>\n",
       "    <tr>\n",
       "      <th>Не женат / не замужем</th>\n",
       "      <td>2796</td>\n",
       "      <td>273</td>\n",
       "      <td>0.097639</td>\n",
       "    </tr>\n",
       "    <tr>\n",
       "      <th>гражданский брак</th>\n",
       "      <td>4134</td>\n",
       "      <td>385</td>\n",
       "      <td>0.093130</td>\n",
       "    </tr>\n",
       "    <tr>\n",
       "      <th>женат / замужем</th>\n",
       "      <td>12261</td>\n",
       "      <td>927</td>\n",
       "      <td>0.075606</td>\n",
       "    </tr>\n",
       "    <tr>\n",
       "      <th>в разводе</th>\n",
       "      <td>1189</td>\n",
       "      <td>84</td>\n",
       "      <td>0.070648</td>\n",
       "    </tr>\n",
       "    <tr>\n",
       "      <th>вдовец / вдова</th>\n",
       "      <td>951</td>\n",
       "      <td>63</td>\n",
       "      <td>0.066246</td>\n",
       "    </tr>\n",
       "  </tbody>\n",
       "</table>\n",
       "</div>"
      ],
      "text/plain": [
       "                      Всего кредитополучателей Всего должников Доля должников\n",
       "                                                                             \n",
       "family_status                                                                \n",
       "Не женат / не замужем                     2796             273       0.097639\n",
       "гражданский брак                          4134             385       0.093130\n",
       "женат / замужем                          12261             927       0.075606\n",
       "в разводе                                 1189              84       0.070648\n",
       "вдовец / вдова                             951              63       0.066246"
      ]
     },
     "execution_count": 27,
     "metadata": {},
     "output_type": "execute_result"
    }
   ],
   "source": [
    "family_status_pivot = family_status_pivot.rename(columns={'count': 'Всего кредитополучателей', 'sum': 'Всего должников', 'mean': 'Доля должников', 'debt': ''})\n",
    "family_status_pivot.sort_values(by='Доля должников', ascending=False)"
   ]
  },
  {
   "cell_type": "markdown",
   "id": "c53a19f7",
   "metadata": {
    "deletable": false,
    "id": "1cef7837"
   },
   "source": [
    "**Вывод:** Из таблицы видим, что лучшие показатели платежспособности здесь у категории \"вдовец/вдова\" и \"в разводе\", которые относятся к срокам более ответственно, чем категории \"Не женат/не замужем\" и \"гражданский брак\" - у них худшие показатели. **Зависимость наблюдается**."
   ]
  },
  {
   "cell_type": "markdown",
   "id": "515c5025",
   "metadata": {},
   "source": [
    "<font color='DarkBlue'><b>Комментарий ревьюера 2</b></font><br>\n",
    "<font color='DarkGreen'>👌 Действительно, оформленные семейные отношения или их прошлый опыт налагают определенную ответственность и приучают к финансовой дисциплине.</font>"
   ]
  },
  {
   "cell_type": "markdown",
   "id": "d91e8445",
   "metadata": {},
   "source": [
    "<font color='DarkBlue'><b>Комментарий ревьюера</b></font><br>\n",
    "<font color='Red'>🛠 Тут аналогичная ошибка. </font>"
   ]
  },
  {
   "cell_type": "markdown",
   "id": "eded237a",
   "metadata": {
    "deletable": false,
    "editable": false,
    "id": "1e8b2fca"
   },
   "source": [
    "#### 3.3 Есть ли зависимость между уровнем дохода и возвратом кредита в срок?"
   ]
  },
  {
   "cell_type": "markdown",
   "id": "7d5a13c7",
   "metadata": {},
   "source": [
    "Создадим сводную таблицу `total_income_pivot`, в которую добавим столбец `Доля должников`. В нем будет отражено отношение должников к общему числу заемщиков для каждой категории доходов."
   ]
  },
  {
   "cell_type": "code",
   "execution_count": 28,
   "id": "016aa10c",
   "metadata": {},
   "outputs": [],
   "source": [
    "total_income_pivot = data.pivot_table('debt', index='total_income_category', aggfunc=['count', 'sum', 'mean'], fill_value=0)"
   ]
  },
  {
   "cell_type": "code",
   "execution_count": 29,
   "id": "d0823d8c",
   "metadata": {
    "deletable": false,
    "id": "cd7e3720"
   },
   "outputs": [
    {
     "data": {
      "text/html": [
       "<div>\n",
       "<style scoped>\n",
       "    .dataframe tbody tr th:only-of-type {\n",
       "        vertical-align: middle;\n",
       "    }\n",
       "\n",
       "    .dataframe tbody tr th {\n",
       "        vertical-align: top;\n",
       "    }\n",
       "\n",
       "    .dataframe thead tr th {\n",
       "        text-align: left;\n",
       "    }\n",
       "\n",
       "    .dataframe thead tr:last-of-type th {\n",
       "        text-align: right;\n",
       "    }\n",
       "</style>\n",
       "<table border=\"1\" class=\"dataframe\">\n",
       "  <thead>\n",
       "    <tr>\n",
       "      <th></th>\n",
       "      <th>Всего кредитополучателей</th>\n",
       "      <th>Всего должников</th>\n",
       "      <th>Доля должников</th>\n",
       "    </tr>\n",
       "    <tr>\n",
       "      <th></th>\n",
       "      <th></th>\n",
       "      <th></th>\n",
       "      <th></th>\n",
       "    </tr>\n",
       "    <tr>\n",
       "      <th>total_income_category</th>\n",
       "      <th></th>\n",
       "      <th></th>\n",
       "      <th></th>\n",
       "    </tr>\n",
       "  </thead>\n",
       "  <tbody>\n",
       "    <tr>\n",
       "      <th>E</th>\n",
       "      <td>22</td>\n",
       "      <td>2</td>\n",
       "      <td>0.090909</td>\n",
       "    </tr>\n",
       "    <tr>\n",
       "      <th>C</th>\n",
       "      <td>15921</td>\n",
       "      <td>1353</td>\n",
       "      <td>0.084982</td>\n",
       "    </tr>\n",
       "    <tr>\n",
       "      <th>A</th>\n",
       "      <td>25</td>\n",
       "      <td>2</td>\n",
       "      <td>0.080000</td>\n",
       "    </tr>\n",
       "    <tr>\n",
       "      <th>B</th>\n",
       "      <td>5014</td>\n",
       "      <td>354</td>\n",
       "      <td>0.070602</td>\n",
       "    </tr>\n",
       "    <tr>\n",
       "      <th>D</th>\n",
       "      <td>349</td>\n",
       "      <td>21</td>\n",
       "      <td>0.060172</td>\n",
       "    </tr>\n",
       "  </tbody>\n",
       "</table>\n",
       "</div>"
      ],
      "text/plain": [
       "                      Всего кредитополучателей Всего должников Доля должников\n",
       "                                                                             \n",
       "total_income_category                                                        \n",
       "E                                           22               2       0.090909\n",
       "C                                        15921            1353       0.084982\n",
       "A                                           25               2       0.080000\n",
       "B                                         5014             354       0.070602\n",
       "D                                          349              21       0.060172"
      ]
     },
     "execution_count": 29,
     "metadata": {},
     "output_type": "execute_result"
    }
   ],
   "source": [
    "total_income_pivot = total_income_pivot.rename(columns={'count': 'Всего кредитополучателей', 'sum': 'Всего должников', 'mean': 'Доля должников', 'debt': ''})\n",
    "total_income_pivot.sort_values(by='Доля должников', ascending=False)"
   ]
  },
  {
   "cell_type": "markdown",
   "id": "9663ef94",
   "metadata": {
    "deletable": false,
    "id": "e8593def"
   },
   "source": [
    "**Вывод:** Более платежеспособна по отношению к кредиту категория D (диапазон дохода 30000 - 50000), менее - E (диапазон дохода 0 - 30000). Стоит отметить очень большую разницу в количестве человек между категориями. **Зависимость подтверждается**."
   ]
  },
  {
   "cell_type": "markdown",
   "id": "151b6c6b",
   "metadata": {},
   "source": [
    "<font color='DarkBlue'><b>Комментарий ревьюера 2</b></font><br>\n",
    "<font color='DarkMagenta'>👉 Обращаю внимание, что представленные выборки несбалансированы и какой-то вывод можно делать только по двум категориям с достаточным размером выборок.</font>\n",
    "<br><font color='DarkMagenta'>👉 В задачах, где требуется анализировать несбалансированные выборки можно, делать дополнительный анализ, разбив данные на равные выборки методом `.qcut`. Подробнее можно прочитать тут: <br>https://dfedorov.spb.ru/pandas/Разделение%20данных%20в%20Pandas%20с%20помощью%20qcut%20и%20cut.html.</font>"
   ]
  },
  {
   "cell_type": "markdown",
   "id": "78461831",
   "metadata": {},
   "source": [
    "<font color='DarkBlue'><b>Комментарий ревьюера</b></font><br>\n",
    "<font color='Red'>🛠 Аналогично, не правильный вывод. </font>"
   ]
  },
  {
   "cell_type": "markdown",
   "id": "bafcf02c",
   "metadata": {
    "deletable": false,
    "editable": false,
    "id": "99ecbd1f"
   },
   "source": [
    "#### 3.4 Как разные цели кредита влияют на его возврат в срок?"
   ]
  },
  {
   "cell_type": "markdown",
   "id": "47b50d84",
   "metadata": {},
   "source": [
    "Создадим сводную таблицу `purpose_category_pivot`, в которую добавим столбец `Доля должников`. В нем будет отражено отношение должников к общему числу заемщиков для каждой категории целей."
   ]
  },
  {
   "cell_type": "code",
   "execution_count": 30,
   "id": "5a1e84ba",
   "metadata": {},
   "outputs": [],
   "source": [
    "purpose_category_pivot = data.pivot_table(values='debt', index='purpose_category', aggfunc=['count', 'sum', 'mean'], fill_value=0)"
   ]
  },
  {
   "cell_type": "code",
   "execution_count": 31,
   "id": "78b548b0",
   "metadata": {
    "deletable": false,
    "id": "2b687290"
   },
   "outputs": [
    {
     "data": {
      "text/html": [
       "<div>\n",
       "<style scoped>\n",
       "    .dataframe tbody tr th:only-of-type {\n",
       "        vertical-align: middle;\n",
       "    }\n",
       "\n",
       "    .dataframe tbody tr th {\n",
       "        vertical-align: top;\n",
       "    }\n",
       "\n",
       "    .dataframe thead tr th {\n",
       "        text-align: left;\n",
       "    }\n",
       "\n",
       "    .dataframe thead tr:last-of-type th {\n",
       "        text-align: right;\n",
       "    }\n",
       "</style>\n",
       "<table border=\"1\" class=\"dataframe\">\n",
       "  <thead>\n",
       "    <tr>\n",
       "      <th></th>\n",
       "      <th>Всего кредитополучателей</th>\n",
       "      <th>Всего должников</th>\n",
       "      <th>Доля должников</th>\n",
       "    </tr>\n",
       "    <tr>\n",
       "      <th></th>\n",
       "      <th></th>\n",
       "      <th></th>\n",
       "      <th></th>\n",
       "    </tr>\n",
       "    <tr>\n",
       "      <th>purpose_category</th>\n",
       "      <th></th>\n",
       "      <th></th>\n",
       "      <th></th>\n",
       "    </tr>\n",
       "  </thead>\n",
       "  <tbody>\n",
       "    <tr>\n",
       "      <th>операции с автомобилем</th>\n",
       "      <td>4279</td>\n",
       "      <td>400</td>\n",
       "      <td>0.093480</td>\n",
       "    </tr>\n",
       "    <tr>\n",
       "      <th>получение образования</th>\n",
       "      <td>3988</td>\n",
       "      <td>369</td>\n",
       "      <td>0.092528</td>\n",
       "    </tr>\n",
       "    <tr>\n",
       "      <th>проведение свадьбы</th>\n",
       "      <td>2313</td>\n",
       "      <td>183</td>\n",
       "      <td>0.079118</td>\n",
       "    </tr>\n",
       "    <tr>\n",
       "      <th>операции с недвижимостью</th>\n",
       "      <td>10751</td>\n",
       "      <td>780</td>\n",
       "      <td>0.072551</td>\n",
       "    </tr>\n",
       "  </tbody>\n",
       "</table>\n",
       "</div>"
      ],
      "text/plain": [
       "                         Всего кредитополучателей Всего должников  \\\n",
       "                                                                    \n",
       "purpose_category                                                    \n",
       "операции с автомобилем                       4279             400   \n",
       "получение образования                        3988             369   \n",
       "проведение свадьбы                           2313             183   \n",
       "операции с недвижимостью                    10751             780   \n",
       "\n",
       "                         Доля должников  \n",
       "                                         \n",
       "purpose_category                         \n",
       "операции с автомобилем         0.093480  \n",
       "получение образования          0.092528  \n",
       "проведение свадьбы             0.079118  \n",
       "операции с недвижимостью       0.072551  "
      ]
     },
     "execution_count": 31,
     "metadata": {},
     "output_type": "execute_result"
    }
   ],
   "source": [
    "purpose_category_pivot = purpose_category_pivot.rename(columns={'count': 'Всего кредитополучателей', 'sum': 'Всего должников', 'mean': 'Доля должников', 'debt': ''})\n",
    "purpose_category_pivot.sort_values(by='Доля должников', ascending=False)"
   ]
  },
  {
   "cell_type": "markdown",
   "id": "39179d8b",
   "metadata": {
    "deletable": false,
    "id": "b4bb2ce6"
   },
   "source": [
    "**Вывод:** Люди из категории \"операции с недвижимостью\" более ответственно подходят к оплате кредита в срок, нежели люди из категории \"операции с автомобилем\", хотя и разница между конверсиями небольшая.  "
   ]
  },
  {
   "cell_type": "markdown",
   "id": "4d9223b0",
   "metadata": {},
   "source": [
    "<font color='DarkBlue'><b>Комментарий ревьюера</b></font><br>\n",
    "<font color='DarkGreen'>👌 Правильно, видимо, кредиты на автомобиль и обучение несут дополнительные риски связанные или с возможной аварией, или с проблемами трудоустройства после обучения.</font>"
   ]
  },
  {
   "cell_type": "markdown",
   "id": "2c220be0",
   "metadata": {
    "deletable": false,
    "editable": false,
    "id": "09c3ac4c"
   },
   "source": [
    "#### 3.5 Приведите возможные причины появления пропусков в исходных данных."
   ]
  },
  {
   "cell_type": "markdown",
   "id": "aa8aff4b",
   "metadata": {
    "deletable": false,
    "id": "9da2ceda"
   },
   "source": [
    "*Ответ:* Есть 3 вида пропусков:\n",
    "* Полностью случайные. Верояность встретить такие пропуски не зависит ни от каких других значений. Такие пропуски можно восстановить по имени \n",
    "* Случайные. Вероятность пропуска зависит от других значений в наборе данных, но не от собственного столбца. Например, пропущенное значение связано с тем, что такой категории не существует\n",
    "* Неслучайные. Вероятность пропуска зависит от других значений, в том числе и от значений собственного столбца. Отсутствующее значение зависит от характера вопроса - такие значения пропускают специально - и от значения в другом столбце"
   ]
  },
  {
   "cell_type": "markdown",
   "id": "7cd38a49",
   "metadata": {},
   "source": [
    "<font color='DarkBlue'><b>Комментарий ревьюера 2</b></font><br>\n",
    "<font color='DarkMagenta'>👉 Представленная классификация не относится к причинам пропусков, а относится к вероятности появления пропусков. Управлять вероятностями мы не можем, а вот причинами можем.<br>\n",
    "Существует несколько причин отсутствия данных в датасетах, в том числе:<br>\n",
    "- Человеческий фактор: Ошибки ввода данных, не желание отвечать на определенные вопросы.\n",
    "- Технические проблемы: Возможны сбои с оборудованием или программным обеспечением для сбора данных. Отсутствующие данные могут быть удалены в процессе обработки или очистки данных.\n",
    "- Организационные: Конфиденциальность, могут отсутствовать данные, идентифицирующие отдельных лиц или компании.</font>"
   ]
  },
  {
   "cell_type": "markdown",
   "id": "f7934524",
   "metadata": {},
   "source": [
    "<font color='DarkBlue'><b>Комментарий ревьюера</b></font><br>\n",
    "<font color='Red'>🛠 Необходимо обобщить причины пропусков. Рекомендую обратиться к информации какие вообще бывают причины пропусков вне зависимости конкретного датасета. Если будут трудности, следует обратиться за помощью к преподавателю.</font>"
   ]
  },
  {
   "cell_type": "markdown",
   "id": "309d1d72",
   "metadata": {
    "deletable": false,
    "editable": false,
    "id": "7b0487d6"
   },
   "source": [
    "#### 3.6 Объясните, почему заполнить пропуски медианным значением — лучшее решение для количественных переменных."
   ]
  },
  {
   "cell_type": "markdown",
   "id": "c5744eb4",
   "metadata": {
    "deletable": false,
    "id": "7ecf2b8e"
   },
   "source": [
    "*Ответ:* На медианное значение не влияют выбивающиеся из общей массы числа, в отличие от среднего значения. Например, при расчете дохода лучше использовать медиану, поскольку если между доходами существенный разрыв, то среднее значение сместится в сторону большего числа"
   ]
  },
  {
   "cell_type": "markdown",
   "id": "33d6c679",
   "metadata": {},
   "source": [
    "<font color='DarkBlue'><b>Комментарий ревьюера</b></font><br>\n",
    "<font color='DarkGreen'>👌 У средних более высокая чувствительность к выбросам, чем у медиан.<br>Можно попробовать посчитать и сравнить среднюю и медиану для колонки с выбросами, например `days_employed`.</font>"
   ]
  },
  {
   "cell_type": "markdown",
   "id": "d58f49d6",
   "metadata": {
    "deletable": false,
    "editable": false,
    "id": "6db5255a"
   },
   "source": [
    "### Шаг 4: общий вывод."
   ]
  },
  {
   "cell_type": "markdown",
   "id": "935170f3",
   "metadata": {
    "deletable": false,
    "id": "bad65432"
   },
   "source": [
    "Датасет состоит из 12 столбцов и из 21525 строк. Типы данных - int64, float64, object.\n",
    "В ходе исследования надежности заемщиков были выполнены следующие шаги:\n",
    "* Обработны пропуски в двух столбцах: `days_employed` и `total_income`. Для заполнения пропусков мы взяли медиану для каждой категории сотрудников. Также, в `days_employed` отрицательные значения были заменены на положительные;\n",
    "* Устранены аномальные значения в столбце `children` (-1 и 20);\n",
    "* Вещественный тип данных в столбце `total_income` для удобства был заменен на целочисленный;\n",
    "* Обработаны неявные дубликаты в столбце `education` - c помощью приведения к нижнему регистру были найдены дубликаты и удалены;\n",
    "* Категоризированы данные для целей взятия кредита и для уровней дохода с помощью собственных функций. Добавлены соответствующие столбцы `purpose_category` и `total_income_category`\n",
    "___\n",
    "Для удобства анализа были построены сводные таблицы `children_pivot`, `family_status_pivot`, `total_income_pivot` и `purpose_category_pivot`. Исходя из таблиц проверены следующие гипотезы:\n",
    "* Есть ли зависимость между количеством детей и возвратом кредита в срок? **Да, есть**. Как показал анализ, лучшие показатели у клиентов без детей (7.54 %), худшие - люди из категории \"4\" (9.76 %) \n",
    "* Есть ли зависимость между семейным положением и возвратом кредита в срок? **Да, есть**. Лучшие показатели платежспособности у категории \"вдовец/вдова\" (6.62 %) и \"в разводе\" (7.06 %), которые относятся к срокам более ответственно, чем категории \"Не женат/не замужем\" (9.76 %) и \"гражданский брак\" (9.31 %) - у них худшие показатели\n",
    "* Есть ли зависимость между уровнем дохода и возвратом кредита в срок? **Да, есть**. Более платежеспособна по отношению к кредиту категория D (диапазон дохода 30000 - 50000) - 6.02 %, менее - E (диапазон дохода 0 - 30000) - 9.09 %.\n",
    "\n",
    "Что касается вопроса \"Как разные цели кредита влияют на его возврат в срок?\" - самый большой процент должников оказался у людей из категории \"операции с автомобилем\" - `9.35%`, самый маленький процент у категории \"операции с недвижимостью\" - `7.26%`.\n",
    "___\n",
    "Портрет добросовестного заемщика:\n",
    "**Вдовец/вдова без детей, взявший/-ая кредит на недвижимость, и с доходом от 30000 до 50000.** "
   ]
  },
  {
   "cell_type": "markdown",
   "id": "a1334dae",
   "metadata": {},
   "source": [
    "<font color='DarkBlue'><b>Комментарий ревьюера 2</b></font><br>\n",
    "<font color='DarkGreen'>👌 Хорошо, исправили.</font>"
   ]
  },
  {
   "cell_type": "markdown",
   "id": "c12bc281",
   "metadata": {},
   "source": [
    "<font color='DarkBlue'><b>Комментарий ревьюера</b></font><br>\n",
    "<font color='Red'>🛠 Общий вывод относится ко всему проекту, а не только к исследовательскому анализу.<br>Он должен содержать развернутое резюме по всем разделам проекта: описание данных, порядок обработки аномалий, пропусков и дубликатов, предобработка данных для анализа и проведенный анализ.<br>В реальных проектах сначала читают цель исследования, затем полученные выводы, затем уже сам анализ.</font>\n",
    "<br>\n",
    "<font color='DarkMagenta'>👉 В общем выводе можно дать рекомендации по улучшению сбора данных на основе обнаруженных ошибок. А так же  составить портрет добросовестного заемщика.</font>"
   ]
  },
  {
   "cell_type": "markdown",
   "id": "9136bf9a",
   "metadata": {},
   "source": [
    "<font color='DarkBlue'><b>Заключительный комментарий ревьюера</b></font><br><br>\n",
    "<font color='DarkGreen'>👌 Юсуп, проект хорошо проработан.<br>Так держать и дальше!<br></font>\n",
    "<font color='Red'>🛠 Что нужно, что бы сделать проект лучше:</font><br>\n",
    "<font color='Red'>🛠 Переделать анализ зависимости между количеством детей, семейным положением, доходом и возвратом кредита в срок. Переделать задание по причинам пропусков в данных. Сделать развернутый общий вывод проекта._<br>\n",
    "<font color='DarkMagenta'>👉 При исправлении ошибок и недочетов будут приобретены дополнительный опыт и навыки!</font><br>\n",
    "<font color='DarkGreen'>👌 Жду окончательный вариант! Успехов.</font>"
   ]
  },
  {
   "attachments": {
    "image.png": {
     "image/png": "[encoded data removed]"
    }
   },
   "cell_type": "markdown",
   "id": "f040b32f",
   "metadata": {},
   "source": [
    "<font color='DarkBlue'><b>Заключительный комментарий ревьюера 2</b></font><br><br>\n",
    "<font color='DarkGreen'>👌 Юсуп! Справились со всеми заданиями в проекте. Молодец!<br>\n",
    "Входе выполнения проекта научились анализировать первичные данные и проводить обработку датасета. Провели самостоятельный исследовательский анализ.<br></font>\n",
    "<font color='DarkGreen'>👌 Теперь, вперед за новыми знаниями и навыками! Удачи! 😉</font>\n",
    "![image.png](attachment:image.png)"
   ]
  }
 ],
 "metadata": {
  "ExecuteTimeLog": [
   {
    "duration": 60,
    "start_time": "2023-08-28T13:20:47.338Z"
   },
   {
    "duration": 832,
    "start_time": "2023-08-28T13:21:12.381Z"
   },
   {
    "duration": 27,
    "start_time": "2023-08-28T13:21:13.215Z"
   },
   {
    "duration": 65,
    "start_time": "2023-08-28T13:21:13.244Z"
   },
   {
    "duration": 14,
    "start_time": "2023-08-28T13:21:13.312Z"
   },
   {
    "duration": 97,
    "start_time": "2023-08-28T13:21:13.328Z"
   },
   {
    "duration": 4,
    "start_time": "2023-08-28T13:21:13.427Z"
   },
   {
    "duration": 9,
    "start_time": "2023-08-28T13:21:13.433Z"
   },
   {
    "duration": 4,
    "start_time": "2023-08-28T13:21:13.444Z"
   },
   {
    "duration": 10,
    "start_time": "2023-08-28T13:21:13.450Z"
   },
   {
    "duration": 10,
    "start_time": "2023-08-28T13:21:13.485Z"
   },
   {
    "duration": 40,
    "start_time": "2023-08-28T13:21:13.498Z"
   },
   {
    "duration": 10,
    "start_time": "2023-08-28T13:21:13.540Z"
   },
   {
    "duration": 9,
    "start_time": "2023-08-28T13:21:13.551Z"
   },
   {
    "duration": 44,
    "start_time": "2023-08-28T13:21:13.561Z"
   },
   {
    "duration": 22,
    "start_time": "2023-08-28T13:21:13.606Z"
   },
   {
    "duration": 17,
    "start_time": "2023-08-28T13:21:13.630Z"
   },
   {
    "duration": 3,
    "start_time": "2023-08-28T13:21:13.649Z"
   },
   {
    "duration": 32,
    "start_time": "2023-08-28T13:21:13.654Z"
   },
   {
    "duration": 10,
    "start_time": "2023-08-28T13:21:13.691Z"
   },
   {
    "duration": 7,
    "start_time": "2023-08-28T13:21:13.703Z"
   },
   {
    "duration": 25,
    "start_time": "2023-08-28T13:21:13.712Z"
   },
   {
    "duration": 9,
    "start_time": "2023-08-28T13:21:13.738Z"
   },
   {
    "duration": 5,
    "start_time": "2023-08-28T13:21:13.749Z"
   },
   {
    "duration": 5,
    "start_time": "2023-08-28T13:21:13.756Z"
   },
   {
    "duration": 10,
    "start_time": "2023-08-28T13:21:13.762Z"
   },
   {
    "duration": 8,
    "start_time": "2023-08-28T13:21:36.307Z"
   },
   {
    "duration": 9,
    "start_time": "2023-08-28T13:23:05.234Z"
   },
   {
    "duration": 2084,
    "start_time": "2023-08-28T13:25:16.480Z"
   },
   {
    "duration": 1752,
    "start_time": "2023-08-28T13:25:24.465Z"
   },
   {
    "duration": 9,
    "start_time": "2023-08-28T13:25:30.649Z"
   },
   {
    "duration": 31,
    "start_time": "2023-08-28T13:27:26.279Z"
   },
   {
    "duration": 20,
    "start_time": "2023-08-28T13:27:34.302Z"
   },
   {
    "duration": 14,
    "start_time": "2023-08-28T13:27:49.822Z"
   },
   {
    "duration": 16,
    "start_time": "2023-08-28T13:28:29.830Z"
   },
   {
    "duration": 17,
    "start_time": "2023-08-28T13:28:36.254Z"
   },
   {
    "duration": 525,
    "start_time": "2023-08-28T13:28:42.819Z"
   },
   {
    "duration": 23,
    "start_time": "2023-08-28T13:28:43.345Z"
   },
   {
    "duration": 43,
    "start_time": "2023-08-28T13:28:43.370Z"
   },
   {
    "duration": 10,
    "start_time": "2023-08-28T13:28:43.416Z"
   },
   {
    "duration": 55,
    "start_time": "2023-08-28T13:28:43.428Z"
   },
   {
    "duration": 4,
    "start_time": "2023-08-28T13:28:43.485Z"
   },
   {
    "duration": 29,
    "start_time": "2023-08-28T13:28:43.492Z"
   },
   {
    "duration": 12,
    "start_time": "2023-08-28T13:28:43.523Z"
   },
   {
    "duration": 14,
    "start_time": "2023-08-28T13:28:43.537Z"
   },
   {
    "duration": 8,
    "start_time": "2023-08-28T13:28:43.555Z"
   },
   {
    "duration": 52,
    "start_time": "2023-08-28T13:28:43.565Z"
   },
   {
    "duration": 11,
    "start_time": "2023-08-28T13:28:43.618Z"
   },
   {
    "duration": 6,
    "start_time": "2023-08-28T13:28:43.630Z"
   },
   {
    "duration": 17,
    "start_time": "2023-08-28T13:28:43.638Z"
   },
   {
    "duration": 42,
    "start_time": "2023-08-28T13:28:43.656Z"
   },
   {
    "duration": 22,
    "start_time": "2023-08-28T13:28:43.700Z"
   },
   {
    "duration": 98,
    "start_time": "2023-08-28T13:28:43.724Z"
   },
   {
    "duration": 38,
    "start_time": "2023-08-28T13:28:43.824Z"
   },
   {
    "duration": 6,
    "start_time": "2023-08-28T13:28:43.864Z"
   },
   {
    "duration": 4,
    "start_time": "2023-08-28T13:28:43.872Z"
   },
   {
    "duration": 21,
    "start_time": "2023-08-28T13:28:43.877Z"
   },
   {
    "duration": 23,
    "start_time": "2023-08-28T13:28:43.899Z"
   },
   {
    "duration": 2,
    "start_time": "2023-08-28T13:28:43.924Z"
   },
   {
    "duration": 4,
    "start_time": "2023-08-28T13:28:43.928Z"
   },
   {
    "duration": 125,
    "start_time": "2023-08-28T13:28:43.934Z"
   },
   {
    "duration": 14,
    "start_time": "2023-08-28T13:29:39.358Z"
   },
   {
    "duration": 17,
    "start_time": "2023-08-28T13:29:49.125Z"
   },
   {
    "duration": 41,
    "start_time": "2023-08-28T13:30:13.208Z"
   },
   {
    "duration": 15,
    "start_time": "2023-08-28T13:30:50.238Z"
   },
   {
    "duration": 15,
    "start_time": "2023-08-28T13:31:03.948Z"
   },
   {
    "duration": 4,
    "start_time": "2023-08-28T13:33:34.055Z"
   },
   {
    "duration": 534,
    "start_time": "2023-08-28T13:33:42.010Z"
   },
   {
    "duration": 23,
    "start_time": "2023-08-28T13:33:42.546Z"
   },
   {
    "duration": 24,
    "start_time": "2023-08-28T13:33:42.571Z"
   },
   {
    "duration": 11,
    "start_time": "2023-08-28T13:33:42.607Z"
   },
   {
    "duration": 36,
    "start_time": "2023-08-28T13:33:42.620Z"
   },
   {
    "duration": 4,
    "start_time": "2023-08-28T13:33:42.658Z"
   },
   {
    "duration": 26,
    "start_time": "2023-08-28T13:33:42.663Z"
   },
   {
    "duration": 6,
    "start_time": "2023-08-28T13:33:42.691Z"
   },
   {
    "duration": 21,
    "start_time": "2023-08-28T13:33:42.699Z"
   },
   {
    "duration": 20,
    "start_time": "2023-08-28T13:33:42.725Z"
   },
   {
    "duration": 48,
    "start_time": "2023-08-28T13:33:42.747Z"
   },
   {
    "duration": 25,
    "start_time": "2023-08-28T13:33:42.797Z"
   },
   {
    "duration": 25,
    "start_time": "2023-08-28T13:33:42.824Z"
   },
   {
    "duration": 28,
    "start_time": "2023-08-28T13:33:42.850Z"
   },
   {
    "duration": 46,
    "start_time": "2023-08-28T13:33:42.882Z"
   },
   {
    "duration": 32,
    "start_time": "2023-08-28T13:33:42.930Z"
   },
   {
    "duration": 12,
    "start_time": "2023-08-28T13:33:42.964Z"
   },
   {
    "duration": 53,
    "start_time": "2023-08-28T13:33:42.977Z"
   },
   {
    "duration": 48,
    "start_time": "2023-08-28T13:33:43.032Z"
   },
   {
    "duration": 24,
    "start_time": "2023-08-28T13:33:43.082Z"
   },
   {
    "duration": 34,
    "start_time": "2023-08-28T13:33:43.108Z"
   },
   {
    "duration": 54,
    "start_time": "2023-08-28T13:33:43.144Z"
   },
   {
    "duration": 9,
    "start_time": "2023-08-28T13:33:43.206Z"
   },
   {
    "duration": 12,
    "start_time": "2023-08-28T13:33:43.217Z"
   },
   {
    "duration": 20,
    "start_time": "2023-08-28T13:33:43.231Z"
   },
   {
    "duration": 17,
    "start_time": "2023-08-28T13:34:01.702Z"
   },
   {
    "duration": 85,
    "start_time": "2023-08-28T13:40:09.157Z"
   },
   {
    "duration": 15,
    "start_time": "2023-08-28T13:41:54.949Z"
   },
   {
    "duration": 17,
    "start_time": "2023-08-28T13:42:56.482Z"
   },
   {
    "duration": 23,
    "start_time": "2023-08-28T13:44:03.199Z"
   },
   {
    "duration": 15,
    "start_time": "2023-08-28T13:44:21.652Z"
   },
   {
    "duration": 5,
    "start_time": "2023-08-28T13:50:45.400Z"
   },
   {
    "duration": 6,
    "start_time": "2023-08-28T13:50:54.519Z"
   },
   {
    "duration": 76,
    "start_time": "2023-08-28T13:51:37.387Z"
   },
   {
    "duration": 8,
    "start_time": "2023-08-28T13:51:43.318Z"
   },
   {
    "duration": 11,
    "start_time": "2023-08-28T13:52:04.814Z"
   },
   {
    "duration": 14,
    "start_time": "2023-08-28T13:52:51.850Z"
   },
   {
    "duration": 11,
    "start_time": "2023-08-28T13:53:02.422Z"
   },
   {
    "duration": 9,
    "start_time": "2023-08-28T13:53:10.969Z"
   },
   {
    "duration": 5,
    "start_time": "2023-08-28T13:53:50.334Z"
   },
   {
    "duration": 14,
    "start_time": "2023-08-28T13:53:59.269Z"
   },
   {
    "duration": 17,
    "start_time": "2023-08-28T13:57:06.652Z"
   },
   {
    "duration": 9,
    "start_time": "2023-08-28T13:57:25.948Z"
   },
   {
    "duration": 15,
    "start_time": "2023-08-28T13:57:33.148Z"
   },
   {
    "duration": 18,
    "start_time": "2023-08-28T13:58:18.498Z"
   },
   {
    "duration": 15,
    "start_time": "2023-08-28T13:58:31.379Z"
   },
   {
    "duration": 17,
    "start_time": "2023-08-28T13:58:41.899Z"
   },
   {
    "duration": 14,
    "start_time": "2023-08-28T13:59:12.418Z"
   },
   {
    "duration": 16,
    "start_time": "2023-08-28T13:59:19.058Z"
   },
   {
    "duration": 15,
    "start_time": "2023-08-28T13:59:25.242Z"
   },
   {
    "duration": 2590,
    "start_time": "2023-08-28T14:01:47.987Z"
   },
   {
    "duration": 2178,
    "start_time": "2023-08-28T14:02:12.885Z"
   },
   {
    "duration": 16,
    "start_time": "2023-08-28T14:02:26.065Z"
   },
   {
    "duration": 1552,
    "start_time": "2023-08-28T14:03:34.274Z"
   },
   {
    "duration": 18,
    "start_time": "2023-08-28T14:03:52.666Z"
   },
   {
    "duration": 93,
    "start_time": "2023-08-28T14:04:37.746Z"
   },
   {
    "duration": 196,
    "start_time": "2023-08-28T14:04:48.762Z"
   },
   {
    "duration": 143,
    "start_time": "2023-08-28T14:04:54.425Z"
   },
   {
    "duration": 83,
    "start_time": "2023-08-28T14:04:58.265Z"
   },
   {
    "duration": 320,
    "start_time": "2023-08-28T14:05:04.898Z"
   },
   {
    "duration": 181,
    "start_time": "2023-08-28T14:06:47.784Z"
   },
   {
    "duration": 16,
    "start_time": "2023-08-28T14:06:54.432Z"
   },
   {
    "duration": 1711,
    "start_time": "2023-08-28T14:09:21.657Z"
   },
   {
    "duration": 26,
    "start_time": "2023-08-28T14:09:26.202Z"
   },
   {
    "duration": 23,
    "start_time": "2023-08-28T14:12:09.977Z"
   },
   {
    "duration": 17,
    "start_time": "2023-08-28T14:12:26.424Z"
   },
   {
    "duration": 97,
    "start_time": "2023-08-28T14:13:10.951Z"
   },
   {
    "duration": 131,
    "start_time": "2023-08-28T14:13:16.615Z"
   },
   {
    "duration": 18,
    "start_time": "2023-08-28T14:13:48.230Z"
   },
   {
    "duration": 16,
    "start_time": "2023-08-28T14:20:25.611Z"
   },
   {
    "duration": 8,
    "start_time": "2023-08-28T14:20:28.922Z"
   },
   {
    "duration": 15,
    "start_time": "2023-08-28T14:20:45.802Z"
   },
   {
    "duration": 6,
    "start_time": "2023-08-28T14:20:46.914Z"
   },
   {
    "duration": 20,
    "start_time": "2023-08-28T14:21:16.755Z"
   },
   {
    "duration": 2389,
    "start_time": "2023-08-28T14:21:18.130Z"
   },
   {
    "duration": 14,
    "start_time": "2023-08-28T14:21:39.265Z"
   },
   {
    "duration": 7,
    "start_time": "2023-08-28T14:30:26.372Z"
   },
   {
    "duration": 258,
    "start_time": "2023-08-28T14:31:29.516Z"
   },
   {
    "duration": 8,
    "start_time": "2023-08-28T14:31:40.743Z"
   },
   {
    "duration": 7,
    "start_time": "2023-08-28T14:31:47.371Z"
   },
   {
    "duration": 8,
    "start_time": "2023-08-28T14:32:21.947Z"
   },
   {
    "duration": 2710,
    "start_time": "2023-08-28T14:32:23.506Z"
   },
   {
    "duration": 4,
    "start_time": "2023-08-28T14:32:37.771Z"
   },
   {
    "duration": 8,
    "start_time": "2023-08-28T14:32:56.139Z"
   },
   {
    "duration": 4,
    "start_time": "2023-08-28T14:32:56.784Z"
   },
   {
    "duration": 2418,
    "start_time": "2023-08-28T14:33:37.977Z"
   },
   {
    "duration": 8,
    "start_time": "2023-08-28T14:33:40.397Z"
   },
   {
    "duration": 16,
    "start_time": "2023-08-28T14:33:50.321Z"
   },
   {
    "duration": 27,
    "start_time": "2023-08-28T14:33:58.106Z"
   },
   {
    "duration": 13,
    "start_time": "2023-08-28T14:34:33.657Z"
   },
   {
    "duration": 4,
    "start_time": "2023-08-28T14:34:35.473Z"
   },
   {
    "duration": 6,
    "start_time": "2023-08-28T14:34:49.873Z"
   },
   {
    "duration": 7,
    "start_time": "2023-08-28T14:35:50.920Z"
   },
   {
    "duration": 7,
    "start_time": "2023-08-28T14:35:58.225Z"
   },
   {
    "duration": 7,
    "start_time": "2023-08-28T14:36:02.624Z"
   },
   {
    "duration": 9,
    "start_time": "2023-08-28T14:43:58.389Z"
   },
   {
    "duration": 10,
    "start_time": "2023-08-28T14:53:26.363Z"
   },
   {
    "duration": 13,
    "start_time": "2023-08-28T14:53:35.617Z"
   },
   {
    "duration": 10,
    "start_time": "2023-08-28T14:53:54.073Z"
   },
   {
    "duration": 15,
    "start_time": "2023-08-28T14:54:06.825Z"
   },
   {
    "duration": 488,
    "start_time": "2023-08-28T14:54:53.938Z"
   },
   {
    "duration": 23,
    "start_time": "2023-08-28T14:54:54.428Z"
   },
   {
    "duration": 30,
    "start_time": "2023-08-28T14:54:54.452Z"
   },
   {
    "duration": 10,
    "start_time": "2023-08-28T14:54:54.484Z"
   },
   {
    "duration": 49,
    "start_time": "2023-08-28T14:54:54.496Z"
   },
   {
    "duration": 4,
    "start_time": "2023-08-28T14:54:54.546Z"
   },
   {
    "duration": 32,
    "start_time": "2023-08-28T14:54:54.551Z"
   },
   {
    "duration": 14,
    "start_time": "2023-08-28T14:54:54.584Z"
   },
   {
    "duration": 26,
    "start_time": "2023-08-28T14:54:54.599Z"
   },
   {
    "duration": 13,
    "start_time": "2023-08-28T14:54:54.629Z"
   },
   {
    "duration": 45,
    "start_time": "2023-08-28T14:54:54.644Z"
   },
   {
    "duration": 10,
    "start_time": "2023-08-28T14:54:54.691Z"
   },
   {
    "duration": 10,
    "start_time": "2023-08-28T14:54:54.703Z"
   },
   {
    "duration": 19,
    "start_time": "2023-08-28T14:54:54.714Z"
   },
   {
    "duration": 23,
    "start_time": "2023-08-28T14:54:54.735Z"
   },
   {
    "duration": 26,
    "start_time": "2023-08-28T14:54:54.760Z"
   },
   {
    "duration": 12,
    "start_time": "2023-08-28T14:54:54.788Z"
   },
   {
    "duration": 34,
    "start_time": "2023-08-28T14:54:54.802Z"
   },
   {
    "duration": 8,
    "start_time": "2023-08-28T14:54:54.838Z"
   },
   {
    "duration": 7,
    "start_time": "2023-08-28T14:54:54.847Z"
   },
   {
    "duration": 14,
    "start_time": "2023-08-28T14:54:54.856Z"
   },
   {
    "duration": 22,
    "start_time": "2023-08-28T14:54:54.872Z"
   },
   {
    "duration": 40,
    "start_time": "2023-08-28T14:54:54.896Z"
   },
   {
    "duration": 33,
    "start_time": "2023-08-28T14:54:54.937Z"
   },
   {
    "duration": 22,
    "start_time": "2023-08-28T14:54:54.971Z"
   },
   {
    "duration": 35,
    "start_time": "2023-08-28T14:54:54.995Z"
   },
   {
    "duration": 10,
    "start_time": "2023-08-28T14:57:05.799Z"
   },
   {
    "duration": 1638,
    "start_time": "2023-08-28T14:58:07.044Z"
   },
   {
    "duration": 1531,
    "start_time": "2023-08-28T14:58:24.790Z"
   },
   {
    "duration": 1789,
    "start_time": "2023-08-28T15:00:46.072Z"
   },
   {
    "duration": 519,
    "start_time": "2023-08-28T15:01:06.745Z"
   },
   {
    "duration": 24,
    "start_time": "2023-08-28T15:01:07.267Z"
   },
   {
    "duration": 40,
    "start_time": "2023-08-28T15:01:07.294Z"
   },
   {
    "duration": 26,
    "start_time": "2023-08-28T15:01:07.336Z"
   },
   {
    "duration": 65,
    "start_time": "2023-08-28T15:01:07.364Z"
   },
   {
    "duration": 9,
    "start_time": "2023-08-28T15:01:07.431Z"
   },
   {
    "duration": 19,
    "start_time": "2023-08-28T15:01:07.441Z"
   },
   {
    "duration": 44,
    "start_time": "2023-08-28T15:01:07.462Z"
   },
   {
    "duration": 24,
    "start_time": "2023-08-28T15:01:07.509Z"
   },
   {
    "duration": 54,
    "start_time": "2023-08-28T15:01:07.536Z"
   },
   {
    "duration": 57,
    "start_time": "2023-08-28T15:01:07.592Z"
   },
   {
    "duration": 21,
    "start_time": "2023-08-28T15:01:07.651Z"
   },
   {
    "duration": 42,
    "start_time": "2023-08-28T15:01:07.674Z"
   },
   {
    "duration": 44,
    "start_time": "2023-08-28T15:01:07.717Z"
   },
   {
    "duration": 39,
    "start_time": "2023-08-28T15:01:07.763Z"
   },
   {
    "duration": 31,
    "start_time": "2023-08-28T15:01:07.804Z"
   },
   {
    "duration": 5,
    "start_time": "2023-08-28T15:01:07.837Z"
   },
   {
    "duration": 72,
    "start_time": "2023-08-28T15:01:07.844Z"
   },
   {
    "duration": 16,
    "start_time": "2023-08-28T15:01:07.918Z"
   },
   {
    "duration": 37,
    "start_time": "2023-08-28T15:01:07.936Z"
   },
   {
    "duration": 40,
    "start_time": "2023-08-28T15:01:07.975Z"
   },
   {
    "duration": 48,
    "start_time": "2023-08-28T15:01:08.017Z"
   },
   {
    "duration": 62,
    "start_time": "2023-08-28T15:01:08.067Z"
   },
   {
    "duration": 10,
    "start_time": "2023-08-28T15:01:08.130Z"
   },
   {
    "duration": 42,
    "start_time": "2023-08-28T15:01:08.142Z"
   },
   {
    "duration": 15,
    "start_time": "2023-08-28T15:01:08.186Z"
   },
   {
    "duration": 10,
    "start_time": "2023-08-28T15:27:22.988Z"
   },
   {
    "duration": 14,
    "start_time": "2023-08-28T15:27:25.660Z"
   },
   {
    "duration": 9,
    "start_time": "2023-08-28T15:27:27.548Z"
   },
   {
    "duration": 10,
    "start_time": "2023-08-28T15:29:15.197Z"
   },
   {
    "duration": 14,
    "start_time": "2023-08-28T15:29:17.283Z"
   },
   {
    "duration": 9,
    "start_time": "2023-08-28T15:29:18.818Z"
   },
   {
    "duration": 70,
    "start_time": "2023-08-28T15:40:04.347Z"
   },
   {
    "duration": 16,
    "start_time": "2023-08-28T15:40:19.867Z"
   },
   {
    "duration": 9,
    "start_time": "2023-08-28T15:40:21.348Z"
   },
   {
    "duration": 17,
    "start_time": "2023-08-28T15:43:36.812Z"
   },
   {
    "duration": 17,
    "start_time": "2023-08-28T15:43:51.660Z"
   },
   {
    "duration": 156,
    "start_time": "2023-08-28T15:44:45.651Z"
   },
   {
    "duration": 18,
    "start_time": "2023-08-28T15:45:30.875Z"
   },
   {
    "duration": 19,
    "start_time": "2023-08-28T15:45:37.403Z"
   },
   {
    "duration": 17,
    "start_time": "2023-08-28T15:45:46.610Z"
   },
   {
    "duration": 24,
    "start_time": "2023-08-28T15:48:06.897Z"
   },
   {
    "duration": 4,
    "start_time": "2023-08-28T16:05:38.213Z"
   },
   {
    "duration": 5,
    "start_time": "2023-08-28T16:05:48.394Z"
   },
   {
    "duration": 27,
    "start_time": "2023-08-28T16:12:14.232Z"
   },
   {
    "duration": 20,
    "start_time": "2023-08-28T16:13:06.293Z"
   },
   {
    "duration": 11,
    "start_time": "2023-08-28T16:28:40.229Z"
   },
   {
    "duration": 505,
    "start_time": "2023-08-28T16:30:08.385Z"
   },
   {
    "duration": 24,
    "start_time": "2023-08-28T16:30:08.892Z"
   },
   {
    "duration": 17,
    "start_time": "2023-08-28T16:30:08.918Z"
   },
   {
    "duration": 10,
    "start_time": "2023-08-28T16:30:08.937Z"
   },
   {
    "duration": 59,
    "start_time": "2023-08-28T16:30:08.949Z"
   },
   {
    "duration": 4,
    "start_time": "2023-08-28T16:30:09.009Z"
   },
   {
    "duration": 11,
    "start_time": "2023-08-28T16:30:09.014Z"
   },
   {
    "duration": 4,
    "start_time": "2023-08-28T16:30:09.026Z"
   },
   {
    "duration": 10,
    "start_time": "2023-08-28T16:30:09.031Z"
   },
   {
    "duration": 6,
    "start_time": "2023-08-28T16:30:09.045Z"
   },
   {
    "duration": 62,
    "start_time": "2023-08-28T16:30:09.053Z"
   },
   {
    "duration": 11,
    "start_time": "2023-08-28T16:30:09.116Z"
   },
   {
    "duration": 5,
    "start_time": "2023-08-28T16:30:09.129Z"
   },
   {
    "duration": 16,
    "start_time": "2023-08-28T16:30:09.135Z"
   },
   {
    "duration": 45,
    "start_time": "2023-08-28T16:30:09.153Z"
   },
   {
    "duration": 19,
    "start_time": "2023-08-28T16:30:09.200Z"
   },
   {
    "duration": 4,
    "start_time": "2023-08-28T16:30:09.221Z"
   },
   {
    "duration": 14,
    "start_time": "2023-08-28T16:30:09.227Z"
   },
   {
    "duration": 6,
    "start_time": "2023-08-28T16:30:09.242Z"
   },
   {
    "duration": 7,
    "start_time": "2023-08-28T16:30:09.250Z"
   },
   {
    "duration": 9,
    "start_time": "2023-08-28T16:30:09.281Z"
   },
   {
    "duration": 23,
    "start_time": "2023-08-28T16:30:09.292Z"
   },
   {
    "duration": 12,
    "start_time": "2023-08-28T16:30:09.317Z"
   },
   {
    "duration": 21,
    "start_time": "2023-08-28T16:30:09.331Z"
   },
   {
    "duration": 47,
    "start_time": "2023-08-28T16:30:09.354Z"
   },
   {
    "duration": 2,
    "start_time": "2023-08-28T16:30:09.403Z"
   },
   {
    "duration": 26,
    "start_time": "2023-08-28T16:30:36.919Z"
   },
   {
    "duration": 21,
    "start_time": "2023-08-28T16:30:43.277Z"
   },
   {
    "duration": 9,
    "start_time": "2023-08-28T16:33:16.140Z"
   },
   {
    "duration": 21,
    "start_time": "2023-08-28T16:33:25.756Z"
   },
   {
    "duration": 15,
    "start_time": "2023-08-28T16:33:49.764Z"
   },
   {
    "duration": 14,
    "start_time": "2023-08-28T16:34:04.709Z"
   },
   {
    "duration": 12,
    "start_time": "2023-08-28T16:34:06.287Z"
   },
   {
    "duration": 107,
    "start_time": "2023-08-28T16:56:44.731Z"
   },
   {
    "duration": 104,
    "start_time": "2023-08-28T16:58:19.729Z"
   },
   {
    "duration": 22,
    "start_time": "2023-08-28T16:58:32.393Z"
   },
   {
    "duration": 10,
    "start_time": "2023-08-28T16:59:17.289Z"
   },
   {
    "duration": 19,
    "start_time": "2023-08-28T20:22:03.058Z"
   },
   {
    "duration": 5,
    "start_time": "2023-08-28T20:22:12.409Z"
   },
   {
    "duration": 515,
    "start_time": "2023-08-28T20:22:19.155Z"
   },
   {
    "duration": 24,
    "start_time": "2023-08-28T20:22:19.672Z"
   },
   {
    "duration": 15,
    "start_time": "2023-08-28T20:22:19.698Z"
   },
   {
    "duration": 20,
    "start_time": "2023-08-28T20:22:19.715Z"
   },
   {
    "duration": 53,
    "start_time": "2023-08-28T20:22:19.736Z"
   },
   {
    "duration": 4,
    "start_time": "2023-08-28T20:22:19.791Z"
   },
   {
    "duration": 29,
    "start_time": "2023-08-28T20:22:19.796Z"
   },
   {
    "duration": 8,
    "start_time": "2023-08-28T20:22:19.827Z"
   },
   {
    "duration": 36,
    "start_time": "2023-08-28T20:22:19.836Z"
   },
   {
    "duration": 11,
    "start_time": "2023-08-28T20:22:19.875Z"
   },
   {
    "duration": 82,
    "start_time": "2023-08-28T20:22:19.888Z"
   },
   {
    "duration": 10,
    "start_time": "2023-08-28T20:22:19.972Z"
   },
   {
    "duration": 48,
    "start_time": "2023-08-28T20:22:19.984Z"
   },
   {
    "duration": 28,
    "start_time": "2023-08-28T20:22:20.034Z"
   },
   {
    "duration": 36,
    "start_time": "2023-08-28T20:22:20.064Z"
   },
   {
    "duration": 17,
    "start_time": "2023-08-28T20:22:20.102Z"
   },
   {
    "duration": 3,
    "start_time": "2023-08-28T20:22:20.121Z"
   },
   {
    "duration": 46,
    "start_time": "2023-08-28T20:22:20.126Z"
   },
   {
    "duration": 11,
    "start_time": "2023-08-28T20:22:20.174Z"
   },
   {
    "duration": 7,
    "start_time": "2023-08-28T20:22:20.186Z"
   },
   {
    "duration": 17,
    "start_time": "2023-08-28T20:22:20.194Z"
   },
   {
    "duration": 28,
    "start_time": "2023-08-28T20:22:20.212Z"
   },
   {
    "duration": 12,
    "start_time": "2023-08-28T20:22:20.243Z"
   },
   {
    "duration": 28,
    "start_time": "2023-08-28T20:22:20.257Z"
   },
   {
    "duration": 26,
    "start_time": "2023-08-28T20:22:20.287Z"
   },
   {
    "duration": 52,
    "start_time": "2023-08-28T20:22:20.314Z"
   },
   {
    "duration": 44,
    "start_time": "2023-08-28T20:22:20.368Z"
   },
   {
    "duration": 34,
    "start_time": "2023-08-28T20:22:20.415Z"
   },
   {
    "duration": 21,
    "start_time": "2023-08-28T20:22:20.451Z"
   },
   {
    "duration": 8,
    "start_time": "2023-08-28T20:22:38.339Z"
   },
   {
    "duration": 501,
    "start_time": "2023-08-28T20:22:47.608Z"
   },
   {
    "duration": 24,
    "start_time": "2023-08-28T20:22:48.111Z"
   },
   {
    "duration": 18,
    "start_time": "2023-08-28T20:22:48.137Z"
   },
   {
    "duration": 33,
    "start_time": "2023-08-28T20:22:48.157Z"
   },
   {
    "duration": 107,
    "start_time": "2023-08-28T20:22:48.192Z"
   },
   {
    "duration": 5,
    "start_time": "2023-08-28T20:22:48.301Z"
   },
   {
    "duration": 27,
    "start_time": "2023-08-28T20:22:48.307Z"
   },
   {
    "duration": 5,
    "start_time": "2023-08-28T20:22:48.337Z"
   },
   {
    "duration": 10,
    "start_time": "2023-08-28T20:22:48.344Z"
   },
   {
    "duration": 18,
    "start_time": "2023-08-28T20:22:48.357Z"
   },
   {
    "duration": 55,
    "start_time": "2023-08-28T20:22:48.377Z"
   },
   {
    "duration": 10,
    "start_time": "2023-08-28T20:22:48.434Z"
   },
   {
    "duration": 14,
    "start_time": "2023-08-28T20:22:48.445Z"
   },
   {
    "duration": 15,
    "start_time": "2023-08-28T20:22:48.461Z"
   },
   {
    "duration": 28,
    "start_time": "2023-08-28T20:22:48.477Z"
   },
   {
    "duration": 18,
    "start_time": "2023-08-28T20:22:48.507Z"
   },
   {
    "duration": 5,
    "start_time": "2023-08-28T20:22:48.527Z"
   },
   {
    "duration": 17,
    "start_time": "2023-08-28T20:22:48.534Z"
   },
   {
    "duration": 9,
    "start_time": "2023-08-28T20:22:48.553Z"
   },
   {
    "duration": 30,
    "start_time": "2023-08-28T20:22:48.564Z"
   },
   {
    "duration": 11,
    "start_time": "2023-08-28T20:22:48.596Z"
   },
   {
    "duration": 19,
    "start_time": "2023-08-28T20:22:48.609Z"
   },
   {
    "duration": 16,
    "start_time": "2023-08-28T20:22:48.630Z"
   },
   {
    "duration": 20,
    "start_time": "2023-08-28T20:22:48.647Z"
   },
   {
    "duration": 30,
    "start_time": "2023-08-28T20:22:48.670Z"
   },
   {
    "duration": 16,
    "start_time": "2023-08-28T20:22:48.702Z"
   },
   {
    "duration": 10,
    "start_time": "2023-08-28T20:22:48.720Z"
   },
   {
    "duration": 18,
    "start_time": "2023-08-28T20:22:48.733Z"
   },
   {
    "duration": 28,
    "start_time": "2023-08-28T20:22:48.753Z"
   },
   {
    "duration": 6,
    "start_time": "2023-08-28T20:23:08.262Z"
   },
   {
    "duration": 524,
    "start_time": "2023-08-28T20:23:15.235Z"
   },
   {
    "duration": 25,
    "start_time": "2023-08-28T20:23:15.761Z"
   },
   {
    "duration": 18,
    "start_time": "2023-08-28T20:23:15.788Z"
   },
   {
    "duration": 11,
    "start_time": "2023-08-28T20:23:15.809Z"
   },
   {
    "duration": 37,
    "start_time": "2023-08-28T20:23:15.822Z"
   },
   {
    "duration": 25,
    "start_time": "2023-08-28T20:23:15.861Z"
   },
   {
    "duration": 12,
    "start_time": "2023-08-28T20:23:15.891Z"
   },
   {
    "duration": 5,
    "start_time": "2023-08-28T20:23:15.905Z"
   },
   {
    "duration": 11,
    "start_time": "2023-08-28T20:23:15.912Z"
   },
   {
    "duration": 5,
    "start_time": "2023-08-28T20:23:15.926Z"
   },
   {
    "duration": 72,
    "start_time": "2023-08-28T20:23:15.932Z"
   },
   {
    "duration": 18,
    "start_time": "2023-08-28T20:23:16.007Z"
   },
   {
    "duration": 5,
    "start_time": "2023-08-28T20:23:16.026Z"
   },
   {
    "duration": 19,
    "start_time": "2023-08-28T20:23:16.032Z"
   },
   {
    "duration": 49,
    "start_time": "2023-08-28T20:23:16.053Z"
   },
   {
    "duration": 23,
    "start_time": "2023-08-28T20:23:16.104Z"
   },
   {
    "duration": 4,
    "start_time": "2023-08-28T20:23:16.129Z"
   },
   {
    "duration": 14,
    "start_time": "2023-08-28T20:23:16.135Z"
   },
   {
    "duration": 9,
    "start_time": "2023-08-28T20:23:16.150Z"
   },
   {
    "duration": 4,
    "start_time": "2023-08-28T20:23:16.160Z"
   },
   {
    "duration": 31,
    "start_time": "2023-08-28T20:23:16.165Z"
   },
   {
    "duration": 20,
    "start_time": "2023-08-28T20:23:16.204Z"
   },
   {
    "duration": 10,
    "start_time": "2023-08-28T20:23:16.226Z"
   },
   {
    "duration": 15,
    "start_time": "2023-08-28T20:23:16.238Z"
   },
   {
    "duration": 41,
    "start_time": "2023-08-28T20:23:16.255Z"
   },
   {
    "duration": 21,
    "start_time": "2023-08-28T20:23:16.297Z"
   },
   {
    "duration": 11,
    "start_time": "2023-08-28T20:23:16.320Z"
   },
   {
    "duration": 16,
    "start_time": "2023-08-28T20:23:16.335Z"
   },
   {
    "duration": 44,
    "start_time": "2023-08-28T20:23:16.353Z"
   },
   {
    "duration": 5,
    "start_time": "2023-08-28T20:24:10.746Z"
   },
   {
    "duration": 560,
    "start_time": "2023-08-28T20:24:16.505Z"
   },
   {
    "duration": 36,
    "start_time": "2023-08-28T20:24:17.067Z"
   },
   {
    "duration": 6,
    "start_time": "2023-08-28T20:24:17.105Z"
   },
   {
    "duration": 13,
    "start_time": "2023-08-28T20:24:17.113Z"
   },
   {
    "duration": 37,
    "start_time": "2023-08-28T20:24:17.128Z"
   },
   {
    "duration": 16,
    "start_time": "2023-08-28T20:24:17.167Z"
   },
   {
    "duration": 16,
    "start_time": "2023-08-28T20:24:17.185Z"
   },
   {
    "duration": 10,
    "start_time": "2023-08-28T20:24:17.209Z"
   },
   {
    "duration": 12,
    "start_time": "2023-08-28T20:24:17.222Z"
   },
   {
    "duration": 9,
    "start_time": "2023-08-28T20:24:17.237Z"
   },
   {
    "duration": 72,
    "start_time": "2023-08-28T20:24:17.248Z"
   },
   {
    "duration": 15,
    "start_time": "2023-08-28T20:24:17.322Z"
   },
   {
    "duration": 7,
    "start_time": "2023-08-28T20:24:17.338Z"
   },
   {
    "duration": 16,
    "start_time": "2023-08-28T20:24:17.346Z"
   },
   {
    "duration": 40,
    "start_time": "2023-08-28T20:24:17.363Z"
   },
   {
    "duration": 17,
    "start_time": "2023-08-28T20:24:17.404Z"
   },
   {
    "duration": 3,
    "start_time": "2023-08-28T20:24:17.423Z"
   },
   {
    "duration": 19,
    "start_time": "2023-08-28T20:24:17.428Z"
   },
   {
    "duration": 6,
    "start_time": "2023-08-28T20:24:17.448Z"
   },
   {
    "duration": 3,
    "start_time": "2023-08-28T20:24:17.456Z"
   },
   {
    "duration": 12,
    "start_time": "2023-08-28T20:24:17.488Z"
   },
   {
    "duration": 18,
    "start_time": "2023-08-28T20:24:17.502Z"
   },
   {
    "duration": 8,
    "start_time": "2023-08-28T20:24:17.522Z"
   },
   {
    "duration": 16,
    "start_time": "2023-08-28T20:24:17.532Z"
   },
   {
    "duration": 10,
    "start_time": "2023-08-28T20:24:17.550Z"
   },
   {
    "duration": 18,
    "start_time": "2023-08-28T20:24:17.585Z"
   },
   {
    "duration": 10,
    "start_time": "2023-08-28T20:24:17.605Z"
   },
   {
    "duration": 15,
    "start_time": "2023-08-28T20:24:17.619Z"
   },
   {
    "duration": 10,
    "start_time": "2023-08-28T20:24:17.637Z"
   },
   {
    "duration": 5,
    "start_time": "2023-08-28T20:25:11.564Z"
   },
   {
    "duration": 473,
    "start_time": "2023-08-28T20:25:19.438Z"
   },
   {
    "duration": 22,
    "start_time": "2023-08-28T20:25:19.913Z"
   },
   {
    "duration": 18,
    "start_time": "2023-08-28T20:25:19.937Z"
   },
   {
    "duration": 43,
    "start_time": "2023-08-28T20:25:19.958Z"
   },
   {
    "duration": 54,
    "start_time": "2023-08-28T20:25:20.004Z"
   },
   {
    "duration": 4,
    "start_time": "2023-08-28T20:25:20.060Z"
   },
   {
    "duration": 43,
    "start_time": "2023-08-28T20:25:20.066Z"
   },
   {
    "duration": 20,
    "start_time": "2023-08-28T20:25:20.111Z"
   },
   {
    "duration": 53,
    "start_time": "2023-08-28T20:25:20.133Z"
   },
   {
    "duration": 15,
    "start_time": "2023-08-28T20:25:20.195Z"
   },
   {
    "duration": 67,
    "start_time": "2023-08-28T20:25:20.212Z"
   },
   {
    "duration": 18,
    "start_time": "2023-08-28T20:25:20.281Z"
   },
   {
    "duration": 30,
    "start_time": "2023-08-28T20:25:20.301Z"
   },
   {
    "duration": 31,
    "start_time": "2023-08-28T20:25:20.333Z"
   },
   {
    "duration": 41,
    "start_time": "2023-08-28T20:25:20.366Z"
   },
   {
    "duration": 26,
    "start_time": "2023-08-28T20:25:20.409Z"
   },
   {
    "duration": 3,
    "start_time": "2023-08-28T20:25:20.437Z"
   },
   {
    "duration": 51,
    "start_time": "2023-08-28T20:25:20.442Z"
   },
   {
    "duration": 21,
    "start_time": "2023-08-28T20:25:20.498Z"
   },
   {
    "duration": 29,
    "start_time": "2023-08-28T20:25:20.521Z"
   },
   {
    "duration": 24,
    "start_time": "2023-08-28T20:25:20.552Z"
   },
   {
    "duration": 52,
    "start_time": "2023-08-28T20:25:20.578Z"
   },
   {
    "duration": 15,
    "start_time": "2023-08-28T20:25:20.631Z"
   },
   {
    "duration": 46,
    "start_time": "2023-08-28T20:25:20.648Z"
   },
   {
    "duration": 31,
    "start_time": "2023-08-28T20:25:20.696Z"
   },
   {
    "duration": 26,
    "start_time": "2023-08-28T20:25:20.729Z"
   },
   {
    "duration": 38,
    "start_time": "2023-08-28T20:25:20.757Z"
   },
   {
    "duration": 20,
    "start_time": "2023-08-28T20:25:20.800Z"
   },
   {
    "duration": 15,
    "start_time": "2023-08-28T20:25:20.822Z"
   },
   {
    "duration": 4,
    "start_time": "2023-08-28T20:25:31.016Z"
   },
   {
    "duration": 473,
    "start_time": "2023-08-28T20:25:38.244Z"
   },
   {
    "duration": 22,
    "start_time": "2023-08-28T20:25:38.720Z"
   },
   {
    "duration": 5,
    "start_time": "2023-08-28T20:25:38.744Z"
   },
   {
    "duration": 20,
    "start_time": "2023-08-28T20:25:38.751Z"
   },
   {
    "duration": 50,
    "start_time": "2023-08-28T20:25:38.772Z"
   },
   {
    "duration": 3,
    "start_time": "2023-08-28T20:25:38.824Z"
   },
   {
    "duration": 12,
    "start_time": "2023-08-28T20:25:38.828Z"
   },
   {
    "duration": 5,
    "start_time": "2023-08-28T20:25:38.842Z"
   },
   {
    "duration": 38,
    "start_time": "2023-08-28T20:25:38.848Z"
   },
   {
    "duration": 5,
    "start_time": "2023-08-28T20:25:38.898Z"
   },
   {
    "duration": 42,
    "start_time": "2023-08-28T20:25:38.904Z"
   },
   {
    "duration": 10,
    "start_time": "2023-08-28T20:25:38.948Z"
   },
   {
    "duration": 8,
    "start_time": "2023-08-28T20:25:38.960Z"
   },
   {
    "duration": 27,
    "start_time": "2023-08-28T20:25:38.969Z"
   },
   {
    "duration": 30,
    "start_time": "2023-08-28T20:25:38.999Z"
   },
   {
    "duration": 19,
    "start_time": "2023-08-28T20:25:39.031Z"
   },
   {
    "duration": 4,
    "start_time": "2023-08-28T20:25:39.051Z"
   },
   {
    "duration": 34,
    "start_time": "2023-08-28T20:25:39.056Z"
   },
   {
    "duration": 9,
    "start_time": "2023-08-28T20:25:39.092Z"
   },
   {
    "duration": 11,
    "start_time": "2023-08-28T20:25:39.103Z"
   },
   {
    "duration": 15,
    "start_time": "2023-08-28T20:25:39.116Z"
   },
   {
    "duration": 25,
    "start_time": "2023-08-28T20:25:39.133Z"
   },
   {
    "duration": 34,
    "start_time": "2023-08-28T20:25:39.160Z"
   },
   {
    "duration": 18,
    "start_time": "2023-08-28T20:25:39.195Z"
   },
   {
    "duration": 10,
    "start_time": "2023-08-28T20:25:39.215Z"
   },
   {
    "duration": 19,
    "start_time": "2023-08-28T20:25:39.227Z"
   },
   {
    "duration": 47,
    "start_time": "2023-08-28T20:25:39.248Z"
   },
   {
    "duration": 14,
    "start_time": "2023-08-28T20:25:39.298Z"
   },
   {
    "duration": 14,
    "start_time": "2023-08-28T20:25:39.314Z"
   },
   {
    "duration": 19,
    "start_time": "2023-08-28T20:25:48.825Z"
   },
   {
    "duration": 465,
    "start_time": "2023-08-28T20:25:55.030Z"
   },
   {
    "duration": 23,
    "start_time": "2023-08-28T20:25:55.497Z"
   },
   {
    "duration": 16,
    "start_time": "2023-08-28T20:25:55.522Z"
   },
   {
    "duration": 10,
    "start_time": "2023-08-28T20:25:55.540Z"
   },
   {
    "duration": 63,
    "start_time": "2023-08-28T20:25:55.551Z"
   },
   {
    "duration": 4,
    "start_time": "2023-08-28T20:25:55.615Z"
   },
   {
    "duration": 17,
    "start_time": "2023-08-28T20:25:55.620Z"
   },
   {
    "duration": 9,
    "start_time": "2023-08-28T20:25:55.638Z"
   },
   {
    "duration": 10,
    "start_time": "2023-08-28T20:25:55.648Z"
   },
   {
    "duration": 5,
    "start_time": "2023-08-28T20:25:55.662Z"
   },
   {
    "duration": 42,
    "start_time": "2023-08-28T20:25:55.683Z"
   },
   {
    "duration": 10,
    "start_time": "2023-08-28T20:25:55.726Z"
   },
   {
    "duration": 19,
    "start_time": "2023-08-28T20:25:55.737Z"
   },
   {
    "duration": 20,
    "start_time": "2023-08-28T20:25:55.758Z"
   },
   {
    "duration": 28,
    "start_time": "2023-08-28T20:25:55.780Z"
   },
   {
    "duration": 18,
    "start_time": "2023-08-28T20:25:55.809Z"
   },
   {
    "duration": 4,
    "start_time": "2023-08-28T20:25:55.828Z"
   },
   {
    "duration": 12,
    "start_time": "2023-08-28T20:25:55.833Z"
   },
   {
    "duration": 39,
    "start_time": "2023-08-28T20:25:55.847Z"
   },
   {
    "duration": 5,
    "start_time": "2023-08-28T20:25:55.891Z"
   },
   {
    "duration": 12,
    "start_time": "2023-08-28T20:25:55.898Z"
   },
   {
    "duration": 20,
    "start_time": "2023-08-28T20:25:55.912Z"
   },
   {
    "duration": 9,
    "start_time": "2023-08-28T20:25:55.933Z"
   },
   {
    "duration": 14,
    "start_time": "2023-08-28T20:25:55.943Z"
   },
   {
    "duration": 31,
    "start_time": "2023-08-28T20:25:55.959Z"
   },
   {
    "duration": 18,
    "start_time": "2023-08-28T20:25:55.997Z"
   },
   {
    "duration": 13,
    "start_time": "2023-08-28T20:25:56.016Z"
   },
   {
    "duration": 18,
    "start_time": "2023-08-28T20:25:56.033Z"
   },
   {
    "duration": 44,
    "start_time": "2023-08-28T20:25:56.053Z"
   },
   {
    "duration": 5,
    "start_time": "2023-08-28T20:28:14.495Z"
   },
   {
    "duration": 6,
    "start_time": "2023-08-28T20:28:29.231Z"
   },
   {
    "duration": 510,
    "start_time": "2023-08-28T20:28:34.389Z"
   },
   {
    "duration": 23,
    "start_time": "2023-08-28T20:28:34.901Z"
   },
   {
    "duration": 15,
    "start_time": "2023-08-28T20:28:34.926Z"
   },
   {
    "duration": 10,
    "start_time": "2023-08-28T20:28:34.943Z"
   },
   {
    "duration": 57,
    "start_time": "2023-08-28T20:28:34.954Z"
   },
   {
    "duration": 4,
    "start_time": "2023-08-28T20:28:35.013Z"
   },
   {
    "duration": 11,
    "start_time": "2023-08-28T20:28:35.019Z"
   },
   {
    "duration": 19,
    "start_time": "2023-08-28T20:28:35.032Z"
   },
   {
    "duration": 22,
    "start_time": "2023-08-28T20:28:35.052Z"
   },
   {
    "duration": 22,
    "start_time": "2023-08-28T20:28:35.080Z"
   },
   {
    "duration": 38,
    "start_time": "2023-08-28T20:28:35.103Z"
   },
   {
    "duration": 10,
    "start_time": "2023-08-28T20:28:35.143Z"
   },
   {
    "duration": 6,
    "start_time": "2023-08-28T20:28:35.155Z"
   },
   {
    "duration": 25,
    "start_time": "2023-08-28T20:28:35.163Z"
   },
   {
    "duration": 38,
    "start_time": "2023-08-28T20:28:35.189Z"
   },
   {
    "duration": 20,
    "start_time": "2023-08-28T20:28:35.229Z"
   },
   {
    "duration": 5,
    "start_time": "2023-08-28T20:28:35.251Z"
   },
   {
    "duration": 39,
    "start_time": "2023-08-28T20:28:35.258Z"
   },
   {
    "duration": 6,
    "start_time": "2023-08-28T20:28:35.300Z"
   },
   {
    "duration": 3,
    "start_time": "2023-08-28T20:28:35.308Z"
   },
   {
    "duration": 13,
    "start_time": "2023-08-28T20:28:35.313Z"
   },
   {
    "duration": 18,
    "start_time": "2023-08-28T20:28:35.328Z"
   },
   {
    "duration": 10,
    "start_time": "2023-08-28T20:28:35.348Z"
   },
   {
    "duration": 20,
    "start_time": "2023-08-28T20:28:35.381Z"
   },
   {
    "duration": 10,
    "start_time": "2023-08-28T20:28:35.403Z"
   },
   {
    "duration": 14,
    "start_time": "2023-08-28T20:28:35.414Z"
   },
   {
    "duration": 9,
    "start_time": "2023-08-28T20:28:35.430Z"
   },
   {
    "duration": 49,
    "start_time": "2023-08-28T20:28:35.442Z"
   },
   {
    "duration": 13,
    "start_time": "2023-08-28T20:28:35.493Z"
   },
   {
    "duration": 18,
    "start_time": "2023-08-28T20:35:22.219Z"
   },
   {
    "duration": 69,
    "start_time": "2023-08-28T20:38:31.808Z"
   },
   {
    "duration": 10,
    "start_time": "2023-08-28T20:38:39.545Z"
   },
   {
    "duration": 5,
    "start_time": "2023-08-28T20:38:48.872Z"
   },
   {
    "duration": 30,
    "start_time": "2023-08-28T20:39:02.323Z"
   },
   {
    "duration": 20,
    "start_time": "2023-08-28T20:47:00.818Z"
   },
   {
    "duration": 9,
    "start_time": "2023-08-28T20:48:25.106Z"
   },
   {
    "duration": 585,
    "start_time": "2023-08-28T20:48:31.143Z"
   },
   {
    "duration": 25,
    "start_time": "2023-08-28T20:48:31.730Z"
   },
   {
    "duration": 97,
    "start_time": "2023-08-28T20:48:31.756Z"
   },
   {
    "duration": 15,
    "start_time": "2023-08-28T20:48:31.855Z"
   },
   {
    "duration": 70,
    "start_time": "2023-08-28T20:48:31.872Z"
   },
   {
    "duration": 4,
    "start_time": "2023-08-28T20:48:31.944Z"
   },
   {
    "duration": 36,
    "start_time": "2023-08-28T20:48:31.950Z"
   },
   {
    "duration": 33,
    "start_time": "2023-08-28T20:48:31.989Z"
   },
   {
    "duration": 21,
    "start_time": "2023-08-28T20:48:32.024Z"
   },
   {
    "duration": 24,
    "start_time": "2023-08-28T20:48:32.048Z"
   },
   {
    "duration": 58,
    "start_time": "2023-08-28T20:48:32.073Z"
   },
   {
    "duration": 10,
    "start_time": "2023-08-28T20:48:32.133Z"
   },
   {
    "duration": 23,
    "start_time": "2023-08-28T20:48:32.145Z"
   },
   {
    "duration": 43,
    "start_time": "2023-08-28T20:48:32.170Z"
   },
   {
    "duration": 33,
    "start_time": "2023-08-28T20:48:32.217Z"
   },
   {
    "duration": 21,
    "start_time": "2023-08-28T20:48:32.252Z"
   },
   {
    "duration": 16,
    "start_time": "2023-08-28T20:48:32.274Z"
   },
   {
    "duration": 34,
    "start_time": "2023-08-28T20:48:32.296Z"
   },
   {
    "duration": 38,
    "start_time": "2023-08-28T20:48:32.332Z"
   },
   {
    "duration": 21,
    "start_time": "2023-08-28T20:48:32.373Z"
   },
   {
    "duration": 45,
    "start_time": "2023-08-28T20:48:32.399Z"
   },
   {
    "duration": 34,
    "start_time": "2023-08-28T20:48:32.446Z"
   },
   {
    "duration": 13,
    "start_time": "2023-08-28T20:48:32.482Z"
   },
   {
    "duration": 29,
    "start_time": "2023-08-28T20:48:32.498Z"
   },
   {
    "duration": 14,
    "start_time": "2023-08-28T20:48:32.530Z"
   },
   {
    "duration": 25,
    "start_time": "2023-08-28T20:48:32.546Z"
   },
   {
    "duration": 28,
    "start_time": "2023-08-28T20:48:32.583Z"
   },
   {
    "duration": 24,
    "start_time": "2023-08-28T20:48:32.616Z"
   },
   {
    "duration": 13,
    "start_time": "2023-08-28T20:48:32.643Z"
   },
   {
    "duration": 18,
    "start_time": "2023-08-28T20:48:58.635Z"
   },
   {
    "duration": 582,
    "start_time": "2023-08-28T21:11:38.366Z"
   },
   {
    "duration": 22,
    "start_time": "2023-08-28T21:11:38.950Z"
   },
   {
    "duration": 38,
    "start_time": "2023-08-28T21:11:38.974Z"
   },
   {
    "duration": 12,
    "start_time": "2023-08-28T21:11:39.016Z"
   },
   {
    "duration": 44,
    "start_time": "2023-08-28T21:11:39.030Z"
   },
   {
    "duration": 27,
    "start_time": "2023-08-28T21:11:39.076Z"
   },
   {
    "duration": 14,
    "start_time": "2023-08-28T21:11:39.106Z"
   },
   {
    "duration": 6,
    "start_time": "2023-08-28T21:11:39.122Z"
   },
   {
    "duration": 8,
    "start_time": "2023-08-28T21:11:39.130Z"
   },
   {
    "duration": 6,
    "start_time": "2023-08-28T21:11:39.142Z"
   },
   {
    "duration": 70,
    "start_time": "2023-08-28T21:11:39.150Z"
   },
   {
    "duration": 11,
    "start_time": "2023-08-28T21:11:39.223Z"
   },
   {
    "duration": 22,
    "start_time": "2023-08-28T21:11:39.236Z"
   },
   {
    "duration": 19,
    "start_time": "2023-08-28T21:11:39.259Z"
   },
   {
    "duration": 38,
    "start_time": "2023-08-28T21:11:39.280Z"
   },
   {
    "duration": 20,
    "start_time": "2023-08-28T21:11:39.320Z"
   },
   {
    "duration": 5,
    "start_time": "2023-08-28T21:11:39.341Z"
   },
   {
    "duration": 24,
    "start_time": "2023-08-28T21:11:39.348Z"
   },
   {
    "duration": 24,
    "start_time": "2023-08-28T21:11:39.374Z"
   },
   {
    "duration": 6,
    "start_time": "2023-08-28T21:11:39.400Z"
   },
   {
    "duration": 16,
    "start_time": "2023-08-28T21:11:39.407Z"
   },
   {
    "duration": 21,
    "start_time": "2023-08-28T21:11:39.425Z"
   },
   {
    "duration": 10,
    "start_time": "2023-08-28T21:11:39.448Z"
   },
   {
    "duration": 35,
    "start_time": "2023-08-28T21:11:39.460Z"
   },
   {
    "duration": 11,
    "start_time": "2023-08-28T21:11:39.498Z"
   },
   {
    "duration": 13,
    "start_time": "2023-08-28T21:11:39.511Z"
   },
   {
    "duration": 10,
    "start_time": "2023-08-28T21:11:39.526Z"
   },
   {
    "duration": 45,
    "start_time": "2023-08-28T21:11:39.539Z"
   },
   {
    "duration": 14,
    "start_time": "2023-08-28T21:11:39.592Z"
   },
   {
    "duration": 524,
    "start_time": "2023-08-28T21:22:00.425Z"
   },
   {
    "duration": 22,
    "start_time": "2023-08-28T21:22:00.951Z"
   },
   {
    "duration": 48,
    "start_time": "2023-08-28T21:22:00.974Z"
   },
   {
    "duration": 53,
    "start_time": "2023-08-28T21:22:01.024Z"
   },
   {
    "duration": 58,
    "start_time": "2023-08-28T21:22:01.080Z"
   },
   {
    "duration": 9,
    "start_time": "2023-08-28T21:22:01.140Z"
   },
   {
    "duration": 30,
    "start_time": "2023-08-28T21:22:01.151Z"
   },
   {
    "duration": 31,
    "start_time": "2023-08-28T21:22:01.183Z"
   },
   {
    "duration": 57,
    "start_time": "2023-08-28T21:22:01.216Z"
   },
   {
    "duration": 39,
    "start_time": "2023-08-28T21:22:01.274Z"
   },
   {
    "duration": 80,
    "start_time": "2023-08-28T21:22:01.315Z"
   },
   {
    "duration": 11,
    "start_time": "2023-08-28T21:22:01.396Z"
   },
   {
    "duration": 17,
    "start_time": "2023-08-28T21:22:01.410Z"
   },
   {
    "duration": 48,
    "start_time": "2023-08-28T21:22:01.430Z"
   },
   {
    "duration": 77,
    "start_time": "2023-08-28T21:22:01.480Z"
   },
   {
    "duration": 103,
    "start_time": "2023-08-28T21:22:01.558Z"
   },
   {
    "duration": 251,
    "start_time": "2023-08-28T21:22:01.663Z"
   },
   {
    "duration": 383,
    "start_time": "2023-08-28T21:22:01.916Z"
   },
   {
    "duration": 124,
    "start_time": "2023-08-28T21:22:02.301Z"
   },
   {
    "duration": 70,
    "start_time": "2023-08-28T21:22:02.427Z"
   },
   {
    "duration": 387,
    "start_time": "2023-08-28T21:22:02.500Z"
   },
   {
    "duration": 293,
    "start_time": "2023-08-28T21:22:02.889Z"
   },
   {
    "duration": 69,
    "start_time": "2023-08-28T21:22:03.184Z"
   },
   {
    "duration": 41,
    "start_time": "2023-08-28T21:22:03.255Z"
   },
   {
    "duration": 21,
    "start_time": "2023-08-28T21:22:03.298Z"
   },
   {
    "duration": 35,
    "start_time": "2023-08-28T21:22:03.321Z"
   },
   {
    "duration": 38,
    "start_time": "2023-08-28T21:22:03.357Z"
   },
   {
    "duration": 54,
    "start_time": "2023-08-28T21:22:03.397Z"
   },
   {
    "duration": 34,
    "start_time": "2023-08-28T21:22:03.452Z"
   },
   {
    "duration": 62,
    "start_time": "2023-08-29T07:11:15.012Z"
   },
   {
    "duration": 749,
    "start_time": "2023-08-29T07:11:25.489Z"
   },
   {
    "duration": 30,
    "start_time": "2023-08-29T07:11:26.240Z"
   },
   {
    "duration": 29,
    "start_time": "2023-08-29T07:11:26.273Z"
   },
   {
    "duration": 20,
    "start_time": "2023-08-29T07:11:26.305Z"
   },
   {
    "duration": 69,
    "start_time": "2023-08-29T07:11:26.326Z"
   },
   {
    "duration": 3,
    "start_time": "2023-08-29T07:11:26.398Z"
   },
   {
    "duration": 47,
    "start_time": "2023-08-29T07:11:26.403Z"
   },
   {
    "duration": 25,
    "start_time": "2023-08-29T07:11:26.455Z"
   },
   {
    "duration": 30,
    "start_time": "2023-08-29T07:11:26.482Z"
   },
   {
    "duration": 27,
    "start_time": "2023-08-29T07:11:26.515Z"
   },
   {
    "duration": 58,
    "start_time": "2023-08-29T07:11:26.544Z"
   },
   {
    "duration": 11,
    "start_time": "2023-08-29T07:11:26.603Z"
   },
   {
    "duration": 15,
    "start_time": "2023-08-29T07:11:26.615Z"
   },
   {
    "duration": 24,
    "start_time": "2023-08-29T07:11:26.631Z"
   },
   {
    "duration": 33,
    "start_time": "2023-08-29T07:11:26.656Z"
   },
   {
    "duration": 14,
    "start_time": "2023-08-29T07:11:26.691Z"
   },
   {
    "duration": 13,
    "start_time": "2023-08-29T07:11:26.707Z"
   },
   {
    "duration": 15,
    "start_time": "2023-08-29T07:11:26.722Z"
   },
   {
    "duration": 33,
    "start_time": "2023-08-29T07:11:26.739Z"
   },
   {
    "duration": 21,
    "start_time": "2023-08-29T07:11:26.774Z"
   },
   {
    "duration": 59,
    "start_time": "2023-08-29T07:11:26.796Z"
   },
   {
    "duration": 70,
    "start_time": "2023-08-29T07:11:26.857Z"
   },
   {
    "duration": 1752,
    "start_time": "2023-08-29T07:11:26.929Z"
   },
   {
    "duration": 0,
    "start_time": "2023-08-29T07:11:28.683Z"
   },
   {
    "duration": 0,
    "start_time": "2023-08-29T07:11:28.684Z"
   },
   {
    "duration": 0,
    "start_time": "2023-08-29T07:11:28.685Z"
   },
   {
    "duration": 0,
    "start_time": "2023-08-29T07:11:28.687Z"
   },
   {
    "duration": 0,
    "start_time": "2023-08-29T07:11:28.688Z"
   },
   {
    "duration": 0,
    "start_time": "2023-08-29T07:11:28.690Z"
   },
   {
    "duration": 20,
    "start_time": "2023-08-29T07:11:52.748Z"
   },
   {
    "duration": 13,
    "start_time": "2023-08-29T07:13:21.142Z"
   },
   {
    "duration": 20,
    "start_time": "2023-08-29T07:13:29.781Z"
   },
   {
    "duration": 17,
    "start_time": "2023-08-29T07:21:58.077Z"
   },
   {
    "duration": 8,
    "start_time": "2023-08-29T07:22:01.732Z"
   },
   {
    "duration": 53,
    "start_time": "2023-08-29T07:22:16.519Z"
   },
   {
    "duration": 23,
    "start_time": "2023-08-29T07:22:18.979Z"
   },
   {
    "duration": 7,
    "start_time": "2023-08-29T07:22:23.735Z"
   },
   {
    "duration": 23,
    "start_time": "2023-08-29T07:22:28.880Z"
   },
   {
    "duration": 8,
    "start_time": "2023-08-29T07:22:30.791Z"
   },
   {
    "duration": 20,
    "start_time": "2023-08-29T07:22:49.614Z"
   },
   {
    "duration": 25,
    "start_time": "2023-08-29T07:22:53.554Z"
   },
   {
    "duration": 13,
    "start_time": "2023-08-29T07:27:57.747Z"
   },
   {
    "duration": 10,
    "start_time": "2023-08-29T07:28:18.296Z"
   },
   {
    "duration": 25,
    "start_time": "2023-08-29T07:30:08.737Z"
   },
   {
    "duration": 12,
    "start_time": "2023-08-29T07:30:09.512Z"
   },
   {
    "duration": 12,
    "start_time": "2023-08-29T07:30:33.696Z"
   },
   {
    "duration": 39,
    "start_time": "2023-08-29T07:31:17.553Z"
   },
   {
    "duration": 14,
    "start_time": "2023-08-29T07:31:18.195Z"
   },
   {
    "duration": 10,
    "start_time": "2023-08-29T07:33:05.927Z"
   },
   {
    "duration": 31,
    "start_time": "2023-08-29T07:33:08.274Z"
   },
   {
    "duration": 13,
    "start_time": "2023-08-29T07:33:09.394Z"
   },
   {
    "duration": 23,
    "start_time": "2023-08-29T07:39:54.315Z"
   },
   {
    "duration": 13,
    "start_time": "2023-08-29T07:39:55.594Z"
   },
   {
    "duration": 17,
    "start_time": "2023-08-29T07:40:11.972Z"
   },
   {
    "duration": 29,
    "start_time": "2023-08-29T07:40:17.176Z"
   },
   {
    "duration": 8,
    "start_time": "2023-08-29T07:40:18.635Z"
   },
   {
    "duration": 15,
    "start_time": "2023-08-29T07:40:31.548Z"
   },
   {
    "duration": 12,
    "start_time": "2023-08-29T07:40:46.996Z"
   },
   {
    "duration": 15,
    "start_time": "2023-08-29T07:41:00.177Z"
   },
   {
    "duration": 13,
    "start_time": "2023-08-29T07:41:16.681Z"
   },
   {
    "duration": 12,
    "start_time": "2023-08-29T07:43:05.924Z"
   },
   {
    "duration": 24,
    "start_time": "2023-08-29T07:43:08.693Z"
   },
   {
    "duration": 16,
    "start_time": "2023-08-29T07:43:09.825Z"
   },
   {
    "duration": 25,
    "start_time": "2023-08-29T07:43:29.009Z"
   },
   {
    "duration": 17,
    "start_time": "2023-08-29T07:43:32.314Z"
   },
   {
    "duration": 15,
    "start_time": "2023-08-29T09:33:29.794Z"
   },
   {
    "duration": 499,
    "start_time": "2023-08-29T09:53:11.075Z"
   },
   {
    "duration": 24,
    "start_time": "2023-08-29T09:53:11.576Z"
   },
   {
    "duration": 15,
    "start_time": "2023-08-29T09:53:11.601Z"
   },
   {
    "duration": 9,
    "start_time": "2023-08-29T09:53:11.618Z"
   },
   {
    "duration": 66,
    "start_time": "2023-08-29T09:53:11.628Z"
   },
   {
    "duration": 3,
    "start_time": "2023-08-29T09:53:11.695Z"
   },
   {
    "duration": 14,
    "start_time": "2023-08-29T09:53:11.700Z"
   },
   {
    "duration": 6,
    "start_time": "2023-08-29T09:53:11.715Z"
   },
   {
    "duration": 21,
    "start_time": "2023-08-29T09:53:11.723Z"
   },
   {
    "duration": 5,
    "start_time": "2023-08-29T09:53:11.750Z"
   },
   {
    "duration": 59,
    "start_time": "2023-08-29T09:53:11.759Z"
   },
   {
    "duration": 16,
    "start_time": "2023-08-29T09:53:11.820Z"
   },
   {
    "duration": 21,
    "start_time": "2023-08-29T09:53:11.838Z"
   },
   {
    "duration": 32,
    "start_time": "2023-08-29T09:53:11.860Z"
   },
   {
    "duration": 21,
    "start_time": "2023-08-29T09:53:11.894Z"
   },
   {
    "duration": 15,
    "start_time": "2023-08-29T09:53:11.917Z"
   },
   {
    "duration": 3,
    "start_time": "2023-08-29T09:53:11.934Z"
   },
   {
    "duration": 16,
    "start_time": "2023-08-29T09:53:11.939Z"
   },
   {
    "duration": 14,
    "start_time": "2023-08-29T09:53:11.956Z"
   },
   {
    "duration": 11,
    "start_time": "2023-08-29T09:53:11.971Z"
   },
   {
    "duration": 17,
    "start_time": "2023-08-29T09:53:11.984Z"
   },
   {
    "duration": 20,
    "start_time": "2023-08-29T09:53:12.003Z"
   },
   {
    "duration": 20,
    "start_time": "2023-08-29T09:53:12.024Z"
   },
   {
    "duration": 23,
    "start_time": "2023-08-29T09:53:12.046Z"
   },
   {
    "duration": 34,
    "start_time": "2023-08-29T09:53:12.070Z"
   },
   {
    "duration": 14,
    "start_time": "2023-08-29T09:53:12.106Z"
   },
   {
    "duration": 20,
    "start_time": "2023-08-29T09:53:12.122Z"
   },
   {
    "duration": 28,
    "start_time": "2023-08-29T09:53:12.150Z"
   },
   {
    "duration": 27,
    "start_time": "2023-08-29T09:53:12.179Z"
   },
   {
    "duration": 12,
    "start_time": "2023-08-29T09:53:12.207Z"
   },
   {
    "duration": 17,
    "start_time": "2023-08-29T09:53:55.522Z"
   },
   {
    "duration": 461,
    "start_time": "2023-08-29T09:56:12.571Z"
   },
   {
    "duration": 32,
    "start_time": "2023-08-29T09:56:13.034Z"
   },
   {
    "duration": 40,
    "start_time": "2023-08-29T09:56:13.069Z"
   },
   {
    "duration": 15,
    "start_time": "2023-08-29T09:56:13.111Z"
   },
   {
    "duration": 82,
    "start_time": "2023-08-29T09:56:13.129Z"
   },
   {
    "duration": 4,
    "start_time": "2023-08-29T09:56:13.213Z"
   },
   {
    "duration": 16,
    "start_time": "2023-08-29T09:56:13.219Z"
   },
   {
    "duration": 4,
    "start_time": "2023-08-29T09:56:13.236Z"
   },
   {
    "duration": 11,
    "start_time": "2023-08-29T09:56:13.241Z"
   },
   {
    "duration": 9,
    "start_time": "2023-08-29T09:56:13.259Z"
   },
   {
    "duration": 39,
    "start_time": "2023-08-29T09:56:13.270Z"
   },
   {
    "duration": 10,
    "start_time": "2023-08-29T09:56:13.310Z"
   },
   {
    "duration": 5,
    "start_time": "2023-08-29T09:56:13.321Z"
   },
   {
    "duration": 10,
    "start_time": "2023-08-29T09:56:13.328Z"
   },
   {
    "duration": 35,
    "start_time": "2023-08-29T09:56:13.339Z"
   },
   {
    "duration": 45,
    "start_time": "2023-08-29T09:56:13.375Z"
   },
   {
    "duration": 4,
    "start_time": "2023-08-29T09:56:13.421Z"
   },
   {
    "duration": 31,
    "start_time": "2023-08-29T09:56:13.426Z"
   },
   {
    "duration": 25,
    "start_time": "2023-08-29T09:56:13.458Z"
   },
   {
    "duration": 20,
    "start_time": "2023-08-29T09:56:13.485Z"
   },
   {
    "duration": 31,
    "start_time": "2023-08-29T09:56:13.506Z"
   },
   {
    "duration": 46,
    "start_time": "2023-08-29T09:56:13.538Z"
   },
   {
    "duration": 35,
    "start_time": "2023-08-29T09:56:13.585Z"
   },
   {
    "duration": 9,
    "start_time": "2023-08-29T09:56:13.622Z"
   },
   {
    "duration": 42,
    "start_time": "2023-08-29T09:56:13.632Z"
   },
   {
    "duration": 14,
    "start_time": "2023-08-29T09:56:13.679Z"
   },
   {
    "duration": 28,
    "start_time": "2023-08-29T09:56:13.694Z"
   },
   {
    "duration": 12,
    "start_time": "2023-08-29T09:56:13.723Z"
   },
   {
    "duration": 41,
    "start_time": "2023-08-29T09:56:13.736Z"
   },
   {
    "duration": 14,
    "start_time": "2023-08-29T09:56:13.780Z"
   },
   {
    "duration": 809,
    "start_time": "2023-08-29T18:37:21.721Z"
   },
   {
    "duration": 19,
    "start_time": "2023-08-29T18:37:22.532Z"
   },
   {
    "duration": 26,
    "start_time": "2023-08-29T18:37:22.553Z"
   },
   {
    "duration": 52,
    "start_time": "2023-08-29T18:37:22.580Z"
   },
   {
    "duration": 78,
    "start_time": "2023-08-29T18:37:22.633Z"
   },
   {
    "duration": 33,
    "start_time": "2023-08-29T18:37:22.712Z"
   },
   {
    "duration": 52,
    "start_time": "2023-08-29T18:37:22.746Z"
   },
   {
    "duration": 46,
    "start_time": "2023-08-29T18:37:22.800Z"
   },
   {
    "duration": 11,
    "start_time": "2023-08-29T18:37:22.847Z"
   },
   {
    "duration": 25,
    "start_time": "2023-08-29T18:37:22.860Z"
   },
   {
    "duration": 47,
    "start_time": "2023-08-29T18:37:22.886Z"
   },
   {
    "duration": 9,
    "start_time": "2023-08-29T18:37:22.935Z"
   },
   {
    "duration": 50,
    "start_time": "2023-08-29T18:37:22.945Z"
   },
   {
    "duration": 29,
    "start_time": "2023-08-29T18:37:22.998Z"
   },
   {
    "duration": 67,
    "start_time": "2023-08-29T18:37:23.028Z"
   },
   {
    "duration": 15,
    "start_time": "2023-08-29T18:37:23.097Z"
   },
   {
    "duration": 3,
    "start_time": "2023-08-29T18:37:23.113Z"
   },
   {
    "duration": 14,
    "start_time": "2023-08-29T18:37:23.117Z"
   },
   {
    "duration": 14,
    "start_time": "2023-08-29T18:37:23.132Z"
   },
   {
    "duration": 19,
    "start_time": "2023-08-29T18:37:23.147Z"
   },
   {
    "duration": 40,
    "start_time": "2023-08-29T18:37:23.167Z"
   },
   {
    "duration": 27,
    "start_time": "2023-08-29T18:37:23.209Z"
   },
   {
    "duration": 32,
    "start_time": "2023-08-29T18:37:23.238Z"
   },
   {
    "duration": 10,
    "start_time": "2023-08-29T18:37:23.272Z"
   },
   {
    "duration": 34,
    "start_time": "2023-08-29T18:37:23.283Z"
   },
   {
    "duration": 11,
    "start_time": "2023-08-29T18:37:23.319Z"
   },
   {
    "duration": 37,
    "start_time": "2023-08-29T18:37:23.331Z"
   },
   {
    "duration": 12,
    "start_time": "2023-08-29T18:37:23.369Z"
   },
   {
    "duration": 30,
    "start_time": "2023-08-29T18:37:23.382Z"
   },
   {
    "duration": 12,
    "start_time": "2023-08-29T18:37:23.414Z"
   },
   {
    "duration": 473,
    "start_time": "2023-08-29T18:38:41.830Z"
   }
  ],
  "colab": {
   "name": "dpp_template_part2.ipynb",
   "provenance": []
  },
  "kernelspec": {
   "display_name": "Python 3 (ipykernel)",
   "language": "python",
   "name": "python3"
  },
  "language_info": {
   "codemirror_mode": {
    "name": "ipython",
    "version": 3
   },
   "file_extension": ".py",
   "mimetype": "text/x-python",
   "name": "python",
   "nbconvert_exporter": "python",
   "pygments_lexer": "ipython3",
   "version": "3.9.5"
  },
  "toc": {
   "base_numbering": 1,
   "nav_menu": {},
   "number_sections": true,
   "sideBar": true,
   "skip_h1_title": true,
   "title_cell": "Table of Contents",
   "title_sidebar": "Contents",
   "toc_cell": false,
   "toc_position": {
    "height": "calc(100% - 180px)",
    "left": "10px",
    "top": "150px",
    "width": "220.943px"
   },
   "toc_section_display": true,
   "toc_window_display": true
  }
 },
 "nbformat": 4,
 "nbformat_minor": 5
}
