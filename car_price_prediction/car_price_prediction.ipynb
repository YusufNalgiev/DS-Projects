{
 "cells": [
  {
   "cell_type": "markdown",
   "metadata": {},
   "source": [
    "# Определение стоимости автомобилей"
   ]
  },
  {
   "cell_type": "markdown",
   "metadata": {},
   "source": [
    "<div class=\"alert alert-info\">\n",
    "<font size=\"5\"><b>Комментарий ревьюера</b></font>\n",
    "\n",
    "Привет Юсуп! Меня зовут Марат, и я буду твоим ревьюером. Спешу сообщить что все ключевые этапы в работе выполнены,  с задачей тебе удалось справиться. По поводу обращения - в IT сфере принято общаться на «ты» :) Но, если привычней на «вы», дай знать. Как ревьюера моя задача помочь тебе в развитии, дав хорошие советы. Я внимательно посмотрю твой код, ознакомлюсь с твоими выводами и оставлю комментарии. Где то могу предложить небольшие исправление в коде, но ненавязчиво. Где потребуются уточнения, я оставлю много наводящих вопросов. Они помогут тебя с поиском верного решения.\n",
    "\n",
    "Все мои комментарии размечены по цветам, для лучшего восприятия. \n",
    "    \n",
    "<div class=\"alert alert-success\">Зеленым цветом и словом «Успех» отмечены особо удачные и элегантные решения, которыми ты можешь гордиться. </div>\n",
    "        \n",
    "<div class=\"alert alert-warning\">Желтым и значком словом «Совет», помечены решения у которых есть альтернативные решения, более оптимальные. Ты можешь найти их сразу и доработать проект, или отложить это на потом, для будущих проектах. Проект будет принят и без их доработки. </div>\n",
    "        \n",
    "<div class=\"alert alert-danger\"> Красным цветом и значком словом «Ошибка» помечу твои решения, на которые стоит обратить внимание прежде всего. После их доработки проект будет принят. </div>\n",
    "        \n",
    "Залог успеха - работа сообща, взаимное уважение и работа в диалоге. Поэтому, помечай свои ответные комментарии на мои реплики заметным цветом или курсивом, так мне будет легче их отслеживать. Пожалуйста, не изменяй и не удаляй мои комментарии. Все это поможет выполнить повторную проверку быстрей.\n",
    "\n",
    "</div>"
   ]
  },
  {
   "cell_type": "markdown",
   "metadata": {},
   "source": [
    "Сервис по продаже автомобилей с пробегом «Не бит, не крашен» разрабатывает приложение для привлечения новых клиентов. В нём можно быстро узнать рыночную стоимость своего автомобиля. В вашем распоряжении исторические данные: технические характеристики, комплектации и цены автомобилей. Вам нужно построить модель для определения стоимости. \n",
    "\n",
    "Заказчику важны:\n",
    "\n",
    "- качество предсказания;\n",
    "- скорость предсказания;\n",
    "- время обучения."
   ]
  },
  {
   "cell_type": "markdown",
   "metadata": {},
   "source": [
    "# Описание данных"
   ]
  },
  {
   "cell_type": "markdown",
   "metadata": {},
   "source": [
    "Данные находятся в файле `/datasets/autos.csv`. [Скачать датасет](https://code.s3.yandex.net/datasets/autos.csv).\n",
    "\n",
    "**Признаки**\n",
    "\n",
    "- *DateCrawled* — дата скачивания анкеты из базы\n",
    "- *VehicleType* — тип автомобильного кузова\n",
    "- *RegistrationYear* — год регистрации автомобиля\n",
    "- *Gearbox* — тип коробки передач\n",
    "- *Power* — мощность (л. с.)\n",
    "- *Model* — модель автомобиля\n",
    "- *Kilometer* — пробег (км)\n",
    "- *RegistrationMonth* — месяц регистрации автомобиля\n",
    "- *FuelType* — тип топлива\n",
    "- *Brand* — марка автомобиля\n",
    "- *Repaired* — была машина в ремонте или нет\n",
    "- *DateCreated* — дата создания анкеты\n",
    "- *NumberOfPictures* — количество фотографий автомобиля\n",
    "- *PostalCode* — почтовый индекс владельца анкеты (пользователя)\n",
    "- *LastSeen* — дата последней активности пользователя\n",
    "\n",
    "**Целевой признак**\n",
    "\n",
    "*Price* — цена (евро)"
   ]
  },
  {
   "cell_type": "markdown",
   "metadata": {},
   "source": [
    "# Подготовка данных"
   ]
  },
  {
   "cell_type": "markdown",
   "metadata": {},
   "source": [
    "## Загрузка данных"
   ]
  },
  {
   "cell_type": "code",
   "execution_count": 1,
   "metadata": {},
   "outputs": [
    {
     "name": "stdout",
     "output_type": "stream",
     "text": [
      "Requirement already satisfied: missingno in c:\\users\\globa\\practicum\\practicum_env\\lib\\site-packages (0.5.2)\n",
      "Requirement already satisfied: numpy in c:\\users\\globa\\practicum\\practicum_env\\lib\\site-packages (from missingno) (1.24.3)\n",
      "Requirement already satisfied: matplotlib in c:\\users\\globa\\practicum\\practicum_env\\lib\\site-packages (from missingno) (3.7.2)\n",
      "Requirement already satisfied: scipy in c:\\users\\globa\\practicum\\practicum_env\\lib\\site-packages (from missingno) (1.11.1)\n",
      "Requirement already satisfied: seaborn in c:\\users\\globa\\practicum\\practicum_env\\lib\\site-packages (from missingno) (0.12.2)\n",
      "Requirement already satisfied: contourpy>=1.0.1 in c:\\users\\globa\\practicum\\practicum_env\\lib\\site-packages (from matplotlib->missingno) (1.1.0)\n",
      "Requirement already satisfied: cycler>=0.10 in c:\\users\\globa\\practicum\\practicum_env\\lib\\site-packages (from matplotlib->missingno) (0.11.0)\n",
      "Requirement already satisfied: fonttools>=4.22.0 in c:\\users\\globa\\practicum\\practicum_env\\lib\\site-packages (from matplotlib->missingno) (4.42.0)\n",
      "Requirement already satisfied: kiwisolver>=1.0.1 in c:\\users\\globa\\practicum\\practicum_env\\lib\\site-packages (from matplotlib->missingno) (1.4.4)\n",
      "Requirement already satisfied: packaging>=20.0 in c:\\users\\globa\\practicum\\practicum_env\\lib\\site-packages (from matplotlib->missingno) (23.1)\n",
      "Requirement already satisfied: pillow>=6.2.0 in c:\\users\\globa\\practicum\\practicum_env\\lib\\site-packages (from matplotlib->missingno) (10.0.0)\n",
      "Requirement already satisfied: pyparsing<3.1,>=2.3.1 in c:\\users\\globa\\practicum\\practicum_env\\lib\\site-packages (from matplotlib->missingno) (3.0.9)\n",
      "Requirement already satisfied: python-dateutil>=2.7 in c:\\users\\globa\\practicum\\practicum_env\\lib\\site-packages (from matplotlib->missingno) (2.8.2)\n",
      "Requirement already satisfied: importlib-resources>=3.2.0 in c:\\users\\globa\\practicum\\practicum_env\\lib\\site-packages (from matplotlib->missingno) (6.0.0)\n",
      "Requirement already satisfied: pandas>=0.25 in c:\\users\\globa\\practicum\\practicum_env\\lib\\site-packages (from seaborn->missingno) (2.0.3)\n",
      "Requirement already satisfied: zipp>=3.1.0 in c:\\users\\globa\\practicum\\practicum_env\\lib\\site-packages (from importlib-resources>=3.2.0->matplotlib->missingno) (3.16.2)\n",
      "Requirement already satisfied: pytz>=2020.1 in c:\\users\\globa\\practicum\\practicum_env\\lib\\site-packages (from pandas>=0.25->seaborn->missingno) (2023.3)\n",
      "Requirement already satisfied: tzdata>=2022.1 in c:\\users\\globa\\practicum\\practicum_env\\lib\\site-packages (from pandas>=0.25->seaborn->missingno) (2023.3)\n",
      "Requirement already satisfied: six>=1.5 in c:\\users\\globa\\practicum\\practicum_env\\lib\\site-packages (from python-dateutil>=2.7->matplotlib->missingno) (1.16.0)\n"
     ]
    }
   ],
   "source": [
    "!pip install missingno"
   ]
  },
  {
   "cell_type": "code",
   "execution_count": 2,
   "metadata": {
    "scrolled": true
   },
   "outputs": [
    {
     "name": "stdout",
     "output_type": "stream",
     "text": [
      "Requirement already satisfied: scikit-learn in c:\\users\\globa\\practicum\\practicum_env\\lib\\site-packages (1.4.1.post1)\n",
      "Requirement already satisfied: numpy<2.0,>=1.19.5 in c:\\users\\globa\\practicum\\practicum_env\\lib\\site-packages (from scikit-learn) (1.24.3)\n",
      "Requirement already satisfied: scipy>=1.6.0 in c:\\users\\globa\\practicum\\practicum_env\\lib\\site-packages (from scikit-learn) (1.11.1)\n",
      "Requirement already satisfied: joblib>=1.2.0 in c:\\users\\globa\\practicum\\practicum_env\\lib\\site-packages (from scikit-learn) (1.3.1)\n",
      "Requirement already satisfied: threadpoolctl>=2.0.0 in c:\\users\\globa\\practicum\\practicum_env\\lib\\site-packages (from scikit-learn) (3.2.0)\n"
     ]
    }
   ],
   "source": [
    "!pip install scikit-learn"
   ]
  },
  {
   "cell_type": "code",
   "execution_count": 3,
   "metadata": {
    "scrolled": true
   },
   "outputs": [
    {
     "name": "stdout",
     "output_type": "stream",
     "text": [
      "Requirement already satisfied: lightgbm in c:\\users\\globa\\practicum\\practicum_env\\lib\\site-packages (4.3.0)\n",
      "Requirement already satisfied: numpy in c:\\users\\globa\\practicum\\practicum_env\\lib\\site-packages (from lightgbm) (1.24.3)\n",
      "Requirement already satisfied: scipy in c:\\users\\globa\\practicum\\practicum_env\\lib\\site-packages (from lightgbm) (1.11.1)\n"
     ]
    }
   ],
   "source": [
    "!pip install lightgbm"
   ]
  },
  {
   "cell_type": "code",
   "execution_count": 4,
   "metadata": {
    "jupyter": {
     "source_hidden": true
    },
    "scrolled": true
   },
   "outputs": [
    {
     "name": "stdout",
     "output_type": "stream",
     "text": [
      "Requirement already satisfied: catboost in c:\\users\\globa\\practicum\\practicum_env\\lib\\site-packages (1.2.3)\n",
      "Requirement already satisfied: graphviz in c:\\users\\globa\\practicum\\practicum_env\\lib\\site-packages (from catboost) (0.20.3)\n",
      "Requirement already satisfied: matplotlib in c:\\users\\globa\\practicum\\practicum_env\\lib\\site-packages (from catboost) (3.7.2)\n",
      "Requirement already satisfied: numpy>=1.16.0 in c:\\users\\globa\\practicum\\practicum_env\\lib\\site-packages (from catboost) (1.24.3)\n",
      "Requirement already satisfied: pandas>=0.24 in c:\\users\\globa\\practicum\\practicum_env\\lib\\site-packages (from catboost) (2.0.3)\n",
      "Requirement already satisfied: scipy in c:\\users\\globa\\practicum\\practicum_env\\lib\\site-packages (from catboost) (1.11.1)\n",
      "Requirement already satisfied: plotly in c:\\users\\globa\\practicum\\practicum_env\\lib\\site-packages (from catboost) (5.20.0)\n",
      "Requirement already satisfied: six in c:\\users\\globa\\practicum\\practicum_env\\lib\\site-packages (from catboost) (1.16.0)\n",
      "Requirement already satisfied: python-dateutil>=2.8.2 in c:\\users\\globa\\practicum\\practicum_env\\lib\\site-packages (from pandas>=0.24->catboost) (2.8.2)\n",
      "Requirement already satisfied: pytz>=2020.1 in c:\\users\\globa\\practicum\\practicum_env\\lib\\site-packages (from pandas>=0.24->catboost) (2023.3)\n",
      "Requirement already satisfied: tzdata>=2022.1 in c:\\users\\globa\\practicum\\practicum_env\\lib\\site-packages (from pandas>=0.24->catboost) (2023.3)\n",
      "Requirement already satisfied: contourpy>=1.0.1 in c:\\users\\globa\\practicum\\practicum_env\\lib\\site-packages (from matplotlib->catboost) (1.1.0)\n",
      "Requirement already satisfied: cycler>=0.10 in c:\\users\\globa\\practicum\\practicum_env\\lib\\site-packages (from matplotlib->catboost) (0.11.0)\n",
      "Requirement already satisfied: fonttools>=4.22.0 in c:\\users\\globa\\practicum\\practicum_env\\lib\\site-packages (from matplotlib->catboost) (4.42.0)\n",
      "Requirement already satisfied: kiwisolver>=1.0.1 in c:\\users\\globa\\practicum\\practicum_env\\lib\\site-packages (from matplotlib->catboost) (1.4.4)\n",
      "Requirement already satisfied: packaging>=20.0 in c:\\users\\globa\\practicum\\practicum_env\\lib\\site-packages (from matplotlib->catboost) (23.1)\n",
      "Requirement already satisfied: pillow>=6.2.0 in c:\\users\\globa\\practicum\\practicum_env\\lib\\site-packages (from matplotlib->catboost) (10.0.0)\n",
      "Requirement already satisfied: pyparsing<3.1,>=2.3.1 in c:\\users\\globa\\practicum\\practicum_env\\lib\\site-packages (from matplotlib->catboost) (3.0.9)\n",
      "Requirement already satisfied: importlib-resources>=3.2.0 in c:\\users\\globa\\practicum\\practicum_env\\lib\\site-packages (from matplotlib->catboost) (6.0.0)\n",
      "Requirement already satisfied: tenacity>=6.2.0 in c:\\users\\globa\\practicum\\practicum_env\\lib\\site-packages (from plotly->catboost) (8.2.3)\n",
      "Requirement already satisfied: zipp>=3.1.0 in c:\\users\\globa\\practicum\\practicum_env\\lib\\site-packages (from importlib-resources>=3.2.0->matplotlib->catboost) (3.16.2)\n"
     ]
    }
   ],
   "source": [
    "!pip install catboost"
   ]
  },
  {
   "cell_type": "code",
   "execution_count": 5,
   "metadata": {},
   "outputs": [],
   "source": [
    "# Библиотеки\n",
    "import pandas as pd\n",
    "import numpy as np\n",
    "import matplotlib.pyplot as plt\n",
    "import seaborn as sns\n",
    "\n",
    "from sklearn.preprocessing import (\n",
    "OneHotEncoder, \n",
    "OrdinalEncoder, \n",
    "StandardScaler, \n",
    "MinMaxScaler, \n",
    "LabelEncoder)\n",
    "from sklearn.model_selection import train_test_split, RandomizedSearchCV, GridSearchCV, cross_val_score\n",
    "from sklearn.metrics import (\n",
    "make_scorer,\n",
    "mean_squared_error, \n",
    "mean_absolute_error)\n",
    "from sklearn.pipeline import Pipeline\n",
    "from sklearn.impute import SimpleImputer\n",
    "from sklearn.compose import ColumnTransformer\n",
    "from sklearn.base import BaseEstimator, TransformerMixin\n",
    "\n",
    "from sklearn.linear_model import LinearRegression\n",
    "from sklearn.tree import DecisionTreeRegressor\n",
    "from lightgbm import LGBMRegressor\n",
    "from catboost import CatBoostRegressor\n",
    "\n",
    "\n",
    "import warnings\n",
    "import time\n",
    "import missingno as msno"
   ]
  },
  {
   "cell_type": "code",
   "execution_count": 6,
   "metadata": {},
   "outputs": [],
   "source": [
    "RANDOM_STATE = 42\n",
    "TEST_SIZE = 0.25"
   ]
  },
  {
   "cell_type": "markdown",
   "metadata": {},
   "source": [
    "\n",
    "<div class=\"alert alert-success\">\n",
    "<font size=\"5\"><b>Комментарий ревьюера</b></font>\n",
    "\n",
    "Успех:\n",
    "\n",
    "Собираем все импорты в верхней части, чтобы легче было ориентироваться и добавлять новые по необходимости. \n",
    "\n",
    "<div class=\"alert alert-warning\">\n",
    "\n",
    "\n",
    "Совет:\n",
    "\n",
    "    \n",
    "\n",
    "   \n",
    "\n",
    "- есть рекомендации PEP-8 при написании кода, в том числе и для импортов. Если интересно можешь почитать [тут](https://pythonworld.ru/osnovy/pep-8-rukovodstvo-po-napisaniyu-koda-na-python.html). Есть что поправить \n",
    "\n"
   ]
  },
  {
   "cell_type": "code",
   "execution_count": 7,
   "metadata": {},
   "outputs": [],
   "source": [
    "warnings.filterwarnings(\"ignore\")"
   ]
  },
  {
   "cell_type": "code",
   "execution_count": 8,
   "metadata": {},
   "outputs": [],
   "source": [
    "data = pd.read_csv('https://code.s3.yandex.net/datasets/autos.csv', parse_dates=['DateCrawled', 'DateCreated', 'LastSeen'])"
   ]
  },
  {
   "cell_type": "markdown",
   "metadata": {},
   "source": [
    "\n",
    "\n",
    "<div class=\"alert alert-warning\">\n",
    "<font size=\"5\"><b>Комментарий ревьюера</b></font>\n",
    "\n",
    "\n",
    "\n",
    "Совет 🤔:\n",
    "    \n",
    "    \n",
    "- Ещё есть такой интересный аргумент при чтении как  parse_dates - позволяет указать какие столбцы в DataFrame содержат даты и время. Если у нас установлен верный тип данных, это значит что мы можем легко вытасиквать информацию о годе, месяце, дня, времени, можем вычитать, прибавлять из столбца с датами другой столбец с датами, получая осмысленную информацию\n",
    "    \n",
    "Как раз для нашего проекта\n",
    "    \n",
    "    \n",
    "\n"
   ]
  },
  {
   "cell_type": "code",
   "execution_count": 9,
   "metadata": {},
   "outputs": [
    {
     "data": {
      "text/html": [
       "<div>\n",
       "<style scoped>\n",
       "    .dataframe tbody tr th:only-of-type {\n",
       "        vertical-align: middle;\n",
       "    }\n",
       "\n",
       "    .dataframe tbody tr th {\n",
       "        vertical-align: top;\n",
       "    }\n",
       "\n",
       "    .dataframe thead th {\n",
       "        text-align: right;\n",
       "    }\n",
       "</style>\n",
       "<table border=\"1\" class=\"dataframe\">\n",
       "  <thead>\n",
       "    <tr style=\"text-align: right;\">\n",
       "      <th></th>\n",
       "      <th>DateCrawled</th>\n",
       "      <th>Price</th>\n",
       "      <th>VehicleType</th>\n",
       "      <th>RegistrationYear</th>\n",
       "      <th>Gearbox</th>\n",
       "      <th>Power</th>\n",
       "      <th>Model</th>\n",
       "      <th>Kilometer</th>\n",
       "      <th>RegistrationMonth</th>\n",
       "      <th>FuelType</th>\n",
       "      <th>Brand</th>\n",
       "      <th>Repaired</th>\n",
       "      <th>DateCreated</th>\n",
       "      <th>NumberOfPictures</th>\n",
       "      <th>PostalCode</th>\n",
       "      <th>LastSeen</th>\n",
       "    </tr>\n",
       "  </thead>\n",
       "  <tbody>\n",
       "    <tr>\n",
       "      <th>0</th>\n",
       "      <td>2016-03-24 11:52:17</td>\n",
       "      <td>480</td>\n",
       "      <td>NaN</td>\n",
       "      <td>1993</td>\n",
       "      <td>manual</td>\n",
       "      <td>0</td>\n",
       "      <td>golf</td>\n",
       "      <td>150000</td>\n",
       "      <td>0</td>\n",
       "      <td>petrol</td>\n",
       "      <td>volkswagen</td>\n",
       "      <td>NaN</td>\n",
       "      <td>2016-03-24</td>\n",
       "      <td>0</td>\n",
       "      <td>70435</td>\n",
       "      <td>2016-04-07 03:16:57</td>\n",
       "    </tr>\n",
       "    <tr>\n",
       "      <th>1</th>\n",
       "      <td>2016-03-24 10:58:45</td>\n",
       "      <td>18300</td>\n",
       "      <td>coupe</td>\n",
       "      <td>2011</td>\n",
       "      <td>manual</td>\n",
       "      <td>190</td>\n",
       "      <td>NaN</td>\n",
       "      <td>125000</td>\n",
       "      <td>5</td>\n",
       "      <td>gasoline</td>\n",
       "      <td>audi</td>\n",
       "      <td>yes</td>\n",
       "      <td>2016-03-24</td>\n",
       "      <td>0</td>\n",
       "      <td>66954</td>\n",
       "      <td>2016-04-07 01:46:50</td>\n",
       "    </tr>\n",
       "    <tr>\n",
       "      <th>2</th>\n",
       "      <td>2016-03-14 12:52:21</td>\n",
       "      <td>9800</td>\n",
       "      <td>suv</td>\n",
       "      <td>2004</td>\n",
       "      <td>auto</td>\n",
       "      <td>163</td>\n",
       "      <td>grand</td>\n",
       "      <td>125000</td>\n",
       "      <td>8</td>\n",
       "      <td>gasoline</td>\n",
       "      <td>jeep</td>\n",
       "      <td>NaN</td>\n",
       "      <td>2016-03-14</td>\n",
       "      <td>0</td>\n",
       "      <td>90480</td>\n",
       "      <td>2016-04-05 12:47:46</td>\n",
       "    </tr>\n",
       "    <tr>\n",
       "      <th>3</th>\n",
       "      <td>2016-03-17 16:54:04</td>\n",
       "      <td>1500</td>\n",
       "      <td>small</td>\n",
       "      <td>2001</td>\n",
       "      <td>manual</td>\n",
       "      <td>75</td>\n",
       "      <td>golf</td>\n",
       "      <td>150000</td>\n",
       "      <td>6</td>\n",
       "      <td>petrol</td>\n",
       "      <td>volkswagen</td>\n",
       "      <td>no</td>\n",
       "      <td>2016-03-17</td>\n",
       "      <td>0</td>\n",
       "      <td>91074</td>\n",
       "      <td>2016-03-17 17:40:17</td>\n",
       "    </tr>\n",
       "    <tr>\n",
       "      <th>4</th>\n",
       "      <td>2016-03-31 17:25:20</td>\n",
       "      <td>3600</td>\n",
       "      <td>small</td>\n",
       "      <td>2008</td>\n",
       "      <td>manual</td>\n",
       "      <td>69</td>\n",
       "      <td>fabia</td>\n",
       "      <td>90000</td>\n",
       "      <td>7</td>\n",
       "      <td>gasoline</td>\n",
       "      <td>skoda</td>\n",
       "      <td>no</td>\n",
       "      <td>2016-03-31</td>\n",
       "      <td>0</td>\n",
       "      <td>60437</td>\n",
       "      <td>2016-04-06 10:17:21</td>\n",
       "    </tr>\n",
       "  </tbody>\n",
       "</table>\n",
       "</div>"
      ],
      "text/plain": [
       "          DateCrawled  Price VehicleType  RegistrationYear Gearbox  Power  \\\n",
       "0 2016-03-24 11:52:17    480         NaN              1993  manual      0   \n",
       "1 2016-03-24 10:58:45  18300       coupe              2011  manual    190   \n",
       "2 2016-03-14 12:52:21   9800         suv              2004    auto    163   \n",
       "3 2016-03-17 16:54:04   1500       small              2001  manual     75   \n",
       "4 2016-03-31 17:25:20   3600       small              2008  manual     69   \n",
       "\n",
       "   Model  Kilometer  RegistrationMonth  FuelType       Brand Repaired  \\\n",
       "0   golf     150000                  0    petrol  volkswagen      NaN   \n",
       "1    NaN     125000                  5  gasoline        audi      yes   \n",
       "2  grand     125000                  8  gasoline        jeep      NaN   \n",
       "3   golf     150000                  6    petrol  volkswagen       no   \n",
       "4  fabia      90000                  7  gasoline       skoda       no   \n",
       "\n",
       "  DateCreated  NumberOfPictures  PostalCode            LastSeen  \n",
       "0  2016-03-24                 0       70435 2016-04-07 03:16:57  \n",
       "1  2016-03-24                 0       66954 2016-04-07 01:46:50  \n",
       "2  2016-03-14                 0       90480 2016-04-05 12:47:46  \n",
       "3  2016-03-17                 0       91074 2016-03-17 17:40:17  \n",
       "4  2016-03-31                 0       60437 2016-04-06 10:17:21  "
      ]
     },
     "execution_count": 9,
     "metadata": {},
     "output_type": "execute_result"
    }
   ],
   "source": [
    "data.head()"
   ]
  },
  {
   "cell_type": "markdown",
   "metadata": {},
   "source": [
    "**Описание датасета**"
   ]
  },
  {
   "cell_type": "code",
   "execution_count": 10,
   "metadata": {},
   "outputs": [
    {
     "name": "stdout",
     "output_type": "stream",
     "text": [
      "<class 'pandas.core.frame.DataFrame'>\n",
      "RangeIndex: 354369 entries, 0 to 354368\n",
      "Data columns (total 16 columns):\n",
      " #   Column             Non-Null Count   Dtype         \n",
      "---  ------             --------------   -----         \n",
      " 0   DateCrawled        354369 non-null  datetime64[ns]\n",
      " 1   Price              354369 non-null  int64         \n",
      " 2   VehicleType        316879 non-null  object        \n",
      " 3   RegistrationYear   354369 non-null  int64         \n",
      " 4   Gearbox            334536 non-null  object        \n",
      " 5   Power              354369 non-null  int64         \n",
      " 6   Model              334664 non-null  object        \n",
      " 7   Kilometer          354369 non-null  int64         \n",
      " 8   RegistrationMonth  354369 non-null  int64         \n",
      " 9   FuelType           321474 non-null  object        \n",
      " 10  Brand              354369 non-null  object        \n",
      " 11  Repaired           283215 non-null  object        \n",
      " 12  DateCreated        354369 non-null  datetime64[ns]\n",
      " 13  NumberOfPictures   354369 non-null  int64         \n",
      " 14  PostalCode         354369 non-null  int64         \n",
      " 15  LastSeen           354369 non-null  datetime64[ns]\n",
      "dtypes: datetime64[ns](3), int64(7), object(6)\n",
      "memory usage: 43.3+ MB\n"
     ]
    }
   ],
   "source": [
    "data.info()"
   ]
  },
  {
   "cell_type": "markdown",
   "metadata": {},
   "source": [
    "**Промежуточный вывод:**\n",
    "\n",
    "Один датасет - `data` (354368 строк, 16 столбцов)\n",
    "\n",
    "У всех столбцов, кроме `DataCrawled`, правильный тип данных. Есть пропуски, названия нужно привести к нижнему регистру"
   ]
  },
  {
   "cell_type": "markdown",
   "metadata": {},
   "source": [
    "## Предобработка данных"
   ]
  },
  {
   "cell_type": "markdown",
   "metadata": {},
   "source": [
    "<div class=\"alert alert-success\">\n",
    "<font size=\"5\"><b>Комментарий ревьюера</b></font>\n",
    "\n",
    "\n",
    "\n",
    "Успех 👍:\n",
    "\n",
    "\n",
    "Если данные не представляют интересы для модели то почему бы их и не убрать\n",
    "    \n",
    "\n",
    "    \n",
    "<div class=\"alert alert-warning\">\n",
    "\n",
    "\n",
    "\n",
    "Совет 🤔:    \n",
    "\n",
    "- по почтовому индексу можно определить страну где автомобиль скорее всего эксплуатировался. Это конечно потребует сбора информации, но возможно если мы более 8000 индексов превратим в конкретный перечень двух десятков стран, модель сможет на этом найти что то интересное, хотя это не точно )    \n",
    "\n",
    "    \n",
    "- еще можно было заметить что в месяцах у нас 13 уникальных значений, а месяцев как известно 12, возможно c нулями тоже стоило удалить  строки как  сомнительные (И только потом убрать RegistrationMonth rак не информативный столбец)     "
   ]
  },
  {
   "cell_type": "code",
   "execution_count": 11,
   "metadata": {},
   "outputs": [
    {
     "data": {
      "text/html": [
       "<div>\n",
       "<style scoped>\n",
       "    .dataframe tbody tr th:only-of-type {\n",
       "        vertical-align: middle;\n",
       "    }\n",
       "\n",
       "    .dataframe tbody tr th {\n",
       "        vertical-align: top;\n",
       "    }\n",
       "\n",
       "    .dataframe thead th {\n",
       "        text-align: right;\n",
       "    }\n",
       "</style>\n",
       "<table border=\"1\" class=\"dataframe\">\n",
       "  <thead>\n",
       "    <tr style=\"text-align: right;\">\n",
       "      <th></th>\n",
       "      <th>DateCrawled</th>\n",
       "      <th>Price</th>\n",
       "      <th>VehicleType</th>\n",
       "      <th>RegistrationYear</th>\n",
       "      <th>Gearbox</th>\n",
       "      <th>Power</th>\n",
       "      <th>Model</th>\n",
       "      <th>Kilometer</th>\n",
       "      <th>RegistrationMonth</th>\n",
       "      <th>FuelType</th>\n",
       "      <th>Brand</th>\n",
       "      <th>Repaired</th>\n",
       "      <th>DateCreated</th>\n",
       "      <th>NumberOfPictures</th>\n",
       "      <th>PostalCode</th>\n",
       "      <th>LastSeen</th>\n",
       "    </tr>\n",
       "  </thead>\n",
       "  <tbody>\n",
       "    <tr>\n",
       "      <th>0</th>\n",
       "      <td>2016-03-24 11:52:17</td>\n",
       "      <td>480</td>\n",
       "      <td>NaN</td>\n",
       "      <td>1993</td>\n",
       "      <td>manual</td>\n",
       "      <td>0</td>\n",
       "      <td>golf</td>\n",
       "      <td>150000</td>\n",
       "      <td>0</td>\n",
       "      <td>petrol</td>\n",
       "      <td>volkswagen</td>\n",
       "      <td>NaN</td>\n",
       "      <td>2016-03-24</td>\n",
       "      <td>0</td>\n",
       "      <td>70435</td>\n",
       "      <td>2016-04-07 03:16:57</td>\n",
       "    </tr>\n",
       "    <tr>\n",
       "      <th>1</th>\n",
       "      <td>2016-03-24 10:58:45</td>\n",
       "      <td>18300</td>\n",
       "      <td>coupe</td>\n",
       "      <td>2011</td>\n",
       "      <td>manual</td>\n",
       "      <td>190</td>\n",
       "      <td>NaN</td>\n",
       "      <td>125000</td>\n",
       "      <td>5</td>\n",
       "      <td>gasoline</td>\n",
       "      <td>audi</td>\n",
       "      <td>yes</td>\n",
       "      <td>2016-03-24</td>\n",
       "      <td>0</td>\n",
       "      <td>66954</td>\n",
       "      <td>2016-04-07 01:46:50</td>\n",
       "    </tr>\n",
       "    <tr>\n",
       "      <th>2</th>\n",
       "      <td>2016-03-14 12:52:21</td>\n",
       "      <td>9800</td>\n",
       "      <td>suv</td>\n",
       "      <td>2004</td>\n",
       "      <td>auto</td>\n",
       "      <td>163</td>\n",
       "      <td>grand</td>\n",
       "      <td>125000</td>\n",
       "      <td>8</td>\n",
       "      <td>gasoline</td>\n",
       "      <td>jeep</td>\n",
       "      <td>NaN</td>\n",
       "      <td>2016-03-14</td>\n",
       "      <td>0</td>\n",
       "      <td>90480</td>\n",
       "      <td>2016-04-05 12:47:46</td>\n",
       "    </tr>\n",
       "    <tr>\n",
       "      <th>3</th>\n",
       "      <td>2016-03-17 16:54:04</td>\n",
       "      <td>1500</td>\n",
       "      <td>small</td>\n",
       "      <td>2001</td>\n",
       "      <td>manual</td>\n",
       "      <td>75</td>\n",
       "      <td>golf</td>\n",
       "      <td>150000</td>\n",
       "      <td>6</td>\n",
       "      <td>petrol</td>\n",
       "      <td>volkswagen</td>\n",
       "      <td>no</td>\n",
       "      <td>2016-03-17</td>\n",
       "      <td>0</td>\n",
       "      <td>91074</td>\n",
       "      <td>2016-03-17 17:40:17</td>\n",
       "    </tr>\n",
       "    <tr>\n",
       "      <th>4</th>\n",
       "      <td>2016-03-31 17:25:20</td>\n",
       "      <td>3600</td>\n",
       "      <td>small</td>\n",
       "      <td>2008</td>\n",
       "      <td>manual</td>\n",
       "      <td>69</td>\n",
       "      <td>fabia</td>\n",
       "      <td>90000</td>\n",
       "      <td>7</td>\n",
       "      <td>gasoline</td>\n",
       "      <td>skoda</td>\n",
       "      <td>no</td>\n",
       "      <td>2016-03-31</td>\n",
       "      <td>0</td>\n",
       "      <td>60437</td>\n",
       "      <td>2016-04-06 10:17:21</td>\n",
       "    </tr>\n",
       "  </tbody>\n",
       "</table>\n",
       "</div>"
      ],
      "text/plain": [
       "          DateCrawled  Price VehicleType  RegistrationYear Gearbox  Power  \\\n",
       "0 2016-03-24 11:52:17    480         NaN              1993  manual      0   \n",
       "1 2016-03-24 10:58:45  18300       coupe              2011  manual    190   \n",
       "2 2016-03-14 12:52:21   9800         suv              2004    auto    163   \n",
       "3 2016-03-17 16:54:04   1500       small              2001  manual     75   \n",
       "4 2016-03-31 17:25:20   3600       small              2008  manual     69   \n",
       "\n",
       "   Model  Kilometer  RegistrationMonth  FuelType       Brand Repaired  \\\n",
       "0   golf     150000                  0    petrol  volkswagen      NaN   \n",
       "1    NaN     125000                  5  gasoline        audi      yes   \n",
       "2  grand     125000                  8  gasoline        jeep      NaN   \n",
       "3   golf     150000                  6    petrol  volkswagen       no   \n",
       "4  fabia      90000                  7  gasoline       skoda       no   \n",
       "\n",
       "  DateCreated  NumberOfPictures  PostalCode            LastSeen  \n",
       "0  2016-03-24                 0       70435 2016-04-07 03:16:57  \n",
       "1  2016-03-24                 0       66954 2016-04-07 01:46:50  \n",
       "2  2016-03-14                 0       90480 2016-04-05 12:47:46  \n",
       "3  2016-03-17                 0       91074 2016-03-17 17:40:17  \n",
       "4  2016-03-31                 0       60437 2016-04-06 10:17:21  "
      ]
     },
     "execution_count": 11,
     "metadata": {},
     "output_type": "execute_result"
    }
   ],
   "source": [
    "data.head()"
   ]
  },
  {
   "cell_type": "markdown",
   "metadata": {},
   "source": [
    "Исправим названия столбцов и переведем в нижний регистр"
   ]
  },
  {
   "cell_type": "code",
   "execution_count": 12,
   "metadata": {},
   "outputs": [],
   "source": [
    "data.columns = [x.lower() for x in data.columns]"
   ]
  },
  {
   "cell_type": "code",
   "execution_count": 13,
   "metadata": {},
   "outputs": [],
   "source": [
    "data = data.rename(columns={'vehicletype': 'vehicle_type',\n",
    "                            'registrationyear': 'registration_year',\n",
    "                            'fueltype': 'fuel_type',\n",
    "                            'datecreated': 'date_created',\n",
    "                            'numberofpictures': 'number_of_pictures',\n",
    "                            'postalcode': 'postal_code',\n",
    "                            'datecrawled': 'date_crawled',\n",
    "                            'registrationmonth': 'registration_month',\n",
    "                            'lastseen': 'last_seen'})"
   ]
  },
  {
   "cell_type": "markdown",
   "metadata": {},
   "source": [
    "\n",
    "\n",
    "\n",
    "<div class=\"alert alert-success\">\n",
    "<font size=\"5\"><b>Комментарий ревьюера</b></font>\n",
    "\n",
    "Успех:\n",
    "\n",
    "👍 помнишь о стилистике\n",
    "\n",
    "\n",
    "\n",
    "    \n",
    " <div class=\"alert alert-warning\">\n",
    "\n",
    "\n",
    "Совет: \n",
    "\n",
    " \n",
    "\n",
    "        \n",
    "     \n",
    "- Здесь название столбцов прдставлены в верблюжем стиле,  привычнее видеть змеиный вид, можно попробовать использовать регуляризацию (предварительная импортировав  соответствующую библиотеку)   \n",
    "    \n",
    "    \n",
    "    df.rename(columns=lambda x: re.sub(r'(?<!^)([A-Z])', r'_\\1', x).lower())     \n",
    "     \n",
    "    \n",
    "\n",
    "- Кроме того существует удобная библиотека для выполнения рутинных операций в пандасе, называемая [skimpy](https://pypi.org/project/skimpy/), в этой библиотеке доступна функция clean_column(), которая позволяет легко привести названия столбцов к соответствующему формату в одно действие. Но это уже для случаев когда название столбцов нам даны на латинице     \n",
    "     \n"
   ]
  },
  {
   "cell_type": "code",
   "execution_count": 14,
   "metadata": {},
   "outputs": [
    {
     "data": {
      "text/plain": [
       "Index(['date_crawled', 'price', 'vehicle_type', 'registration_year', 'gearbox',\n",
       "       'power', 'model', 'kilometer', 'registration_month', 'fuel_type',\n",
       "       'brand', 'repaired', 'date_created', 'number_of_pictures',\n",
       "       'postal_code', 'last_seen'],\n",
       "      dtype='object')"
      ]
     },
     "execution_count": 14,
     "metadata": {},
     "output_type": "execute_result"
    }
   ],
   "source": [
    "data.columns"
   ]
  },
  {
   "cell_type": "markdown",
   "metadata": {},
   "source": [
    "Посмотрим на уникальные значения категориальных данных"
   ]
  },
  {
   "cell_type": "code",
   "execution_count": 15,
   "metadata": {},
   "outputs": [
    {
     "data": {
      "text/plain": [
       "array([nan, 'coupe', 'suv', 'small', 'sedan', 'convertible', 'bus',\n",
       "       'wagon', 'other'], dtype=object)"
      ]
     },
     "execution_count": 15,
     "metadata": {},
     "output_type": "execute_result"
    }
   ],
   "source": [
    "data['vehicle_type'].unique()"
   ]
  },
  {
   "cell_type": "code",
   "execution_count": 16,
   "metadata": {},
   "outputs": [
    {
     "data": {
      "text/plain": [
       "array(['manual', 'auto', nan], dtype=object)"
      ]
     },
     "execution_count": 16,
     "metadata": {},
     "output_type": "execute_result"
    }
   ],
   "source": [
    "data['gearbox'].unique()"
   ]
  },
  {
   "cell_type": "code",
   "execution_count": 17,
   "metadata": {},
   "outputs": [
    {
     "data": {
      "text/plain": [
       "array(['petrol', 'gasoline', nan, 'lpg', 'other', 'hybrid', 'cng',\n",
       "       'electric'], dtype=object)"
      ]
     },
     "execution_count": 17,
     "metadata": {},
     "output_type": "execute_result"
    }
   ],
   "source": [
    "data['fuel_type'].unique()"
   ]
  },
  {
   "cell_type": "markdown",
   "metadata": {},
   "source": [
    "Заменим gasoline на petrol (это одно и то же)"
   ]
  },
  {
   "cell_type": "code",
   "execution_count": 18,
   "metadata": {},
   "outputs": [],
   "source": [
    "data = data.replace({'gasoline': 'petrol'})"
   ]
  },
  {
   "cell_type": "markdown",
   "metadata": {},
   "source": [
    "<div class=\"alert alert-success\">\n",
    "<font size=\"5\"><b>Комментарий ревьюера</b></font>\n",
    "\n",
    "\n",
    "\n",
    "Успех 👍:\n",
    "\n",
    "\n",
    "\n",
    "👍\n",
    "\n",
    "\n",
    " "
   ]
  },
  {
   "cell_type": "code",
   "execution_count": 19,
   "metadata": {},
   "outputs": [
    {
     "data": {
      "text/plain": [
       "array(['volkswagen', 'audi', 'jeep', 'skoda', 'bmw', 'peugeot', 'ford',\n",
       "       'mazda', 'nissan', 'renault', 'mercedes_benz', 'opel', 'seat',\n",
       "       'citroen', 'honda', 'fiat', 'mini', 'smart', 'hyundai',\n",
       "       'sonstige_autos', 'alfa_romeo', 'subaru', 'volvo', 'mitsubishi',\n",
       "       'kia', 'suzuki', 'lancia', 'toyota', 'chevrolet', 'dacia',\n",
       "       'daihatsu', 'trabant', 'saab', 'chrysler', 'jaguar', 'daewoo',\n",
       "       'porsche', 'rover', 'land_rover', 'lada'], dtype=object)"
      ]
     },
     "execution_count": 19,
     "metadata": {},
     "output_type": "execute_result"
    }
   ],
   "source": [
    "data['brand'].unique()"
   ]
  },
  {
   "cell_type": "code",
   "execution_count": 20,
   "metadata": {},
   "outputs": [
    {
     "data": {
      "text/plain": [
       "array([nan, 'yes', 'no'], dtype=object)"
      ]
     },
     "execution_count": 20,
     "metadata": {},
     "output_type": "execute_result"
    }
   ],
   "source": [
    "data['repaired'].unique()"
   ]
  },
  {
   "cell_type": "markdown",
   "metadata": {},
   "source": [
    "### Обработка пропусков и дубликатов"
   ]
  },
  {
   "cell_type": "code",
   "execution_count": 21,
   "metadata": {},
   "outputs": [
    {
     "data": {
      "text/plain": [
       "date_crawled              0\n",
       "price                     0\n",
       "vehicle_type          37490\n",
       "registration_year         0\n",
       "gearbox               19833\n",
       "power                     0\n",
       "model                 19705\n",
       "kilometer                 0\n",
       "registration_month        0\n",
       "fuel_type             32895\n",
       "brand                     0\n",
       "repaired              71154\n",
       "date_created              0\n",
       "number_of_pictures        0\n",
       "postal_code               0\n",
       "last_seen                 0\n",
       "dtype: int64"
      ]
     },
     "execution_count": 21,
     "metadata": {},
     "output_type": "execute_result"
    }
   ],
   "source": [
    "data.isna().sum()"
   ]
  },
  {
   "cell_type": "code",
   "execution_count": 22,
   "metadata": {},
   "outputs": [
    {
     "data": {
      "image/png": "[encoded data removed]",
      "text/plain": [
       "<Figure size 1200x400 with 2 Axes>"
      ]
     },
     "metadata": {},
     "output_type": "display_data"
    }
   ],
   "source": [
    "msno.matrix(data, figsize=(12, 4));"
   ]
  },
  {
   "cell_type": "markdown",
   "metadata": {},
   "source": [
    "<div class=\"alert alert-warning\">\n",
    "<font size=\"5\"><b>Комментарий ревьюера</b></font>\n",
    "\n",
    "\n",
    "\n",
    "Совет 🤔:\n",
    "\n",
    "\n",
    "Есть такая библиотека msinfo (как-то так) , очень красиво строит пропуски"
   ]
  },
  {
   "cell_type": "markdown",
   "metadata": {},
   "source": [
    "<div class=\"alert alert-info\">\n",
    "<font size=\"4\", color = \"black\"><b>✍ Комментарий студента</b></font>\n",
    "    <br /> \n",
    "    <font size=\"3\", color = \"black\">\n",
    "<br /> Сделано"
   ]
  },
  {
   "cell_type": "markdown",
   "metadata": {},
   "source": [
    "<div class=\"alert alert-success\">\n",
    "<font size=\"5\"><b>Комментарий ревьюераV2</b></font>\n",
    "\n",
    "\n",
    "\n",
    "Успех 👍:\n",
    "\n",
    "\n",
    "\n",
    "👍 По-моему очень наглядно\n",
    "\n",
    "\n",
    " "
   ]
  },
  {
   "cell_type": "markdown",
   "metadata": {},
   "source": [
    "Самое большое количество пропусков у `repaired`. \n",
    "\n",
    "<ins>Заполнять данные, по возможности, будем модой для каждой категории отдельно</ins> "
   ]
  },
  {
   "cell_type": "markdown",
   "metadata": {},
   "source": [
    "<div class=\"alert alert-warning\">\n",
    "<font size=\"5\"><b>Комментарий ревьюера</b></font>\n",
    "\n",
    "\n",
    "Совет 🤔:   \n",
    "    \n",
    "    \n",
    "\n",
    "    \n",
    "\n",
    " \n",
    "    \n",
    "    \n",
    "- по логике моделирования мы имеем информацию только о тренировочной выборке, поэтому если делать всё правильно, то мы сначала делаем сплит, затем применяем твою логику заполнение на тренировочной выборке, а затем используем ее на валидационной и тестовой выборке (тут аналогия с Scaler, когда мы делаем .fit на тренировочный  а потом .transform на валидационной\\тестовой). А так как ты используешь GridSearch, то стоит еще твою функцию преобразования засунуть в pipeline. Ниже ты используешь в pipeline Scaler чтобы избежать утчечку данных, но как нам в pipeline засунуть собственную функцию преобразования?! Можешь взять за основу [Ссылка 1](https://dzen.ru/media/id/5ee6f73b7cadb75a66e4c7e3/sozdanie-polzovatelskih-preobrazovatelei-dannyh-62b2a9a80e49941961ffc7a2),\n",
    "[Ссылка 2](https://towardsdatascience.com/pipelines-custom-transformers-in-scikit-learn-the-step-by-step-guide-with-python-code-4a7d9b068156). Обрати внимание что мы создаём, в котором есть наследование от TransformerMixin и BaseEstimator, именно это позволяет потом применить .fit и .transform.  "
   ]
  },
  {
   "cell_type": "markdown",
   "metadata": {},
   "source": [
    "**Пропуски в столбце `repaired`**"
   ]
  },
  {
   "cell_type": "code",
   "execution_count": 23,
   "metadata": {},
   "outputs": [
    {
     "data": {
      "text/plain": [
       "date_crawled              0\n",
       "price                     0\n",
       "vehicle_type          37490\n",
       "registration_year         0\n",
       "gearbox               19833\n",
       "power                     0\n",
       "model                 19705\n",
       "kilometer                 0\n",
       "registration_month        0\n",
       "fuel_type             32895\n",
       "brand                     0\n",
       "repaired              71154\n",
       "date_created              0\n",
       "number_of_pictures        0\n",
       "postal_code               0\n",
       "last_seen                 0\n",
       "dtype: int64"
      ]
     },
     "execution_count": 23,
     "metadata": {},
     "output_type": "execute_result"
    }
   ],
   "source": [
    "data.isna().sum()"
   ]
  },
  {
   "cell_type": "code",
   "execution_count": 24,
   "metadata": {},
   "outputs": [
    {
     "data": {
      "text/plain": [
       "0    NaN\n",
       "1    yes\n",
       "2    NaN\n",
       "3     no\n",
       "4     no\n",
       "5    yes\n",
       "6     no\n",
       "7     no\n",
       "8    NaN\n",
       "9    NaN\n",
       "Name: repaired, dtype: object"
      ]
     },
     "execution_count": 24,
     "metadata": {},
     "output_type": "execute_result"
    }
   ],
   "source": [
    "data['repaired'].head(10)"
   ]
  },
  {
   "cell_type": "markdown",
   "metadata": {},
   "source": [
    "Скорее всего, значения NaN здесь стоят потому, что пользователи при отсутствии ремонта не заполняли этот пункт. Заполним пропуски категорией 'no'"
   ]
  },
  {
   "cell_type": "markdown",
   "metadata": {},
   "source": [
    "<div class=\"alert alert-success\">\n",
    "<font size=\"5\"><b>Комментарий ревьюера</b></font>\n",
    "\n",
    "\n",
    "\n",
    "Успех 👍:\n",
    "\n",
    "\n",
    "\n",
    "Не факт, но аргументация присутствует\n",
    "\n",
    " "
   ]
  },
  {
   "cell_type": "code",
   "execution_count": 25,
   "metadata": {},
   "outputs": [],
   "source": [
    "data['repaired'] = data['repaired'].fillna('no')"
   ]
  },
  {
   "cell_type": "markdown",
   "metadata": {},
   "source": [
    "**Пропуски в столбце `vehicle_type`**"
   ]
  },
  {
   "cell_type": "markdown",
   "metadata": {},
   "source": [
    "Удалим те автомобили, у которых отсутствуют данные о типе кузова и модели одновременно"
   ]
  },
  {
   "cell_type": "code",
   "execution_count": 26,
   "metadata": {},
   "outputs": [],
   "source": [
    "data = data.drop(data[data['vehicle_type'].isna()&data['model'].isna()].index, axis=0)"
   ]
  },
  {
   "cell_type": "markdown",
   "metadata": {},
   "source": [
    "Больше всего пропусков по типу кузова у Гольфа, Поло, Корса и т.п. Попробуем заполнить их модой"
   ]
  },
  {
   "cell_type": "code",
   "execution_count": 27,
   "metadata": {},
   "outputs": [
    {
     "data": {
      "text/plain": [
       "model\n",
       "golf          4035\n",
       "other         1859\n",
       "polo          1600\n",
       "corsa         1576\n",
       "3er           1312\n",
       "              ... \n",
       "200              1\n",
       "rangerover       1\n",
       "serie_1          1\n",
       "q3               1\n",
       "b_max            1\n",
       "Name: count, Length: 241, dtype: int64"
      ]
     },
     "execution_count": 27,
     "metadata": {},
     "output_type": "execute_result"
    }
   ],
   "source": [
    "data.loc[data['vehicle_type'].isna(), 'model'].value_counts()"
   ]
  },
  {
   "cell_type": "markdown",
   "metadata": {},
   "source": [
    "Ниже мы вычисляем моду типа кузова по модели и заполняем ей пропуски. "
   ]
  },
  {
   "cell_type": "code",
   "execution_count": 28,
   "metadata": {},
   "outputs": [],
   "source": [
    "data.loc[data['vehicle_type'].isna(), 'vehicle_type'] = \\\n",
    "(data.groupby('model')['vehicle_type'].transform(lambda x: x.mode()[0] if not x.mode().empty else np.nan))"
   ]
  },
  {
   "cell_type": "code",
   "execution_count": 29,
   "metadata": {},
   "outputs": [
    {
     "name": "stdout",
     "output_type": "stream",
     "text": [
      "Количество пропусков в \"vehicle_type\": 0\n"
     ]
    }
   ],
   "source": [
    "print('Количество пропусков в \"vehicle_type\":', data['vehicle_type'].isna().sum())"
   ]
  },
  {
   "cell_type": "markdown",
   "metadata": {},
   "source": [
    "**Пропуски в столбце `model`**"
   ]
  },
  {
   "cell_type": "code",
   "execution_count": 30,
   "metadata": {},
   "outputs": [
    {
     "data": {
      "text/plain": [
       "brand\n",
       "sonstige_autos    2333\n",
       "volkswagen        2181\n",
       "opel              1252\n",
       "bmw               1204\n",
       "audi               809\n",
       "mercedes_benz      792\n",
       "ford               660\n",
       "peugeot            604\n",
       "renault            507\n",
       "fiat               323\n",
       "Name: count, dtype: int64"
      ]
     },
     "execution_count": 30,
     "metadata": {},
     "output_type": "execute_result"
    }
   ],
   "source": [
    "data.loc[data['model'].isna(), 'brand'].value_counts().head(10)"
   ]
  },
  {
   "cell_type": "code",
   "execution_count": 31,
   "metadata": {},
   "outputs": [],
   "source": [
    "data.loc[data['model'].isna(), 'model'] = \\\n",
    "(data.groupby('brand')['model'].transform(lambda x: x.mode()[0] if not x.mode().empty else np.nan))"
   ]
  },
  {
   "cell_type": "code",
   "execution_count": 32,
   "metadata": {},
   "outputs": [
    {
     "name": "stdout",
     "output_type": "stream",
     "text": [
      "Количество пропусков в \"model\": 2333\n"
     ]
    }
   ],
   "source": [
    "print('Количество пропусков в \"model\":', data['model'].isna().sum())"
   ]
  },
  {
   "cell_type": "markdown",
   "metadata": {},
   "source": [
    "Остальные пропущенные значения заполним \"unknown\""
   ]
  },
  {
   "cell_type": "code",
   "execution_count": 33,
   "metadata": {},
   "outputs": [],
   "source": [
    "data['model'] = data['model'].fillna('unknown')"
   ]
  },
  {
   "cell_type": "code",
   "execution_count": 34,
   "metadata": {},
   "outputs": [
    {
     "name": "stdout",
     "output_type": "stream",
     "text": [
      "Количество пропусков в \"model\": 0\n"
     ]
    }
   ],
   "source": [
    "print('Количество пропусков в \"model\":', data['model'].isna().sum())"
   ]
  },
  {
   "cell_type": "markdown",
   "metadata": {},
   "source": [
    "**Пропуски в столбце `gearbox`**"
   ]
  },
  {
   "cell_type": "code",
   "execution_count": 35,
   "metadata": {},
   "outputs": [
    {
     "data": {
      "text/plain": [
       "model\n",
       "golf      1666\n",
       "other     1441\n",
       "corsa      869\n",
       "fortwo     808\n",
       "3er        752\n",
       "polo       732\n",
       "twingo     467\n",
       "astra      452\n",
       "passat     445\n",
       "a4         431\n",
       "Name: count, dtype: int64"
      ]
     },
     "execution_count": 35,
     "metadata": {},
     "output_type": "execute_result"
    }
   ],
   "source": [
    "data.loc[data['gearbox'].isna(), 'model'].value_counts().head(10)"
   ]
  },
  {
   "cell_type": "code",
   "execution_count": 36,
   "metadata": {},
   "outputs": [],
   "source": [
    "data.loc[data['gearbox'].isna(), 'gearbox'] = \\\n",
    "(data.groupby('model')['gearbox'].transform(lambda x: x.mode()[0] if not x.mode().empty else np.nan))"
   ]
  },
  {
   "cell_type": "code",
   "execution_count": 37,
   "metadata": {},
   "outputs": [
    {
     "name": "stdout",
     "output_type": "stream",
     "text": [
      "Количество пропусков в \"gearbox\": 0\n"
     ]
    }
   ],
   "source": [
    "print('Количество пропусков в \"gearbox\":', data['gearbox'].isna().sum())"
   ]
  },
  {
   "cell_type": "markdown",
   "metadata": {},
   "source": [
    "**Пропуски в столбце `fuel_type`**"
   ]
  },
  {
   "cell_type": "code",
   "execution_count": 38,
   "metadata": {},
   "outputs": [
    {
     "data": {
      "text/plain": [
       "model\n",
       "golf        2963\n",
       "other       2077\n",
       "3er         1672\n",
       "corsa       1622\n",
       "polo        1325\n",
       "astra       1023\n",
       "a4           865\n",
       "passat       817\n",
       "twingo       714\n",
       "c_klasse     652\n",
       "Name: count, dtype: int64"
      ]
     },
     "execution_count": 38,
     "metadata": {},
     "output_type": "execute_result"
    }
   ],
   "source": [
    "data.loc[data['fuel_type'].isna(), 'model'].value_counts().head(10)"
   ]
  },
  {
   "cell_type": "code",
   "execution_count": 39,
   "metadata": {},
   "outputs": [],
   "source": [
    "data.loc[data['fuel_type'].isna(), 'fuel_type'] = \\\n",
    "(data.groupby('model')['fuel_type'].transform(lambda x: x.mode()[0] if not x.mode().empty else np.nan))"
   ]
  },
  {
   "cell_type": "code",
   "execution_count": 40,
   "metadata": {},
   "outputs": [
    {
     "name": "stdout",
     "output_type": "stream",
     "text": [
      "Количество пропусков в \"fuel_type\": 0\n"
     ]
    }
   ],
   "source": [
    "print('Количество пропусков в \"fuel_type\":', data['fuel_type'].isna().sum())"
   ]
  },
  {
   "cell_type": "code",
   "execution_count": 41,
   "metadata": {},
   "outputs": [
    {
     "data": {
      "text/plain": [
       "date_crawled          0\n",
       "price                 0\n",
       "vehicle_type          0\n",
       "registration_year     0\n",
       "gearbox               0\n",
       "power                 0\n",
       "model                 0\n",
       "kilometer             0\n",
       "registration_month    0\n",
       "fuel_type             0\n",
       "brand                 0\n",
       "repaired              0\n",
       "date_created          0\n",
       "number_of_pictures    0\n",
       "postal_code           0\n",
       "last_seen             0\n",
       "dtype: int64"
      ]
     },
     "execution_count": 41,
     "metadata": {},
     "output_type": "execute_result"
    }
   ],
   "source": [
    "data.isna().sum()"
   ]
  },
  {
   "cell_type": "code",
   "execution_count": 42,
   "metadata": {},
   "outputs": [
    {
     "data": {
      "text/plain": [
       "Timestamp('2016-04-07 14:36:58')"
      ]
     },
     "execution_count": 42,
     "metadata": {},
     "output_type": "execute_result"
    }
   ],
   "source": [
    "data['date_crawled'].max()"
   ]
  },
  {
   "cell_type": "markdown",
   "metadata": {},
   "source": [
    "Верхний предел даты выгрузки - 7 апреля 2016 года. Запомним"
   ]
  },
  {
   "cell_type": "markdown",
   "metadata": {},
   "source": [
    "**Дубликаты**"
   ]
  },
  {
   "cell_type": "code",
   "execution_count": 43,
   "metadata": {},
   "outputs": [
    {
     "name": "stdout",
     "output_type": "stream",
     "text": [
      "Количество явных дубликатов: 5\n"
     ]
    }
   ],
   "source": [
    "print(\"Количество явных дубликатов:\", data.duplicated().sum())"
   ]
  },
  {
   "cell_type": "code",
   "execution_count": 44,
   "metadata": {},
   "outputs": [],
   "source": [
    "data = data.drop_duplicates()"
   ]
  },
  {
   "cell_type": "markdown",
   "metadata": {},
   "source": [
    "<div class=\"alert alert-danger\">\n",
    "<font size=\"5\"><b>Комментарий ревьюера</b></font>\n",
    "\n",
    "\n",
    "\n",
    "Ошибка ❌:\n",
    "\n",
    "\n",
    "\n",
    "\n",
    "- Советую проверку на дубликаты сделать до удаления неинформативных столбцов. А так скорее всего в качестве дубликатов ты воспринял разные варианты, совпадающие по оставшися признакам. \n",
    "    \n",
    "    \n",
    "Удаление данных конечно ускорит наши модели, и в принципе мы всё равно достигнем требуемой метрики, но а почему бы не постараться достигнуть максимально метрики? \n",
    "    \n"
   ]
  },
  {
   "cell_type": "markdown",
   "metadata": {},
   "source": [
    "<div class=\"alert alert-info\">\n",
    "<font size=\"4\", color = \"black\"><b>✍ Комментарий студента</b></font>\n",
    "    <br /> \n",
    "    <font size=\"3\", color = \"black\">\n",
    "<br /> Исправил"
   ]
  },
  {
   "cell_type": "markdown",
   "metadata": {},
   "source": [
    "Столбцы `DateCreated`, `NumberOfPictures`, `PostalCode`, `LastSeen`, `DateCrawled` и `RegistrationMonth` являются лишними, так как для обучения моделей не имеют смысла, еще и загружают память. Удалим их"
   ]
  },
  {
   "cell_type": "code",
   "execution_count": 45,
   "metadata": {},
   "outputs": [],
   "source": [
    "data = data.drop(['date_created', 'number_of_pictures', 'postal_code', 'last_seen', 'date_crawled', 'registration_month'], axis=1)"
   ]
  },
  {
   "cell_type": "code",
   "execution_count": 46,
   "metadata": {},
   "outputs": [
    {
     "name": "stdout",
     "output_type": "stream",
     "text": [
      "<class 'pandas.core.frame.DataFrame'>\n",
      "Index: 347536 entries, 0 to 354368\n",
      "Data columns (total 10 columns):\n",
      " #   Column             Non-Null Count   Dtype \n",
      "---  ------             --------------   ----- \n",
      " 0   price              347536 non-null  int64 \n",
      " 1   vehicle_type       347536 non-null  object\n",
      " 2   registration_year  347536 non-null  int64 \n",
      " 3   gearbox            347536 non-null  object\n",
      " 4   power              347536 non-null  int64 \n",
      " 5   model              347536 non-null  object\n",
      " 6   kilometer          347536 non-null  int64 \n",
      " 7   fuel_type          347536 non-null  object\n",
      " 8   brand              347536 non-null  object\n",
      " 9   repaired           347536 non-null  object\n",
      "dtypes: int64(4), object(6)\n",
      "memory usage: 29.2+ MB\n"
     ]
    }
   ],
   "source": [
    "data.info()"
   ]
  },
  {
   "cell_type": "markdown",
   "metadata": {},
   "source": [
    "# Исследовательский анализ"
   ]
  },
  {
   "cell_type": "code",
   "execution_count": 47,
   "metadata": {},
   "outputs": [],
   "source": [
    "def draw():\n",
    "    fig, axs = plt.subplots(4, 2, figsize=(14, 19))\n",
    "\n",
    "    plt.suptitle('Гистограммы количественных признаков \\'data\\' ', fontsize=17)\n",
    "\n",
    "    axs[0][0].set_title('Цена автомобиля', fontsize=13)\n",
    "    sns.histplot(data, x='price', ax=axs[0][0], kde=True, bins=20)\n",
    "    axs[0][0].set_xlabel('евро')\n",
    "\n",
    "    sns.boxplot(data=data, x='price', ax=axs[0][1], linewidth=1, palette='Set2', orient='h')\n",
    "    axs[0][1].set_title('Цена автомобиля', fontsize=13)\n",
    "    axs[0][1].set_xlabel('евро')\n",
    "\n",
    "    axs[1][0].set_title('Мощность', fontsize=13)\n",
    "    sns.histplot(data=data, x='power', ax=axs[1][0], kde=True, bins=20)\n",
    "    axs[1][0].set_xlabel('Л.С.')\n",
    "\n",
    "    sns.boxplot(data=data, x='power', ax=axs[1][1], linewidth=1, palette='Set2', orient='h')\n",
    "    axs[1][1].set_title('Мощность', fontsize=13)\n",
    "    axs[1][1].set_xlabel('Л.С.')\n",
    "\n",
    "    axs[2][0].set_title('Пробег', fontsize=13)\n",
    "    sns.histplot(data=data, x='kilometer', ax=axs[2][0], kde=True, bins=20)\n",
    "    axs[2][0].set_xlabel('км')\n",
    "\n",
    "    sns.boxplot(data=data, x='kilometer', ax=axs[2][1], linewidth=1, palette='Set2', orient='h')\n",
    "    axs[2][1].set_title('Пробег', fontsize=13)\n",
    "    axs[2][1].set_xlabel('км')\n",
    "\n",
    "    axs[3][0].set_title('Год регистрации', fontsize=13)\n",
    "    sns.histplot(data=data, x='registration_year', ax=axs[3][0], kde=True, bins=20)\n",
    "    axs[3][0].set_xlabel('год')\n",
    "\n",
    "    sns.boxplot(data=data, x='registration_year', ax=axs[3][1], linewidth=1, palette='Set2', orient='h')\n",
    "    axs[3][1].set_title('Год регистрации', fontsize=13)\n",
    "    axs[3][1].set_xlabel('год')\n",
    "\n",
    "    plt.show()"
   ]
  },
  {
   "cell_type": "markdown",
   "metadata": {},
   "source": [
    "**Количественные признаки**"
   ]
  },
  {
   "cell_type": "code",
   "execution_count": 48,
   "metadata": {},
   "outputs": [
    {
     "data": {
      "text/html": [
       "<div>\n",
       "<style scoped>\n",
       "    .dataframe tbody tr th:only-of-type {\n",
       "        vertical-align: middle;\n",
       "    }\n",
       "\n",
       "    .dataframe tbody tr th {\n",
       "        vertical-align: top;\n",
       "    }\n",
       "\n",
       "    .dataframe thead th {\n",
       "        text-align: right;\n",
       "    }\n",
       "</style>\n",
       "<table border=\"1\" class=\"dataframe\">\n",
       "  <thead>\n",
       "    <tr style=\"text-align: right;\">\n",
       "      <th></th>\n",
       "      <th>price</th>\n",
       "      <th>registration_year</th>\n",
       "      <th>power</th>\n",
       "      <th>kilometer</th>\n",
       "    </tr>\n",
       "  </thead>\n",
       "  <tbody>\n",
       "    <tr>\n",
       "      <th>count</th>\n",
       "      <td>347536.000000</td>\n",
       "      <td>347536.000000</td>\n",
       "      <td>347536.000000</td>\n",
       "      <td>347536.000000</td>\n",
       "    </tr>\n",
       "    <tr>\n",
       "      <th>mean</th>\n",
       "      <td>4463.647461</td>\n",
       "      <td>2003.714289</td>\n",
       "      <td>111.154908</td>\n",
       "      <td>128449.844045</td>\n",
       "    </tr>\n",
       "    <tr>\n",
       "      <th>std</th>\n",
       "      <td>4524.300036</td>\n",
       "      <td>68.115094</td>\n",
       "      <td>190.551753</td>\n",
       "      <td>37472.247987</td>\n",
       "    </tr>\n",
       "    <tr>\n",
       "      <th>min</th>\n",
       "      <td>0.000000</td>\n",
       "      <td>1000.000000</td>\n",
       "      <td>0.000000</td>\n",
       "      <td>5000.000000</td>\n",
       "    </tr>\n",
       "    <tr>\n",
       "      <th>25%</th>\n",
       "      <td>1100.000000</td>\n",
       "      <td>1999.000000</td>\n",
       "      <td>69.000000</td>\n",
       "      <td>125000.000000</td>\n",
       "    </tr>\n",
       "    <tr>\n",
       "      <th>50%</th>\n",
       "      <td>2799.000000</td>\n",
       "      <td>2003.000000</td>\n",
       "      <td>105.000000</td>\n",
       "      <td>150000.000000</td>\n",
       "    </tr>\n",
       "    <tr>\n",
       "      <th>75%</th>\n",
       "      <td>6499.000000</td>\n",
       "      <td>2007.000000</td>\n",
       "      <td>143.000000</td>\n",
       "      <td>150000.000000</td>\n",
       "    </tr>\n",
       "    <tr>\n",
       "      <th>max</th>\n",
       "      <td>20000.000000</td>\n",
       "      <td>9999.000000</td>\n",
       "      <td>20000.000000</td>\n",
       "      <td>150000.000000</td>\n",
       "    </tr>\n",
       "  </tbody>\n",
       "</table>\n",
       "</div>"
      ],
      "text/plain": [
       "               price  registration_year          power      kilometer\n",
       "count  347536.000000      347536.000000  347536.000000  347536.000000\n",
       "mean     4463.647461        2003.714289     111.154908  128449.844045\n",
       "std      4524.300036          68.115094     190.551753   37472.247987\n",
       "min         0.000000        1000.000000       0.000000    5000.000000\n",
       "25%      1100.000000        1999.000000      69.000000  125000.000000\n",
       "50%      2799.000000        2003.000000     105.000000  150000.000000\n",
       "75%      6499.000000        2007.000000     143.000000  150000.000000\n",
       "max     20000.000000        9999.000000   20000.000000  150000.000000"
      ]
     },
     "execution_count": 48,
     "metadata": {},
     "output_type": "execute_result"
    }
   ],
   "source": [
    "data.describe()"
   ]
  },
  {
   "cell_type": "code",
   "execution_count": 49,
   "metadata": {},
   "outputs": [
    {
     "data": {
      "image/png": "[encoded data removed]",
      "text/plain": [
       "<Figure size 1400x1900 with 8 Axes>"
      ]
     },
     "metadata": {},
     "output_type": "display_data"
    }
   ],
   "source": [
    "draw()"
   ]
  },
  {
   "cell_type": "markdown",
   "metadata": {},
   "source": [
    "У некоторых пользователей цена авто стоит 100 и меньше евро, что, скорее всего говорит об аварийном состоянии. Отсеем тех, у кого цена - 0 евро"
   ]
  },
  {
   "cell_type": "code",
   "execution_count": 50,
   "metadata": {},
   "outputs": [
    {
     "name": "stdout",
     "output_type": "stream",
     "text": [
      "Процент удаляемых данных: 2.741586483126923\n"
     ]
    }
   ],
   "source": [
    "print('Процент удаляемых данных:', (1-(data.query('price > 0')['price'].count()) / data['price'].count()) * 100)"
   ]
  },
  {
   "cell_type": "code",
   "execution_count": 51,
   "metadata": {},
   "outputs": [],
   "source": [
    "data = data.query('price > 0')"
   ]
  },
  {
   "cell_type": "markdown",
   "metadata": {},
   "source": [
    "**Вывод по количественным признакам:**\n",
    "\n",
    "Цена автомобиля и его пробег выглядят правдоподобно, что нельзя сказать о дате регистрации и его мощности. Скорее всего, пользователи ставят рандомные значения в этих полях. Отсеем неправдоподобные данные."
   ]
  },
  {
   "cell_type": "code",
   "execution_count": 52,
   "metadata": {},
   "outputs": [
    {
     "data": {
      "text/plain": [
       "array([1000, 1001, 1234, 1300, 1400, 1500, 1600, 1602, 1800, 1910, 1923,\n",
       "       1925, 1927, 1928, 1929, 1930, 1931, 1932, 1933, 1934, 1935, 1936,\n",
       "       1937, 1938, 1940, 1941, 1942, 1943, 1944, 1945, 1946, 1947, 1948,\n",
       "       1949, 1950, 1951, 1952, 1953, 1954, 1955, 1956, 1957, 1958, 1959,\n",
       "       1960, 1961, 1962, 1963, 1964, 1965, 1966, 1967, 1968, 1969, 1970,\n",
       "       1971, 1972, 1973, 1974, 1975, 1976, 1977, 1978, 1979, 1980, 1981,\n",
       "       1982, 1983, 1984, 1985, 1986, 1987, 1988, 1989, 1990, 1991, 1992,\n",
       "       1993, 1994, 1995, 1996, 1997, 1998, 1999, 2000, 2001, 2002, 2003,\n",
       "       2004, 2005, 2006, 2007, 2008, 2009, 2010, 2011, 2012, 2013, 2014,\n",
       "       2015, 2016, 2017, 2018, 2019, 2066, 2200, 2290, 2500, 2900, 3000,\n",
       "       3700, 4000, 4500, 5000, 5555, 5900, 5911, 6000, 6500, 7000, 7100,\n",
       "       7800, 8000, 8200, 8500, 9000, 9999], dtype=int64)"
      ]
     },
     "execution_count": 52,
     "metadata": {},
     "output_type": "execute_result"
    }
   ],
   "source": [
    "data['registration_year'].sort_values().unique()"
   ]
  },
  {
   "cell_type": "markdown",
   "metadata": {},
   "source": [
    "Сразу ограничим данные в `registration_year` с 1985"
   ]
  },
  {
   "cell_type": "code",
   "execution_count": 53,
   "metadata": {},
   "outputs": [
    {
     "name": "stdout",
     "output_type": "stream",
     "text": [
      "Процент удаляемых данных: 4.943078270336798\n"
     ]
    }
   ],
   "source": [
    "print('Процент удаляемых данных:', (1-(data.query('1985 <= registration_year <= 2016')['registration_year'].count()) / data['registration_year'].count()) * 100)"
   ]
  },
  {
   "cell_type": "code",
   "execution_count": 54,
   "metadata": {},
   "outputs": [],
   "source": [
    "data = data.query('1985 <= registration_year <= 2016')"
   ]
  },
  {
   "cell_type": "markdown",
   "metadata": {},
   "source": [
    "<div class=\"alert alert-danger\">\n",
    "<font size=\"5\"><b>Комментарий ревьюера</b></font>\n",
    "\n",
    "\n",
    "\n",
    "Ошибка ❌:\n",
    "\n",
    " \n",
    "\n",
    "\n",
    "\n",
    "- Стоит обратить внимание что верхняя граница — 2016 год - год выгрузки базы. Если есть строчка с больше 2016, то это явно ошиибка заполнения, такое лучше убрать\n",
    "\n",
    " \n",
    "\n"
   ]
  },
  {
   "cell_type": "markdown",
   "metadata": {},
   "source": [
    "<div class=\"alert alert-info\">\n",
    "<font size=\"4\", color = \"black\"><b>✍ Комментарий студента</b></font>\n",
    "    <br /> \n",
    "    <font size=\"3\", color = \"black\">\n",
    "<br /> Не обратил внимания даже. Исправил"
   ]
  },
  {
   "cell_type": "code",
   "execution_count": 55,
   "metadata": {},
   "outputs": [
    {
     "name": "stdout",
     "output_type": "stream",
     "text": [
      "Процент удаляемых данных: 10.77466542172425\n"
     ]
    }
   ],
   "source": [
    "print('Процент удаляемых данных:', (1-(data.query('power <= 1000 and power >= 50')['power'].count()) / data['power'].count()) * 100)"
   ]
  },
  {
   "cell_type": "code",
   "execution_count": 56,
   "metadata": {},
   "outputs": [],
   "source": [
    "data = data.query('power <= 1000 and power >= 50')"
   ]
  },
  {
   "cell_type": "code",
   "execution_count": 57,
   "metadata": {},
   "outputs": [
    {
     "data": {
      "image/png": "[encoded data removed]",
      "text/plain": [
       "<Figure size 1400x1900 with 8 Axes>"
      ]
     },
     "metadata": {},
     "output_type": "display_data"
    }
   ],
   "source": [
    "draw()"
   ]
  },
  {
   "cell_type": "markdown",
   "metadata": {},
   "source": [
    "<div class=\"alert alert-success\">\n",
    "<font size=\"5\"><b>Комментарий ревьюераV2</b></font>\n",
    "\n",
    "\n",
    "\n",
    "Успех 👍:\n",
    "\n",
    "\n",
    "\n",
    "Отличный график, здорово Что написал функцию\n",
    "\n",
    "\n",
    " "
   ]
  },
  {
   "cell_type": "markdown",
   "metadata": {},
   "source": [
    "<div class=\"alert alert-success\">\n",
    "<font size=\"5\"><b>Комментарий ревьюера</b></font>\n",
    "\n",
    "\n",
    "\n",
    "Успех 👍:\n",
    "\n",
    "\n",
    "\n",
    "Есть работа с аномалиями\n",
    "\n",
    "\n",
    " "
   ]
  },
  {
   "cell_type": "markdown",
   "metadata": {},
   "source": [
    "**Категориальные признаки**"
   ]
  },
  {
   "cell_type": "markdown",
   "metadata": {},
   "source": [
    "Так как в столбцах `model`, `brand`, `fuel_type` много категорий, графики будут мало информативны. Ограничимся следующими признаками:"
   ]
  },
  {
   "cell_type": "code",
   "execution_count": 58,
   "metadata": {},
   "outputs": [
    {
     "data": {
      "image/png": "[encoded data removed]",
      "text/plain": [
       "<Figure size 1000x600 with 2 Axes>"
      ]
     },
     "metadata": {},
     "output_type": "display_data"
    }
   ],
   "source": [
    "plt.figure(figsize=(10, 6))\n",
    "plt.suptitle('Графики категориальных признаков \"data\"', fontsize=17)\n",
    "\n",
    "plt.subplot(1, 2, 1)\n",
    "data['gearbox'].value_counts().plot(kind='pie', autopct='%1.0f%%', title='Коробка передач')\n",
    "\n",
    "plt.subplot(1, 2, 2)\n",
    "data['repaired'].value_counts().plot(kind='pie', autopct='%1.0f%%', title='Ремонт')\n",
    "\n",
    "plt.show()"
   ]
  },
  {
   "cell_type": "code",
   "execution_count": 59,
   "metadata": {},
   "outputs": [
    {
     "data": {
      "image/png": "[encoded data removed]",
      "text/plain": [
       "<Figure size 640x480 with 1 Axes>"
      ]
     },
     "metadata": {},
     "output_type": "display_data"
    }
   ],
   "source": [
    "plt.title('Тип топлива', fontsize=13)\n",
    "data['fuel_type'].value_counts().plot(kind='bar', xlabel='топливо')\n",
    "plt.show()"
   ]
  },
  {
   "cell_type": "markdown",
   "metadata": {},
   "source": [
    " \n",
    "\n",
    "\n",
    "\n",
    "<div class=\"alert alert-success\">\n",
    "<font size=\"5\"><b>Комментарий ревьюера</b></font>\n",
    "\n",
    "Успех:\n",
    "\n",
    "Правильно что строишь разные типы графиков для разных типов данных.  Отличные графики и оформлены хорошо \n",
    "    \n",
    "    \n",
    "\n",
    "<div class=\"alert alert-warning\">\n",
    "   \n",
    "    \n",
    "Совет: \n",
    " \n",
    "- Подумай о лучшем размещении графиков, сейчас это длинный ряд графиков, который надо прокручивать вниз, почему бы не использовать [subplots](https://nagornyy.me/it/vizualizatsiia-dannykh-v-matplotlib/) и не разместить графики еще и по вертикали в два или три столбца!? Используя histplot (boxplot) и countplot это легко сделать \n",
    " \n",
    "\n",
    "- Кстати для числовых признаков лучше одновременно строить график типа hist и boxplot. Гистограмма - позволяет нам увидеть, как данные распределены.  Boxplot  помогает нам понять разброс данных и выявить аномалии. И  можно красиво разместить их с помощью subplots - в одном столбце строим гистограмму ждля признака, в другом boxplot.  И если ты это сделаешь, то конечно лучше сразу оформить в виде функции, чтобы можно было использовать в следующих проектах (в качестве аргументов подаём dataset и названия столбцов с количественными признаками)\n",
    "\n",
    " \n",
    "\n"
   ]
  },
  {
   "cell_type": "code",
   "execution_count": 60,
   "metadata": {},
   "outputs": [],
   "source": [
    "numeric_cols = data.select_dtypes(include=['number'])"
   ]
  },
  {
   "cell_type": "code",
   "execution_count": 61,
   "metadata": {},
   "outputs": [
    {
     "data": {
      "image/png": "[encoded data removed]",
      "text/plain": [
       "<Figure size 900x700 with 2 Axes>"
      ]
     },
     "metadata": {},
     "output_type": "display_data"
    }
   ],
   "source": [
    "plt.figure(figsize=(9, 7))\n",
    "sns.heatmap(numeric_cols.corr(), \n",
    "            annot=True, \n",
    "            cmap='coolwarm', \n",
    "            fmt='.2f');"
   ]
  },
  {
   "cell_type": "markdown",
   "metadata": {},
   "source": [
    " \n",
    "\n",
    "\n",
    "<div class=\"alert alert-success\">\n",
    "<font size=\"5\"><b>Комментарий ревьюера</b></font>\n",
    "\n",
    "Успех:\n",
    "\n",
    "👍\n",
    "\n",
    "  \n",
    "\n",
    "<div class=\"alert alert-warning\">\n",
    "\n",
    "\n",
    "Совет: \n",
    "\n",
    "\n",
    "- коэффициент Пирсона (который использован) подходит для колличественных и нормально распределенных, для ненормально распределённых используем Спирмена   \n",
    "    \n",
    "    \n",
    "- можно поменять политру для удобства восприятия, через добавление cmap='coolwarm' ('bwr', 'seismic'), тогда чем ближе корреляция к 1 тем красней, чем ближе к -1 тем \"синей\" , ну и чем меньше связи, чем ближе к 0, тем нейтальней цвет\n",
    "\n",
    "\n",
    "\n"
   ]
  },
  {
   "cell_type": "code",
   "execution_count": 62,
   "metadata": {},
   "outputs": [
    {
     "data": {
      "text/plain": [
       "(286681, 10)"
      ]
     },
     "execution_count": 62,
     "metadata": {},
     "output_type": "execute_result"
    }
   ],
   "source": [
    "data.shape"
   ]
  },
  {
   "cell_type": "markdown",
   "metadata": {},
   "source": [
    "**ВЫВОДЫ:**\n",
    "\n",
    "1. Цена автомобиля и его пробег выглядят достаточно правдоподобно;\n",
    "2. В признаках \"мощность\" и \"год регистрации\" были аномалии, мы их удалили;\n",
    "3. Большинство коробок после заполнения пропусков стали механическими (80%);\n",
    "4. Самое популярное топливо - бензин, с большим отрывом, затем газ;\n",
    "5. Цена и год регистрации, а также цена и мощность имееют умеренную корреляцию.\n",
    "6. После всех манипуляций в датасете осталось 295 тыс строк и 10 столбцов"
   ]
  },
  {
   "cell_type": "markdown",
   "metadata": {},
   "source": [
    "\n",
    "<div class=\"alert alert-success\">\n",
    "<font size=\"5\"><b>Комментарий ревьюера</b></font>\n",
    "\n",
    "\n",
    "\n",
    "Успех 👍:\n",
    "\n",
    "\n",
    "\n",
    "\n",
    "\n",
    "\n",
    "Промежуточный вывод на месте \n",
    "\n",
    "\n",
    " \n",
    "<div class=\"alert alert-warning\">\n",
    "\n",
    "\n",
    "Совет 🤔:\n",
    "\n",
    "\n",
    " \n",
    "\n",
    "- работа пропусками тема очень тонкая, ведь в любом случае будет происходить искажение данных, каждый новый датасетом скорее всего надо будет требовать какой-то свой уникальный способ работы с пропусками, а как именно - это придёт с опытом. Тут можешь посмотреть какие вообще способы и подходы можно использовать  [первая часть](https://www.dmitrymakarov.ru/data-analysis/nan-06/) ,   [вторая часть](https://www.dmitrymakarov.ru/data-analysis/nan-06-2/) "
   ]
  },
  {
   "cell_type": "markdown",
   "metadata": {},
   "source": [
    " \n",
    "<div class=\"alert alert-warning\">\n",
    "<font size=\"5\"><b>Комментарий ревьюера</b></font>\n",
    "\n",
    "\n",
    "\n",
    "\n",
    "Совет 🤔:\n",
    "\n",
    "\n",
    "\n",
    " \n",
    "\n",
    "В этом проекте стоит вопрос о выборе модели в том числе на основе затраченного времени, можно попробовать ускориться,  ссжав датасет, приведя его в более экономный тип, с помощью функции которая гуляет на просторах интернета\n",
    "\n",
    "    # Оптимизация числовых типов данных\n",
    "    def optimize_memory_usage(df: pd.DataFrame, print_size: bool=True) -> pd.DataFrame:\n",
    "        '''\n",
    "        Function optimizes memory usage in dataframe\n",
    "        df: pd.DataFrame - data table\n",
    "        print_size: bool - display of optimization results\n",
    "        return pd.DataFrame - amount of optimized memory\n",
    "        '''\n",
    "        numerics = ['int16', 'int32', 'int64', 'float16', 'float32', 'float64'] # Типы, которые будем проверять на оптимизацию\n",
    "        # Размер занимаемой памяти до оптимизации (в Мб)\n",
    "        before_size = df.memory_usage().sum() / 1024**2    \n",
    "        for column in df.columns:\n",
    "            column_type = df[column].dtypes\n",
    "            if column_type in numerics:\n",
    "                column_min = df[column].min()\n",
    "                column_max = df[column].max()\n",
    "                if str(column_type).startswith('int'):\n",
    "                    if column_min > np.iinfo(np.int8).min and column_max < np.iinfo(np.int8).max:\n",
    "                        df[column] = df[column].astype(np.int8)\n",
    "                    elif column_min > np.iinfo(np.int16).min and column_max < np.iinfo(np.int16).max:\n",
    "                        df[column] = df[column].astype(np.int16)\n",
    "                    elif column_min > np.iinfo(np.int32).min and column_max < np.iinfo(np.int32).max:\n",
    "                        df[column] = df[column].astype(np.int32)\n",
    "                    elif column_min > np.iinfo(np.int64).min and column_max < np.iinfo(np.int64).max:\n",
    "                        df[column] = df[column].astype(np.int64)  \n",
    "                else:\n",
    "                    if column_min > np.finfo(np.float32).min and column_max < np.finfo(np.float32).max:\n",
    "                        df[column] = df[column].astype(np.float32)\n",
    "                    else:\n",
    "                        df[column] = df[column].astype(np.float64)    \n",
    "        # Размер занимаемой памяти после оптимизации (в Мб)\n",
    "        after_size = df.memory_usage().sum() / 1024**2\n",
    "        if print_size: print('Размер использования памяти: до {:5.2f} Mb - после {:5.2f} Mb ({:.1f}%)'\n",
    "                             .format(before_size, after_size, 100 * (before_size - after_size) / before_size))\n",
    "        return df\n",
    "                                                                                                   \n",
    "                                                                                                   \n",
    "Проверяет минимальное и максимальное значения в столбце. Если значения могут уместиться в типе данных меньшего размера (например, np.int8 вместо np.int16), столбец конвертируется в более компактный тип данных. И для оценки стоило всё это начинать, подсчитывается размер занимаемой памяти DataFrame до и после оптимизации и выводит разницу в процентах\n",
    "                                                                                                   "
   ]
  },
  {
   "cell_type": "markdown",
   "metadata": {},
   "source": [
    "# Обучение моделей"
   ]
  },
  {
   "cell_type": "code",
   "execution_count": 63,
   "metadata": {},
   "outputs": [],
   "source": [
    "# Оптимизация числовых типов данных\n",
    "def optimize_memory_usage(df: pd.DataFrame, print_size: bool=True) -> pd.DataFrame:\n",
    "    '''\n",
    "    Function optimizes memory usage in dataframe\n",
    "    df: pd.DataFrame - data table\n",
    "    print_size: bool - display of optimization results\n",
    "    return pd.DataFrame - amount of optimized memory\n",
    "    '''\n",
    "    numerics = ['int16', 'int32', 'int64', 'float16', 'float32', 'float64'] # Типы, которые будем проверять на оптимизацию\n",
    "    # Размер занимаемой памяти до оптимизации (в Мб)\n",
    "    before_size = df.memory_usage().sum() / 1024**2    \n",
    "    for column in df.columns:\n",
    "        column_type = df[column].dtypes\n",
    "        if column_type in numerics:\n",
    "            column_min = df[column].min()\n",
    "            column_max = df[column].max()\n",
    "            if str(column_type).startswith('int'):\n",
    "                if column_min > np.iinfo(np.int8).min and column_max < np.iinfo(np.int8).max:\n",
    "                    df[column] = df[column].astype(np.int8)\n",
    "                elif column_min > np.iinfo(np.int16).min and column_max < np.iinfo(np.int16).max:\n",
    "                    df[column] = df[column].astype(np.int16)\n",
    "                elif column_min > np.iinfo(np.int32).min and column_max < np.iinfo(np.int32).max:\n",
    "                    df[column] = df[column].astype(np.int32)\n",
    "                elif column_min > np.iinfo(np.int64).min and column_max < np.iinfo(np.int64).max:\n",
    "                    df[column] = df[column].astype(np.int64)  \n",
    "            else:\n",
    "                if column_min > np.finfo(np.float32).min and column_max < np.finfo(np.float32).max:\n",
    "                    df[column] = df[column].astype(np.float32)\n",
    "                else:\n",
    "                    df[column] = df[column].astype(np.float64)    \n",
    "    # Размер занимаемой памяти после оптимизации (в Мб)\n",
    "    after_size = df.memory_usage().sum() / 1024**2\n",
    "    if print_size: print('Размер использования памяти: до {:5.2f} Mb - после {:5.2f} Mb ({:.1f}%)'\n",
    "                         .format(before_size, after_size, 100 * (before_size - after_size) / before_size))\n",
    "    return df"
   ]
  },
  {
   "cell_type": "code",
   "execution_count": 64,
   "metadata": {},
   "outputs": [
    {
     "name": "stdout",
     "output_type": "stream",
     "text": [
      "Размер использования памяти: до 24.06 Mb - после 18.04 Mb (25.0%)\n"
     ]
    }
   ],
   "source": [
    "data = optimize_memory_usage(data)"
   ]
  },
  {
   "cell_type": "markdown",
   "metadata": {},
   "source": [
    "## Подготовка данных"
   ]
  },
  {
   "cell_type": "markdown",
   "metadata": {},
   "source": [
    "<div class=\"alert alert-warning\">\n",
    "<font size=\"5\"><b>Комментарий ревьюера</b></font>\n",
    "\n",
    "\n",
    "\n",
    "Совет 🤔:\n",
    "\n",
    "\n",
    "Это лучше поставить сразу после импортов "
   ]
  },
  {
   "cell_type": "code",
   "execution_count": 65,
   "metadata": {},
   "outputs": [],
   "source": [
    "X = data.drop(['price'], axis=1)\n",
    "y = data['price']\n",
    "\n",
    "X_train, X_valid, y_train, y_valid = train_test_split(\n",
    "    X,\n",
    "    y,\n",
    "    random_state=RANDOM_STATE,\n",
    "    test_size=0.5\n",
    ")\n",
    "\n",
    "X_valid, X_test, y_valid, y_test = train_test_split(\n",
    "    X_valid,\n",
    "    y_valid,\n",
    "    random_state=RANDOM_STATE,\n",
    "    test_size=0.5\n",
    ")"
   ]
  },
  {
   "cell_type": "code",
   "execution_count": 66,
   "metadata": {},
   "outputs": [],
   "source": [
    "num_columns = ['registration_year', 'power', 'kilometer']\n",
    "cat_columns = ['vehicle_type', 'gearbox', 'model', 'fuel_type', 'brand', 'repaired']"
   ]
  },
  {
   "cell_type": "code",
   "execution_count": 67,
   "metadata": {},
   "outputs": [],
   "source": [
    "def fit_model(parameters):\n",
    "    encode_pipe = Pipeline(\n",
    "        [('simpleImputer_ohe', SimpleImputer(missing_values=np.nan, strategy='most_frequent')),\n",
    "        ('ohe', OneHotEncoder(drop='first', handle_unknown='ignore', sparse_output=False))])\n",
    "\n",
    "    data_preprocessor = ColumnTransformer(\n",
    "        [('encode', encode_pipe, cat_columns),\n",
    "         ('num', StandardScaler(), num_columns)], \n",
    "         remainder='passthrough')\n",
    "    \n",
    "    pipe_final = Pipeline([\n",
    "    ('preprocessor', data_preprocessor),\n",
    "    ('models', LinearRegression())\n",
    "    ])\n",
    "\n",
    "    randomized_search = RandomizedSearchCV(\n",
    "        pipe_final, \n",
    "        parameters, \n",
    "        cv=5,\n",
    "        scoring='neg_root_mean_squared_error',\n",
    "        n_jobs=-1\n",
    "    )\n",
    "    randomized_search.fit(X_train, y_train)\n",
    "    \n",
    "    print('Лучшая модель и её параметры:\\n\\n', randomized_search.best_estimator_)\n",
    "    print ('Метрика лучшей модели на тренировочной выборке:', randomized_search.best_score_ * -1)\n",
    "\n",
    "    return randomized_search.best_estimator_, randomized_search.best_score_ * -1"
   ]
  },
  {
   "cell_type": "markdown",
   "metadata": {},
   "source": [
    "## Модели"
   ]
  },
  {
   "cell_type": "markdown",
   "metadata": {},
   "source": [
    "<div class=\"alert alert-danger\">\n",
    "<font size=\"5\"><b>Комментарий ревьюера</b></font>\n",
    "\n",
    "Ошибка:\n",
    "\n",
    "\n",
    "test датасет используем в самом конце, когда тестируем лучшую модель \n",
    "\n",
    "\n",
    "Поэтому подсчёт её стоит убрать из функций\n",
    "\n"
   ]
  },
  {
   "cell_type": "markdown",
   "metadata": {},
   "source": [
    "### LinearRegression()"
   ]
  },
  {
   "cell_type": "code",
   "execution_count": 68,
   "metadata": {},
   "outputs": [],
   "source": [
    "linear_reg_grid = [\n",
    "    {\n",
    "        'models': [LinearRegression()],\n",
    "        'preprocessor__num': [StandardScaler(), MinMaxScaler(), 'passthrough']  \n",
    "    }\n",
    "]"
   ]
  },
  {
   "cell_type": "code",
   "execution_count": 69,
   "metadata": {},
   "outputs": [
    {
     "name": "stdout",
     "output_type": "stream",
     "text": [
      "Лучшая модель и её параметры:\n",
      "\n",
      " Pipeline(steps=[('preprocessor',\n",
      "                 ColumnTransformer(remainder='passthrough',\n",
      "                                   transformers=[('encode',\n",
      "                                                  Pipeline(steps=[('simpleImputer_ohe',\n",
      "                                                                   SimpleImputer(strategy='most_frequent')),\n",
      "                                                                  ('ohe',\n",
      "                                                                   OneHotEncoder(drop='first',\n",
      "                                                                                 handle_unknown='ignore',\n",
      "                                                                                 sparse_output=False))]),\n",
      "                                                  ['vehicle_type', 'gearbox',\n",
      "                                                   'model', 'fuel_type',\n",
      "                                                   'brand', 'repaired']),\n",
      "                                                 ('num', MinMaxScaler(),\n",
      "                                                  ['registration_year', 'power',\n",
      "                                                   'kilometer'])])),\n",
      "                ('models', LinearRegression())])\n",
      "Метрика лучшей модели на тренировочной выборке: 2483.9577399650307\n"
     ]
    }
   ],
   "source": [
    "lr_model, lr_rmse = fit_model(linear_reg_grid)"
   ]
  },
  {
   "cell_type": "code",
   "execution_count": 70,
   "metadata": {},
   "outputs": [
    {
     "name": "stdout",
     "output_type": "stream",
     "text": [
      "Время обучения на тренировочной выборке: 6.429973602294922\n"
     ]
    }
   ],
   "source": [
    "start = time.time()\n",
    "lr_model.fit(X_train, y_train)\n",
    "lr_fit_time = time.time() - start\n",
    "print('Время обучения на тренировочной выборке:', lr_fit_time)"
   ]
  },
  {
   "cell_type": "markdown",
   "metadata": {},
   "source": [
    "<div class=\"alert alert-danger\">\n",
    "<font size=\"5\"><b>Комментарий ревьюераV2</b></font>\n",
    "\n",
    "\n",
    "\n",
    "Ошибка ❌:\n",
    "\n",
    "\n",
    "\n",
    "\n",
    "Тут опять используешь тестовую выборку до того как выбрал лучшую модель. \n",
    "    \n",
    "О логике использования выбор    \n",
    "    \n",
    "1. На train мы обучаем\n",
    "2. По валидации смотрим на результаты обучения (следим чтобы не было переобучения и/или делаем подбор гиперпараметров).  И выбираем лучшую модель (когда используем RandomizedSearchCV То валидационная выборка создаётся им самим внутри себя, нужно только посмотреть на нее с помощью .best_score_). \n",
    "3. Тестовая (out-of_sample) у нас для финальной проверки, когда определена модель с конкретными гиперпараметрами. Использование тестовой выборки, чтобы еще раз посмотреть на модели - это нарушение логической цепочки моделирования. \n",
    "\n",
    " \n",
    " [Вот](https://towardsdatascience.com/why-do-we-need-a-validation-set-in-addition-to-training-and-test-sets-5cf4a65550e0   ) тут можно дополнительно почитать.   \n",
    "    \n",
    "    \n",
    "    \n",
    "Ещё такой момент:\n",
    "    \n",
    "    \n",
    "    print ('Метрика лучшей модели на тренировочной выборке:', randomized_search.best_score_ * -1)  ----->  \n",
    "    \n",
    "    print ('Метрика лучшей модели на КРОСС ВАЛИДАЦИОННОЙ выборке:', randomized_search.best_score_ * -1)"
   ]
  },
  {
   "cell_type": "markdown",
   "metadata": {},
   "source": [
    "<div class=\"alert alert-info\">\n",
    "<font size=\"4\", color = \"black\"><b>✍ Комментарий студента V2</b></font>\n",
    "    <br /> \n",
    "    <font size=\"3\", color = \"black\">\n",
    "<br /> \n",
    "\n",
    "Разве наша лучшая модель - не та, что я с функции вывел randomized_search.best_estimator_? \n",
    "\n",
    "Как я понимаю задачу:\n",
    "1. я выбираю три модели - линейная регрессия, CatBoost и LGMB. В линейной я обучил модель на тренировочных данных и мне она вывела метрику лучшей модели на тренировочной/валидационной выборке .best_score_ около 2400. Теперь я должен посмотреть как долго она обучается на тренировочной выборке:\n",
    "\n",
    "```python\n",
    "start = time.time()\n",
    "lr_model.fit(X_train, y_train)\n",
    "lr_fit_time = time.time() - start\n",
    "```\n",
    "\n",
    "Потому что если я напишу так:\n",
    "\n",
    "```python\n",
    "    randomized_search = RandomizedSearchCV(\n",
    "        pipe_final, \n",
    "        parameters, \n",
    "        cv=5,\n",
    "        scoring='neg_root_mean_squared_error',\n",
    "        n_jobs=-1\n",
    "    )\n",
    "    start = time.time() # Подсчет тут\n",
    "    randomized_search.fit(X_train, y_train)\n",
    "    end = time.time() #\n",
    "```\n",
    "\n",
    "то я посчитаю общее время обучения для моделей с разными параметрами, а не для лучшей модели. \n",
    "\n",
    "2. Далее, для того, чтобы понять сколько она тратит время на предсказание, я должен сделать предсказание на тестовой выборке, заодно и посчитать метрику. И тоже самое сделать с CatBoost и LGBM. Или же я должен делать этот анализ, предварительно разделив выборки на тренировочную, валидационную и тестовую? Допустим в RSCV на валидационной уже есть метрика RMSE=2481. Сейчас мне надо сделать предсказание на валидационной для CatBoost и LGBM, и уже в таблице сравнить их? \n",
    "4. А после выбрать из троих самую точную / быструю и уже на ней применить **тестовую** выборку\n",
    "\n"
   ]
  },
  {
   "cell_type": "markdown",
   "metadata": {},
   "source": [
    "<div class=\"alert alert-warning\">\n",
    "<font size=\"5\"><b>Комментарий ревьюераV2</b></font>\n",
    "\n",
    "\n",
    "\n",
    "Совет 🤔:\n",
    "\n",
    "\n",
    "    Разве наша лучшая модель - не та, что я с функции вывел randomized_search.best_estimator_?\n",
    "    \n",
    "   \n",
    "Если бы ты засунул в pipeline все модели, то да.  А так это только етрика ндля линейной регрессии с лучшими гиперпараметрами    \n",
    "    \n",
    "    \n",
    "- Уточню, .best_score_  это метрика на кросс валидационной выборке. Метрику на тренировочной выборке мы вообще не смотрим, она нам ничего не показывает, потому что высокая иетрика на train может быть результатом переобучения модели    \n",
    "    \n",
    "    \n",
    "    \n",
    "- По поводу времени - даже если бы ты время прогноза модели смотрел на тестовой выборке я бы ничего не сказал, вопрос что ты используешь для получения метрики на тестовой  все моделеи\n",
    "    \n",
    "    \n",
    "    \n",
    "    Сейчас мне надо сделать предсказание на валидационной для CatBoost и LGBM, и уже в таблице сравнить их?\n",
    "    \n",
    "    \n",
    "Верно    \n",
    "    \n",
    "    \n",
    "    \n",
    "    А после выбрать из троих самую точную / быструю и уже на ней применить тестовую выборку\n",
    "    \n",
    "    \n",
    "Да\n",
    "    \n",
    "    \n",
    "    \n",
    "    \n",
    "Но вообще это дискуссионный момент, свою логику почему тестовую метрику используем только для лучшей модели я написал, ты  можешь предложить свою логику    "
   ]
  },
  {
   "cell_type": "markdown",
   "metadata": {},
   "source": [
    "\n",
    "<div class=\"alert alert-success\">\n",
    "<font size=\"5\"><b>Комментарий ревьюера</b></font>\n",
    "\n",
    "Успех:\n",
    "\n",
    "    \n",
    "- Верно, что в случае использования линейной модели категориальные признаки кодированы с помощью OHE \n",
    "\n",
    "<div class=\"alert alert-warning\">\n",
    "\n",
    "\n",
    "\n",
    "Совет 🤔:\n",
    "\n",
    "\n",
    " \n",
    "\n",
    "    \n",
    "- Можешь объяснить почему для линейных модели технику  `OrdinalEncoder/LabelEncoder`  использовать нельзя, а для  деревянных моделей это не вызывает тех же проблем?\n",
    "\n"
   ]
  },
  {
   "cell_type": "markdown",
   "metadata": {},
   "source": [
    "<div class=\"alert alert-info\">\n",
    "<font size=\"4\", color = \"black\"><b>✍ Комментарий студента</b></font>\n",
    "    <br /> \n",
    "    <font size=\"3\", color = \"black\">\n",
    "<br /> \n",
    "\n",
    "`OrdinalEncoder` и `LabelEncoder` преобразуют категориальные признаки в числа. Например, \"плохо\", \"нормально\" и \"хорошо\" они могут преобразовать в 0, 1 и 2 соответственно, а линейные модели ищут отношения между этими числами. Это может привести к неверным выводам."
   ]
  },
  {
   "cell_type": "markdown",
   "metadata": {},
   "source": [
    "<div class=\"alert alert-warning\">\n",
    "<font size=\"5\"><b>Комментарий ревьюераV2</b></font>\n",
    "\n",
    "\n",
    "\n",
    "Совет 🤔:\n",
    "\n",
    "    \n",
    "    \n",
    "Верно. А если ты подаёшь результаты OE/LabelEncoder в модели на основе деревьев (Случайный лес,  Дерево решений), то это не так страшно, в силу того что модели делают сплиты, они нелинейные, поэтмоу могут подстроиться.  А вот если ты это подашь в линейные модели, то скорее всего получится проблема, потому что  линейная модель, будет стараться построить линию (гиперплоскость) в которой камаз > мерседес > вольво, там никакой подстройки быть не может "
   ]
  },
  {
   "cell_type": "markdown",
   "metadata": {},
   "source": [
    "### CatBoostRegressor()"
   ]
  },
  {
   "cell_type": "code",
   "execution_count": 71,
   "metadata": {},
   "outputs": [],
   "source": [
    "cb_model = CatBoostRegressor(iterations=300, \n",
    "                              learning_rate=0.2,\n",
    "                              cat_features=cat_columns)"
   ]
  },
  {
   "cell_type": "markdown",
   "metadata": {},
   "source": [
    "<div class=\"alert alert-success\">\n",
    "<font size=\"5\"><b>Комментарий ревьюера</b></font>\n",
    "\n",
    "\n",
    "\n",
    "Успех 👍:\n",
    "\n",
    "\n",
    "\n",
    "👍cat_features\n",
    "\n",
    "\n",
    "Кстати для этой модели тоже можно было устроить подбор гиперпараметров "
   ]
  },
  {
   "cell_type": "code",
   "execution_count": 72,
   "metadata": {},
   "outputs": [
    {
     "name": "stdout",
     "output_type": "stream",
     "text": [
      "0:\tlearn: 4003.8068764\ttotal: 267ms\tremaining: 1m 19s\n",
      "30:\tlearn: 1785.3130536\ttotal: 3.43s\tremaining: 29.8s\n",
      "60:\tlearn: 1703.2719024\ttotal: 6.57s\tremaining: 25.7s\n",
      "90:\tlearn: 1659.5603132\ttotal: 9.62s\tremaining: 22.1s\n",
      "120:\tlearn: 1629.1927919\ttotal: 12.8s\tremaining: 18.9s\n",
      "150:\tlearn: 1608.7589685\ttotal: 15.8s\tremaining: 15.6s\n",
      "180:\tlearn: 1593.9747186\ttotal: 18.8s\tremaining: 12.3s\n",
      "210:\tlearn: 1578.2534306\ttotal: 22.2s\tremaining: 9.35s\n",
      "240:\tlearn: 1565.7111320\ttotal: 25.7s\tremaining: 6.29s\n",
      "270:\tlearn: 1556.5719870\ttotal: 29.1s\tremaining: 3.12s\n",
      "299:\tlearn: 1548.5409105\ttotal: 32.3s\tremaining: 0us\n",
      "Время обучения CatBoost: 32.96637177467346\n"
     ]
    }
   ],
   "source": [
    "start = time.time()\n",
    "cb_model.fit(X_train, y_train, verbose=30);\n",
    "end = time.time()\n",
    "catboost_fit_time = end - start\n",
    "print('Время обучения CatBoost:', catboost_fit_time)"
   ]
  },
  {
   "cell_type": "markdown",
   "metadata": {},
   "source": [
    "### LGBMRegressor()"
   ]
  },
  {
   "cell_type": "markdown",
   "metadata": {},
   "source": [
    "<div class=\"alert alert-warning\">\n",
    "<font size=\"5\"><b>Комментарий ревьюераV2</b></font>\n",
    "\n",
    "\n",
    "\n",
    "Совет 🤔:\n",
    "\n",
    "\n",
    "Получается зада lgbm_grid, но подбора не сделал "
   ]
  },
  {
   "cell_type": "code",
   "execution_count": 73,
   "metadata": {},
   "outputs": [],
   "source": [
    "lgbm_data = data.copy()"
   ]
  },
  {
   "cell_type": "code",
   "execution_count": 74,
   "metadata": {},
   "outputs": [],
   "source": [
    "for c in lgbm_data.columns:\n",
    "    col_type = lgbm_data[c].dtype\n",
    "    if col_type == 'object' or col_type.name == 'category':\n",
    "        lgbm_data[c] = lgbm_data[c].astype('category')"
   ]
  },
  {
   "cell_type": "code",
   "execution_count": 75,
   "metadata": {},
   "outputs": [],
   "source": [
    "X_lgbm = lgbm_data.drop(['price'], axis=1)\n",
    "y_lgbm = lgbm_data['price']"
   ]
  },
  {
   "cell_type": "code",
   "execution_count": 76,
   "metadata": {},
   "outputs": [],
   "source": [
    "X_lgbm_train, X_lgbm_valid, y_lgbm_train, y_lgbm_valid = train_test_split(\n",
    "    X_lgbm, \n",
    "    y_lgbm, \n",
    "    train_size=0.6, \n",
    "    random_state=RANDOM_STATE)\n",
    "\n",
    "X_lgbm_valid, X_lgbm_test, y_lgbm_valid, y_lgbm_test = train_test_split(\n",
    "    X_lgbm_valid, \n",
    "    y_lgbm_valid, \n",
    "    test_size=0.5, \n",
    "    random_state=RANDOM_STATE)"
   ]
  },
  {
   "cell_type": "markdown",
   "metadata": {},
   "source": [
    "<div class=\"alert alert-warning\">\n",
    "<font size=\"5\"><b>Комментарий ревьюераV2</b></font>\n",
    "\n",
    "\n",
    "\n",
    "Совет 🤔:\n",
    "\n",
    "\n",
    "Раз не используешь  RandomizedSearchCV, тогда тебе нужно создавать отдельную валидационную выборку  чтобы посмотреть метрику на ней (Но лучше конечно RandomizedSearchCV + .best_score_)"
   ]
  },
  {
   "cell_type": "code",
   "execution_count": 77,
   "metadata": {},
   "outputs": [],
   "source": [
    "lgbm_model = LGBMRegressor(num_leaves=200,\n",
    "                           learning_rate=0.1,\n",
    "                           random_state=RANDOM_STATE,\n",
    "                           verbose=1)"
   ]
  },
  {
   "cell_type": "code",
   "execution_count": 78,
   "metadata": {},
   "outputs": [
    {
     "name": "stdout",
     "output_type": "stream",
     "text": [
      "[LightGBM] [Info] Auto-choosing row-wise multi-threading, the overhead of testing was 0.005585 seconds.\n",
      "You can set `force_row_wise=true` to remove the overhead.\n",
      "And if memory is not enough, you can set `force_col_wise=true`.\n",
      "[LightGBM] [Info] Total Bins 603\n",
      "[LightGBM] [Info] Number of data points in the train set: 172008, number of used features: 9\n",
      "[LightGBM] [Info] Start training from score 4887.762011\n",
      "Время обучения LGBMRegressor: 2.046990394592285\n"
     ]
    }
   ],
   "source": [
    "start = time.time()\n",
    "lgbm_model.fit(X_lgbm_train, y_lgbm_train)\n",
    "end = time.time()\n",
    "lgbm_fit_time = end - start\n",
    "print('Время обучения LGBMRegressor:', lgbm_fit_time)"
   ]
  },
  {
   "cell_type": "markdown",
   "metadata": {},
   "source": [
    "\n",
    "\n",
    "<div class=\"alert alert-danger\">\n",
    "<font size=\"5\"><b>Комментарий ревьюера</b></font>\n",
    "\n",
    "\n",
    "\n",
    "Ошибка ❌:\n",
    "\n",
    "\n",
    "И для  LightGBM, не стоит использовать `OneHotEncoder()` или его более простой аналог `get_dummies()` , или `OrdinalEncoder` . Стоит использовать собственные кодировщики.  Тут всё просто, предварительно приводим нужные столбцы к типу category (.astype('category')), и модель будет  обрабатывать их как категориальные. \n",
    "\n"
   ]
  },
  {
   "cell_type": "markdown",
   "metadata": {},
   "source": [
    "<div class=\"alert alert-info\">\n",
    "<font size=\"4\", color = \"black\"><b>✍ Комментарий студента</b></font>\n",
    "    <br /> \n",
    "    <font size=\"3\", color = \"black\">\n",
    "<br /> Я не смог в пайплайнах перевести столбцы в тип `category`, поэтому решил без них и кроссвалидации обучить модель"
   ]
  },
  {
   "cell_type": "markdown",
   "metadata": {},
   "source": [
    "<div class=\"alert alert-warning\">\n",
    "<font size=\"5\"><b>Комментарий ревьюераV2</b></font>\n",
    "\n",
    "\n",
    "\n",
    "Совет:\n",
    "\n",
    "\n",
    "\n",
    "pipeline   не нужен, ведь никакой утечки данных тут не будет. И шкалировать данные не нужны для бустинга \n",
    "\n",
    "\n",
    " "
   ]
  },
  {
   "cell_type": "markdown",
   "metadata": {},
   "source": [
    "# Анализ моделей"
   ]
  },
  {
   "cell_type": "markdown",
   "metadata": {},
   "source": [
    "**LinearRegression**"
   ]
  },
  {
   "cell_type": "code",
   "execution_count": 79,
   "metadata": {},
   "outputs": [
    {
     "name": "stdout",
     "output_type": "stream",
     "text": [
      "Метрика RMSE равна 2479.9873837782775\n",
      "Время предсказания: 0.31781673431396484\n"
     ]
    }
   ],
   "source": [
    "start = time.time()\n",
    "predictions = lr_model.predict(X_valid)\n",
    "end = time.time()\n",
    "lr_predict_time = end - start\n",
    "lr_rmse = mean_squared_error(y_valid, predictions, squared=False)\n",
    "print('Метрика RMSE равна', lr_rmse)\n",
    "print('Время предсказания:', lr_predict_time)"
   ]
  },
  {
   "cell_type": "markdown",
   "metadata": {},
   "source": [
    "**CatBoostRegressor**"
   ]
  },
  {
   "cell_type": "code",
   "execution_count": 81,
   "metadata": {},
   "outputs": [
    {
     "name": "stdout",
     "output_type": "stream",
     "text": [
      "Метрика RMSE равна 1603.7751993542272\n",
      "Время предсказания: 0.26784682273864746\n"
     ]
    }
   ],
   "source": [
    "start = time.time()\n",
    "predictions = cb_model.predict(X_valid)\n",
    "end = time.time()\n",
    "catboost_predict_time = end - start\n",
    "catboost_rmse = mean_squared_error(y_valid, predictions, squared=False)\n",
    "print('Метрика RMSE равна', catboost_rmse)\n",
    "print('Время предсказания:', catboost_predict_time)"
   ]
  },
  {
   "cell_type": "markdown",
   "metadata": {},
   "source": [
    "**LGBMRegressor**"
   ]
  },
  {
   "cell_type": "code",
   "execution_count": 82,
   "metadata": {},
   "outputs": [
    {
     "name": "stdout",
     "output_type": "stream",
     "text": [
      "Метрика RMSE равна 1504.5302358775796\n",
      "Время предсказания: 0.6346390247344971\n"
     ]
    }
   ],
   "source": [
    "start = time.time()\n",
    "predictions = lgbm_model.predict(X_lgbm_valid, num_iteration=lgbm_model.best_iteration_)\n",
    "end = time.time()\n",
    "lgbm_predict_time = end - start\n",
    "lgbm_rmse = mean_squared_error(y_lgbm_valid, predictions, squared=False)\n",
    "print('Метрика RMSE равна', lgbm_rmse)\n",
    "print('Время предсказания:', lgbm_predict_time)"
   ]
  },
  {
   "cell_type": "code",
   "execution_count": 83,
   "metadata": {},
   "outputs": [],
   "source": [
    "results = pd.DataFrame({\n",
    "    'LinearRegression': [lr_rmse, lr_fit_time, lr_predict_time],\n",
    "    'CatBoostRegressor': [catboost_rmse, catboost_fit_time, catboost_predict_time],\n",
    "    'LGBMRegressor': [lgbm_rmse, lgbm_fit_time, lgbm_predict_time]\n",
    "}, index=['Метрика RMSE', 'Время обучения', 'Время предсказания'])"
   ]
  },
  {
   "cell_type": "code",
   "execution_count": 84,
   "metadata": {},
   "outputs": [
    {
     "data": {
      "text/html": [
       "<div>\n",
       "<style scoped>\n",
       "    .dataframe tbody tr th:only-of-type {\n",
       "        vertical-align: middle;\n",
       "    }\n",
       "\n",
       "    .dataframe tbody tr th {\n",
       "        vertical-align: top;\n",
       "    }\n",
       "\n",
       "    .dataframe thead th {\n",
       "        text-align: right;\n",
       "    }\n",
       "</style>\n",
       "<table border=\"1\" class=\"dataframe\">\n",
       "  <thead>\n",
       "    <tr style=\"text-align: right;\">\n",
       "      <th></th>\n",
       "      <th>Метрика RMSE</th>\n",
       "      <th>Время обучения</th>\n",
       "      <th>Время предсказания</th>\n",
       "    </tr>\n",
       "  </thead>\n",
       "  <tbody>\n",
       "    <tr>\n",
       "      <th>LinearRegression</th>\n",
       "      <td>2479.987384</td>\n",
       "      <td>6.429974</td>\n",
       "      <td>0.317817</td>\n",
       "    </tr>\n",
       "    <tr>\n",
       "      <th>CatBoostRegressor</th>\n",
       "      <td>1603.775199</td>\n",
       "      <td>32.966372</td>\n",
       "      <td>0.267847</td>\n",
       "    </tr>\n",
       "    <tr>\n",
       "      <th>LGBMRegressor</th>\n",
       "      <td>1504.530236</td>\n",
       "      <td>2.046990</td>\n",
       "      <td>0.634639</td>\n",
       "    </tr>\n",
       "  </tbody>\n",
       "</table>\n",
       "</div>"
      ],
      "text/plain": [
       "                   Метрика RMSE  Время обучения  Время предсказания\n",
       "LinearRegression    2479.987384        6.429974            0.317817\n",
       "CatBoostRegressor   1603.775199       32.966372            0.267847\n",
       "LGBMRegressor       1504.530236        2.046990            0.634639"
      ]
     },
     "execution_count": 84,
     "metadata": {},
     "output_type": "execute_result"
    }
   ],
   "source": [
    "results.T"
   ]
  },
  {
   "cell_type": "markdown",
   "metadata": {},
   "source": [
    "\n",
    "<div class=\"alert alert-danger\">\n",
    "<font size=\"5\"><b>Комментарий ревьюера</b></font>\n",
    "\n",
    "Ошибка:\n",
    "\n",
    "А вот тут, в самом конце,  выбрав лучшую модель на валидации, проверяем ее на тестовом датасете - делаем финальное тестирование. И если лучшая модель выбранная на валидационной покажет на test результат хуже требуемого, мы начнем процесс моделирования сначала (а не будем такие - \"а давай попробуем на тесте модель которая на валидации не была лучшей, может она нам на test даст нужное качество\").         \n",
    "    \n",
    "Почему только лучшая?! Это делается для того, чтобы мы даже незначительным образом не \"подгонялись\" под тестовую выборку. Ведь на train модели обучаются, по валидиации подгоняются гиперпараметры. Эти данные модели \"знают\". А test (out-of-sample) это уже моделирование прогноза на реальных данных и ситуации когда у нас есть уже лучшая модель (в рельности у нас же не может быть несоклько прогнозов, что то в любом случаи надо выбирать). Вот поэтому такая двухуровневая проверка на подгонку. Кроме того использование мноих моделей с разными гиперпараметрами это тоже подгонка, поэтому выбирая одну и тестируя только ее, мы тем самым боремся с подгонкой через использование многих-многих моделей, когда результат хорош не потому что мы данные почистили хорошо, моделировали правильно итд итп, а потому что из многих моделей хоть какая то случайно \"сыграет\". \n"
   ]
  },
  {
   "cell_type": "markdown",
   "metadata": {},
   "source": [
    "Проверяем модель с лучшей метрикой на тестовой выборке:"
   ]
  },
  {
   "cell_type": "code",
   "execution_count": 85,
   "metadata": {},
   "outputs": [
    {
     "name": "stdout",
     "output_type": "stream",
     "text": [
      "Метрика RMSE равна 1518.961084975984\n",
      "Время предсказания: 0.5576810836791992\n"
     ]
    }
   ],
   "source": [
    "start = time.time()\n",
    "predictions = lgbm_model.predict(X_lgbm_test, num_iteration=lgbm_model.best_iteration_)\n",
    "end = time.time()\n",
    "lgbm_predict_time = end - start\n",
    "lgbm_rmse = mean_squared_error(y_lgbm_test, predictions, squared=False)\n",
    "print('Метрика RMSE равна', lgbm_rmse)\n",
    "print('Время предсказания:', lgbm_predict_time)"
   ]
  },
  {
   "cell_type": "markdown",
   "metadata": {},
   "source": [
    "<div class=\"alert alert-success\">\n",
    "<font size=\"5\"><b>Комментарий ревьюераV3</b></font>\n",
    "\n",
    "\n",
    "\n",
    "Успех 👍:\n",
    "\n",
    "\n",
    "\n",
    "теперь логика использование выборок не нарушена\n",
    "\n",
    "\n",
    " "
   ]
  },
  {
   "cell_type": "markdown",
   "metadata": {},
   "source": [
    "**ИТОГИ**"
   ]
  },
  {
   "cell_type": "markdown",
   "metadata": {},
   "source": [
    "1. Метрика:\n",
    "\n",
    "    Как видно из результатов, меньшие значения RMSE для CatBoost и LGBMRegressor указывают на более высокую точность предсказаний по сравнению с Linear Regression. Это свидетельствует о том, что CatBoost и LGBMRegressor имеют меньшую среднеквадратичную ошибку.\n",
    "\n",
    "2. Время обучения:\n",
    "\n",
    "    LGBMRegressor значительно превосходит остальные модели в скорости обучения, требуя лишь 2.57 секунды. В то время как Linear Regression требует 9.92 секунд, а CatBoost - 46.96 секунд. Это может указывать на то, что LGBMRegressor обладает большей эффективностью в обучении на данном наборе данных.\n",
    "\n",
    "3. Время предсказания:\n",
    "\n",
    "    CatBoost оказался самым быстрым в предсказании с временем 0.25 секунд, за которой следует Linear Regression с временем 0.30 секунд, а LGBMRegressor показал самое долгое время предсказания - 0.58 секунд\n",
    "\n",
    "**Лучшей моделью из трех оказалась LightBGM с результатами на валидационной выборке RMSE = 1504.53, время прогноза = 0.63 сек**"
   ]
  },
  {
   "cell_type": "markdown",
   "metadata": {},
   "source": [
    "<div class=\"alert alert-warning\">\n",
    "<font size=\"5\"><b>Комментарий ревьюера</b></font>\n",
    "\n",
    "\n",
    "\n",
    "Совет 🤔:\n",
    "\n",
    "\n",
    "А как думаешь продакшн что важнее время обучения или предсказания? "
   ]
  },
  {
   "cell_type": "markdown",
   "metadata": {},
   "source": [
    "<div class=\"alert alert-info\">\n",
    "<font size=\"4\", color = \"black\"><b>✍ Комментарий студента</b></font>\n",
    "    <br /> \n",
    "    <font size=\"3\", color = \"black\">\n",
    "<br /> Я думаю, что в продакшне важна метрика и время предсказания"
   ]
  },
  {
   "cell_type": "markdown",
   "metadata": {},
   "source": [
    "<div class=\"alert alert-success\">\n",
    "<font size=\"5\"><b>Комментарий ревьюераV2</b></font>\n",
    "\n",
    "\n",
    "\n",
    "Успех 👍:\n",
    "\n",
    "\n",
    "\n",
    "Я тоже так думаю\n",
    "\n",
    "\n",
    " "
   ]
  },
  {
   "cell_type": "markdown",
   "metadata": {},
   "source": [
    "# Вывод"
   ]
  },
  {
   "cell_type": "markdown",
   "metadata": {},
   "source": [
    "**Предобработка данных:** \n",
    "\n",
    "В ходе предобработки данных, мы загрузили датасет, состоящий из 350 тыс строк и 16 столбцов, и выявили пропуски и дубликаты, которые в скоре устранили\n",
    "\n",
    "**Исследовательский анализ данных:**\n",
    "\n",
    "В ходе исследовательского анализа, мы узнали, что в признаках \"мощность\" и \"год регистрации\" присутствовали аномалии, которые мы вскоре удалили. Большинство коробок после заполнения пропусков стали механическими (80%). Самое популярное топливо - бензин, с большим отрывом, затем газ. Цена и год регистрации, а также цена и мощность имееют умеренную корреляцию. После всех манипуляций в датасете осталось 295 тыс строк и 10 столбцов\n",
    "\n",
    "**Обучение модели:**\n",
    "\n",
    "Мы обучили три модели: линейную регрессию, CatBoostRegressor и LGBMRegressor. Линейной регрессии передали два скэлера - `StandartScaler` и `MinMaxScaler`. CatBoost передали гиперпараметры: iterations=300, learning_rate=0.2. Для LGBMRegressor скопировали датафрейм, в котором категориальные столбцы перевели в тип данных `category` и задали гиперпараметры num_leaves=200, learning_rate=0.1. Результаты мы оценивали по трем характеристикам: \n",
    "1. метрика - корень квадратный из среднеквадратичной ошибки (RMSE)\n",
    "2. время обучения модели\n",
    "3. время предсказания модели\n",
    "\n",
    "Результаты:\n",
    "\n",
    "| Модель              | Метрика RMSE | Время обучения | Время предсказания |\n",
    "|---------------------|--------------|----------------|--------------------|\n",
    "| LinearRegression    | 2480.930204  | 9.917349       | 0.302706           |\n",
    "| CatBoostRegressor   | 1594.928798  | 46.958233      | 0.256853           |\n",
    "| LGBMRegressor       | 1503.645543  | 2.572725       | 0.583668           |\n",
    "\n",
    "\n",
    "\n",
    "\n",
    "Исходя из этих результатов, если приоритетом является высокая точность предсказания, то стоит предпочесть CatBoost или LGBMRegressor, особенно если есть большие объемы данных и скорость обучения является важным фактором. Если важна скорость обучения и предсказания, то Linear Regression мог бы быть выбором, но при этом стоит учитывать его более высокую RMSE.\n",
    "\n",
    "**Лучшей моделью из трех оказалась LightBGM с результатами на тестовой выборке RMSE = 1518.96, время прогноза = 0.56 сек.**"
   ]
  },
  {
   "cell_type": "markdown",
   "metadata": {},
   "source": [
    "<div class=\"alert alert-danger\">\n",
    "<font size=\"5\"><b>Комментарий ревьюера</b></font>\n",
    "\n",
    "Ошибка:\n",
    "\n",
    "В конце проекта принято кратко описывать все проделанные шаги и полученные результаты. Зачем это нужно - когда проект захочет посмотреть будущий работодатель, у него может не быть времени на подробный разбор кода. Вероятнее всего он бегло просмотрит код, но захочет изучить результат, который будет в общем выводе. Поэтому все же советую написать общий вывод пообьемней: добавить пару слов о данных, работе с ними, о моделях, метриках"
   ]
  },
  {
   "cell_type": "markdown",
   "metadata": {},
   "source": [
    " \n",
    "\n",
    "<div class=\"alert alert-info\">\n",
    "<font size=\"5\"><b>Комментарий ревьюера</b></font>\n",
    "\n",
    "\n",
    "Юсуп, у тебя старательно выполненная работа, все четко, осмысленно. Здорово что для подбора гиперпараметров используешь GS, оставил советы по использованию его в связке с pipeline + ColumnsTransformer. Хорошо поработал с данными\n",
    "\n",
    "\n",
    "    \n",
    "    \n",
    "    \n",
    "\n",
    "Обязательное к исправлению:\n",
    "\n",
    "\n",
    "    \n",
    "    \n",
    "\n",
    "- стоит обратить внимание что верхняя граница — 2016 год - год выгрузки базы\n",
    "\n",
    "    \n",
    "    \n",
    "    \n",
    "- возможно переусердствовал с удалением дубликатов    \n",
    "    \n",
    "     \n",
    "\n",
    "- на test датасете тестируем только лучшую модель (нарушена логика использования датасетов при моделировании)\n",
    "\n",
    "    \n",
    "- для бустингов (LighGBM) не стоит использовать OneHotEncoder()/.get_dummies, не забываем использовать встренные инструменты работы с категориальными признаками  \n",
    "    \n",
    "    \n",
    "- стоит общий вывод (лицо проекта) доработать    \n",
    " \n",
    "    \n",
    "Жду исправлений, для принятия проекта. Если какие то вопросы, то сразу спрашивай ) \n",
    "\n",
    "\n",
    "</div>\n"
   ]
  },
  {
   "cell_type": "markdown",
   "metadata": {},
   "source": [
    "\n",
    "<div class=\"alert alert-info\">\n",
    "<font size=\"5\"><b>Комментарий ревьюераV2</b></font>\n",
    "\n",
    "Спасибо за работу!    \n",
    " \n",
    "\n",
    "Что осталось из красного:\n",
    "\n",
    "- Нарушена логика использования тестовой выборки.  Мы её используем только в самом конце, и тольбко для лучшей модели выбранной по двум критериям - метрика на кросс валидации (валидации) + время "
   ]
  },
  {
   "cell_type": "markdown",
   "metadata": {},
   "source": [
    "\n",
    "<div class=\"alert alert-info\">\n",
    "<font size=\"5\"><b>Комментарий ревьюераV3</b></font>\n",
    "\n",
    "Спасибо за работу!   Постарался ответить на твои вопросы  \n",
    "\n",
    "    \n",
    "Красное исправлено. Надеюсь мои советы и вопросики были полезны и в копилочку знаний упало что то новое, а проект стал лучше, и симпатичней.\n",
    "\n",
    "\n",
    "    \n",
    "  \n",
    "Отличная работа Юсуп. Желаю успехов в дальнейшей учебе!\n",
    "\n"
   ]
  },
  {
   "cell_type": "markdown",
   "metadata": {},
   "source": [
    "# Чек-лист проверки"
   ]
  },
  {
   "cell_type": "markdown",
   "metadata": {},
   "source": [
    "Поставьте 'x' в выполненных пунктах. Далее нажмите Shift+Enter."
   ]
  },
  {
   "cell_type": "markdown",
   "metadata": {},
   "source": [
    "- [x]  Jupyter Notebook открыт\n",
    "- [x]  Весь код выполняется без ошибок\n",
    "- [x]  Ячейки с кодом расположены в порядке исполнения\n",
    "- [x]  Выполнена загрузка и подготовка данных\n",
    "- [x]  Выполнено обучение моделей\n",
    "- [x]  Есть анализ скорости работы и качества моделей\n",
    "- [x]  НЕ ЗАБЫТЬ ПРО ДУБЛИКАТЫ!\n"
   ]
  },
  {
   "cell_type": "code",
   "execution_count": null,
   "metadata": {},
   "outputs": [],
   "source": []
  }
 ],
 "metadata": {
  "kernelspec": {
   "display_name": "Python 3 (ipykernel)",
   "language": "python",
   "name": "python3"
  },
  "language_info": {
   "codemirror_mode": {
    "name": "ipython",
    "version": 3
   },
   "file_extension": ".py",
   "mimetype": "text/x-python",
   "name": "python",
   "nbconvert_exporter": "python",
   "pygments_lexer": "ipython3",
   "version": "3.9.5"
  },
  "toc": {
   "base_numbering": 1,
   "nav_menu": {},
   "number_sections": true,
   "sideBar": true,
   "skip_h1_title": true,
   "title_cell": "Table of Contents",
   "title_sidebar": "Contents",
   "toc_cell": false,
   "toc_position": {},
   "toc_section_display": true,
   "toc_window_display": false
  }
 },
 "nbformat": 4,
 "nbformat_minor": 4
}
