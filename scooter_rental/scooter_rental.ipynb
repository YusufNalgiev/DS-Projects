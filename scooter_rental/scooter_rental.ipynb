{
  "cells": [
    {
      "cell_type": "markdown",
      "id": "78524015",
      "metadata": {
        "id": "78524015"
      },
      "source": [
        "# Анализ сервиса аренды самокатов GoFast"
      ]
    },
    {
      "cell_type": "markdown",
      "id": "36d7bff8",
      "metadata": {
        "id": "36d7bff8"
      },
      "source": [
        "Вы аналитик популярного сервиса аренды самокатов GoFast. Вам передали данные о некоторых пользователях из нескольких городов, а также об их поездках. Проанализируйте данные и проверьте некоторые гипотезы, которые могут помочь бизнесу вырасти.\n",
        "\n",
        "Чтобы совершать поездки по городу, пользователи сервиса GoFast пользуются мобильным приложением. Сервисом можно пользоваться:\n",
        "- без подписки\n",
        "    - абонентская плата отсутствует;\n",
        "    - стоимость одной минуты поездки — 8 рублей;\n",
        "    - стоимость старта (начала поездки) — 50 рублей;\n",
        "- с подпиской Ultra абонентская плата — 199 рублей в месяц;\n",
        "    - стоимость одной минуты поездки — 6 рублей;\n",
        "    - стоимость старта — бесплатно."
      ]
    },
    {
      "cell_type": "markdown",
      "id": "de82b026",
      "metadata": {
        "id": "de82b026"
      },
      "source": [
        "# Описание данных и план работы"
      ]
    },
    {
      "cell_type": "markdown",
      "id": "1730ccd3",
      "metadata": {
        "id": "1730ccd3"
      },
      "source": [
        "<font size=4> Описание данных: </font>\n",
        "\n",
        "**Пользователи — `users_go.csv`**\n",
        "\n",
        "- `user_id`\t— уникальный идентификатор пользователя\n",
        "- `name` — имя пользователя\n",
        "- `age` —\tвозраст\n",
        "- `city` — город\n",
        "- `subscription_type` — тип подписки (free, ultra)\n",
        "\n",
        "**Поeздки — `rides_go.csv`**\n",
        "\n",
        "- `user_id`\t— уникальный идентификатор пользователя\n",
        "- `distance` — расстояние, которое пользователь проехал в текущей сессии (в метрах)\n",
        "- `duration` — продолжительность сессии (в минутах) — время с того момента, как пользователь нажал кнопку «Начать поездку» до момента, как он нажал кнопку «Завершить поездку»\n",
        "- `date` — дата совершения поездки\n",
        "\n",
        "**Подписки — `subscriptions_go.csv`**\n",
        "\n",
        "- `subscription_type` — тип подписки\n",
        "- `minute_price` — стоимость одной минуты поездки по данной подписке\n",
        "- `start_ride_price` — стоимость начала поездки\n",
        "- `subscription_fee` — стоимость ежемесячного платежа"
      ]
    },
    {
      "cell_type": "markdown",
      "id": "220e2610",
      "metadata": {
        "id": "220e2610"
      },
      "source": [
        "<font size=4> План работы: </font>\n",
        "\n",
        "1. Загрузка данных\n",
        "2. Предобработка данных\n",
        "3. Исследовательский анализ данных\n",
        "4. Объединение данных\n",
        "5. Подсчёт выручки\n",
        "6. Проверка гипотез\n",
        "7. Распределения"
      ]
    },
    {
      "cell_type": "markdown",
      "id": "f73c43f7",
      "metadata": {
        "id": "f73c43f7"
      },
      "source": [
        "##  Загрузка данных"
      ]
    },
    {
      "cell_type": "code",
      "execution_count": null,
      "id": "eff9f206",
      "metadata": {
        "id": "eff9f206"
      },
      "outputs": [],
      "source": [
        "import pandas as pd\n",
        "import matplotlib.pyplot as plt\n",
        "import numpy as np\n",
        "import scipy.stats as st\n",
        "import seaborn as sns"
      ]
    },
    {
      "cell_type": "code",
      "execution_count": null,
      "id": "a0fe9056",
      "metadata": {
        "id": "a0fe9056"
      },
      "outputs": [],
      "source": [
        "data_users = pd.read_csv('https://code.s3.yandex.net/datasets/users_go.csv')\n",
        "data_rides = pd.read_csv('https://code.s3.yandex.net/datasets/rides_go.csv')\n",
        "data_subs = pd.read_csv('https://code.s3.yandex.net/datasets/subscriptions_go.csv')"
      ]
    },
    {
      "cell_type": "markdown",
      "id": "5a6448eb",
      "metadata": {
        "id": "5a6448eb"
      },
      "source": [
        "### Датасет с пользователями"
      ]
    },
    {
      "cell_type": "code",
      "execution_count": null,
      "id": "0352b982",
      "metadata": {
        "id": "0352b982"
      },
      "outputs": [],
      "source": [
        "# Настройка для вывода всех столбцов\n",
        "pd.set_option('display.max_columns', 20)"
      ]
    },
    {
      "cell_type": "code",
      "execution_count": null,
      "id": "97200607",
      "metadata": {
        "colab": {
          "base_uri": "https://localhost:8080/",
          "height": 571
        },
        "id": "97200607",
        "outputId": "5e38fee7-07b3-4514-85db-818d771d2368"
      },
      "outputs": [
        {
          "output_type": "stream",
          "name": "stdout",
          "text": [
            "<class 'pandas.core.frame.DataFrame'>\n",
            "RangeIndex: 1565 entries, 0 to 1564\n",
            "Data columns (total 5 columns):\n",
            " #   Column             Non-Null Count  Dtype \n",
            "---  ------             --------------  ----- \n",
            " 0   user_id            1565 non-null   int64 \n",
            " 1   name               1565 non-null   object\n",
            " 2   age                1565 non-null   int64 \n",
            " 3   city               1565 non-null   object\n",
            " 4   subscription_type  1565 non-null   object\n",
            "dtypes: int64(2), object(3)\n",
            "memory usage: 61.3+ KB\n"
          ]
        },
        {
          "output_type": "execute_result",
          "data": {
            "text/plain": [
              "   user_id        name  age            city subscription_type\n",
              "0        1        Кира   22          Тюмень             ultra\n",
              "1        2   Станислав   31            Омск             ultra\n",
              "2        3     Алексей   20          Москва             ultra\n",
              "3        4  Константин   26  Ростов-на-Дону             ultra\n",
              "4        5       Адель   28            Омск             ultra\n",
              "5        6      Регина   25       Краснодар             ultra\n",
              "6        7       Игорь   23            Омск             ultra\n",
              "7        8        Юрий   23       Краснодар             ultra\n",
              "8        9          Ян   21       Пятигорск             ultra\n",
              "9       10     Валерий   18    Екатеринбург             ultra"
            ],
            "text/html": [
              "\n",
              "  <div id=\"df-841e1f87-f5bf-4cdd-9490-b2026894b933\" class=\"colab-df-container\">\n",
              "    <div>\n",
              "<style scoped>\n",
              "    .dataframe tbody tr th:only-of-type {\n",
              "        vertical-align: middle;\n",
              "    }\n",
              "\n",
              "    .dataframe tbody tr th {\n",
              "        vertical-align: top;\n",
              "    }\n",
              "\n",
              "    .dataframe thead th {\n",
              "        text-align: right;\n",
              "    }\n",
              "</style>\n",
              "<table border=\"1\" class=\"dataframe\">\n",
              "  <thead>\n",
              "    <tr style=\"text-align: right;\">\n",
              "      <th></th>\n",
              "      <th>user_id</th>\n",
              "      <th>name</th>\n",
              "      <th>age</th>\n",
              "      <th>city</th>\n",
              "      <th>subscription_type</th>\n",
              "    </tr>\n",
              "  </thead>\n",
              "  <tbody>\n",
              "    <tr>\n",
              "      <th>0</th>\n",
              "      <td>1</td>\n",
              "      <td>Кира</td>\n",
              "      <td>22</td>\n",
              "      <td>Тюмень</td>\n",
              "      <td>ultra</td>\n",
              "    </tr>\n",
              "    <tr>\n",
              "      <th>1</th>\n",
              "      <td>2</td>\n",
              "      <td>Станислав</td>\n",
              "      <td>31</td>\n",
              "      <td>Омск</td>\n",
              "      <td>ultra</td>\n",
              "    </tr>\n",
              "    <tr>\n",
              "      <th>2</th>\n",
              "      <td>3</td>\n",
              "      <td>Алексей</td>\n",
              "      <td>20</td>\n",
              "      <td>Москва</td>\n",
              "      <td>ultra</td>\n",
              "    </tr>\n",
              "    <tr>\n",
              "      <th>3</th>\n",
              "      <td>4</td>\n",
              "      <td>Константин</td>\n",
              "      <td>26</td>\n",
              "      <td>Ростов-на-Дону</td>\n",
              "      <td>ultra</td>\n",
              "    </tr>\n",
              "    <tr>\n",
              "      <th>4</th>\n",
              "      <td>5</td>\n",
              "      <td>Адель</td>\n",
              "      <td>28</td>\n",
              "      <td>Омск</td>\n",
              "      <td>ultra</td>\n",
              "    </tr>\n",
              "    <tr>\n",
              "      <th>5</th>\n",
              "      <td>6</td>\n",
              "      <td>Регина</td>\n",
              "      <td>25</td>\n",
              "      <td>Краснодар</td>\n",
              "      <td>ultra</td>\n",
              "    </tr>\n",
              "    <tr>\n",
              "      <th>6</th>\n",
              "      <td>7</td>\n",
              "      <td>Игорь</td>\n",
              "      <td>23</td>\n",
              "      <td>Омск</td>\n",
              "      <td>ultra</td>\n",
              "    </tr>\n",
              "    <tr>\n",
              "      <th>7</th>\n",
              "      <td>8</td>\n",
              "      <td>Юрий</td>\n",
              "      <td>23</td>\n",
              "      <td>Краснодар</td>\n",
              "      <td>ultra</td>\n",
              "    </tr>\n",
              "    <tr>\n",
              "      <th>8</th>\n",
              "      <td>9</td>\n",
              "      <td>Ян</td>\n",
              "      <td>21</td>\n",
              "      <td>Пятигорск</td>\n",
              "      <td>ultra</td>\n",
              "    </tr>\n",
              "    <tr>\n",
              "      <th>9</th>\n",
              "      <td>10</td>\n",
              "      <td>Валерий</td>\n",
              "      <td>18</td>\n",
              "      <td>Екатеринбург</td>\n",
              "      <td>ultra</td>\n",
              "    </tr>\n",
              "  </tbody>\n",
              "</table>\n",
              "</div>\n",
              "    <div class=\"colab-df-buttons\">\n",
              "\n",
              "  <div class=\"colab-df-container\">\n",
              "    <button class=\"colab-df-convert\" onclick=\"convertToInteractive('df-841e1f87-f5bf-4cdd-9490-b2026894b933')\"\n",
              "            title=\"Convert this dataframe to an interactive table.\"\n",
              "            style=\"display:none;\">\n",
              "\n",
              "  <svg xmlns=\"http://www.w3.org/2000/svg\" height=\"24px\" viewBox=\"0 -960 960 960\">\n",
              "    <path d=\"M120-120v-720h720v720H120Zm60-500h600v-160H180v160Zm220 220h160v-160H400v160Zm0 220h160v-160H400v160ZM180-400h160v-160H180v160Zm440 0h160v-160H620v160ZM180-180h160v-160H180v160Zm440 0h160v-160H620v160Z\"/>\n",
              "  </svg>\n",
              "    </button>\n",
              "\n",
              "  <style>\n",
              "    .colab-df-container {\n",
              "      display:flex;\n",
              "      gap: 12px;\n",
              "    }\n",
              "\n",
              "    .colab-df-convert {\n",
              "      background-color: #E8F0FE;\n",
              "      border: none;\n",
              "      border-radius: 50%;\n",
              "      cursor: pointer;\n",
              "      display: none;\n",
              "      fill: #1967D2;\n",
              "      height: 32px;\n",
              "      padding: 0 0 0 0;\n",
              "      width: 32px;\n",
              "    }\n",
              "\n",
              "    .colab-df-convert:hover {\n",
              "      background-color: #E2EBFA;\n",
              "      box-shadow: 0px 1px 2px rgba(60, 64, 67, 0.3), 0px 1px 3px 1px rgba(60, 64, 67, 0.15);\n",
              "      fill: #174EA6;\n",
              "    }\n",
              "\n",
              "    .colab-df-buttons div {\n",
              "      margin-bottom: 4px;\n",
              "    }\n",
              "\n",
              "    [theme=dark] .colab-df-convert {\n",
              "      background-color: #3B4455;\n",
              "      fill: #D2E3FC;\n",
              "    }\n",
              "\n",
              "    [theme=dark] .colab-df-convert:hover {\n",
              "      background-color: #434B5C;\n",
              "      box-shadow: 0px 1px 3px 1px rgba(0, 0, 0, 0.15);\n",
              "      filter: drop-shadow(0px 1px 2px rgba(0, 0, 0, 0.3));\n",
              "      fill: #FFFFFF;\n",
              "    }\n",
              "  </style>\n",
              "\n",
              "    <script>\n",
              "      const buttonEl =\n",
              "        document.querySelector('#df-841e1f87-f5bf-4cdd-9490-b2026894b933 button.colab-df-convert');\n",
              "      buttonEl.style.display =\n",
              "        google.colab.kernel.accessAllowed ? 'block' : 'none';\n",
              "\n",
              "      async function convertToInteractive(key) {\n",
              "        const element = document.querySelector('#df-841e1f87-f5bf-4cdd-9490-b2026894b933');\n",
              "        const dataTable =\n",
              "          await google.colab.kernel.invokeFunction('convertToInteractive',\n",
              "                                                    [key], {});\n",
              "        if (!dataTable) return;\n",
              "\n",
              "        const docLinkHtml = 'Like what you see? Visit the ' +\n",
              "          '<a target=\"_blank\" href=https://colab.research.google.com/notebooks/data_table.ipynb>data table notebook</a>'\n",
              "          + ' to learn more about interactive tables.';\n",
              "        element.innerHTML = '';\n",
              "        dataTable['output_type'] = 'display_data';\n",
              "        await google.colab.output.renderOutput(dataTable, element);\n",
              "        const docLink = document.createElement('div');\n",
              "        docLink.innerHTML = docLinkHtml;\n",
              "        element.appendChild(docLink);\n",
              "      }\n",
              "    </script>\n",
              "  </div>\n",
              "\n",
              "\n",
              "<div id=\"df-ec1adee4-16d3-4b41-9d25-08230e8430e1\">\n",
              "  <button class=\"colab-df-quickchart\" onclick=\"quickchart('df-ec1adee4-16d3-4b41-9d25-08230e8430e1')\"\n",
              "            title=\"Suggest charts\"\n",
              "            style=\"display:none;\">\n",
              "\n",
              "<svg xmlns=\"http://www.w3.org/2000/svg\" height=\"24px\"viewBox=\"0 0 24 24\"\n",
              "     width=\"24px\">\n",
              "    <g>\n",
              "        <path d=\"M19 3H5c-1.1 0-2 .9-2 2v14c0 1.1.9 2 2 2h14c1.1 0 2-.9 2-2V5c0-1.1-.9-2-2-2zM9 17H7v-7h2v7zm4 0h-2V7h2v10zm4 0h-2v-4h2v4z\"/>\n",
              "    </g>\n",
              "</svg>\n",
              "  </button>\n",
              "\n",
              "<style>\n",
              "  .colab-df-quickchart {\n",
              "      --bg-color: #E8F0FE;\n",
              "      --fill-color: #1967D2;\n",
              "      --hover-bg-color: #E2EBFA;\n",
              "      --hover-fill-color: #174EA6;\n",
              "      --disabled-fill-color: #AAA;\n",
              "      --disabled-bg-color: #DDD;\n",
              "  }\n",
              "\n",
              "  [theme=dark] .colab-df-quickchart {\n",
              "      --bg-color: #3B4455;\n",
              "      --fill-color: #D2E3FC;\n",
              "      --hover-bg-color: #434B5C;\n",
              "      --hover-fill-color: #FFFFFF;\n",
              "      --disabled-bg-color: #3B4455;\n",
              "      --disabled-fill-color: #666;\n",
              "  }\n",
              "\n",
              "  .colab-df-quickchart {\n",
              "    background-color: var(--bg-color);\n",
              "    border: none;\n",
              "    border-radius: 50%;\n",
              "    cursor: pointer;\n",
              "    display: none;\n",
              "    fill: var(--fill-color);\n",
              "    height: 32px;\n",
              "    padding: 0;\n",
              "    width: 32px;\n",
              "  }\n",
              "\n",
              "  .colab-df-quickchart:hover {\n",
              "    background-color: var(--hover-bg-color);\n",
              "    box-shadow: 0 1px 2px rgba(60, 64, 67, 0.3), 0 1px 3px 1px rgba(60, 64, 67, 0.15);\n",
              "    fill: var(--button-hover-fill-color);\n",
              "  }\n",
              "\n",
              "  .colab-df-quickchart-complete:disabled,\n",
              "  .colab-df-quickchart-complete:disabled:hover {\n",
              "    background-color: var(--disabled-bg-color);\n",
              "    fill: var(--disabled-fill-color);\n",
              "    box-shadow: none;\n",
              "  }\n",
              "\n",
              "  .colab-df-spinner {\n",
              "    border: 2px solid var(--fill-color);\n",
              "    border-color: transparent;\n",
              "    border-bottom-color: var(--fill-color);\n",
              "    animation:\n",
              "      spin 1s steps(1) infinite;\n",
              "  }\n",
              "\n",
              "  @keyframes spin {\n",
              "    0% {\n",
              "      border-color: transparent;\n",
              "      border-bottom-color: var(--fill-color);\n",
              "      border-left-color: var(--fill-color);\n",
              "    }\n",
              "    20% {\n",
              "      border-color: transparent;\n",
              "      border-left-color: var(--fill-color);\n",
              "      border-top-color: var(--fill-color);\n",
              "    }\n",
              "    30% {\n",
              "      border-color: transparent;\n",
              "      border-left-color: var(--fill-color);\n",
              "      border-top-color: var(--fill-color);\n",
              "      border-right-color: var(--fill-color);\n",
              "    }\n",
              "    40% {\n",
              "      border-color: transparent;\n",
              "      border-right-color: var(--fill-color);\n",
              "      border-top-color: var(--fill-color);\n",
              "    }\n",
              "    60% {\n",
              "      border-color: transparent;\n",
              "      border-right-color: var(--fill-color);\n",
              "    }\n",
              "    80% {\n",
              "      border-color: transparent;\n",
              "      border-right-color: var(--fill-color);\n",
              "      border-bottom-color: var(--fill-color);\n",
              "    }\n",
              "    90% {\n",
              "      border-color: transparent;\n",
              "      border-bottom-color: var(--fill-color);\n",
              "    }\n",
              "  }\n",
              "</style>\n",
              "\n",
              "  <script>\n",
              "    async function quickchart(key) {\n",
              "      const quickchartButtonEl =\n",
              "        document.querySelector('#' + key + ' button');\n",
              "      quickchartButtonEl.disabled = true;  // To prevent multiple clicks.\n",
              "      quickchartButtonEl.classList.add('colab-df-spinner');\n",
              "      try {\n",
              "        const charts = await google.colab.kernel.invokeFunction(\n",
              "            'suggestCharts', [key], {});\n",
              "      } catch (error) {\n",
              "        console.error('Error during call to suggestCharts:', error);\n",
              "      }\n",
              "      quickchartButtonEl.classList.remove('colab-df-spinner');\n",
              "      quickchartButtonEl.classList.add('colab-df-quickchart-complete');\n",
              "    }\n",
              "    (() => {\n",
              "      let quickchartButtonEl =\n",
              "        document.querySelector('#df-ec1adee4-16d3-4b41-9d25-08230e8430e1 button');\n",
              "      quickchartButtonEl.style.display =\n",
              "        google.colab.kernel.accessAllowed ? 'block' : 'none';\n",
              "    })();\n",
              "  </script>\n",
              "</div>\n",
              "\n",
              "    </div>\n",
              "  </div>\n"
            ],
            "application/vnd.google.colaboratory.intrinsic+json": {
              "type": "dataframe",
              "variable_name": "data_users",
              "summary": "{\n  \"name\": \"data_users\",\n  \"rows\": 1565,\n  \"fields\": [\n    {\n      \"column\": \"user_id\",\n      \"properties\": {\n        \"dtype\": \"number\",\n        \"std\": 443,\n        \"min\": 1,\n        \"max\": 1534,\n        \"num_unique_values\": 1534,\n        \"samples\": [\n          1365,\n          77,\n          317\n        ],\n        \"semantic_type\": \"\",\n        \"description\": \"\"\n      }\n    },\n    {\n      \"column\": \"name\",\n      \"properties\": {\n        \"dtype\": \"category\",\n        \"num_unique_values\": 194,\n        \"samples\": [\n          \"\\u042d\\u043c\\u0438\\u043b\\u0438\\u044f\",\n          \"\\u0414\\u0430\\u043d\\u0438\\u0438\\u043b\",\n          \"\\u042e\\u043b\\u0438\\u044f\"\n        ],\n        \"semantic_type\": \"\",\n        \"description\": \"\"\n      }\n    },\n    {\n      \"column\": \"age\",\n      \"properties\": {\n        \"dtype\": \"number\",\n        \"std\": 4,\n        \"min\": 12,\n        \"max\": 43,\n        \"num_unique_values\": 29,\n        \"samples\": [\n          39,\n          17,\n          32\n        ],\n        \"semantic_type\": \"\",\n        \"description\": \"\"\n      }\n    },\n    {\n      \"column\": \"city\",\n      \"properties\": {\n        \"dtype\": \"category\",\n        \"num_unique_values\": 8,\n        \"samples\": [\n          \"\\u041e\\u043c\\u0441\\u043a\",\n          \"\\u041f\\u044f\\u0442\\u0438\\u0433\\u043e\\u0440\\u0441\\u043a\",\n          \"\\u0422\\u044e\\u043c\\u0435\\u043d\\u044c\"\n        ],\n        \"semantic_type\": \"\",\n        \"description\": \"\"\n      }\n    },\n    {\n      \"column\": \"subscription_type\",\n      \"properties\": {\n        \"dtype\": \"category\",\n        \"num_unique_values\": 2,\n        \"samples\": [\n          \"free\",\n          \"ultra\"\n        ],\n        \"semantic_type\": \"\",\n        \"description\": \"\"\n      }\n    }\n  ]\n}"
            }
          },
          "metadata": {},
          "execution_count": 4
        }
      ],
      "source": [
        "data_users.info()\n",
        "data_users.head(10)"
      ]
    },
    {
      "cell_type": "markdown",
      "id": "9f336512",
      "metadata": {
        "id": "9f336512"
      },
      "source": [
        "<font size=3> Выводы по датасету: </font>\n",
        "\n",
        "Датасет состоит из 5 столбцов, пропущенных данных нет. Два типа данных: `int64` и `object`"
      ]
    },
    {
      "cell_type": "markdown",
      "id": "a778a3fa",
      "metadata": {
        "id": "a778a3fa"
      },
      "source": [
        "### Датасет с поездками"
      ]
    },
    {
      "cell_type": "code",
      "execution_count": null,
      "id": "be558a0a",
      "metadata": {
        "colab": {
          "base_uri": "https://localhost:8080/",
          "height": 554
        },
        "id": "be558a0a",
        "outputId": "caa90c1d-9aaa-4b0e-e582-dd1a9d536c4a"
      },
      "outputs": [
        {
          "output_type": "stream",
          "name": "stdout",
          "text": [
            "<class 'pandas.core.frame.DataFrame'>\n",
            "RangeIndex: 18068 entries, 0 to 18067\n",
            "Data columns (total 4 columns):\n",
            " #   Column    Non-Null Count  Dtype  \n",
            "---  ------    --------------  -----  \n",
            " 0   user_id   18068 non-null  int64  \n",
            " 1   distance  18068 non-null  float64\n",
            " 2   duration  18068 non-null  float64\n",
            " 3   date      18068 non-null  object \n",
            "dtypes: float64(2), int64(1), object(1)\n",
            "memory usage: 564.8+ KB\n"
          ]
        },
        {
          "output_type": "execute_result",
          "data": {
            "text/plain": [
              "   user_id     distance   duration        date\n",
              "0        1  4409.919140  25.599769  2021-01-01\n",
              "1        1  2617.592153  15.816871  2021-01-18\n",
              "2        1   754.159807   6.232113  2021-04-20\n",
              "3        1  2694.783254  18.511000  2021-08-11\n",
              "4        1  4028.687306  26.265803  2021-08-28\n",
              "5        1  2770.890808  16.650138  2021-10-09\n",
              "6        1  3039.020292  14.927879  2021-10-19\n",
              "7        1  2842.118050  23.117468  2021-11-06\n",
              "8        1  3412.690668  15.238072  2021-11-14\n",
              "9        1   748.690645  15.041884  2021-11-22"
            ],
            "text/html": [
              "\n",
              "  <div id=\"df-ec02ec0f-9965-4988-bb68-f9613c18789c\" class=\"colab-df-container\">\n",
              "    <div>\n",
              "<style scoped>\n",
              "    .dataframe tbody tr th:only-of-type {\n",
              "        vertical-align: middle;\n",
              "    }\n",
              "\n",
              "    .dataframe tbody tr th {\n",
              "        vertical-align: top;\n",
              "    }\n",
              "\n",
              "    .dataframe thead th {\n",
              "        text-align: right;\n",
              "    }\n",
              "</style>\n",
              "<table border=\"1\" class=\"dataframe\">\n",
              "  <thead>\n",
              "    <tr style=\"text-align: right;\">\n",
              "      <th></th>\n",
              "      <th>user_id</th>\n",
              "      <th>distance</th>\n",
              "      <th>duration</th>\n",
              "      <th>date</th>\n",
              "    </tr>\n",
              "  </thead>\n",
              "  <tbody>\n",
              "    <tr>\n",
              "      <th>0</th>\n",
              "      <td>1</td>\n",
              "      <td>4409.919140</td>\n",
              "      <td>25.599769</td>\n",
              "      <td>2021-01-01</td>\n",
              "    </tr>\n",
              "    <tr>\n",
              "      <th>1</th>\n",
              "      <td>1</td>\n",
              "      <td>2617.592153</td>\n",
              "      <td>15.816871</td>\n",
              "      <td>2021-01-18</td>\n",
              "    </tr>\n",
              "    <tr>\n",
              "      <th>2</th>\n",
              "      <td>1</td>\n",
              "      <td>754.159807</td>\n",
              "      <td>6.232113</td>\n",
              "      <td>2021-04-20</td>\n",
              "    </tr>\n",
              "    <tr>\n",
              "      <th>3</th>\n",
              "      <td>1</td>\n",
              "      <td>2694.783254</td>\n",
              "      <td>18.511000</td>\n",
              "      <td>2021-08-11</td>\n",
              "    </tr>\n",
              "    <tr>\n",
              "      <th>4</th>\n",
              "      <td>1</td>\n",
              "      <td>4028.687306</td>\n",
              "      <td>26.265803</td>\n",
              "      <td>2021-08-28</td>\n",
              "    </tr>\n",
              "    <tr>\n",
              "      <th>5</th>\n",
              "      <td>1</td>\n",
              "      <td>2770.890808</td>\n",
              "      <td>16.650138</td>\n",
              "      <td>2021-10-09</td>\n",
              "    </tr>\n",
              "    <tr>\n",
              "      <th>6</th>\n",
              "      <td>1</td>\n",
              "      <td>3039.020292</td>\n",
              "      <td>14.927879</td>\n",
              "      <td>2021-10-19</td>\n",
              "    </tr>\n",
              "    <tr>\n",
              "      <th>7</th>\n",
              "      <td>1</td>\n",
              "      <td>2842.118050</td>\n",
              "      <td>23.117468</td>\n",
              "      <td>2021-11-06</td>\n",
              "    </tr>\n",
              "    <tr>\n",
              "      <th>8</th>\n",
              "      <td>1</td>\n",
              "      <td>3412.690668</td>\n",
              "      <td>15.238072</td>\n",
              "      <td>2021-11-14</td>\n",
              "    </tr>\n",
              "    <tr>\n",
              "      <th>9</th>\n",
              "      <td>1</td>\n",
              "      <td>748.690645</td>\n",
              "      <td>15.041884</td>\n",
              "      <td>2021-11-22</td>\n",
              "    </tr>\n",
              "  </tbody>\n",
              "</table>\n",
              "</div>\n",
              "    <div class=\"colab-df-buttons\">\n",
              "\n",
              "  <div class=\"colab-df-container\">\n",
              "    <button class=\"colab-df-convert\" onclick=\"convertToInteractive('df-ec02ec0f-9965-4988-bb68-f9613c18789c')\"\n",
              "            title=\"Convert this dataframe to an interactive table.\"\n",
              "            style=\"display:none;\">\n",
              "\n",
              "  <svg xmlns=\"http://www.w3.org/2000/svg\" height=\"24px\" viewBox=\"0 -960 960 960\">\n",
              "    <path d=\"M120-120v-720h720v720H120Zm60-500h600v-160H180v160Zm220 220h160v-160H400v160Zm0 220h160v-160H400v160ZM180-400h160v-160H180v160Zm440 0h160v-160H620v160ZM180-180h160v-160H180v160Zm440 0h160v-160H620v160Z\"/>\n",
              "  </svg>\n",
              "    </button>\n",
              "\n",
              "  <style>\n",
              "    .colab-df-container {\n",
              "      display:flex;\n",
              "      gap: 12px;\n",
              "    }\n",
              "\n",
              "    .colab-df-convert {\n",
              "      background-color: #E8F0FE;\n",
              "      border: none;\n",
              "      border-radius: 50%;\n",
              "      cursor: pointer;\n",
              "      display: none;\n",
              "      fill: #1967D2;\n",
              "      height: 32px;\n",
              "      padding: 0 0 0 0;\n",
              "      width: 32px;\n",
              "    }\n",
              "\n",
              "    .colab-df-convert:hover {\n",
              "      background-color: #E2EBFA;\n",
              "      box-shadow: 0px 1px 2px rgba(60, 64, 67, 0.3), 0px 1px 3px 1px rgba(60, 64, 67, 0.15);\n",
              "      fill: #174EA6;\n",
              "    }\n",
              "\n",
              "    .colab-df-buttons div {\n",
              "      margin-bottom: 4px;\n",
              "    }\n",
              "\n",
              "    [theme=dark] .colab-df-convert {\n",
              "      background-color: #3B4455;\n",
              "      fill: #D2E3FC;\n",
              "    }\n",
              "\n",
              "    [theme=dark] .colab-df-convert:hover {\n",
              "      background-color: #434B5C;\n",
              "      box-shadow: 0px 1px 3px 1px rgba(0, 0, 0, 0.15);\n",
              "      filter: drop-shadow(0px 1px 2px rgba(0, 0, 0, 0.3));\n",
              "      fill: #FFFFFF;\n",
              "    }\n",
              "  </style>\n",
              "\n",
              "    <script>\n",
              "      const buttonEl =\n",
              "        document.querySelector('#df-ec02ec0f-9965-4988-bb68-f9613c18789c button.colab-df-convert');\n",
              "      buttonEl.style.display =\n",
              "        google.colab.kernel.accessAllowed ? 'block' : 'none';\n",
              "\n",
              "      async function convertToInteractive(key) {\n",
              "        const element = document.querySelector('#df-ec02ec0f-9965-4988-bb68-f9613c18789c');\n",
              "        const dataTable =\n",
              "          await google.colab.kernel.invokeFunction('convertToInteractive',\n",
              "                                                    [key], {});\n",
              "        if (!dataTable) return;\n",
              "\n",
              "        const docLinkHtml = 'Like what you see? Visit the ' +\n",
              "          '<a target=\"_blank\" href=https://colab.research.google.com/notebooks/data_table.ipynb>data table notebook</a>'\n",
              "          + ' to learn more about interactive tables.';\n",
              "        element.innerHTML = '';\n",
              "        dataTable['output_type'] = 'display_data';\n",
              "        await google.colab.output.renderOutput(dataTable, element);\n",
              "        const docLink = document.createElement('div');\n",
              "        docLink.innerHTML = docLinkHtml;\n",
              "        element.appendChild(docLink);\n",
              "      }\n",
              "    </script>\n",
              "  </div>\n",
              "\n",
              "\n",
              "<div id=\"df-0e53c75d-655d-488d-a653-529a1b2f0c68\">\n",
              "  <button class=\"colab-df-quickchart\" onclick=\"quickchart('df-0e53c75d-655d-488d-a653-529a1b2f0c68')\"\n",
              "            title=\"Suggest charts\"\n",
              "            style=\"display:none;\">\n",
              "\n",
              "<svg xmlns=\"http://www.w3.org/2000/svg\" height=\"24px\"viewBox=\"0 0 24 24\"\n",
              "     width=\"24px\">\n",
              "    <g>\n",
              "        <path d=\"M19 3H5c-1.1 0-2 .9-2 2v14c0 1.1.9 2 2 2h14c1.1 0 2-.9 2-2V5c0-1.1-.9-2-2-2zM9 17H7v-7h2v7zm4 0h-2V7h2v10zm4 0h-2v-4h2v4z\"/>\n",
              "    </g>\n",
              "</svg>\n",
              "  </button>\n",
              "\n",
              "<style>\n",
              "  .colab-df-quickchart {\n",
              "      --bg-color: #E8F0FE;\n",
              "      --fill-color: #1967D2;\n",
              "      --hover-bg-color: #E2EBFA;\n",
              "      --hover-fill-color: #174EA6;\n",
              "      --disabled-fill-color: #AAA;\n",
              "      --disabled-bg-color: #DDD;\n",
              "  }\n",
              "\n",
              "  [theme=dark] .colab-df-quickchart {\n",
              "      --bg-color: #3B4455;\n",
              "      --fill-color: #D2E3FC;\n",
              "      --hover-bg-color: #434B5C;\n",
              "      --hover-fill-color: #FFFFFF;\n",
              "      --disabled-bg-color: #3B4455;\n",
              "      --disabled-fill-color: #666;\n",
              "  }\n",
              "\n",
              "  .colab-df-quickchart {\n",
              "    background-color: var(--bg-color);\n",
              "    border: none;\n",
              "    border-radius: 50%;\n",
              "    cursor: pointer;\n",
              "    display: none;\n",
              "    fill: var(--fill-color);\n",
              "    height: 32px;\n",
              "    padding: 0;\n",
              "    width: 32px;\n",
              "  }\n",
              "\n",
              "  .colab-df-quickchart:hover {\n",
              "    background-color: var(--hover-bg-color);\n",
              "    box-shadow: 0 1px 2px rgba(60, 64, 67, 0.3), 0 1px 3px 1px rgba(60, 64, 67, 0.15);\n",
              "    fill: var(--button-hover-fill-color);\n",
              "  }\n",
              "\n",
              "  .colab-df-quickchart-complete:disabled,\n",
              "  .colab-df-quickchart-complete:disabled:hover {\n",
              "    background-color: var(--disabled-bg-color);\n",
              "    fill: var(--disabled-fill-color);\n",
              "    box-shadow: none;\n",
              "  }\n",
              "\n",
              "  .colab-df-spinner {\n",
              "    border: 2px solid var(--fill-color);\n",
              "    border-color: transparent;\n",
              "    border-bottom-color: var(--fill-color);\n",
              "    animation:\n",
              "      spin 1s steps(1) infinite;\n",
              "  }\n",
              "\n",
              "  @keyframes spin {\n",
              "    0% {\n",
              "      border-color: transparent;\n",
              "      border-bottom-color: var(--fill-color);\n",
              "      border-left-color: var(--fill-color);\n",
              "    }\n",
              "    20% {\n",
              "      border-color: transparent;\n",
              "      border-left-color: var(--fill-color);\n",
              "      border-top-color: var(--fill-color);\n",
              "    }\n",
              "    30% {\n",
              "      border-color: transparent;\n",
              "      border-left-color: var(--fill-color);\n",
              "      border-top-color: var(--fill-color);\n",
              "      border-right-color: var(--fill-color);\n",
              "    }\n",
              "    40% {\n",
              "      border-color: transparent;\n",
              "      border-right-color: var(--fill-color);\n",
              "      border-top-color: var(--fill-color);\n",
              "    }\n",
              "    60% {\n",
              "      border-color: transparent;\n",
              "      border-right-color: var(--fill-color);\n",
              "    }\n",
              "    80% {\n",
              "      border-color: transparent;\n",
              "      border-right-color: var(--fill-color);\n",
              "      border-bottom-color: var(--fill-color);\n",
              "    }\n",
              "    90% {\n",
              "      border-color: transparent;\n",
              "      border-bottom-color: var(--fill-color);\n",
              "    }\n",
              "  }\n",
              "</style>\n",
              "\n",
              "  <script>\n",
              "    async function quickchart(key) {\n",
              "      const quickchartButtonEl =\n",
              "        document.querySelector('#' + key + ' button');\n",
              "      quickchartButtonEl.disabled = true;  // To prevent multiple clicks.\n",
              "      quickchartButtonEl.classList.add('colab-df-spinner');\n",
              "      try {\n",
              "        const charts = await google.colab.kernel.invokeFunction(\n",
              "            'suggestCharts', [key], {});\n",
              "      } catch (error) {\n",
              "        console.error('Error during call to suggestCharts:', error);\n",
              "      }\n",
              "      quickchartButtonEl.classList.remove('colab-df-spinner');\n",
              "      quickchartButtonEl.classList.add('colab-df-quickchart-complete');\n",
              "    }\n",
              "    (() => {\n",
              "      let quickchartButtonEl =\n",
              "        document.querySelector('#df-0e53c75d-655d-488d-a653-529a1b2f0c68 button');\n",
              "      quickchartButtonEl.style.display =\n",
              "        google.colab.kernel.accessAllowed ? 'block' : 'none';\n",
              "    })();\n",
              "  </script>\n",
              "</div>\n",
              "\n",
              "    </div>\n",
              "  </div>\n"
            ],
            "application/vnd.google.colaboratory.intrinsic+json": {
              "type": "dataframe",
              "variable_name": "data_rides",
              "summary": "{\n  \"name\": \"data_rides\",\n  \"rows\": 18068,\n  \"fields\": [\n    {\n      \"column\": \"user_id\",\n      \"properties\": {\n        \"dtype\": \"number\",\n        \"std\": 434,\n        \"min\": 1,\n        \"max\": 1534,\n        \"num_unique_values\": 1534,\n        \"samples\": [\n          1365,\n          77,\n          317\n        ],\n        \"semantic_type\": \"\",\n        \"description\": \"\"\n      }\n    },\n    {\n      \"column\": \"distance\",\n      \"properties\": {\n        \"dtype\": \"number\",\n        \"std\": 1116.8312086098706,\n        \"min\": 0.855682925681208,\n        \"max\": 7211.007744598519,\n        \"num_unique_values\": 18068,\n        \"samples\": [\n          634.9375002523072,\n          3245.352628435748,\n          2838.9435824451866\n        ],\n        \"semantic_type\": \"\",\n        \"description\": \"\"\n      }\n    },\n    {\n      \"column\": \"duration\",\n      \"properties\": {\n        \"dtype\": \"number\",\n        \"std\": 6.091051375341689,\n        \"min\": 0.5,\n        \"max\": 40.82396261922424,\n        \"num_unique_values\": 17974,\n        \"samples\": [\n          21.697919865043986,\n          13.465792601074444,\n          27.458957553479525\n        ],\n        \"semantic_type\": \"\",\n        \"description\": \"\"\n      }\n    },\n    {\n      \"column\": \"date\",\n      \"properties\": {\n        \"dtype\": \"object\",\n        \"num_unique_values\": 364,\n        \"samples\": [\n          \"2021-12-24\",\n          \"2021-09-04\",\n          \"2021-04-08\"\n        ],\n        \"semantic_type\": \"\",\n        \"description\": \"\"\n      }\n    }\n  ]\n}"
            }
          },
          "metadata": {},
          "execution_count": 5
        }
      ],
      "source": [
        "data_rides.info()\n",
        "data_rides.head(10)"
      ]
    },
    {
      "cell_type": "markdown",
      "id": "c6bdbca7",
      "metadata": {
        "id": "c6bdbca7"
      },
      "source": [
        "Построим гистограммы для `distance` и `duration`."
      ]
    },
    {
      "cell_type": "markdown",
      "id": "4fb010bb",
      "metadata": {
        "id": "4fb010bb"
      },
      "source": [
        "<font size=3> Выводы по датасету: </font>\n",
        "\n",
        "- Датасет состоит из 4 столбцов, пропуски в данных отсутствуют.\n",
        "- Типы данных: `int64`, `float64`. В столбце `date` тип данных - `object`."
      ]
    },
    {
      "cell_type": "markdown",
      "id": "8976a3cb",
      "metadata": {
        "id": "8976a3cb"
      },
      "source": [
        "### **Датасет с подписками**"
      ]
    },
    {
      "cell_type": "code",
      "execution_count": null,
      "id": "b3054665",
      "metadata": {
        "colab": {
          "base_uri": "https://localhost:8080/",
          "height": 303
        },
        "id": "b3054665",
        "outputId": "a272509e-9cff-472b-fb53-f446cccd07ba"
      },
      "outputs": [
        {
          "output_type": "stream",
          "name": "stdout",
          "text": [
            "<class 'pandas.core.frame.DataFrame'>\n",
            "RangeIndex: 2 entries, 0 to 1\n",
            "Data columns (total 4 columns):\n",
            " #   Column             Non-Null Count  Dtype \n",
            "---  ------             --------------  ----- \n",
            " 0   subscription_type  2 non-null      object\n",
            " 1   minute_price       2 non-null      int64 \n",
            " 2   start_ride_price   2 non-null      int64 \n",
            " 3   subscription_fee   2 non-null      int64 \n",
            "dtypes: int64(3), object(1)\n",
            "memory usage: 192.0+ bytes\n"
          ]
        },
        {
          "output_type": "execute_result",
          "data": {
            "text/plain": [
              "  subscription_type  minute_price  start_ride_price  subscription_fee\n",
              "0              free             8                50                 0\n",
              "1             ultra             6                 0               199"
            ],
            "text/html": [
              "\n",
              "  <div id=\"df-cf6f9ec2-e81b-4283-87c1-c37a44c17b79\" class=\"colab-df-container\">\n",
              "    <div>\n",
              "<style scoped>\n",
              "    .dataframe tbody tr th:only-of-type {\n",
              "        vertical-align: middle;\n",
              "    }\n",
              "\n",
              "    .dataframe tbody tr th {\n",
              "        vertical-align: top;\n",
              "    }\n",
              "\n",
              "    .dataframe thead th {\n",
              "        text-align: right;\n",
              "    }\n",
              "</style>\n",
              "<table border=\"1\" class=\"dataframe\">\n",
              "  <thead>\n",
              "    <tr style=\"text-align: right;\">\n",
              "      <th></th>\n",
              "      <th>subscription_type</th>\n",
              "      <th>minute_price</th>\n",
              "      <th>start_ride_price</th>\n",
              "      <th>subscription_fee</th>\n",
              "    </tr>\n",
              "  </thead>\n",
              "  <tbody>\n",
              "    <tr>\n",
              "      <th>0</th>\n",
              "      <td>free</td>\n",
              "      <td>8</td>\n",
              "      <td>50</td>\n",
              "      <td>0</td>\n",
              "    </tr>\n",
              "    <tr>\n",
              "      <th>1</th>\n",
              "      <td>ultra</td>\n",
              "      <td>6</td>\n",
              "      <td>0</td>\n",
              "      <td>199</td>\n",
              "    </tr>\n",
              "  </tbody>\n",
              "</table>\n",
              "</div>\n",
              "    <div class=\"colab-df-buttons\">\n",
              "\n",
              "  <div class=\"colab-df-container\">\n",
              "    <button class=\"colab-df-convert\" onclick=\"convertToInteractive('df-cf6f9ec2-e81b-4283-87c1-c37a44c17b79')\"\n",
              "            title=\"Convert this dataframe to an interactive table.\"\n",
              "            style=\"display:none;\">\n",
              "\n",
              "  <svg xmlns=\"http://www.w3.org/2000/svg\" height=\"24px\" viewBox=\"0 -960 960 960\">\n",
              "    <path d=\"M120-120v-720h720v720H120Zm60-500h600v-160H180v160Zm220 220h160v-160H400v160Zm0 220h160v-160H400v160ZM180-400h160v-160H180v160Zm440 0h160v-160H620v160ZM180-180h160v-160H180v160Zm440 0h160v-160H620v160Z\"/>\n",
              "  </svg>\n",
              "    </button>\n",
              "\n",
              "  <style>\n",
              "    .colab-df-container {\n",
              "      display:flex;\n",
              "      gap: 12px;\n",
              "    }\n",
              "\n",
              "    .colab-df-convert {\n",
              "      background-color: #E8F0FE;\n",
              "      border: none;\n",
              "      border-radius: 50%;\n",
              "      cursor: pointer;\n",
              "      display: none;\n",
              "      fill: #1967D2;\n",
              "      height: 32px;\n",
              "      padding: 0 0 0 0;\n",
              "      width: 32px;\n",
              "    }\n",
              "\n",
              "    .colab-df-convert:hover {\n",
              "      background-color: #E2EBFA;\n",
              "      box-shadow: 0px 1px 2px rgba(60, 64, 67, 0.3), 0px 1px 3px 1px rgba(60, 64, 67, 0.15);\n",
              "      fill: #174EA6;\n",
              "    }\n",
              "\n",
              "    .colab-df-buttons div {\n",
              "      margin-bottom: 4px;\n",
              "    }\n",
              "\n",
              "    [theme=dark] .colab-df-convert {\n",
              "      background-color: #3B4455;\n",
              "      fill: #D2E3FC;\n",
              "    }\n",
              "\n",
              "    [theme=dark] .colab-df-convert:hover {\n",
              "      background-color: #434B5C;\n",
              "      box-shadow: 0px 1px 3px 1px rgba(0, 0, 0, 0.15);\n",
              "      filter: drop-shadow(0px 1px 2px rgba(0, 0, 0, 0.3));\n",
              "      fill: #FFFFFF;\n",
              "    }\n",
              "  </style>\n",
              "\n",
              "    <script>\n",
              "      const buttonEl =\n",
              "        document.querySelector('#df-cf6f9ec2-e81b-4283-87c1-c37a44c17b79 button.colab-df-convert');\n",
              "      buttonEl.style.display =\n",
              "        google.colab.kernel.accessAllowed ? 'block' : 'none';\n",
              "\n",
              "      async function convertToInteractive(key) {\n",
              "        const element = document.querySelector('#df-cf6f9ec2-e81b-4283-87c1-c37a44c17b79');\n",
              "        const dataTable =\n",
              "          await google.colab.kernel.invokeFunction('convertToInteractive',\n",
              "                                                    [key], {});\n",
              "        if (!dataTable) return;\n",
              "\n",
              "        const docLinkHtml = 'Like what you see? Visit the ' +\n",
              "          '<a target=\"_blank\" href=https://colab.research.google.com/notebooks/data_table.ipynb>data table notebook</a>'\n",
              "          + ' to learn more about interactive tables.';\n",
              "        element.innerHTML = '';\n",
              "        dataTable['output_type'] = 'display_data';\n",
              "        await google.colab.output.renderOutput(dataTable, element);\n",
              "        const docLink = document.createElement('div');\n",
              "        docLink.innerHTML = docLinkHtml;\n",
              "        element.appendChild(docLink);\n",
              "      }\n",
              "    </script>\n",
              "  </div>\n",
              "\n",
              "\n",
              "<div id=\"df-7defe0c9-d5c8-40ac-a360-b3a427a15d66\">\n",
              "  <button class=\"colab-df-quickchart\" onclick=\"quickchart('df-7defe0c9-d5c8-40ac-a360-b3a427a15d66')\"\n",
              "            title=\"Suggest charts\"\n",
              "            style=\"display:none;\">\n",
              "\n",
              "<svg xmlns=\"http://www.w3.org/2000/svg\" height=\"24px\"viewBox=\"0 0 24 24\"\n",
              "     width=\"24px\">\n",
              "    <g>\n",
              "        <path d=\"M19 3H5c-1.1 0-2 .9-2 2v14c0 1.1.9 2 2 2h14c1.1 0 2-.9 2-2V5c0-1.1-.9-2-2-2zM9 17H7v-7h2v7zm4 0h-2V7h2v10zm4 0h-2v-4h2v4z\"/>\n",
              "    </g>\n",
              "</svg>\n",
              "  </button>\n",
              "\n",
              "<style>\n",
              "  .colab-df-quickchart {\n",
              "      --bg-color: #E8F0FE;\n",
              "      --fill-color: #1967D2;\n",
              "      --hover-bg-color: #E2EBFA;\n",
              "      --hover-fill-color: #174EA6;\n",
              "      --disabled-fill-color: #AAA;\n",
              "      --disabled-bg-color: #DDD;\n",
              "  }\n",
              "\n",
              "  [theme=dark] .colab-df-quickchart {\n",
              "      --bg-color: #3B4455;\n",
              "      --fill-color: #D2E3FC;\n",
              "      --hover-bg-color: #434B5C;\n",
              "      --hover-fill-color: #FFFFFF;\n",
              "      --disabled-bg-color: #3B4455;\n",
              "      --disabled-fill-color: #666;\n",
              "  }\n",
              "\n",
              "  .colab-df-quickchart {\n",
              "    background-color: var(--bg-color);\n",
              "    border: none;\n",
              "    border-radius: 50%;\n",
              "    cursor: pointer;\n",
              "    display: none;\n",
              "    fill: var(--fill-color);\n",
              "    height: 32px;\n",
              "    padding: 0;\n",
              "    width: 32px;\n",
              "  }\n",
              "\n",
              "  .colab-df-quickchart:hover {\n",
              "    background-color: var(--hover-bg-color);\n",
              "    box-shadow: 0 1px 2px rgba(60, 64, 67, 0.3), 0 1px 3px 1px rgba(60, 64, 67, 0.15);\n",
              "    fill: var(--button-hover-fill-color);\n",
              "  }\n",
              "\n",
              "  .colab-df-quickchart-complete:disabled,\n",
              "  .colab-df-quickchart-complete:disabled:hover {\n",
              "    background-color: var(--disabled-bg-color);\n",
              "    fill: var(--disabled-fill-color);\n",
              "    box-shadow: none;\n",
              "  }\n",
              "\n",
              "  .colab-df-spinner {\n",
              "    border: 2px solid var(--fill-color);\n",
              "    border-color: transparent;\n",
              "    border-bottom-color: var(--fill-color);\n",
              "    animation:\n",
              "      spin 1s steps(1) infinite;\n",
              "  }\n",
              "\n",
              "  @keyframes spin {\n",
              "    0% {\n",
              "      border-color: transparent;\n",
              "      border-bottom-color: var(--fill-color);\n",
              "      border-left-color: var(--fill-color);\n",
              "    }\n",
              "    20% {\n",
              "      border-color: transparent;\n",
              "      border-left-color: var(--fill-color);\n",
              "      border-top-color: var(--fill-color);\n",
              "    }\n",
              "    30% {\n",
              "      border-color: transparent;\n",
              "      border-left-color: var(--fill-color);\n",
              "      border-top-color: var(--fill-color);\n",
              "      border-right-color: var(--fill-color);\n",
              "    }\n",
              "    40% {\n",
              "      border-color: transparent;\n",
              "      border-right-color: var(--fill-color);\n",
              "      border-top-color: var(--fill-color);\n",
              "    }\n",
              "    60% {\n",
              "      border-color: transparent;\n",
              "      border-right-color: var(--fill-color);\n",
              "    }\n",
              "    80% {\n",
              "      border-color: transparent;\n",
              "      border-right-color: var(--fill-color);\n",
              "      border-bottom-color: var(--fill-color);\n",
              "    }\n",
              "    90% {\n",
              "      border-color: transparent;\n",
              "      border-bottom-color: var(--fill-color);\n",
              "    }\n",
              "  }\n",
              "</style>\n",
              "\n",
              "  <script>\n",
              "    async function quickchart(key) {\n",
              "      const quickchartButtonEl =\n",
              "        document.querySelector('#' + key + ' button');\n",
              "      quickchartButtonEl.disabled = true;  // To prevent multiple clicks.\n",
              "      quickchartButtonEl.classList.add('colab-df-spinner');\n",
              "      try {\n",
              "        const charts = await google.colab.kernel.invokeFunction(\n",
              "            'suggestCharts', [key], {});\n",
              "      } catch (error) {\n",
              "        console.error('Error during call to suggestCharts:', error);\n",
              "      }\n",
              "      quickchartButtonEl.classList.remove('colab-df-spinner');\n",
              "      quickchartButtonEl.classList.add('colab-df-quickchart-complete');\n",
              "    }\n",
              "    (() => {\n",
              "      let quickchartButtonEl =\n",
              "        document.querySelector('#df-7defe0c9-d5c8-40ac-a360-b3a427a15d66 button');\n",
              "      quickchartButtonEl.style.display =\n",
              "        google.colab.kernel.accessAllowed ? 'block' : 'none';\n",
              "    })();\n",
              "  </script>\n",
              "</div>\n",
              "\n",
              "    </div>\n",
              "  </div>\n"
            ],
            "application/vnd.google.colaboratory.intrinsic+json": {
              "type": "dataframe",
              "variable_name": "data_subs",
              "summary": "{\n  \"name\": \"data_subs\",\n  \"rows\": 2,\n  \"fields\": [\n    {\n      \"column\": \"subscription_type\",\n      \"properties\": {\n        \"dtype\": \"string\",\n        \"num_unique_values\": 2,\n        \"samples\": [\n          \"ultra\",\n          \"free\"\n        ],\n        \"semantic_type\": \"\",\n        \"description\": \"\"\n      }\n    },\n    {\n      \"column\": \"minute_price\",\n      \"properties\": {\n        \"dtype\": \"number\",\n        \"std\": 1,\n        \"min\": 6,\n        \"max\": 8,\n        \"num_unique_values\": 2,\n        \"samples\": [\n          6,\n          8\n        ],\n        \"semantic_type\": \"\",\n        \"description\": \"\"\n      }\n    },\n    {\n      \"column\": \"start_ride_price\",\n      \"properties\": {\n        \"dtype\": \"number\",\n        \"std\": 35,\n        \"min\": 0,\n        \"max\": 50,\n        \"num_unique_values\": 2,\n        \"samples\": [\n          0,\n          50\n        ],\n        \"semantic_type\": \"\",\n        \"description\": \"\"\n      }\n    },\n    {\n      \"column\": \"subscription_fee\",\n      \"properties\": {\n        \"dtype\": \"number\",\n        \"std\": 140,\n        \"min\": 0,\n        \"max\": 199,\n        \"num_unique_values\": 2,\n        \"samples\": [\n          199,\n          0\n        ],\n        \"semantic_type\": \"\",\n        \"description\": \"\"\n      }\n    }\n  ]\n}"
            }
          },
          "metadata": {},
          "execution_count": 6
        }
      ],
      "source": [
        "data_subs.info()\n",
        "data_subs.head(10)"
      ]
    },
    {
      "cell_type": "markdown",
      "id": "b0b7ee32",
      "metadata": {
        "id": "b0b7ee32"
      },
      "source": [
        "<font size=3> Выводы по датасету: </font>\n",
        "\n",
        "В датасете 4 столбца и 2 строки, данные по подписках `free` и `ultra`"
      ]
    },
    {
      "cell_type": "markdown",
      "id": "e95ebca7",
      "metadata": {
        "id": "e95ebca7"
      },
      "source": [
        "## Предобработка данных"
      ]
    },
    {
      "cell_type": "markdown",
      "id": "d5fa8748",
      "metadata": {
        "id": "d5fa8748"
      },
      "source": [
        "### Обработка пропущенных значений"
      ]
    },
    {
      "cell_type": "markdown",
      "id": "c4b56d3a",
      "metadata": {
        "id": "c4b56d3a"
      },
      "source": [
        "Выведем количество пропусков в каждом столбце во всех датасетах."
      ]
    },
    {
      "cell_type": "markdown",
      "id": "f926ecdc",
      "metadata": {
        "id": "f926ecdc"
      },
      "source": [
        "**<font size=3> Датасет с пользователями: </font>**"
      ]
    },
    {
      "cell_type": "code",
      "execution_count": null,
      "id": "248759d8",
      "metadata": {
        "colab": {
          "base_uri": "https://localhost:8080/"
        },
        "id": "248759d8",
        "outputId": "c81956de-7b4e-4c0e-d89a-cf9865e2f531"
      },
      "outputs": [
        {
          "output_type": "stream",
          "name": "stdout",
          "text": [
            "Количество пропущенных значений в каждом столбце:\n"
          ]
        },
        {
          "output_type": "execute_result",
          "data": {
            "text/plain": [
              "user_id              0\n",
              "name                 0\n",
              "age                  0\n",
              "city                 0\n",
              "subscription_type    0\n",
              "dtype: int64"
            ]
          },
          "metadata": {},
          "execution_count": 7
        }
      ],
      "source": [
        "print('Количество пропущенных значений в каждом столбце:')\n",
        "data_users.isna().sum()"
      ]
    },
    {
      "cell_type": "markdown",
      "id": "3fb2fdba",
      "metadata": {
        "id": "3fb2fdba"
      },
      "source": [
        "**<font size=3> Датасет с поездками: </font>**"
      ]
    },
    {
      "cell_type": "code",
      "execution_count": null,
      "id": "94898eec",
      "metadata": {
        "colab": {
          "base_uri": "https://localhost:8080/"
        },
        "id": "94898eec",
        "outputId": "e7bd9044-d893-408d-82cd-e1c36d74ec98"
      },
      "outputs": [
        {
          "output_type": "stream",
          "name": "stdout",
          "text": [
            "Количество пропущенных значений в каждом столбце:\n"
          ]
        },
        {
          "output_type": "execute_result",
          "data": {
            "text/plain": [
              "user_id     0\n",
              "distance    0\n",
              "duration    0\n",
              "date        0\n",
              "dtype: int64"
            ]
          },
          "metadata": {},
          "execution_count": 8
        }
      ],
      "source": [
        "print('Количество пропущенных значений в каждом столбце:')\n",
        "data_rides.isna().sum()"
      ]
    },
    {
      "cell_type": "markdown",
      "id": "a50e4927",
      "metadata": {
        "id": "a50e4927"
      },
      "source": [
        "**<font size=3> Датасет с подписками: </font>**"
      ]
    },
    {
      "cell_type": "code",
      "execution_count": null,
      "id": "679d06dd",
      "metadata": {
        "colab": {
          "base_uri": "https://localhost:8080/"
        },
        "id": "679d06dd",
        "outputId": "450776a2-a77e-4f9d-edf3-c7edb6b050e8"
      },
      "outputs": [
        {
          "output_type": "stream",
          "name": "stdout",
          "text": [
            "Количество пропущенных значений в каждом столбце:\n"
          ]
        },
        {
          "output_type": "execute_result",
          "data": {
            "text/plain": [
              "subscription_type    0\n",
              "minute_price         0\n",
              "start_ride_price     0\n",
              "subscription_fee     0\n",
              "dtype: int64"
            ]
          },
          "metadata": {},
          "execution_count": 9
        }
      ],
      "source": [
        "print('Количество пропущенных значений в каждом столбце:')\n",
        "data_subs.isna().sum()"
      ]
    },
    {
      "cell_type": "markdown",
      "id": "dffdf45e",
      "metadata": {
        "id": "dffdf45e"
      },
      "source": [
        "### Изменение типа данных и обработка дубликатов"
      ]
    },
    {
      "cell_type": "markdown",
      "id": "40e7ef16",
      "metadata": {
        "id": "40e7ef16"
      },
      "source": [
        "В столбце `date` данные имеют тип `object`. Поменяем на тип `datetime64`."
      ]
    },
    {
      "cell_type": "code",
      "execution_count": null,
      "id": "9442c01e",
      "metadata": {
        "colab": {
          "base_uri": "https://localhost:8080/"
        },
        "id": "9442c01e",
        "outputId": "fecc5e0f-fbff-492f-e0c3-3554d370981f"
      },
      "outputs": [
        {
          "output_type": "execute_result",
          "data": {
            "text/plain": [
              "0   2021-01-01\n",
              "1   2021-01-18\n",
              "2   2021-04-20\n",
              "3   2021-08-11\n",
              "4   2021-08-28\n",
              "Name: date, dtype: datetime64[ns]"
            ]
          },
          "metadata": {},
          "execution_count": 10
        }
      ],
      "source": [
        "data_rides['date'] = pd.to_datetime(data_rides['date'], format = '%Y-%m-%d')\n",
        "data_rides['date'].head()"
      ]
    },
    {
      "cell_type": "markdown",
      "id": "205a5258",
      "metadata": {
        "id": "205a5258"
      },
      "source": [
        "Проверим сколько дубликатов имеются в датасете `data_users` и `data_rides`, затем устраним их."
      ]
    },
    {
      "cell_type": "code",
      "execution_count": null,
      "id": "674034ab",
      "metadata": {
        "colab": {
          "base_uri": "https://localhost:8080/"
        },
        "id": "674034ab",
        "outputId": "7c54b058-6c85-4ef8-f5c9-464d2bccb939"
      },
      "outputs": [
        {
          "output_type": "stream",
          "name": "stdout",
          "text": [
            "Количество дубликатов до обработки: 31\n",
            "Количество дубликатов после обработки: 0\n"
          ]
        }
      ],
      "source": [
        "print('Количество дубликатов до обработки:', data_users.duplicated().sum())\n",
        "data_users.drop_duplicates(inplace=True)\n",
        "print('Количество дубликатов после обработки:', data_users.duplicated().sum())"
      ]
    },
    {
      "cell_type": "code",
      "execution_count": null,
      "id": "bbb3433b",
      "metadata": {
        "colab": {
          "base_uri": "https://localhost:8080/"
        },
        "id": "bbb3433b",
        "outputId": "7006c52c-219d-4c2d-981a-f3d2322d8d0c"
      },
      "outputs": [
        {
          "output_type": "stream",
          "name": "stdout",
          "text": [
            "Количество дубликатов до обработки: 0\n"
          ]
        }
      ],
      "source": [
        "print('Количество дубликатов до обработки:', data_rides.duplicated().sum())"
      ]
    },
    {
      "cell_type": "markdown",
      "id": "be2dccd5",
      "metadata": {
        "id": "be2dccd5"
      },
      "source": [
        "### Добавление нового столбца"
      ]
    },
    {
      "cell_type": "markdown",
      "id": "6650c6c8",
      "metadata": {
        "id": "6650c6c8"
      },
      "source": [
        "Согласно ТЗ, добавим новый столбец с номерами месяцев, но перед этим проверим какие года представлены:"
      ]
    },
    {
      "cell_type": "code",
      "execution_count": null,
      "id": "8107ea94",
      "metadata": {
        "colab": {
          "base_uri": "https://localhost:8080/"
        },
        "id": "8107ea94",
        "outputId": "0cdc1518-ee2a-401c-8d86-d651ae741467"
      },
      "outputs": [
        {
          "output_type": "execute_result",
          "data": {
            "text/plain": [
              "array([2021], dtype=int32)"
            ]
          },
          "metadata": {},
          "execution_count": 13
        }
      ],
      "source": [
        "data_rides['date'].dt.year.unique()"
      ]
    },
    {
      "cell_type": "markdown",
      "id": "e84385ce",
      "metadata": {
        "id": "e84385ce"
      },
      "source": [
        "Данные предоставлены только за 2021 год"
      ]
    },
    {
      "cell_type": "code",
      "execution_count": null,
      "id": "9c9b0226",
      "metadata": {
        "colab": {
          "base_uri": "https://localhost:8080/"
        },
        "id": "9c9b0226",
        "outputId": "98f935fa-6589-43e5-d002-71eacbed57f2"
      },
      "outputs": [
        {
          "output_type": "execute_result",
          "data": {
            "text/plain": [
              "0    1\n",
              "1    1\n",
              "2    4\n",
              "3    8\n",
              "4    8\n",
              "Name: month, dtype: int32"
            ]
          },
          "metadata": {},
          "execution_count": 14
        }
      ],
      "source": [
        "data_rides['month'] = data_rides['date'].dt.month\n",
        "data_rides['month'].head()"
      ]
    },
    {
      "cell_type": "markdown",
      "id": "550feb79",
      "metadata": {
        "id": "550feb79"
      },
      "source": [
        "<font size=3> Вывод: </font>\n",
        "\n",
        "1. Пропущенных значений в данных не было;\n",
        "2. Дубликаты удалены;\n",
        "3. Новый столбец `month` с номерами месяцев добавлен."
      ]
    },
    {
      "cell_type": "markdown",
      "id": "212593c7",
      "metadata": {
        "id": "212593c7"
      },
      "source": [
        "## Исследовательский анализ данных"
      ]
    },
    {
      "cell_type": "markdown",
      "id": "dfe60c01",
      "metadata": {
        "id": "dfe60c01"
      },
      "source": [
        "### Визуализация частоты встречаемости городов"
      ]
    },
    {
      "cell_type": "markdown",
      "id": "32b5c10a",
      "metadata": {
        "id": "32b5c10a"
      },
      "source": [
        "Визуализируем с помощью круговой диаграммы:"
      ]
    },
    {
      "cell_type": "code",
      "execution_count": null,
      "id": "5786675e",
      "metadata": {
        "colab": {
          "base_uri": "https://localhost:8080/",
          "height": 740
        },
        "id": "5786675e",
        "outputId": "aa511ea9-d5d6-4bc4-b69c-70708c7ad49d"
      },
      "outputs": [
        {
          "output_type": "display_data",
          "data": {
            "text/plain": [
              "<Figure size 700x700 with 1 Axes>"
            ],
            "image/png": "[encoded data removed]"
          },
          "metadata": {}
        }
      ],
      "source": [
        "(data_users['city'].value_counts().plot(\n",
        "    kind='bar',\n",
        "    figsize=(7, 7),\n",
        "    title='Количество пользователей (по городам)',\n",
        "    ylabel='')\n",
        ");"
      ]
    },
    {
      "cell_type": "markdown",
      "id": "e240d66d",
      "metadata": {
        "id": "e240d66d"
      },
      "source": [
        "Как видим по диаграмме, в целом, процентное соотношение пользователей по городам не сильно отличается."
      ]
    },
    {
      "cell_type": "markdown",
      "id": "dc808b7f",
      "metadata": {
        "id": "dc808b7f"
      },
      "source": [
        "### Соотношение пользователей с подписками"
      ]
    },
    {
      "cell_type": "markdown",
      "id": "8dc81ab6",
      "metadata": {
        "id": "8dc81ab6"
      },
      "source": [
        "Также визуализируем с помощью круговой диаграммы"
      ]
    },
    {
      "cell_type": "code",
      "execution_count": null,
      "id": "dbcd00af",
      "metadata": {
        "colab": {
          "base_uri": "https://localhost:8080/",
          "height": 598
        },
        "id": "dbcd00af",
        "outputId": "f3feea89-b41e-4995-afb2-5c8065b53daf"
      },
      "outputs": [
        {
          "output_type": "display_data",
          "data": {
            "text/plain": [
              "<Figure size 700x700 with 1 Axes>"
            ],
            "image/png": "[encoded data removed]"
          },
          "metadata": {}
        }
      ],
      "source": [
        "(data_users['subscription_type'].value_counts().plot(\n",
        "    kind='pie',\n",
        "    figsize=(7, 7),\n",
        "    autopct='%1.1f%%',\n",
        "    title='Процентное соотношение пользователей по подпискам',\n",
        "    ylabel='')\n",
        ");"
      ]
    },
    {
      "cell_type": "markdown",
      "id": "1cc67583",
      "metadata": {
        "id": "1cc67583"
      },
      "source": [
        "Пользователей с подпиской ultra чуть меньше половины"
      ]
    },
    {
      "cell_type": "markdown",
      "id": "9456ff36",
      "metadata": {
        "id": "9456ff36"
      },
      "source": [
        "### Визуализация возраста пользователей"
      ]
    },
    {
      "cell_type": "markdown",
      "id": "3d2793de",
      "metadata": {
        "id": "3d2793de"
      },
      "source": [
        "Возраст будем визуализировать с помощью гистограммы, так как она подходит для количественных величин."
      ]
    },
    {
      "cell_type": "code",
      "execution_count": null,
      "id": "0f0a17f4",
      "metadata": {
        "colab": {
          "base_uri": "https://localhost:8080/",
          "height": 564
        },
        "id": "0f0a17f4",
        "outputId": "f4d43450-2efb-4348-8c3a-9afb839ba36f"
      },
      "outputs": [
        {
          "output_type": "display_data",
          "data": {
            "text/plain": [
              "<Figure size 600x600 with 1 Axes>"
            ],
            "image/png": "[encoded data removed]"
          },
          "metadata": {}
        }
      ],
      "source": [
        "(data_users['age'].plot(\n",
        "      kind='hist',\n",
        "      bins=15,\n",
        "      figsize=(6, 6),\n",
        "      grid=True,\n",
        "      title='Возраст пользователей')\n",
        ")\n",
        "plt.xlabel('Возраст')\n",
        "plt.ylabel('Количество');"
      ]
    },
    {
      "cell_type": "markdown",
      "id": "d3ac0954",
      "metadata": {
        "id": "d3ac0954"
      },
      "source": [
        "Средний возраст пользователей - около 25 лет. Те, кто старше 35 и младше 15, встречаются реже."
      ]
    },
    {
      "cell_type": "markdown",
      "id": "09e0aa54",
      "metadata": {
        "id": "09e0aa54"
      },
      "source": [
        "Построим ящик с усами"
      ]
    },
    {
      "cell_type": "code",
      "execution_count": null,
      "id": "b7943d8b",
      "metadata": {
        "colab": {
          "base_uri": "https://localhost:8080/",
          "height": 545
        },
        "id": "b7943d8b",
        "outputId": "a4397269-5948-461c-f319-90c9b82ca575"
      },
      "outputs": [
        {
          "output_type": "display_data",
          "data": {
            "text/plain": [
              "<Figure size 600x600 with 1 Axes>"
            ],
            "image/png": "[encoded data removed]"
          },
          "metadata": {}
        }
      ],
      "source": [
        "data_users.boxplot('age', figsize=(6, 6))\n",
        "plt.title('Возраст')\n",
        "plt.show()"
      ]
    },
    {
      "cell_type": "markdown",
      "id": "06e2eb67",
      "metadata": {
        "id": "06e2eb67"
      },
      "source": [
        "Выбросов малое количество"
      ]
    },
    {
      "cell_type": "markdown",
      "id": "53ffbc90",
      "metadata": {
        "id": "53ffbc90"
      },
      "source": [
        "### Визуализация расстояния и длительности поездок"
      ]
    },
    {
      "cell_type": "markdown",
      "id": "bb5eb2e2",
      "metadata": {
        "id": "bb5eb2e2"
      },
      "source": [
        "Визуализуем с помощью гистограмм"
      ]
    },
    {
      "cell_type": "code",
      "execution_count": null,
      "id": "ce0e5679",
      "metadata": {
        "colab": {
          "base_uri": "https://localhost:8080/",
          "height": 1000
        },
        "id": "ce0e5679",
        "outputId": "4e223624-6650-4f93-b6c3-39adae231b2b"
      },
      "outputs": [
        {
          "output_type": "display_data",
          "data": {
            "text/plain": [
              "<Figure size 500x500 with 1 Axes>"
            ],
            "image/png": "[encoded data removed]"
          },
          "metadata": {}
        },
        {
          "output_type": "display_data",
          "data": {
            "text/plain": [
              "<Figure size 600x600 with 1 Axes>"
            ],
            "image/png": "[encoded data removed]"
          },
          "metadata": {}
        }
      ],
      "source": [
        "(data_rides['distance'].plot(\n",
        "    kind='hist',\n",
        "    figsize=(5, 5),\n",
        "    grid=True,\n",
        "    bins=50,\n",
        "    title='Расстояние, пройденное в текущей сессии')\n",
        ")\n",
        "\n",
        "plt.xlabel('Расстояние (в метрах)')\n",
        "plt.ylabel('Частота')\n",
        "plt.show()\n",
        "\n",
        "data_rides.boxplot('distance', figsize=(6, 6))\n",
        "plt.title('Расстояние')\n",
        "plt.show()"
      ]
    },
    {
      "cell_type": "markdown",
      "id": "9638c5e5",
      "metadata": {
        "id": "9638c5e5"
      },
      "source": [
        "Пик на графике \"Расстояние, пройденное в текущей сессии\" приходится на 3000 метров. Однако, можно заметить небольшой бугор в диапазоне значений 0-1200 метров.\n",
        "\n",
        "Больше количество выбросов в диапазоне от 0 до 800 метров и выше 5600 метров"
      ]
    },
    {
      "cell_type": "code",
      "execution_count": null,
      "id": "d7b01df8",
      "metadata": {
        "colab": {
          "base_uri": "https://localhost:8080/",
          "height": 1000
        },
        "id": "d7b01df8",
        "outputId": "2a339ec8-c514-423b-8c6e-00582e1a16ff"
      },
      "outputs": [
        {
          "output_type": "display_data",
          "data": {
            "text/plain": [
              "<Figure size 500x500 with 1 Axes>"
            ],
            "image/png": "[encoded data removed]"
          },
          "metadata": {}
        },
        {
          "output_type": "display_data",
          "data": {
            "text/plain": [
              "<Figure size 600x600 with 1 Axes>"
            ],
            "image/png": "[encoded data removed]"
          },
          "metadata": {}
        }
      ],
      "source": [
        "(data_rides['duration'].plot(\n",
        "    kind='hist',\n",
        "    figsize=(5, 5),\n",
        "    grid=True,\n",
        "    bins=15,\n",
        "    title='Продолжительность сессии')\n",
        ")\n",
        "\n",
        "plt.xlabel('Время (в минутах)')\n",
        "plt.ylabel('Частота')\n",
        "plt.show()\n",
        "\n",
        "data_rides.boxplot('duration', figsize=(6, 6))\n",
        "plt.title('Продолжительность')\n",
        "plt.show()"
      ]
    },
    {
      "cell_type": "markdown",
      "id": "9187db85",
      "metadata": {
        "id": "9187db85"
      },
      "source": [
        "На графике \"Продолжительность сессии\" пик приходится на 17-18 минут.\n",
        "\n",
        "Выбросы начинаются в районе 34 минут"
      ]
    },
    {
      "cell_type": "markdown",
      "id": "6bd23f13",
      "metadata": {
        "id": "6bd23f13"
      },
      "source": [
        "<font size=3> **Вывод:** </font>"
      ]
    },
    {
      "cell_type": "markdown",
      "id": "9861b8cb",
      "metadata": {
        "id": "9861b8cb"
      },
      "source": [
        "1. Процентное соотношение городов практически одинаковое;\n",
        "2. Количество пользователей с подпиской чуть меньше половины (45 %);\n",
        "3. Средний возраст пользователей - около 25 лет. Те, кто старше 35 и младше 15, встречаются реже;\n",
        "4. Расстояние и длительность каждой поездки распределены нормально;\n",
        "5. По последним графикам видно, что у некоторых пользователей пройденное расстояние было возле нуля, как и продолжительность сессии."
      ]
    },
    {
      "cell_type": "markdown",
      "id": "4ef51331",
      "metadata": {
        "id": "4ef51331"
      },
      "source": [
        "## Объединение данных"
      ]
    },
    {
      "cell_type": "markdown",
      "id": "51272426",
      "metadata": {
        "id": "51272426"
      },
      "source": [
        "### Объединение датафреймов"
      ]
    },
    {
      "cell_type": "markdown",
      "id": "35bf26d6",
      "metadata": {
        "id": "35bf26d6"
      },
      "source": [
        "Узнаем размерности датафреймов и объединим данные из них в один - `data`"
      ]
    },
    {
      "cell_type": "code",
      "execution_count": null,
      "id": "d07ea543",
      "metadata": {
        "colab": {
          "base_uri": "https://localhost:8080/"
        },
        "id": "d07ea543",
        "outputId": "7311d072-c03e-4e11-ee1d-4de25847fe24"
      },
      "outputs": [
        {
          "output_type": "stream",
          "name": "stdout",
          "text": [
            "Размер датасета \"data_users\"\n",
            "Количество строк, столбцов: (1534, 5)\n",
            "\n",
            "Размер датасета \"data_rides\"\n",
            "Количество строк, столбцов: (18068, 5)\n",
            "\n",
            "Размер датасета \"data_subs\"\n",
            "Количество строк, столбцов: (2, 4)\n"
          ]
        }
      ],
      "source": [
        "print('Размер датасета \"data_users\"')\n",
        "print('Количество строк, столбцов:', data_users.shape)\n",
        "print()\n",
        "print('Размер датасета \"data_rides\"')\n",
        "print('Количество строк, столбцов:', data_rides.shape)\n",
        "print()\n",
        "print('Размер датасета \"data_subs\"')\n",
        "print('Количество строк, столбцов:', data_subs.shape)"
      ]
    },
    {
      "cell_type": "code",
      "execution_count": null,
      "id": "fb7447b9",
      "metadata": {
        "id": "fb7447b9"
      },
      "outputs": [],
      "source": [
        "data = data_users.merge(data_rides, on='user_id')"
      ]
    },
    {
      "cell_type": "code",
      "execution_count": null,
      "id": "2b3bbf43",
      "metadata": {
        "id": "2b3bbf43"
      },
      "outputs": [],
      "source": [
        "data = data.merge(data_subs, on='subscription_type')"
      ]
    },
    {
      "cell_type": "code",
      "execution_count": null,
      "id": "302061b3",
      "metadata": {
        "colab": {
          "base_uri": "https://localhost:8080/"
        },
        "id": "302061b3",
        "outputId": "61ccedeb-4a78-4850-fa43-84800401e70b"
      },
      "outputs": [
        {
          "output_type": "stream",
          "name": "stdout",
          "text": [
            "Размер результирующего датафрейма \"data\"\n",
            "Количество строк, столбцов: (18068, 12)\n"
          ]
        }
      ],
      "source": [
        "print('Размер результирующего датафрейма \"data\"')\n",
        "print('Количество строк, столбцов:', data.shape)"
      ]
    },
    {
      "cell_type": "markdown",
      "id": "64a25ee2",
      "metadata": {
        "id": "64a25ee2"
      },
      "source": [
        "Мы объединили датафреймы с помощью `merge` на общих столбцах c внутренним типом объединения."
      ]
    },
    {
      "cell_type": "code",
      "execution_count": null,
      "id": "cc9436bd",
      "metadata": {
        "colab": {
          "base_uri": "https://localhost:8080/",
          "height": 363
        },
        "id": "cc9436bd",
        "outputId": "4c7f49fb-af36-48cc-ba85-938c898be11b"
      },
      "outputs": [
        {
          "output_type": "execute_result",
          "data": {
            "text/plain": [
              "   user_id  name  age    city subscription_type     distance   duration  \\\n",
              "0        1  Кира   22  Тюмень             ultra  4409.919140  25.599769   \n",
              "1        1  Кира   22  Тюмень             ultra  2617.592153  15.816871   \n",
              "2        1  Кира   22  Тюмень             ultra   754.159807   6.232113   \n",
              "3        1  Кира   22  Тюмень             ultra  2694.783254  18.511000   \n",
              "4        1  Кира   22  Тюмень             ultra  4028.687306  26.265803   \n",
              "5        1  Кира   22  Тюмень             ultra  2770.890808  16.650138   \n",
              "6        1  Кира   22  Тюмень             ultra  3039.020292  14.927879   \n",
              "7        1  Кира   22  Тюмень             ultra  2842.118050  23.117468   \n",
              "8        1  Кира   22  Тюмень             ultra  3412.690668  15.238072   \n",
              "9        1  Кира   22  Тюмень             ultra   748.690645  15.041884   \n",
              "\n",
              "        date  month  minute_price  start_ride_price  subscription_fee  \n",
              "0 2021-01-01      1             6                 0               199  \n",
              "1 2021-01-18      1             6                 0               199  \n",
              "2 2021-04-20      4             6                 0               199  \n",
              "3 2021-08-11      8             6                 0               199  \n",
              "4 2021-08-28      8             6                 0               199  \n",
              "5 2021-10-09     10             6                 0               199  \n",
              "6 2021-10-19     10             6                 0               199  \n",
              "7 2021-11-06     11             6                 0               199  \n",
              "8 2021-11-14     11             6                 0               199  \n",
              "9 2021-11-22     11             6                 0               199  "
            ],
            "text/html": [
              "\n",
              "  <div id=\"df-fec8b7ff-6478-47d7-88e0-a72d6cdf4195\" class=\"colab-df-container\">\n",
              "    <div>\n",
              "<style scoped>\n",
              "    .dataframe tbody tr th:only-of-type {\n",
              "        vertical-align: middle;\n",
              "    }\n",
              "\n",
              "    .dataframe tbody tr th {\n",
              "        vertical-align: top;\n",
              "    }\n",
              "\n",
              "    .dataframe thead th {\n",
              "        text-align: right;\n",
              "    }\n",
              "</style>\n",
              "<table border=\"1\" class=\"dataframe\">\n",
              "  <thead>\n",
              "    <tr style=\"text-align: right;\">\n",
              "      <th></th>\n",
              "      <th>user_id</th>\n",
              "      <th>name</th>\n",
              "      <th>age</th>\n",
              "      <th>city</th>\n",
              "      <th>subscription_type</th>\n",
              "      <th>distance</th>\n",
              "      <th>duration</th>\n",
              "      <th>date</th>\n",
              "      <th>month</th>\n",
              "      <th>minute_price</th>\n",
              "      <th>start_ride_price</th>\n",
              "      <th>subscription_fee</th>\n",
              "    </tr>\n",
              "  </thead>\n",
              "  <tbody>\n",
              "    <tr>\n",
              "      <th>0</th>\n",
              "      <td>1</td>\n",
              "      <td>Кира</td>\n",
              "      <td>22</td>\n",
              "      <td>Тюмень</td>\n",
              "      <td>ultra</td>\n",
              "      <td>4409.919140</td>\n",
              "      <td>25.599769</td>\n",
              "      <td>2021-01-01</td>\n",
              "      <td>1</td>\n",
              "      <td>6</td>\n",
              "      <td>0</td>\n",
              "      <td>199</td>\n",
              "    </tr>\n",
              "    <tr>\n",
              "      <th>1</th>\n",
              "      <td>1</td>\n",
              "      <td>Кира</td>\n",
              "      <td>22</td>\n",
              "      <td>Тюмень</td>\n",
              "      <td>ultra</td>\n",
              "      <td>2617.592153</td>\n",
              "      <td>15.816871</td>\n",
              "      <td>2021-01-18</td>\n",
              "      <td>1</td>\n",
              "      <td>6</td>\n",
              "      <td>0</td>\n",
              "      <td>199</td>\n",
              "    </tr>\n",
              "    <tr>\n",
              "      <th>2</th>\n",
              "      <td>1</td>\n",
              "      <td>Кира</td>\n",
              "      <td>22</td>\n",
              "      <td>Тюмень</td>\n",
              "      <td>ultra</td>\n",
              "      <td>754.159807</td>\n",
              "      <td>6.232113</td>\n",
              "      <td>2021-04-20</td>\n",
              "      <td>4</td>\n",
              "      <td>6</td>\n",
              "      <td>0</td>\n",
              "      <td>199</td>\n",
              "    </tr>\n",
              "    <tr>\n",
              "      <th>3</th>\n",
              "      <td>1</td>\n",
              "      <td>Кира</td>\n",
              "      <td>22</td>\n",
              "      <td>Тюмень</td>\n",
              "      <td>ultra</td>\n",
              "      <td>2694.783254</td>\n",
              "      <td>18.511000</td>\n",
              "      <td>2021-08-11</td>\n",
              "      <td>8</td>\n",
              "      <td>6</td>\n",
              "      <td>0</td>\n",
              "      <td>199</td>\n",
              "    </tr>\n",
              "    <tr>\n",
              "      <th>4</th>\n",
              "      <td>1</td>\n",
              "      <td>Кира</td>\n",
              "      <td>22</td>\n",
              "      <td>Тюмень</td>\n",
              "      <td>ultra</td>\n",
              "      <td>4028.687306</td>\n",
              "      <td>26.265803</td>\n",
              "      <td>2021-08-28</td>\n",
              "      <td>8</td>\n",
              "      <td>6</td>\n",
              "      <td>0</td>\n",
              "      <td>199</td>\n",
              "    </tr>\n",
              "    <tr>\n",
              "      <th>5</th>\n",
              "      <td>1</td>\n",
              "      <td>Кира</td>\n",
              "      <td>22</td>\n",
              "      <td>Тюмень</td>\n",
              "      <td>ultra</td>\n",
              "      <td>2770.890808</td>\n",
              "      <td>16.650138</td>\n",
              "      <td>2021-10-09</td>\n",
              "      <td>10</td>\n",
              "      <td>6</td>\n",
              "      <td>0</td>\n",
              "      <td>199</td>\n",
              "    </tr>\n",
              "    <tr>\n",
              "      <th>6</th>\n",
              "      <td>1</td>\n",
              "      <td>Кира</td>\n",
              "      <td>22</td>\n",
              "      <td>Тюмень</td>\n",
              "      <td>ultra</td>\n",
              "      <td>3039.020292</td>\n",
              "      <td>14.927879</td>\n",
              "      <td>2021-10-19</td>\n",
              "      <td>10</td>\n",
              "      <td>6</td>\n",
              "      <td>0</td>\n",
              "      <td>199</td>\n",
              "    </tr>\n",
              "    <tr>\n",
              "      <th>7</th>\n",
              "      <td>1</td>\n",
              "      <td>Кира</td>\n",
              "      <td>22</td>\n",
              "      <td>Тюмень</td>\n",
              "      <td>ultra</td>\n",
              "      <td>2842.118050</td>\n",
              "      <td>23.117468</td>\n",
              "      <td>2021-11-06</td>\n",
              "      <td>11</td>\n",
              "      <td>6</td>\n",
              "      <td>0</td>\n",
              "      <td>199</td>\n",
              "    </tr>\n",
              "    <tr>\n",
              "      <th>8</th>\n",
              "      <td>1</td>\n",
              "      <td>Кира</td>\n",
              "      <td>22</td>\n",
              "      <td>Тюмень</td>\n",
              "      <td>ultra</td>\n",
              "      <td>3412.690668</td>\n",
              "      <td>15.238072</td>\n",
              "      <td>2021-11-14</td>\n",
              "      <td>11</td>\n",
              "      <td>6</td>\n",
              "      <td>0</td>\n",
              "      <td>199</td>\n",
              "    </tr>\n",
              "    <tr>\n",
              "      <th>9</th>\n",
              "      <td>1</td>\n",
              "      <td>Кира</td>\n",
              "      <td>22</td>\n",
              "      <td>Тюмень</td>\n",
              "      <td>ultra</td>\n",
              "      <td>748.690645</td>\n",
              "      <td>15.041884</td>\n",
              "      <td>2021-11-22</td>\n",
              "      <td>11</td>\n",
              "      <td>6</td>\n",
              "      <td>0</td>\n",
              "      <td>199</td>\n",
              "    </tr>\n",
              "  </tbody>\n",
              "</table>\n",
              "</div>\n",
              "    <div class=\"colab-df-buttons\">\n",
              "\n",
              "  <div class=\"colab-df-container\">\n",
              "    <button class=\"colab-df-convert\" onclick=\"convertToInteractive('df-fec8b7ff-6478-47d7-88e0-a72d6cdf4195')\"\n",
              "            title=\"Convert this dataframe to an interactive table.\"\n",
              "            style=\"display:none;\">\n",
              "\n",
              "  <svg xmlns=\"http://www.w3.org/2000/svg\" height=\"24px\" viewBox=\"0 -960 960 960\">\n",
              "    <path d=\"M120-120v-720h720v720H120Zm60-500h600v-160H180v160Zm220 220h160v-160H400v160Zm0 220h160v-160H400v160ZM180-400h160v-160H180v160Zm440 0h160v-160H620v160ZM180-180h160v-160H180v160Zm440 0h160v-160H620v160Z\"/>\n",
              "  </svg>\n",
              "    </button>\n",
              "\n",
              "  <style>\n",
              "    .colab-df-container {\n",
              "      display:flex;\n",
              "      gap: 12px;\n",
              "    }\n",
              "\n",
              "    .colab-df-convert {\n",
              "      background-color: #E8F0FE;\n",
              "      border: none;\n",
              "      border-radius: 50%;\n",
              "      cursor: pointer;\n",
              "      display: none;\n",
              "      fill: #1967D2;\n",
              "      height: 32px;\n",
              "      padding: 0 0 0 0;\n",
              "      width: 32px;\n",
              "    }\n",
              "\n",
              "    .colab-df-convert:hover {\n",
              "      background-color: #E2EBFA;\n",
              "      box-shadow: 0px 1px 2px rgba(60, 64, 67, 0.3), 0px 1px 3px 1px rgba(60, 64, 67, 0.15);\n",
              "      fill: #174EA6;\n",
              "    }\n",
              "\n",
              "    .colab-df-buttons div {\n",
              "      margin-bottom: 4px;\n",
              "    }\n",
              "\n",
              "    [theme=dark] .colab-df-convert {\n",
              "      background-color: #3B4455;\n",
              "      fill: #D2E3FC;\n",
              "    }\n",
              "\n",
              "    [theme=dark] .colab-df-convert:hover {\n",
              "      background-color: #434B5C;\n",
              "      box-shadow: 0px 1px 3px 1px rgba(0, 0, 0, 0.15);\n",
              "      filter: drop-shadow(0px 1px 2px rgba(0, 0, 0, 0.3));\n",
              "      fill: #FFFFFF;\n",
              "    }\n",
              "  </style>\n",
              "\n",
              "    <script>\n",
              "      const buttonEl =\n",
              "        document.querySelector('#df-fec8b7ff-6478-47d7-88e0-a72d6cdf4195 button.colab-df-convert');\n",
              "      buttonEl.style.display =\n",
              "        google.colab.kernel.accessAllowed ? 'block' : 'none';\n",
              "\n",
              "      async function convertToInteractive(key) {\n",
              "        const element = document.querySelector('#df-fec8b7ff-6478-47d7-88e0-a72d6cdf4195');\n",
              "        const dataTable =\n",
              "          await google.colab.kernel.invokeFunction('convertToInteractive',\n",
              "                                                    [key], {});\n",
              "        if (!dataTable) return;\n",
              "\n",
              "        const docLinkHtml = 'Like what you see? Visit the ' +\n",
              "          '<a target=\"_blank\" href=https://colab.research.google.com/notebooks/data_table.ipynb>data table notebook</a>'\n",
              "          + ' to learn more about interactive tables.';\n",
              "        element.innerHTML = '';\n",
              "        dataTable['output_type'] = 'display_data';\n",
              "        await google.colab.output.renderOutput(dataTable, element);\n",
              "        const docLink = document.createElement('div');\n",
              "        docLink.innerHTML = docLinkHtml;\n",
              "        element.appendChild(docLink);\n",
              "      }\n",
              "    </script>\n",
              "  </div>\n",
              "\n",
              "\n",
              "<div id=\"df-15f2c836-7710-4c2c-a1ce-754c748d9ebc\">\n",
              "  <button class=\"colab-df-quickchart\" onclick=\"quickchart('df-15f2c836-7710-4c2c-a1ce-754c748d9ebc')\"\n",
              "            title=\"Suggest charts\"\n",
              "            style=\"display:none;\">\n",
              "\n",
              "<svg xmlns=\"http://www.w3.org/2000/svg\" height=\"24px\"viewBox=\"0 0 24 24\"\n",
              "     width=\"24px\">\n",
              "    <g>\n",
              "        <path d=\"M19 3H5c-1.1 0-2 .9-2 2v14c0 1.1.9 2 2 2h14c1.1 0 2-.9 2-2V5c0-1.1-.9-2-2-2zM9 17H7v-7h2v7zm4 0h-2V7h2v10zm4 0h-2v-4h2v4z\"/>\n",
              "    </g>\n",
              "</svg>\n",
              "  </button>\n",
              "\n",
              "<style>\n",
              "  .colab-df-quickchart {\n",
              "      --bg-color: #E8F0FE;\n",
              "      --fill-color: #1967D2;\n",
              "      --hover-bg-color: #E2EBFA;\n",
              "      --hover-fill-color: #174EA6;\n",
              "      --disabled-fill-color: #AAA;\n",
              "      --disabled-bg-color: #DDD;\n",
              "  }\n",
              "\n",
              "  [theme=dark] .colab-df-quickchart {\n",
              "      --bg-color: #3B4455;\n",
              "      --fill-color: #D2E3FC;\n",
              "      --hover-bg-color: #434B5C;\n",
              "      --hover-fill-color: #FFFFFF;\n",
              "      --disabled-bg-color: #3B4455;\n",
              "      --disabled-fill-color: #666;\n",
              "  }\n",
              "\n",
              "  .colab-df-quickchart {\n",
              "    background-color: var(--bg-color);\n",
              "    border: none;\n",
              "    border-radius: 50%;\n",
              "    cursor: pointer;\n",
              "    display: none;\n",
              "    fill: var(--fill-color);\n",
              "    height: 32px;\n",
              "    padding: 0;\n",
              "    width: 32px;\n",
              "  }\n",
              "\n",
              "  .colab-df-quickchart:hover {\n",
              "    background-color: var(--hover-bg-color);\n",
              "    box-shadow: 0 1px 2px rgba(60, 64, 67, 0.3), 0 1px 3px 1px rgba(60, 64, 67, 0.15);\n",
              "    fill: var(--button-hover-fill-color);\n",
              "  }\n",
              "\n",
              "  .colab-df-quickchart-complete:disabled,\n",
              "  .colab-df-quickchart-complete:disabled:hover {\n",
              "    background-color: var(--disabled-bg-color);\n",
              "    fill: var(--disabled-fill-color);\n",
              "    box-shadow: none;\n",
              "  }\n",
              "\n",
              "  .colab-df-spinner {\n",
              "    border: 2px solid var(--fill-color);\n",
              "    border-color: transparent;\n",
              "    border-bottom-color: var(--fill-color);\n",
              "    animation:\n",
              "      spin 1s steps(1) infinite;\n",
              "  }\n",
              "\n",
              "  @keyframes spin {\n",
              "    0% {\n",
              "      border-color: transparent;\n",
              "      border-bottom-color: var(--fill-color);\n",
              "      border-left-color: var(--fill-color);\n",
              "    }\n",
              "    20% {\n",
              "      border-color: transparent;\n",
              "      border-left-color: var(--fill-color);\n",
              "      border-top-color: var(--fill-color);\n",
              "    }\n",
              "    30% {\n",
              "      border-color: transparent;\n",
              "      border-left-color: var(--fill-color);\n",
              "      border-top-color: var(--fill-color);\n",
              "      border-right-color: var(--fill-color);\n",
              "    }\n",
              "    40% {\n",
              "      border-color: transparent;\n",
              "      border-right-color: var(--fill-color);\n",
              "      border-top-color: var(--fill-color);\n",
              "    }\n",
              "    60% {\n",
              "      border-color: transparent;\n",
              "      border-right-color: var(--fill-color);\n",
              "    }\n",
              "    80% {\n",
              "      border-color: transparent;\n",
              "      border-right-color: var(--fill-color);\n",
              "      border-bottom-color: var(--fill-color);\n",
              "    }\n",
              "    90% {\n",
              "      border-color: transparent;\n",
              "      border-bottom-color: var(--fill-color);\n",
              "    }\n",
              "  }\n",
              "</style>\n",
              "\n",
              "  <script>\n",
              "    async function quickchart(key) {\n",
              "      const quickchartButtonEl =\n",
              "        document.querySelector('#' + key + ' button');\n",
              "      quickchartButtonEl.disabled = true;  // To prevent multiple clicks.\n",
              "      quickchartButtonEl.classList.add('colab-df-spinner');\n",
              "      try {\n",
              "        const charts = await google.colab.kernel.invokeFunction(\n",
              "            'suggestCharts', [key], {});\n",
              "      } catch (error) {\n",
              "        console.error('Error during call to suggestCharts:', error);\n",
              "      }\n",
              "      quickchartButtonEl.classList.remove('colab-df-spinner');\n",
              "      quickchartButtonEl.classList.add('colab-df-quickchart-complete');\n",
              "    }\n",
              "    (() => {\n",
              "      let quickchartButtonEl =\n",
              "        document.querySelector('#df-15f2c836-7710-4c2c-a1ce-754c748d9ebc button');\n",
              "      quickchartButtonEl.style.display =\n",
              "        google.colab.kernel.accessAllowed ? 'block' : 'none';\n",
              "    })();\n",
              "  </script>\n",
              "</div>\n",
              "\n",
              "    </div>\n",
              "  </div>\n"
            ],
            "application/vnd.google.colaboratory.intrinsic+json": {
              "type": "dataframe",
              "variable_name": "data",
              "summary": "{\n  \"name\": \"data\",\n  \"rows\": 18068,\n  \"fields\": [\n    {\n      \"column\": \"user_id\",\n      \"properties\": {\n        \"dtype\": \"number\",\n        \"std\": 434,\n        \"min\": 1,\n        \"max\": 1534,\n        \"num_unique_values\": 1534,\n        \"samples\": [\n          1365,\n          77,\n          317\n        ],\n        \"semantic_type\": \"\",\n        \"description\": \"\"\n      }\n    },\n    {\n      \"column\": \"name\",\n      \"properties\": {\n        \"dtype\": \"category\",\n        \"num_unique_values\": 194,\n        \"samples\": [\n          \"\\u042d\\u043c\\u0438\\u043b\\u0438\\u044f\",\n          \"\\u0414\\u0430\\u043d\\u0438\\u0438\\u043b\",\n          \"\\u042e\\u043b\\u0438\\u044f\"\n        ],\n        \"semantic_type\": \"\",\n        \"description\": \"\"\n      }\n    },\n    {\n      \"column\": \"age\",\n      \"properties\": {\n        \"dtype\": \"number\",\n        \"std\": 4,\n        \"min\": 12,\n        \"max\": 43,\n        \"num_unique_values\": 29,\n        \"samples\": [\n          39,\n          17,\n          32\n        ],\n        \"semantic_type\": \"\",\n        \"description\": \"\"\n      }\n    },\n    {\n      \"column\": \"city\",\n      \"properties\": {\n        \"dtype\": \"category\",\n        \"num_unique_values\": 8,\n        \"samples\": [\n          \"\\u041e\\u043c\\u0441\\u043a\",\n          \"\\u041f\\u044f\\u0442\\u0438\\u0433\\u043e\\u0440\\u0441\\u043a\",\n          \"\\u0422\\u044e\\u043c\\u0435\\u043d\\u044c\"\n        ],\n        \"semantic_type\": \"\",\n        \"description\": \"\"\n      }\n    },\n    {\n      \"column\": \"subscription_type\",\n      \"properties\": {\n        \"dtype\": \"category\",\n        \"num_unique_values\": 2,\n        \"samples\": [\n          \"free\",\n          \"ultra\"\n        ],\n        \"semantic_type\": \"\",\n        \"description\": \"\"\n      }\n    },\n    {\n      \"column\": \"distance\",\n      \"properties\": {\n        \"dtype\": \"number\",\n        \"std\": 1116.8312086098706,\n        \"min\": 0.855682925681208,\n        \"max\": 7211.007744598519,\n        \"num_unique_values\": 18068,\n        \"samples\": [\n          634.9375002523072,\n          3245.352628435748\n        ],\n        \"semantic_type\": \"\",\n        \"description\": \"\"\n      }\n    },\n    {\n      \"column\": \"duration\",\n      \"properties\": {\n        \"dtype\": \"number\",\n        \"std\": 6.091051375341689,\n        \"min\": 0.5,\n        \"max\": 40.82396261922424,\n        \"num_unique_values\": 17974,\n        \"samples\": [\n          21.697919865043986,\n          13.465792601074444\n        ],\n        \"semantic_type\": \"\",\n        \"description\": \"\"\n      }\n    },\n    {\n      \"column\": \"date\",\n      \"properties\": {\n        \"dtype\": \"date\",\n        \"min\": \"2021-01-01 00:00:00\",\n        \"max\": \"2021-12-30 00:00:00\",\n        \"num_unique_values\": 364,\n        \"samples\": [\n          \"2021-12-24 00:00:00\",\n          \"2021-09-04 00:00:00\"\n        ],\n        \"semantic_type\": \"\",\n        \"description\": \"\"\n      }\n    },\n    {\n      \"column\": \"month\",\n      \"properties\": {\n        \"dtype\": \"int32\",\n        \"num_unique_values\": 12,\n        \"samples\": [\n          5,\n          2\n        ],\n        \"semantic_type\": \"\",\n        \"description\": \"\"\n      }\n    },\n    {\n      \"column\": \"minute_price\",\n      \"properties\": {\n        \"dtype\": \"number\",\n        \"std\": 0,\n        \"min\": 6,\n        \"max\": 8,\n        \"num_unique_values\": 2,\n        \"samples\": [\n          8,\n          6\n        ],\n        \"semantic_type\": \"\",\n        \"description\": \"\"\n      }\n    },\n    {\n      \"column\": \"start_ride_price\",\n      \"properties\": {\n        \"dtype\": \"number\",\n        \"std\": 23,\n        \"min\": 0,\n        \"max\": 50,\n        \"num_unique_values\": 2,\n        \"samples\": [\n          50,\n          0\n        ],\n        \"semantic_type\": \"\",\n        \"description\": \"\"\n      }\n    },\n    {\n      \"column\": \"subscription_fee\",\n      \"properties\": {\n        \"dtype\": \"number\",\n        \"std\": 95,\n        \"min\": 0,\n        \"max\": 199,\n        \"num_unique_values\": 2,\n        \"samples\": [\n          0,\n          199\n        ],\n        \"semantic_type\": \"\",\n        \"description\": \"\"\n      }\n    }\n  ]\n}"
            }
          },
          "metadata": {},
          "execution_count": 25
        }
      ],
      "source": [
        "data.head(10)"
      ]
    },
    {
      "cell_type": "code",
      "execution_count": null,
      "id": "69602e55",
      "metadata": {
        "scrolled": true,
        "colab": {
          "base_uri": "https://localhost:8080/"
        },
        "id": "69602e55",
        "outputId": "4ae9e580-cf32-49c0-c7e1-6327c32021b4"
      },
      "outputs": [
        {
          "output_type": "stream",
          "name": "stdout",
          "text": [
            "<class 'pandas.core.frame.DataFrame'>\n",
            "RangeIndex: 18068 entries, 0 to 18067\n",
            "Data columns (total 12 columns):\n",
            " #   Column             Non-Null Count  Dtype         \n",
            "---  ------             --------------  -----         \n",
            " 0   user_id            18068 non-null  int64         \n",
            " 1   name               18068 non-null  object        \n",
            " 2   age                18068 non-null  int64         \n",
            " 3   city               18068 non-null  object        \n",
            " 4   subscription_type  18068 non-null  object        \n",
            " 5   distance           18068 non-null  float64       \n",
            " 6   duration           18068 non-null  float64       \n",
            " 7   date               18068 non-null  datetime64[ns]\n",
            " 8   month              18068 non-null  int32         \n",
            " 9   minute_price       18068 non-null  int64         \n",
            " 10  start_ride_price   18068 non-null  int64         \n",
            " 11  subscription_fee   18068 non-null  int64         \n",
            "dtypes: datetime64[ns](1), float64(2), int32(1), int64(5), object(3)\n",
            "memory usage: 1.6+ MB\n"
          ]
        }
      ],
      "source": [
        "data.info()"
      ]
    },
    {
      "cell_type": "markdown",
      "id": "f3c54171",
      "metadata": {
        "id": "f3c54171"
      },
      "source": [
        "Объединение получилось"
      ]
    },
    {
      "cell_type": "markdown",
      "id": "8b5425c2",
      "metadata": {
        "id": "8b5425c2"
      },
      "source": [
        "### Создание датафреймов"
      ]
    },
    {
      "cell_type": "markdown",
      "id": "963dca23",
      "metadata": {
        "id": "963dca23"
      },
      "source": [
        "Создадим два датафрейма на основе `data` с ключевой характеристикой - подпиской:"
      ]
    },
    {
      "cell_type": "code",
      "execution_count": null,
      "id": "6220325a",
      "metadata": {
        "id": "6220325a"
      },
      "outputs": [],
      "source": [
        "data_free = data.query('subscription_type == \"free\"')\n",
        "data_ultra = data.query('subscription_type == \"ultra\"')"
      ]
    },
    {
      "cell_type": "markdown",
      "id": "042dc5e8",
      "metadata": {
        "id": "042dc5e8"
      },
      "source": [
        "### Визуализация информации"
      ]
    },
    {
      "cell_type": "markdown",
      "id": "b9822090",
      "metadata": {
        "id": "b9822090"
      },
      "source": [
        "Построим диаграммы для этих датафреймов и сравним их."
      ]
    },
    {
      "cell_type": "code",
      "execution_count": null,
      "id": "c6ca0c18",
      "metadata": {
        "colab": {
          "base_uri": "https://localhost:8080/",
          "height": 564
        },
        "id": "c6ca0c18",
        "outputId": "3a5327ee-30ca-45f8-ffd4-b924afb1009d"
      },
      "outputs": [
        {
          "output_type": "display_data",
          "data": {
            "text/plain": [
              "<Figure size 600x600 with 1 Axes>"
            ],
            "image/png": "[encoded data removed]"
          },
          "metadata": {}
        }
      ],
      "source": [
        "(data_free['distance'].plot(\n",
        "    kind='hist',\n",
        "    figsize=(6, 6),\n",
        "    grid=True,\n",
        "    bins=50,\n",
        "    title='Расстояние, пройденное в текущей сессии',\n",
        "    histtype='step',\n",
        "    linewidth=4,\n",
        "    label='free',\n",
        "    range=(0, 7000),\n",
        "    legend=True)\n",
        ")\n",
        "\n",
        "(data_ultra['distance'].plot(\n",
        "    kind='hist',\n",
        "    figsize=(6, 6),\n",
        "    grid=True,\n",
        "    bins=50,\n",
        "    histtype='step',\n",
        "    linewidth=4,\n",
        "    label='ultra',\n",
        "    range=(0, 7000),\n",
        "    legend=True)\n",
        ")\n",
        "\n",
        "plt.xlabel('Расстояние (в метрах)')\n",
        "plt.ylabel('Частота')\n",
        "plt.show()"
      ]
    },
    {
      "cell_type": "markdown",
      "id": "ce19d198",
      "metadata": {
        "id": "ce19d198"
      },
      "source": [
        "По графику видно, что некоторые пользователи с подпиской `free` проезжали достаточно малое расстояние, скорее в виду цены за одну минуту поездки. Гистограмма `free` шире чем гистограмма `ultra`, что говорит о большем стандартном отклонении."
      ]
    },
    {
      "cell_type": "code",
      "execution_count": null,
      "id": "eba7845a",
      "metadata": {
        "colab": {
          "base_uri": "https://localhost:8080/",
          "height": 564
        },
        "id": "eba7845a",
        "outputId": "b3f39ed5-da0d-4976-b555-89ed9731d88e"
      },
      "outputs": [
        {
          "output_type": "display_data",
          "data": {
            "text/plain": [
              "<Figure size 600x600 with 1 Axes>"
            ],
            "image/png": "[encoded data removed]"
          },
          "metadata": {}
        }
      ],
      "source": [
        "(data_free['duration'].plot(\n",
        "    kind='hist',\n",
        "    figsize=(6, 6),\n",
        "    grid=True,\n",
        "    bins=40,\n",
        "    title='Продолжительность сессии',\n",
        "    histtype='step',\n",
        "    linewidth=4,\n",
        "    label='free',\n",
        "    range=(0, 40),\n",
        "    legend=True)\n",
        ")\n",
        "(data_ultra['duration'].plot(\n",
        "    kind='hist',\n",
        "    figsize=(6, 6),\n",
        "    grid=True,\n",
        "    bins=40,\n",
        "    histtype='step',\n",
        "    linewidth=4,\n",
        "    label='ultra',\n",
        "    range=(0, 40),\n",
        "    legend=True)\n",
        ")\n",
        "\n",
        "plt.xlabel('Время (в минутах)')\n",
        "plt.ylabel('Частота')\n",
        "plt.show()"
      ]
    },
    {
      "cell_type": "markdown",
      "id": "d5487acd",
      "metadata": {
        "id": "d5487acd"
      },
      "source": [
        "Здесь мы видим, что распределения похожи на нормальные, число пользователей с подпиской `free` много больше, чем изначально."
      ]
    },
    {
      "cell_type": "markdown",
      "id": "ce48b9e2",
      "metadata": {
        "id": "ce48b9e2"
      },
      "source": [
        "<font size=3> **Вывод:** </font>\n",
        "\n",
        "Мы объединили данные из трех датафреймов в один - `data`.\n",
        "\n",
        "Выделили два отдельных датафрейма на основе `data`:\n",
        "- `data_free` - данные о пользователях без подписки;\n",
        "- `data_ultra` - данные о пользователях с подпиской `ultra`.\n",
        "\n",
        "Визуализировали информацию с помощью гистограмм.\n",
        "\n",
        "В **бесплатном тарифе** в большинстве случаев пройденное расстояние лежит в диапазоне от 2 до 5 км, в **платном** - примерно от 2.5 до 4.5 км.\n",
        "\n",
        "Что касается продолжительности сессии: в бесплатном тарифе в диапазоне 7-27 минут, в платном 10-30 минут.\n"
      ]
    },
    {
      "cell_type": "markdown",
      "id": "402d620f",
      "metadata": {
        "id": "402d620f"
      },
      "source": [
        "## Подсчёт выручки"
      ]
    },
    {
      "cell_type": "markdown",
      "id": "1811ed28",
      "metadata": {
        "id": "1811ed28"
      },
      "source": [
        "### Датафрейм с агрегированными данными"
      ]
    },
    {
      "cell_type": "markdown",
      "id": "d91b5155",
      "metadata": {
        "id": "d91b5155"
      },
      "source": [
        "Продолжительность каждой поездки округлим в большую сторону с помощью `ceil`."
      ]
    },
    {
      "cell_type": "code",
      "execution_count": null,
      "id": "877c8bba",
      "metadata": {
        "id": "877c8bba"
      },
      "outputs": [],
      "source": [
        "data['duration'] = np.ceil(data['duration'])"
      ]
    },
    {
      "cell_type": "markdown",
      "id": "5c670577",
      "metadata": {
        "id": "5c670577"
      },
      "source": [
        "Построим новый датафрейм с помощью сводной таблицы"
      ]
    },
    {
      "cell_type": "code",
      "execution_count": null,
      "id": "53049e0a",
      "metadata": {
        "id": "53049e0a"
      },
      "outputs": [],
      "source": [
        "df = data.pivot_table(index=['user_id', 'month'],\n",
        "                            values=['subscription_type', 'distance', 'duration', 'name'],\n",
        "                            aggfunc={'subscription_type': max,\n",
        "                                     'distance': sum,\n",
        "                                     'duration': sum,\n",
        "                                     'name': len})"
      ]
    },
    {
      "cell_type": "markdown",
      "id": "569cd642",
      "metadata": {
        "id": "569cd642"
      },
      "source": [
        "Проверим `df` на пропуски"
      ]
    },
    {
      "cell_type": "code",
      "execution_count": null,
      "id": "5eb867b0",
      "metadata": {
        "colab": {
          "base_uri": "https://localhost:8080/"
        },
        "id": "5eb867b0",
        "outputId": "417f8a95-8d9b-4f85-e026-1ed4bc48e1fb"
      },
      "outputs": [
        {
          "output_type": "execute_result",
          "data": {
            "text/plain": [
              "distance             0\n",
              "duration             0\n",
              "name                 0\n",
              "subscription_type    0\n",
              "dtype: int64"
            ]
          },
          "metadata": {},
          "execution_count": 32
        }
      ],
      "source": [
        "df.isna().sum()"
      ]
    },
    {
      "cell_type": "markdown",
      "id": "893045cf",
      "metadata": {
        "id": "893045cf"
      },
      "source": [
        "Пропусков нет"
      ]
    },
    {
      "cell_type": "code",
      "execution_count": null,
      "id": "6f78e956",
      "metadata": {
        "id": "6f78e956"
      },
      "outputs": [],
      "source": [
        "df = df.rename(columns={'name': 'trips_number'})"
      ]
    },
    {
      "cell_type": "code",
      "execution_count": null,
      "id": "982f2f90",
      "metadata": {
        "colab": {
          "base_uri": "https://localhost:8080/",
          "height": 394
        },
        "id": "982f2f90",
        "outputId": "a6558917-da29-4a20-8e43-b38753d492b3"
      },
      "outputs": [
        {
          "output_type": "execute_result",
          "data": {
            "text/plain": [
              "                   distance  duration  trips_number subscription_type\n",
              "user_id month                                                        \n",
              "1       1       7027.511294      42.0             2             ultra\n",
              "        4        754.159807       7.0             1             ultra\n",
              "        8       6723.470560      46.0             2             ultra\n",
              "        10      5809.911100      32.0             2             ultra\n",
              "        11      7003.499363      56.0             3             ultra\n",
              "        12      6751.629942      28.0             2             ultra\n",
              "2       3      10187.723006      63.0             3             ultra\n",
              "        4       6164.381824      40.0             2             ultra\n",
              "        6       3255.338202      14.0             1             ultra\n",
              "        7       6780.722964      48.0             2             ultra"
            ],
            "text/html": [
              "\n",
              "  <div id=\"df-3056267e-1d96-4961-a3cd-b897095aead3\" class=\"colab-df-container\">\n",
              "    <div>\n",
              "<style scoped>\n",
              "    .dataframe tbody tr th:only-of-type {\n",
              "        vertical-align: middle;\n",
              "    }\n",
              "\n",
              "    .dataframe tbody tr th {\n",
              "        vertical-align: top;\n",
              "    }\n",
              "\n",
              "    .dataframe thead th {\n",
              "        text-align: right;\n",
              "    }\n",
              "</style>\n",
              "<table border=\"1\" class=\"dataframe\">\n",
              "  <thead>\n",
              "    <tr style=\"text-align: right;\">\n",
              "      <th></th>\n",
              "      <th></th>\n",
              "      <th>distance</th>\n",
              "      <th>duration</th>\n",
              "      <th>trips_number</th>\n",
              "      <th>subscription_type</th>\n",
              "    </tr>\n",
              "    <tr>\n",
              "      <th>user_id</th>\n",
              "      <th>month</th>\n",
              "      <th></th>\n",
              "      <th></th>\n",
              "      <th></th>\n",
              "      <th></th>\n",
              "    </tr>\n",
              "  </thead>\n",
              "  <tbody>\n",
              "    <tr>\n",
              "      <th rowspan=\"6\" valign=\"top\">1</th>\n",
              "      <th>1</th>\n",
              "      <td>7027.511294</td>\n",
              "      <td>42.0</td>\n",
              "      <td>2</td>\n",
              "      <td>ultra</td>\n",
              "    </tr>\n",
              "    <tr>\n",
              "      <th>4</th>\n",
              "      <td>754.159807</td>\n",
              "      <td>7.0</td>\n",
              "      <td>1</td>\n",
              "      <td>ultra</td>\n",
              "    </tr>\n",
              "    <tr>\n",
              "      <th>8</th>\n",
              "      <td>6723.470560</td>\n",
              "      <td>46.0</td>\n",
              "      <td>2</td>\n",
              "      <td>ultra</td>\n",
              "    </tr>\n",
              "    <tr>\n",
              "      <th>10</th>\n",
              "      <td>5809.911100</td>\n",
              "      <td>32.0</td>\n",
              "      <td>2</td>\n",
              "      <td>ultra</td>\n",
              "    </tr>\n",
              "    <tr>\n",
              "      <th>11</th>\n",
              "      <td>7003.499363</td>\n",
              "      <td>56.0</td>\n",
              "      <td>3</td>\n",
              "      <td>ultra</td>\n",
              "    </tr>\n",
              "    <tr>\n",
              "      <th>12</th>\n",
              "      <td>6751.629942</td>\n",
              "      <td>28.0</td>\n",
              "      <td>2</td>\n",
              "      <td>ultra</td>\n",
              "    </tr>\n",
              "    <tr>\n",
              "      <th rowspan=\"4\" valign=\"top\">2</th>\n",
              "      <th>3</th>\n",
              "      <td>10187.723006</td>\n",
              "      <td>63.0</td>\n",
              "      <td>3</td>\n",
              "      <td>ultra</td>\n",
              "    </tr>\n",
              "    <tr>\n",
              "      <th>4</th>\n",
              "      <td>6164.381824</td>\n",
              "      <td>40.0</td>\n",
              "      <td>2</td>\n",
              "      <td>ultra</td>\n",
              "    </tr>\n",
              "    <tr>\n",
              "      <th>6</th>\n",
              "      <td>3255.338202</td>\n",
              "      <td>14.0</td>\n",
              "      <td>1</td>\n",
              "      <td>ultra</td>\n",
              "    </tr>\n",
              "    <tr>\n",
              "      <th>7</th>\n",
              "      <td>6780.722964</td>\n",
              "      <td>48.0</td>\n",
              "      <td>2</td>\n",
              "      <td>ultra</td>\n",
              "    </tr>\n",
              "  </tbody>\n",
              "</table>\n",
              "</div>\n",
              "    <div class=\"colab-df-buttons\">\n",
              "\n",
              "  <div class=\"colab-df-container\">\n",
              "    <button class=\"colab-df-convert\" onclick=\"convertToInteractive('df-3056267e-1d96-4961-a3cd-b897095aead3')\"\n",
              "            title=\"Convert this dataframe to an interactive table.\"\n",
              "            style=\"display:none;\">\n",
              "\n",
              "  <svg xmlns=\"http://www.w3.org/2000/svg\" height=\"24px\" viewBox=\"0 -960 960 960\">\n",
              "    <path d=\"M120-120v-720h720v720H120Zm60-500h600v-160H180v160Zm220 220h160v-160H400v160Zm0 220h160v-160H400v160ZM180-400h160v-160H180v160Zm440 0h160v-160H620v160ZM180-180h160v-160H180v160Zm440 0h160v-160H620v160Z\"/>\n",
              "  </svg>\n",
              "    </button>\n",
              "\n",
              "  <style>\n",
              "    .colab-df-container {\n",
              "      display:flex;\n",
              "      gap: 12px;\n",
              "    }\n",
              "\n",
              "    .colab-df-convert {\n",
              "      background-color: #E8F0FE;\n",
              "      border: none;\n",
              "      border-radius: 50%;\n",
              "      cursor: pointer;\n",
              "      display: none;\n",
              "      fill: #1967D2;\n",
              "      height: 32px;\n",
              "      padding: 0 0 0 0;\n",
              "      width: 32px;\n",
              "    }\n",
              "\n",
              "    .colab-df-convert:hover {\n",
              "      background-color: #E2EBFA;\n",
              "      box-shadow: 0px 1px 2px rgba(60, 64, 67, 0.3), 0px 1px 3px 1px rgba(60, 64, 67, 0.15);\n",
              "      fill: #174EA6;\n",
              "    }\n",
              "\n",
              "    .colab-df-buttons div {\n",
              "      margin-bottom: 4px;\n",
              "    }\n",
              "\n",
              "    [theme=dark] .colab-df-convert {\n",
              "      background-color: #3B4455;\n",
              "      fill: #D2E3FC;\n",
              "    }\n",
              "\n",
              "    [theme=dark] .colab-df-convert:hover {\n",
              "      background-color: #434B5C;\n",
              "      box-shadow: 0px 1px 3px 1px rgba(0, 0, 0, 0.15);\n",
              "      filter: drop-shadow(0px 1px 2px rgba(0, 0, 0, 0.3));\n",
              "      fill: #FFFFFF;\n",
              "    }\n",
              "  </style>\n",
              "\n",
              "    <script>\n",
              "      const buttonEl =\n",
              "        document.querySelector('#df-3056267e-1d96-4961-a3cd-b897095aead3 button.colab-df-convert');\n",
              "      buttonEl.style.display =\n",
              "        google.colab.kernel.accessAllowed ? 'block' : 'none';\n",
              "\n",
              "      async function convertToInteractive(key) {\n",
              "        const element = document.querySelector('#df-3056267e-1d96-4961-a3cd-b897095aead3');\n",
              "        const dataTable =\n",
              "          await google.colab.kernel.invokeFunction('convertToInteractive',\n",
              "                                                    [key], {});\n",
              "        if (!dataTable) return;\n",
              "\n",
              "        const docLinkHtml = 'Like what you see? Visit the ' +\n",
              "          '<a target=\"_blank\" href=https://colab.research.google.com/notebooks/data_table.ipynb>data table notebook</a>'\n",
              "          + ' to learn more about interactive tables.';\n",
              "        element.innerHTML = '';\n",
              "        dataTable['output_type'] = 'display_data';\n",
              "        await google.colab.output.renderOutput(dataTable, element);\n",
              "        const docLink = document.createElement('div');\n",
              "        docLink.innerHTML = docLinkHtml;\n",
              "        element.appendChild(docLink);\n",
              "      }\n",
              "    </script>\n",
              "  </div>\n",
              "\n",
              "\n",
              "<div id=\"df-a072a4a4-6c6a-4ca9-97c5-005513e2cdd8\">\n",
              "  <button class=\"colab-df-quickchart\" onclick=\"quickchart('df-a072a4a4-6c6a-4ca9-97c5-005513e2cdd8')\"\n",
              "            title=\"Suggest charts\"\n",
              "            style=\"display:none;\">\n",
              "\n",
              "<svg xmlns=\"http://www.w3.org/2000/svg\" height=\"24px\"viewBox=\"0 0 24 24\"\n",
              "     width=\"24px\">\n",
              "    <g>\n",
              "        <path d=\"M19 3H5c-1.1 0-2 .9-2 2v14c0 1.1.9 2 2 2h14c1.1 0 2-.9 2-2V5c0-1.1-.9-2-2-2zM9 17H7v-7h2v7zm4 0h-2V7h2v10zm4 0h-2v-4h2v4z\"/>\n",
              "    </g>\n",
              "</svg>\n",
              "  </button>\n",
              "\n",
              "<style>\n",
              "  .colab-df-quickchart {\n",
              "      --bg-color: #E8F0FE;\n",
              "      --fill-color: #1967D2;\n",
              "      --hover-bg-color: #E2EBFA;\n",
              "      --hover-fill-color: #174EA6;\n",
              "      --disabled-fill-color: #AAA;\n",
              "      --disabled-bg-color: #DDD;\n",
              "  }\n",
              "\n",
              "  [theme=dark] .colab-df-quickchart {\n",
              "      --bg-color: #3B4455;\n",
              "      --fill-color: #D2E3FC;\n",
              "      --hover-bg-color: #434B5C;\n",
              "      --hover-fill-color: #FFFFFF;\n",
              "      --disabled-bg-color: #3B4455;\n",
              "      --disabled-fill-color: #666;\n",
              "  }\n",
              "\n",
              "  .colab-df-quickchart {\n",
              "    background-color: var(--bg-color);\n",
              "    border: none;\n",
              "    border-radius: 50%;\n",
              "    cursor: pointer;\n",
              "    display: none;\n",
              "    fill: var(--fill-color);\n",
              "    height: 32px;\n",
              "    padding: 0;\n",
              "    width: 32px;\n",
              "  }\n",
              "\n",
              "  .colab-df-quickchart:hover {\n",
              "    background-color: var(--hover-bg-color);\n",
              "    box-shadow: 0 1px 2px rgba(60, 64, 67, 0.3), 0 1px 3px 1px rgba(60, 64, 67, 0.15);\n",
              "    fill: var(--button-hover-fill-color);\n",
              "  }\n",
              "\n",
              "  .colab-df-quickchart-complete:disabled,\n",
              "  .colab-df-quickchart-complete:disabled:hover {\n",
              "    background-color: var(--disabled-bg-color);\n",
              "    fill: var(--disabled-fill-color);\n",
              "    box-shadow: none;\n",
              "  }\n",
              "\n",
              "  .colab-df-spinner {\n",
              "    border: 2px solid var(--fill-color);\n",
              "    border-color: transparent;\n",
              "    border-bottom-color: var(--fill-color);\n",
              "    animation:\n",
              "      spin 1s steps(1) infinite;\n",
              "  }\n",
              "\n",
              "  @keyframes spin {\n",
              "    0% {\n",
              "      border-color: transparent;\n",
              "      border-bottom-color: var(--fill-color);\n",
              "      border-left-color: var(--fill-color);\n",
              "    }\n",
              "    20% {\n",
              "      border-color: transparent;\n",
              "      border-left-color: var(--fill-color);\n",
              "      border-top-color: var(--fill-color);\n",
              "    }\n",
              "    30% {\n",
              "      border-color: transparent;\n",
              "      border-left-color: var(--fill-color);\n",
              "      border-top-color: var(--fill-color);\n",
              "      border-right-color: var(--fill-color);\n",
              "    }\n",
              "    40% {\n",
              "      border-color: transparent;\n",
              "      border-right-color: var(--fill-color);\n",
              "      border-top-color: var(--fill-color);\n",
              "    }\n",
              "    60% {\n",
              "      border-color: transparent;\n",
              "      border-right-color: var(--fill-color);\n",
              "    }\n",
              "    80% {\n",
              "      border-color: transparent;\n",
              "      border-right-color: var(--fill-color);\n",
              "      border-bottom-color: var(--fill-color);\n",
              "    }\n",
              "    90% {\n",
              "      border-color: transparent;\n",
              "      border-bottom-color: var(--fill-color);\n",
              "    }\n",
              "  }\n",
              "</style>\n",
              "\n",
              "  <script>\n",
              "    async function quickchart(key) {\n",
              "      const quickchartButtonEl =\n",
              "        document.querySelector('#' + key + ' button');\n",
              "      quickchartButtonEl.disabled = true;  // To prevent multiple clicks.\n",
              "      quickchartButtonEl.classList.add('colab-df-spinner');\n",
              "      try {\n",
              "        const charts = await google.colab.kernel.invokeFunction(\n",
              "            'suggestCharts', [key], {});\n",
              "      } catch (error) {\n",
              "        console.error('Error during call to suggestCharts:', error);\n",
              "      }\n",
              "      quickchartButtonEl.classList.remove('colab-df-spinner');\n",
              "      quickchartButtonEl.classList.add('colab-df-quickchart-complete');\n",
              "    }\n",
              "    (() => {\n",
              "      let quickchartButtonEl =\n",
              "        document.querySelector('#df-a072a4a4-6c6a-4ca9-97c5-005513e2cdd8 button');\n",
              "      quickchartButtonEl.style.display =\n",
              "        google.colab.kernel.accessAllowed ? 'block' : 'none';\n",
              "    })();\n",
              "  </script>\n",
              "</div>\n",
              "\n",
              "    </div>\n",
              "  </div>\n"
            ],
            "application/vnd.google.colaboratory.intrinsic+json": {
              "type": "dataframe",
              "variable_name": "df",
              "summary": "{\n  \"name\": \"df\",\n  \"rows\": 11331,\n  \"fields\": [\n    {\n      \"column\": \"distance\",\n      \"properties\": {\n        \"dtype\": \"number\",\n        \"std\": 2911.516556492137,\n        \"min\": 2.57078688756684,\n        \"max\": 23429.487786236627,\n        \"num_unique_values\": 11331,\n        \"samples\": [\n          4075.337434734506,\n          3089.0269841761783,\n          6181.231541184941\n        ],\n        \"semantic_type\": \"\",\n        \"description\": \"\"\n      }\n    },\n    {\n      \"column\": \"duration\",\n      \"properties\": {\n        \"dtype\": \"number\",\n        \"std\": 16.752464110077828,\n        \"min\": 1.0,\n        \"max\": 143.0,\n        \"num_unique_values\": 119,\n        \"samples\": [\n          61.0,\n          93.0,\n          56.0\n        ],\n        \"semantic_type\": \"\",\n        \"description\": \"\"\n      }\n    },\n    {\n      \"column\": \"trips_number\",\n      \"properties\": {\n        \"dtype\": \"number\",\n        \"std\": 0,\n        \"min\": 1,\n        \"max\": 7,\n        \"num_unique_values\": 7,\n        \"samples\": [\n          2,\n          1,\n          6\n        ],\n        \"semantic_type\": \"\",\n        \"description\": \"\"\n      }\n    },\n    {\n      \"column\": \"subscription_type\",\n      \"properties\": {\n        \"dtype\": \"category\",\n        \"num_unique_values\": 2,\n        \"samples\": [\n          \"free\",\n          \"ultra\"\n        ],\n        \"semantic_type\": \"\",\n        \"description\": \"\"\n      }\n    }\n  ]\n}"
            }
          },
          "metadata": {},
          "execution_count": 34
        }
      ],
      "source": [
        "df.head(10)"
      ]
    },
    {
      "cell_type": "code",
      "execution_count": null,
      "id": "b2b0c78d",
      "metadata": {
        "colab": {
          "base_uri": "https://localhost:8080/",
          "height": 394
        },
        "id": "b2b0c78d",
        "outputId": "152a5dae-11a9-40c0-c0de-8323fedda4a2"
      },
      "outputs": [
        {
          "output_type": "execute_result",
          "data": {
            "text/plain": [
              "                   distance  duration  trips_number subscription_type\n",
              "user_id month                                                        \n",
              "1       1       7027.511294      42.0             2             ultra\n",
              "        4        754.159807       7.0             1             ultra\n",
              "        8       6723.470560      46.0             2             ultra\n",
              "        10      5809.911100      32.0             2             ultra\n",
              "        11      7003.499363      56.0             3             ultra\n",
              "        12      6751.629942      28.0             2             ultra\n",
              "2       3      10187.723006      63.0             3             ultra\n",
              "        4       6164.381824      40.0             2             ultra\n",
              "        6       3255.338202      14.0             1             ultra\n",
              "        7       6780.722964      48.0             2             ultra"
            ],
            "text/html": [
              "\n",
              "  <div id=\"df-30e280fc-853d-44d5-bc10-cb6831fc8ece\" class=\"colab-df-container\">\n",
              "    <div>\n",
              "<style scoped>\n",
              "    .dataframe tbody tr th:only-of-type {\n",
              "        vertical-align: middle;\n",
              "    }\n",
              "\n",
              "    .dataframe tbody tr th {\n",
              "        vertical-align: top;\n",
              "    }\n",
              "\n",
              "    .dataframe thead th {\n",
              "        text-align: right;\n",
              "    }\n",
              "</style>\n",
              "<table border=\"1\" class=\"dataframe\">\n",
              "  <thead>\n",
              "    <tr style=\"text-align: right;\">\n",
              "      <th></th>\n",
              "      <th></th>\n",
              "      <th>distance</th>\n",
              "      <th>duration</th>\n",
              "      <th>trips_number</th>\n",
              "      <th>subscription_type</th>\n",
              "    </tr>\n",
              "    <tr>\n",
              "      <th>user_id</th>\n",
              "      <th>month</th>\n",
              "      <th></th>\n",
              "      <th></th>\n",
              "      <th></th>\n",
              "      <th></th>\n",
              "    </tr>\n",
              "  </thead>\n",
              "  <tbody>\n",
              "    <tr>\n",
              "      <th rowspan=\"6\" valign=\"top\">1</th>\n",
              "      <th>1</th>\n",
              "      <td>7027.511294</td>\n",
              "      <td>42.0</td>\n",
              "      <td>2</td>\n",
              "      <td>ultra</td>\n",
              "    </tr>\n",
              "    <tr>\n",
              "      <th>4</th>\n",
              "      <td>754.159807</td>\n",
              "      <td>7.0</td>\n",
              "      <td>1</td>\n",
              "      <td>ultra</td>\n",
              "    </tr>\n",
              "    <tr>\n",
              "      <th>8</th>\n",
              "      <td>6723.470560</td>\n",
              "      <td>46.0</td>\n",
              "      <td>2</td>\n",
              "      <td>ultra</td>\n",
              "    </tr>\n",
              "    <tr>\n",
              "      <th>10</th>\n",
              "      <td>5809.911100</td>\n",
              "      <td>32.0</td>\n",
              "      <td>2</td>\n",
              "      <td>ultra</td>\n",
              "    </tr>\n",
              "    <tr>\n",
              "      <th>11</th>\n",
              "      <td>7003.499363</td>\n",
              "      <td>56.0</td>\n",
              "      <td>3</td>\n",
              "      <td>ultra</td>\n",
              "    </tr>\n",
              "    <tr>\n",
              "      <th>12</th>\n",
              "      <td>6751.629942</td>\n",
              "      <td>28.0</td>\n",
              "      <td>2</td>\n",
              "      <td>ultra</td>\n",
              "    </tr>\n",
              "    <tr>\n",
              "      <th rowspan=\"4\" valign=\"top\">2</th>\n",
              "      <th>3</th>\n",
              "      <td>10187.723006</td>\n",
              "      <td>63.0</td>\n",
              "      <td>3</td>\n",
              "      <td>ultra</td>\n",
              "    </tr>\n",
              "    <tr>\n",
              "      <th>4</th>\n",
              "      <td>6164.381824</td>\n",
              "      <td>40.0</td>\n",
              "      <td>2</td>\n",
              "      <td>ultra</td>\n",
              "    </tr>\n",
              "    <tr>\n",
              "      <th>6</th>\n",
              "      <td>3255.338202</td>\n",
              "      <td>14.0</td>\n",
              "      <td>1</td>\n",
              "      <td>ultra</td>\n",
              "    </tr>\n",
              "    <tr>\n",
              "      <th>7</th>\n",
              "      <td>6780.722964</td>\n",
              "      <td>48.0</td>\n",
              "      <td>2</td>\n",
              "      <td>ultra</td>\n",
              "    </tr>\n",
              "  </tbody>\n",
              "</table>\n",
              "</div>\n",
              "    <div class=\"colab-df-buttons\">\n",
              "\n",
              "  <div class=\"colab-df-container\">\n",
              "    <button class=\"colab-df-convert\" onclick=\"convertToInteractive('df-30e280fc-853d-44d5-bc10-cb6831fc8ece')\"\n",
              "            title=\"Convert this dataframe to an interactive table.\"\n",
              "            style=\"display:none;\">\n",
              "\n",
              "  <svg xmlns=\"http://www.w3.org/2000/svg\" height=\"24px\" viewBox=\"0 -960 960 960\">\n",
              "    <path d=\"M120-120v-720h720v720H120Zm60-500h600v-160H180v160Zm220 220h160v-160H400v160Zm0 220h160v-160H400v160ZM180-400h160v-160H180v160Zm440 0h160v-160H620v160ZM180-180h160v-160H180v160Zm440 0h160v-160H620v160Z\"/>\n",
              "  </svg>\n",
              "    </button>\n",
              "\n",
              "  <style>\n",
              "    .colab-df-container {\n",
              "      display:flex;\n",
              "      gap: 12px;\n",
              "    }\n",
              "\n",
              "    .colab-df-convert {\n",
              "      background-color: #E8F0FE;\n",
              "      border: none;\n",
              "      border-radius: 50%;\n",
              "      cursor: pointer;\n",
              "      display: none;\n",
              "      fill: #1967D2;\n",
              "      height: 32px;\n",
              "      padding: 0 0 0 0;\n",
              "      width: 32px;\n",
              "    }\n",
              "\n",
              "    .colab-df-convert:hover {\n",
              "      background-color: #E2EBFA;\n",
              "      box-shadow: 0px 1px 2px rgba(60, 64, 67, 0.3), 0px 1px 3px 1px rgba(60, 64, 67, 0.15);\n",
              "      fill: #174EA6;\n",
              "    }\n",
              "\n",
              "    .colab-df-buttons div {\n",
              "      margin-bottom: 4px;\n",
              "    }\n",
              "\n",
              "    [theme=dark] .colab-df-convert {\n",
              "      background-color: #3B4455;\n",
              "      fill: #D2E3FC;\n",
              "    }\n",
              "\n",
              "    [theme=dark] .colab-df-convert:hover {\n",
              "      background-color: #434B5C;\n",
              "      box-shadow: 0px 1px 3px 1px rgba(0, 0, 0, 0.15);\n",
              "      filter: drop-shadow(0px 1px 2px rgba(0, 0, 0, 0.3));\n",
              "      fill: #FFFFFF;\n",
              "    }\n",
              "  </style>\n",
              "\n",
              "    <script>\n",
              "      const buttonEl =\n",
              "        document.querySelector('#df-30e280fc-853d-44d5-bc10-cb6831fc8ece button.colab-df-convert');\n",
              "      buttonEl.style.display =\n",
              "        google.colab.kernel.accessAllowed ? 'block' : 'none';\n",
              "\n",
              "      async function convertToInteractive(key) {\n",
              "        const element = document.querySelector('#df-30e280fc-853d-44d5-bc10-cb6831fc8ece');\n",
              "        const dataTable =\n",
              "          await google.colab.kernel.invokeFunction('convertToInteractive',\n",
              "                                                    [key], {});\n",
              "        if (!dataTable) return;\n",
              "\n",
              "        const docLinkHtml = 'Like what you see? Visit the ' +\n",
              "          '<a target=\"_blank\" href=https://colab.research.google.com/notebooks/data_table.ipynb>data table notebook</a>'\n",
              "          + ' to learn more about interactive tables.';\n",
              "        element.innerHTML = '';\n",
              "        dataTable['output_type'] = 'display_data';\n",
              "        await google.colab.output.renderOutput(dataTable, element);\n",
              "        const docLink = document.createElement('div');\n",
              "        docLink.innerHTML = docLinkHtml;\n",
              "        element.appendChild(docLink);\n",
              "      }\n",
              "    </script>\n",
              "  </div>\n",
              "\n",
              "\n",
              "<div id=\"df-23a9c75e-219a-4415-a0e1-9515c8006c28\">\n",
              "  <button class=\"colab-df-quickchart\" onclick=\"quickchart('df-23a9c75e-219a-4415-a0e1-9515c8006c28')\"\n",
              "            title=\"Suggest charts\"\n",
              "            style=\"display:none;\">\n",
              "\n",
              "<svg xmlns=\"http://www.w3.org/2000/svg\" height=\"24px\"viewBox=\"0 0 24 24\"\n",
              "     width=\"24px\">\n",
              "    <g>\n",
              "        <path d=\"M19 3H5c-1.1 0-2 .9-2 2v14c0 1.1.9 2 2 2h14c1.1 0 2-.9 2-2V5c0-1.1-.9-2-2-2zM9 17H7v-7h2v7zm4 0h-2V7h2v10zm4 0h-2v-4h2v4z\"/>\n",
              "    </g>\n",
              "</svg>\n",
              "  </button>\n",
              "\n",
              "<style>\n",
              "  .colab-df-quickchart {\n",
              "      --bg-color: #E8F0FE;\n",
              "      --fill-color: #1967D2;\n",
              "      --hover-bg-color: #E2EBFA;\n",
              "      --hover-fill-color: #174EA6;\n",
              "      --disabled-fill-color: #AAA;\n",
              "      --disabled-bg-color: #DDD;\n",
              "  }\n",
              "\n",
              "  [theme=dark] .colab-df-quickchart {\n",
              "      --bg-color: #3B4455;\n",
              "      --fill-color: #D2E3FC;\n",
              "      --hover-bg-color: #434B5C;\n",
              "      --hover-fill-color: #FFFFFF;\n",
              "      --disabled-bg-color: #3B4455;\n",
              "      --disabled-fill-color: #666;\n",
              "  }\n",
              "\n",
              "  .colab-df-quickchart {\n",
              "    background-color: var(--bg-color);\n",
              "    border: none;\n",
              "    border-radius: 50%;\n",
              "    cursor: pointer;\n",
              "    display: none;\n",
              "    fill: var(--fill-color);\n",
              "    height: 32px;\n",
              "    padding: 0;\n",
              "    width: 32px;\n",
              "  }\n",
              "\n",
              "  .colab-df-quickchart:hover {\n",
              "    background-color: var(--hover-bg-color);\n",
              "    box-shadow: 0 1px 2px rgba(60, 64, 67, 0.3), 0 1px 3px 1px rgba(60, 64, 67, 0.15);\n",
              "    fill: var(--button-hover-fill-color);\n",
              "  }\n",
              "\n",
              "  .colab-df-quickchart-complete:disabled,\n",
              "  .colab-df-quickchart-complete:disabled:hover {\n",
              "    background-color: var(--disabled-bg-color);\n",
              "    fill: var(--disabled-fill-color);\n",
              "    box-shadow: none;\n",
              "  }\n",
              "\n",
              "  .colab-df-spinner {\n",
              "    border: 2px solid var(--fill-color);\n",
              "    border-color: transparent;\n",
              "    border-bottom-color: var(--fill-color);\n",
              "    animation:\n",
              "      spin 1s steps(1) infinite;\n",
              "  }\n",
              "\n",
              "  @keyframes spin {\n",
              "    0% {\n",
              "      border-color: transparent;\n",
              "      border-bottom-color: var(--fill-color);\n",
              "      border-left-color: var(--fill-color);\n",
              "    }\n",
              "    20% {\n",
              "      border-color: transparent;\n",
              "      border-left-color: var(--fill-color);\n",
              "      border-top-color: var(--fill-color);\n",
              "    }\n",
              "    30% {\n",
              "      border-color: transparent;\n",
              "      border-left-color: var(--fill-color);\n",
              "      border-top-color: var(--fill-color);\n",
              "      border-right-color: var(--fill-color);\n",
              "    }\n",
              "    40% {\n",
              "      border-color: transparent;\n",
              "      border-right-color: var(--fill-color);\n",
              "      border-top-color: var(--fill-color);\n",
              "    }\n",
              "    60% {\n",
              "      border-color: transparent;\n",
              "      border-right-color: var(--fill-color);\n",
              "    }\n",
              "    80% {\n",
              "      border-color: transparent;\n",
              "      border-right-color: var(--fill-color);\n",
              "      border-bottom-color: var(--fill-color);\n",
              "    }\n",
              "    90% {\n",
              "      border-color: transparent;\n",
              "      border-bottom-color: var(--fill-color);\n",
              "    }\n",
              "  }\n",
              "</style>\n",
              "\n",
              "  <script>\n",
              "    async function quickchart(key) {\n",
              "      const quickchartButtonEl =\n",
              "        document.querySelector('#' + key + ' button');\n",
              "      quickchartButtonEl.disabled = true;  // To prevent multiple clicks.\n",
              "      quickchartButtonEl.classList.add('colab-df-spinner');\n",
              "      try {\n",
              "        const charts = await google.colab.kernel.invokeFunction(\n",
              "            'suggestCharts', [key], {});\n",
              "      } catch (error) {\n",
              "        console.error('Error during call to suggestCharts:', error);\n",
              "      }\n",
              "      quickchartButtonEl.classList.remove('colab-df-spinner');\n",
              "      quickchartButtonEl.classList.add('colab-df-quickchart-complete');\n",
              "    }\n",
              "    (() => {\n",
              "      let quickchartButtonEl =\n",
              "        document.querySelector('#df-23a9c75e-219a-4415-a0e1-9515c8006c28 button');\n",
              "      quickchartButtonEl.style.display =\n",
              "        google.colab.kernel.accessAllowed ? 'block' : 'none';\n",
              "    })();\n",
              "  </script>\n",
              "</div>\n",
              "\n",
              "    </div>\n",
              "  </div>\n"
            ],
            "application/vnd.google.colaboratory.intrinsic+json": {
              "type": "dataframe",
              "variable_name": "df",
              "summary": "{\n  \"name\": \"df\",\n  \"rows\": 11331,\n  \"fields\": [\n    {\n      \"column\": \"distance\",\n      \"properties\": {\n        \"dtype\": \"number\",\n        \"std\": 2911.516556492137,\n        \"min\": 2.57078688756684,\n        \"max\": 23429.487786236627,\n        \"num_unique_values\": 11331,\n        \"samples\": [\n          4075.337434734506,\n          3089.0269841761783,\n          6181.231541184941\n        ],\n        \"semantic_type\": \"\",\n        \"description\": \"\"\n      }\n    },\n    {\n      \"column\": \"duration\",\n      \"properties\": {\n        \"dtype\": \"number\",\n        \"std\": 16.752464110077828,\n        \"min\": 1.0,\n        \"max\": 143.0,\n        \"num_unique_values\": 119,\n        \"samples\": [\n          61.0,\n          93.0,\n          56.0\n        ],\n        \"semantic_type\": \"\",\n        \"description\": \"\"\n      }\n    },\n    {\n      \"column\": \"trips_number\",\n      \"properties\": {\n        \"dtype\": \"number\",\n        \"std\": 0,\n        \"min\": 1,\n        \"max\": 7,\n        \"num_unique_values\": 7,\n        \"samples\": [\n          2,\n          1,\n          6\n        ],\n        \"semantic_type\": \"\",\n        \"description\": \"\"\n      }\n    },\n    {\n      \"column\": \"subscription_type\",\n      \"properties\": {\n        \"dtype\": \"category\",\n        \"num_unique_values\": 2,\n        \"samples\": [\n          \"free\",\n          \"ultra\"\n        ],\n        \"semantic_type\": \"\",\n        \"description\": \"\"\n      }\n    }\n  ]\n}"
            }
          },
          "metadata": {},
          "execution_count": 35
        }
      ],
      "source": [
        "df.head(10)"
      ]
    },
    {
      "cell_type": "markdown",
      "id": "6ffe693f",
      "metadata": {
        "id": "6ffe693f"
      },
      "source": [
        "### Добавление столбца"
      ]
    },
    {
      "cell_type": "markdown",
      "id": "a9003924",
      "metadata": {
        "id": "a9003924"
      },
      "source": [
        "Создадим функцию, которая будет высчитывать выручку в зависимости от типа подписки:"
      ]
    },
    {
      "cell_type": "code",
      "execution_count": null,
      "id": "e0c11de9",
      "metadata": {
        "id": "e0c11de9"
      },
      "outputs": [],
      "source": [
        "def profit(data):\n",
        "    if data['subscription_type'] == 'free':\n",
        "        return 50 * data['trips_number'] + 8 * data['duration']\n",
        "    else:\n",
        "        return 6 * data['duration'] + 199\n"
      ]
    },
    {
      "cell_type": "markdown",
      "id": "28b46cec",
      "metadata": {
        "id": "28b46cec"
      },
      "source": [
        "Добавим новый столбец с выручкой с помощью `apply`. В ней укажем axis=1, то есть вычисление будет происходить по строкам"
      ]
    },
    {
      "cell_type": "code",
      "execution_count": null,
      "id": "395616c2",
      "metadata": {
        "scrolled": true,
        "id": "395616c2"
      },
      "outputs": [],
      "source": [
        "df['revenue'] = df.apply(profit, axis=1)"
      ]
    },
    {
      "cell_type": "code",
      "execution_count": null,
      "id": "ae551364",
      "metadata": {
        "colab": {
          "base_uri": "https://localhost:8080/",
          "height": 394
        },
        "id": "ae551364",
        "outputId": "7953a18a-5fe7-4667-d708-d7144276b2ef"
      },
      "outputs": [
        {
          "output_type": "execute_result",
          "data": {
            "text/plain": [
              "                   distance  duration  trips_number subscription_type  revenue\n",
              "user_id month                                                                 \n",
              "1       1       7027.511294      42.0             2             ultra    451.0\n",
              "        4        754.159807       7.0             1             ultra    241.0\n",
              "        8       6723.470560      46.0             2             ultra    475.0\n",
              "        10      5809.911100      32.0             2             ultra    391.0\n",
              "        11      7003.499363      56.0             3             ultra    535.0\n",
              "        12      6751.629942      28.0             2             ultra    367.0\n",
              "2       3      10187.723006      63.0             3             ultra    577.0\n",
              "        4       6164.381824      40.0             2             ultra    439.0\n",
              "        6       3255.338202      14.0             1             ultra    283.0\n",
              "        7       6780.722964      48.0             2             ultra    487.0"
            ],
            "text/html": [
              "\n",
              "  <div id=\"df-d57a5673-c141-4a69-aefe-460d174618ab\" class=\"colab-df-container\">\n",
              "    <div>\n",
              "<style scoped>\n",
              "    .dataframe tbody tr th:only-of-type {\n",
              "        vertical-align: middle;\n",
              "    }\n",
              "\n",
              "    .dataframe tbody tr th {\n",
              "        vertical-align: top;\n",
              "    }\n",
              "\n",
              "    .dataframe thead th {\n",
              "        text-align: right;\n",
              "    }\n",
              "</style>\n",
              "<table border=\"1\" class=\"dataframe\">\n",
              "  <thead>\n",
              "    <tr style=\"text-align: right;\">\n",
              "      <th></th>\n",
              "      <th></th>\n",
              "      <th>distance</th>\n",
              "      <th>duration</th>\n",
              "      <th>trips_number</th>\n",
              "      <th>subscription_type</th>\n",
              "      <th>revenue</th>\n",
              "    </tr>\n",
              "    <tr>\n",
              "      <th>user_id</th>\n",
              "      <th>month</th>\n",
              "      <th></th>\n",
              "      <th></th>\n",
              "      <th></th>\n",
              "      <th></th>\n",
              "      <th></th>\n",
              "    </tr>\n",
              "  </thead>\n",
              "  <tbody>\n",
              "    <tr>\n",
              "      <th rowspan=\"6\" valign=\"top\">1</th>\n",
              "      <th>1</th>\n",
              "      <td>7027.511294</td>\n",
              "      <td>42.0</td>\n",
              "      <td>2</td>\n",
              "      <td>ultra</td>\n",
              "      <td>451.0</td>\n",
              "    </tr>\n",
              "    <tr>\n",
              "      <th>4</th>\n",
              "      <td>754.159807</td>\n",
              "      <td>7.0</td>\n",
              "      <td>1</td>\n",
              "      <td>ultra</td>\n",
              "      <td>241.0</td>\n",
              "    </tr>\n",
              "    <tr>\n",
              "      <th>8</th>\n",
              "      <td>6723.470560</td>\n",
              "      <td>46.0</td>\n",
              "      <td>2</td>\n",
              "      <td>ultra</td>\n",
              "      <td>475.0</td>\n",
              "    </tr>\n",
              "    <tr>\n",
              "      <th>10</th>\n",
              "      <td>5809.911100</td>\n",
              "      <td>32.0</td>\n",
              "      <td>2</td>\n",
              "      <td>ultra</td>\n",
              "      <td>391.0</td>\n",
              "    </tr>\n",
              "    <tr>\n",
              "      <th>11</th>\n",
              "      <td>7003.499363</td>\n",
              "      <td>56.0</td>\n",
              "      <td>3</td>\n",
              "      <td>ultra</td>\n",
              "      <td>535.0</td>\n",
              "    </tr>\n",
              "    <tr>\n",
              "      <th>12</th>\n",
              "      <td>6751.629942</td>\n",
              "      <td>28.0</td>\n",
              "      <td>2</td>\n",
              "      <td>ultra</td>\n",
              "      <td>367.0</td>\n",
              "    </tr>\n",
              "    <tr>\n",
              "      <th rowspan=\"4\" valign=\"top\">2</th>\n",
              "      <th>3</th>\n",
              "      <td>10187.723006</td>\n",
              "      <td>63.0</td>\n",
              "      <td>3</td>\n",
              "      <td>ultra</td>\n",
              "      <td>577.0</td>\n",
              "    </tr>\n",
              "    <tr>\n",
              "      <th>4</th>\n",
              "      <td>6164.381824</td>\n",
              "      <td>40.0</td>\n",
              "      <td>2</td>\n",
              "      <td>ultra</td>\n",
              "      <td>439.0</td>\n",
              "    </tr>\n",
              "    <tr>\n",
              "      <th>6</th>\n",
              "      <td>3255.338202</td>\n",
              "      <td>14.0</td>\n",
              "      <td>1</td>\n",
              "      <td>ultra</td>\n",
              "      <td>283.0</td>\n",
              "    </tr>\n",
              "    <tr>\n",
              "      <th>7</th>\n",
              "      <td>6780.722964</td>\n",
              "      <td>48.0</td>\n",
              "      <td>2</td>\n",
              "      <td>ultra</td>\n",
              "      <td>487.0</td>\n",
              "    </tr>\n",
              "  </tbody>\n",
              "</table>\n",
              "</div>\n",
              "    <div class=\"colab-df-buttons\">\n",
              "\n",
              "  <div class=\"colab-df-container\">\n",
              "    <button class=\"colab-df-convert\" onclick=\"convertToInteractive('df-d57a5673-c141-4a69-aefe-460d174618ab')\"\n",
              "            title=\"Convert this dataframe to an interactive table.\"\n",
              "            style=\"display:none;\">\n",
              "\n",
              "  <svg xmlns=\"http://www.w3.org/2000/svg\" height=\"24px\" viewBox=\"0 -960 960 960\">\n",
              "    <path d=\"M120-120v-720h720v720H120Zm60-500h600v-160H180v160Zm220 220h160v-160H400v160Zm0 220h160v-160H400v160ZM180-400h160v-160H180v160Zm440 0h160v-160H620v160ZM180-180h160v-160H180v160Zm440 0h160v-160H620v160Z\"/>\n",
              "  </svg>\n",
              "    </button>\n",
              "\n",
              "  <style>\n",
              "    .colab-df-container {\n",
              "      display:flex;\n",
              "      gap: 12px;\n",
              "    }\n",
              "\n",
              "    .colab-df-convert {\n",
              "      background-color: #E8F0FE;\n",
              "      border: none;\n",
              "      border-radius: 50%;\n",
              "      cursor: pointer;\n",
              "      display: none;\n",
              "      fill: #1967D2;\n",
              "      height: 32px;\n",
              "      padding: 0 0 0 0;\n",
              "      width: 32px;\n",
              "    }\n",
              "\n",
              "    .colab-df-convert:hover {\n",
              "      background-color: #E2EBFA;\n",
              "      box-shadow: 0px 1px 2px rgba(60, 64, 67, 0.3), 0px 1px 3px 1px rgba(60, 64, 67, 0.15);\n",
              "      fill: #174EA6;\n",
              "    }\n",
              "\n",
              "    .colab-df-buttons div {\n",
              "      margin-bottom: 4px;\n",
              "    }\n",
              "\n",
              "    [theme=dark] .colab-df-convert {\n",
              "      background-color: #3B4455;\n",
              "      fill: #D2E3FC;\n",
              "    }\n",
              "\n",
              "    [theme=dark] .colab-df-convert:hover {\n",
              "      background-color: #434B5C;\n",
              "      box-shadow: 0px 1px 3px 1px rgba(0, 0, 0, 0.15);\n",
              "      filter: drop-shadow(0px 1px 2px rgba(0, 0, 0, 0.3));\n",
              "      fill: #FFFFFF;\n",
              "    }\n",
              "  </style>\n",
              "\n",
              "    <script>\n",
              "      const buttonEl =\n",
              "        document.querySelector('#df-d57a5673-c141-4a69-aefe-460d174618ab button.colab-df-convert');\n",
              "      buttonEl.style.display =\n",
              "        google.colab.kernel.accessAllowed ? 'block' : 'none';\n",
              "\n",
              "      async function convertToInteractive(key) {\n",
              "        const element = document.querySelector('#df-d57a5673-c141-4a69-aefe-460d174618ab');\n",
              "        const dataTable =\n",
              "          await google.colab.kernel.invokeFunction('convertToInteractive',\n",
              "                                                    [key], {});\n",
              "        if (!dataTable) return;\n",
              "\n",
              "        const docLinkHtml = 'Like what you see? Visit the ' +\n",
              "          '<a target=\"_blank\" href=https://colab.research.google.com/notebooks/data_table.ipynb>data table notebook</a>'\n",
              "          + ' to learn more about interactive tables.';\n",
              "        element.innerHTML = '';\n",
              "        dataTable['output_type'] = 'display_data';\n",
              "        await google.colab.output.renderOutput(dataTable, element);\n",
              "        const docLink = document.createElement('div');\n",
              "        docLink.innerHTML = docLinkHtml;\n",
              "        element.appendChild(docLink);\n",
              "      }\n",
              "    </script>\n",
              "  </div>\n",
              "\n",
              "\n",
              "<div id=\"df-f71022f5-6eab-4288-a764-5a5d1a740081\">\n",
              "  <button class=\"colab-df-quickchart\" onclick=\"quickchart('df-f71022f5-6eab-4288-a764-5a5d1a740081')\"\n",
              "            title=\"Suggest charts\"\n",
              "            style=\"display:none;\">\n",
              "\n",
              "<svg xmlns=\"http://www.w3.org/2000/svg\" height=\"24px\"viewBox=\"0 0 24 24\"\n",
              "     width=\"24px\">\n",
              "    <g>\n",
              "        <path d=\"M19 3H5c-1.1 0-2 .9-2 2v14c0 1.1.9 2 2 2h14c1.1 0 2-.9 2-2V5c0-1.1-.9-2-2-2zM9 17H7v-7h2v7zm4 0h-2V7h2v10zm4 0h-2v-4h2v4z\"/>\n",
              "    </g>\n",
              "</svg>\n",
              "  </button>\n",
              "\n",
              "<style>\n",
              "  .colab-df-quickchart {\n",
              "      --bg-color: #E8F0FE;\n",
              "      --fill-color: #1967D2;\n",
              "      --hover-bg-color: #E2EBFA;\n",
              "      --hover-fill-color: #174EA6;\n",
              "      --disabled-fill-color: #AAA;\n",
              "      --disabled-bg-color: #DDD;\n",
              "  }\n",
              "\n",
              "  [theme=dark] .colab-df-quickchart {\n",
              "      --bg-color: #3B4455;\n",
              "      --fill-color: #D2E3FC;\n",
              "      --hover-bg-color: #434B5C;\n",
              "      --hover-fill-color: #FFFFFF;\n",
              "      --disabled-bg-color: #3B4455;\n",
              "      --disabled-fill-color: #666;\n",
              "  }\n",
              "\n",
              "  .colab-df-quickchart {\n",
              "    background-color: var(--bg-color);\n",
              "    border: none;\n",
              "    border-radius: 50%;\n",
              "    cursor: pointer;\n",
              "    display: none;\n",
              "    fill: var(--fill-color);\n",
              "    height: 32px;\n",
              "    padding: 0;\n",
              "    width: 32px;\n",
              "  }\n",
              "\n",
              "  .colab-df-quickchart:hover {\n",
              "    background-color: var(--hover-bg-color);\n",
              "    box-shadow: 0 1px 2px rgba(60, 64, 67, 0.3), 0 1px 3px 1px rgba(60, 64, 67, 0.15);\n",
              "    fill: var(--button-hover-fill-color);\n",
              "  }\n",
              "\n",
              "  .colab-df-quickchart-complete:disabled,\n",
              "  .colab-df-quickchart-complete:disabled:hover {\n",
              "    background-color: var(--disabled-bg-color);\n",
              "    fill: var(--disabled-fill-color);\n",
              "    box-shadow: none;\n",
              "  }\n",
              "\n",
              "  .colab-df-spinner {\n",
              "    border: 2px solid var(--fill-color);\n",
              "    border-color: transparent;\n",
              "    border-bottom-color: var(--fill-color);\n",
              "    animation:\n",
              "      spin 1s steps(1) infinite;\n",
              "  }\n",
              "\n",
              "  @keyframes spin {\n",
              "    0% {\n",
              "      border-color: transparent;\n",
              "      border-bottom-color: var(--fill-color);\n",
              "      border-left-color: var(--fill-color);\n",
              "    }\n",
              "    20% {\n",
              "      border-color: transparent;\n",
              "      border-left-color: var(--fill-color);\n",
              "      border-top-color: var(--fill-color);\n",
              "    }\n",
              "    30% {\n",
              "      border-color: transparent;\n",
              "      border-left-color: var(--fill-color);\n",
              "      border-top-color: var(--fill-color);\n",
              "      border-right-color: var(--fill-color);\n",
              "    }\n",
              "    40% {\n",
              "      border-color: transparent;\n",
              "      border-right-color: var(--fill-color);\n",
              "      border-top-color: var(--fill-color);\n",
              "    }\n",
              "    60% {\n",
              "      border-color: transparent;\n",
              "      border-right-color: var(--fill-color);\n",
              "    }\n",
              "    80% {\n",
              "      border-color: transparent;\n",
              "      border-right-color: var(--fill-color);\n",
              "      border-bottom-color: var(--fill-color);\n",
              "    }\n",
              "    90% {\n",
              "      border-color: transparent;\n",
              "      border-bottom-color: var(--fill-color);\n",
              "    }\n",
              "  }\n",
              "</style>\n",
              "\n",
              "  <script>\n",
              "    async function quickchart(key) {\n",
              "      const quickchartButtonEl =\n",
              "        document.querySelector('#' + key + ' button');\n",
              "      quickchartButtonEl.disabled = true;  // To prevent multiple clicks.\n",
              "      quickchartButtonEl.classList.add('colab-df-spinner');\n",
              "      try {\n",
              "        const charts = await google.colab.kernel.invokeFunction(\n",
              "            'suggestCharts', [key], {});\n",
              "      } catch (error) {\n",
              "        console.error('Error during call to suggestCharts:', error);\n",
              "      }\n",
              "      quickchartButtonEl.classList.remove('colab-df-spinner');\n",
              "      quickchartButtonEl.classList.add('colab-df-quickchart-complete');\n",
              "    }\n",
              "    (() => {\n",
              "      let quickchartButtonEl =\n",
              "        document.querySelector('#df-f71022f5-6eab-4288-a764-5a5d1a740081 button');\n",
              "      quickchartButtonEl.style.display =\n",
              "        google.colab.kernel.accessAllowed ? 'block' : 'none';\n",
              "    })();\n",
              "  </script>\n",
              "</div>\n",
              "\n",
              "    </div>\n",
              "  </div>\n"
            ],
            "application/vnd.google.colaboratory.intrinsic+json": {
              "type": "dataframe",
              "variable_name": "df",
              "summary": "{\n  \"name\": \"df\",\n  \"rows\": 11331,\n  \"fields\": [\n    {\n      \"column\": \"distance\",\n      \"properties\": {\n        \"dtype\": \"number\",\n        \"std\": 2911.516556492137,\n        \"min\": 2.57078688756684,\n        \"max\": 23429.487786236627,\n        \"num_unique_values\": 11331,\n        \"samples\": [\n          4075.337434734506,\n          3089.0269841761783,\n          6181.231541184941\n        ],\n        \"semantic_type\": \"\",\n        \"description\": \"\"\n      }\n    },\n    {\n      \"column\": \"duration\",\n      \"properties\": {\n        \"dtype\": \"number\",\n        \"std\": 16.752464110077828,\n        \"min\": 1.0,\n        \"max\": 143.0,\n        \"num_unique_values\": 119,\n        \"samples\": [\n          61.0,\n          93.0,\n          56.0\n        ],\n        \"semantic_type\": \"\",\n        \"description\": \"\"\n      }\n    },\n    {\n      \"column\": \"trips_number\",\n      \"properties\": {\n        \"dtype\": \"number\",\n        \"std\": 0,\n        \"min\": 1,\n        \"max\": 7,\n        \"num_unique_values\": 7,\n        \"samples\": [\n          2,\n          1,\n          6\n        ],\n        \"semantic_type\": \"\",\n        \"description\": \"\"\n      }\n    },\n    {\n      \"column\": \"subscription_type\",\n      \"properties\": {\n        \"dtype\": \"category\",\n        \"num_unique_values\": 2,\n        \"samples\": [\n          \"free\",\n          \"ultra\"\n        ],\n        \"semantic_type\": \"\",\n        \"description\": \"\"\n      }\n    },\n    {\n      \"column\": \"revenue\",\n      \"properties\": {\n        \"dtype\": \"number\",\n        \"std\": 153.87534565094316,\n        \"min\": 58.0,\n        \"max\": 1444.0,\n        \"num_unique_values\": 346,\n        \"samples\": [\n          162.0,\n          1058.0\n        ],\n        \"semantic_type\": \"\",\n        \"description\": \"\"\n      }\n    }\n  ]\n}"
            }
          },
          "metadata": {},
          "execution_count": 38
        }
      ],
      "source": [
        "df.head(10)"
      ]
    },
    {
      "cell_type": "markdown",
      "id": "38d62cd1",
      "metadata": {
        "id": "38d62cd1"
      },
      "source": [
        "<font size=3> **Вывод:** </font>\n",
        "\n",
        "Мы создали новый датафрейм с помощью сводной таблицы, куда добавили агрегированные данные, округлили продолжительность поездки с помощью `ceil` и добавили столбец `revenue` - данные о выручке с каждого пользователя в месяц"
      ]
    },
    {
      "cell_type": "markdown",
      "id": "41545ac0",
      "metadata": {
        "id": "41545ac0"
      },
      "source": [
        "## Проверка гипотез"
      ]
    },
    {
      "cell_type": "markdown",
      "id": "63ea403d",
      "metadata": {
        "id": "63ea403d"
      },
      "source": [
        "### Тратят ли пользователи с подпиской больше времени на поездки?"
      ]
    },
    {
      "cell_type": "markdown",
      "id": "392552be",
      "metadata": {
        "id": "392552be"
      },
      "source": [
        "Составим нулевую и альтернативную гипотезы:\n",
        "\n",
        "H0: Пользователи с подпиской ultra тратят столько же времени на поездки, как и пользователи без подписки.\n",
        "\n",
        "H1: Пользователи с подпиской ultra тратят больше времени на поездки, чем пользователи без подписки."
      ]
    },
    {
      "cell_type": "code",
      "execution_count": null,
      "id": "cf82972b",
      "metadata": {
        "colab": {
          "base_uri": "https://localhost:8080/"
        },
        "id": "cf82972b",
        "outputId": "b3a6198c-14c8-4987-ac7f-9c3e5e5bb6f5"
      },
      "outputs": [
        {
          "output_type": "stream",
          "name": "stdout",
          "text": [
            "1.2804098316645618e-34\n",
            "Отвергаем нулевую гипотезу\n"
          ]
        }
      ],
      "source": [
        "alpha = 0.05 # ставим уровень статистической значимости 5 %\n",
        "\n",
        "free_duration = data_free['duration']\n",
        "ultra_duration = data_ultra['duration']\n",
        "\n",
        "results = st.ttest_ind(ultra_duration, free_duration, alternative='greater')\n",
        "\n",
        "print(results.pvalue)\n",
        "\n",
        "if results.pvalue < alpha:\n",
        "    print('Отвергаем нулевую гипотезу')\n",
        "else:\n",
        "    print('Не удалось отвергнуть нулевую гипотезу')"
      ]
    },
    {
      "cell_type": "markdown",
      "id": "92830434",
      "metadata": {
        "id": "92830434"
      },
      "source": [
        "<font size=3> **Вывод:** </font>\n",
        "\n",
        "Для проверки гипотезы мы использовали метод `ttest_ind`, который принимает две генеральные совокупности `ultra_duration` и `free_duration` и альтернативную гипотезу.\n",
        "\n",
        "В итоге, нулевую гипотезу отвергаем - пользователи с подпиской тратят больше времени на поездки, чем без подписки."
      ]
    },
    {
      "cell_type": "markdown",
      "id": "3c869e46",
      "metadata": {
        "id": "3c869e46"
      },
      "source": [
        "### Среднее расстояние, которое проезжают пользователи с подпиской, не превышает 3130 метров?"
      ]
    },
    {
      "cell_type": "markdown",
      "id": "34b07bcd",
      "metadata": {
        "id": "34b07bcd"
      },
      "source": [
        "Формулируем нулевую и альтернативную гипотезы:\n",
        "\n",
        "H0: Среднее расстояние, которое проезжают пользователи с подпиской, равно 3130 метров.\n",
        "\n",
        "H1: Среднее расстояние больше 3130 метров."
      ]
    },
    {
      "cell_type": "code",
      "execution_count": null,
      "id": "97c4d4bc",
      "metadata": {
        "colab": {
          "base_uri": "https://localhost:8080/"
        },
        "id": "97c4d4bc",
        "outputId": "9fcc5e9d-1642-41b2-ae79-6eb90ba839d9"
      },
      "outputs": [
        {
          "output_type": "stream",
          "name": "stdout",
          "text": [
            "0.9195368847849785\n",
            "Не удалось отвергнуть нулевую гипотезу\n"
          ]
        }
      ],
      "source": [
        "alpha = 0.05 # ставим уровень статистической значимости 5 %\n",
        "\n",
        "ultra_distance = data_ultra['distance']\n",
        "interested_value = 3130\n",
        "\n",
        "results = st.ttest_1samp(ultra_distance, interested_value, alternative='greater')\n",
        "\n",
        "print(results.pvalue)\n",
        "\n",
        "if results.pvalue < alpha:\n",
        "    print('Отвергаем нулевую гипотезу')\n",
        "else:\n",
        "    print('Не удалось отвергнуть нулевую гипотезу')"
      ]
    },
    {
      "cell_type": "markdown",
      "id": "3420c11c",
      "metadata": {
        "id": "3420c11c"
      },
      "source": [
        "<font size=3> **Вывод:** </font>\n",
        "\n",
        "Для проверки гипотезы мы использовали метод `ttest_1samp`, который принимает набор данных `ultra_distance`, предполагаемое среднее и альтернативную гипотезу.\n",
        "\n",
        "В итоге, нулевую гипотезу отвергнуть не удалось - по всей видимости, пользователи с подпиской в среднем проезжают около 3130 метров"
      ]
    },
    {
      "cell_type": "markdown",
      "id": "518dc484",
      "metadata": {
        "id": "518dc484"
      },
      "source": [
        "### Помесячная выручка от пользователей с подпиской по месяцам выше"
      ]
    },
    {
      "cell_type": "markdown",
      "id": "452f5674",
      "metadata": {
        "id": "452f5674"
      },
      "source": [
        "Формулируем нулевую и альтернативную гипотезы:\n",
        "\n",
        "H0: Помесячная выручка от пользователей с подпиской равна помесячной выручке пользователей без подписки.\n",
        "\n",
        "H1: Помесячная выручка от пользователей с подпиской больше помесячной выручки пользователей без подписки"
      ]
    },
    {
      "cell_type": "code",
      "execution_count": null,
      "id": "14cd66d0",
      "metadata": {
        "colab": {
          "base_uri": "https://localhost:8080/"
        },
        "id": "14cd66d0",
        "outputId": "261b1ee6-6ab7-44b8-e4aa-fa0b94a7c9e8"
      },
      "outputs": [
        {
          "output_type": "stream",
          "name": "stdout",
          "text": [
            "1.8850394384715216e-31\n",
            "Отвергаем нулевую гипотезу\n"
          ]
        }
      ],
      "source": [
        "alpha = 0.05 # ставим уровень статистической значимости 5 %\n",
        "\n",
        "free_revenue = df.query('subscription_type == \"free\"')['revenue']\n",
        "ultra_revenue = df.query('subscription_type == \"ultra\"')['revenue']\n",
        "\n",
        "results = st.ttest_ind(ultra_revenue, free_revenue, alternative='greater')\n",
        "\n",
        "print(results.pvalue)\n",
        "\n",
        "if results.pvalue < alpha:\n",
        "    print('Отвергаем нулевую гипотезу')\n",
        "else:\n",
        "    print('Не удалось отвергнуть нулевую гипотезу')"
      ]
    },
    {
      "cell_type": "markdown",
      "id": "b59ac9c3",
      "metadata": {
        "id": "b59ac9c3"
      },
      "source": [
        "## Общий вывод"
      ]
    },
    {
      "cell_type": "markdown",
      "id": "dd4436b3",
      "metadata": {
        "id": "dd4436b3"
      },
      "source": [
        "В шаге 1 мы сохранили три датасета в переменные `data_users`, `data_rides` и `data_subs`. Сделали небольшие выводы по каждому датасету."
      ]
    },
    {
      "cell_type": "markdown",
      "id": "86cf5305",
      "metadata": {
        "id": "86cf5305"
      },
      "source": [
        "В шаге 2 мы проверили данные на пропуски (их не оказалось), а также на дубликаты, после чего удалили их. Поменяли тип данных в столбце `date` и\n",
        "добавили новый столбец `month` с номерами месяцев."
      ]
    },
    {
      "cell_type": "markdown",
      "id": "fb6a8cb0",
      "metadata": {
        "id": "fb6a8cb0"
      },
      "source": [
        "В шаге 3 провели исследовательский анализ данных:\n",
        "- Процентное соотношение городов практически одинаковое;\n",
        "- Количество пользователей с подпиской чуть меньше половины (45 %);\n",
        "- Средний возраст пользователей - около 25 лет. Те, кто старше 35 и младше 15, встречаются реже;\n",
        "- Расстояние и длительность каждой поездки распределены нормально;"
      ]
    },
    {
      "cell_type": "markdown",
      "id": "8667bfb9",
      "metadata": {
        "id": "8667bfb9"
      },
      "source": [
        "В шаге 4 мы объединили данные из трех датафреймов в один - `data`.\n",
        "\n",
        "Выделили два отдельных датафрейма на основе `data`:\n",
        "- `data_free` - данные о пользователях без подписки;\n",
        "- `data_ultra` - данные о пользователях с подпиской `ultra`.\n",
        "\n",
        "Визуализировали информацию с помощью гистограмм.\n",
        "\n",
        "В **бесплатном тарифе** в большинстве случаев пройденное расстояние лежит в диапазоне от 2 до 5 км, в **платном** - примерно от 2.5 до 4.5 км.\n",
        "\n",
        "Что касается продолжительности сессии: в бесплатном тарифе в диапазоне **7-27** минут, в платном **10-30** минут.\n"
      ]
    },
    {
      "cell_type": "markdown",
      "id": "9ea449a8",
      "metadata": {
        "id": "9ea449a8"
      },
      "source": [
        "В шаге 5 мы округлили продолжительность поездки с помощью `ceil`, создали новый датафрейм с помощью сводной таблицы, куда добавили агрегированные данные, добавили столбец `revenue` - данные о выручке с каждого пользователя в месяц"
      ]
    },
    {
      "cell_type": "markdown",
      "id": "568f6737",
      "metadata": {
        "id": "568f6737"
      },
      "source": [
        "В шаге 6 проверили гипотезы:\n",
        "- Пользователи с подпиской ultra тратят столько же времени на поездки, как и пользователи без подписки (*Нулевая гипотеза отвергнута в пользу альтернативной* - пользователи с подпиской тратят больше времени на поездки, чем без подписки);\n",
        "- Среднее расстояние, которое проезжают пользователи с подпиской, равно 3130 метров (*Нулевую гипотезу не удалось отвергнуть*);\n",
        "- Помесячная выручка от пользователей с подпиской равна помесячной выручке пользователей без подписки (*Нулевая гипотеза отвергнута в пользу альтернативной* - помесячная выручка от пользователей `ultra` больше);\n",
        "- Ответили на теоретический вопрос.\n"
      ]
    },
    {
      "cell_type": "markdown",
      "id": "1fc2c89a",
      "metadata": {
        "id": "1fc2c89a"
      },
      "source": [
        "В итоге, сервису аренды стоит акцентироваться на пользователях с подпиской, ведь они приносят большую выручку, тратят больше времени на поездки.\n",
        "\n",
        "Так же стоит заметить, что пользователей из более \"дорогих\" городов (Москва и Сочи) меньше, хотя на самокатах передвигаться по ним более эффективно в виду пробок. Сервису стоит обратить внимание на это"
      ]
    }
  ],
  "metadata": {
    "ExecuteTimeLog": [
      {
        "duration": 4,
        "start_time": "2023-10-12T14:51:39.139Z"
      },
      {
        "duration": 1294,
        "start_time": "2023-10-12T15:02:25.513Z"
      },
      {
        "duration": 196,
        "start_time": "2023-10-12T15:56:44.152Z"
      },
      {
        "duration": 11,
        "start_time": "2023-10-12T15:57:48.717Z"
      },
      {
        "duration": 10,
        "start_time": "2023-10-12T15:57:59.687Z"
      },
      {
        "duration": 9,
        "start_time": "2023-10-12T15:58:06.237Z"
      },
      {
        "duration": 14,
        "start_time": "2023-10-12T15:58:11.172Z"
      },
      {
        "duration": 91,
        "start_time": "2023-10-12T15:58:41.684Z"
      },
      {
        "duration": 5,
        "start_time": "2023-10-12T15:58:47.812Z"
      },
      {
        "duration": 10,
        "start_time": "2023-10-12T15:58:56.123Z"
      },
      {
        "duration": 23,
        "start_time": "2023-10-12T15:59:31.620Z"
      },
      {
        "duration": 2,
        "start_time": "2023-10-12T16:01:30.866Z"
      },
      {
        "duration": 2,
        "start_time": "2023-10-12T16:01:51.322Z"
      },
      {
        "duration": 15,
        "start_time": "2023-10-12T16:01:54.027Z"
      },
      {
        "duration": 23,
        "start_time": "2023-10-12T16:03:47.433Z"
      },
      {
        "duration": 341,
        "start_time": "2023-10-12T16:05:18.475Z"
      },
      {
        "duration": 324,
        "start_time": "2023-10-12T16:05:22.960Z"
      },
      {
        "duration": 228,
        "start_time": "2023-10-12T16:05:35.505Z"
      },
      {
        "duration": 181,
        "start_time": "2023-10-12T16:05:43.207Z"
      },
      {
        "duration": 322,
        "start_time": "2023-10-12T16:06:06.390Z"
      },
      {
        "duration": 225,
        "start_time": "2023-10-12T16:06:10.430Z"
      },
      {
        "duration": 129,
        "start_time": "2023-10-12T16:06:47.598Z"
      },
      {
        "duration": 154,
        "start_time": "2023-10-12T16:06:55.358Z"
      },
      {
        "duration": 140,
        "start_time": "2023-10-12T16:07:01.341Z"
      },
      {
        "duration": 147,
        "start_time": "2023-10-12T16:07:05.526Z"
      },
      {
        "duration": 135,
        "start_time": "2023-10-12T16:07:16.951Z"
      },
      {
        "duration": 110,
        "start_time": "2023-10-12T16:08:31.421Z"
      },
      {
        "duration": 120,
        "start_time": "2023-10-12T16:08:52.724Z"
      },
      {
        "duration": 138,
        "start_time": "2023-10-12T16:10:12.964Z"
      },
      {
        "duration": 210,
        "start_time": "2023-10-12T16:10:17.060Z"
      },
      {
        "duration": 127,
        "start_time": "2023-10-12T16:11:06.654Z"
      },
      {
        "duration": 15331,
        "start_time": "2023-10-12T16:11:13.270Z"
      },
      {
        "duration": 15523,
        "start_time": "2023-10-12T16:11:35.846Z"
      },
      {
        "duration": 136,
        "start_time": "2023-10-12T16:11:52.023Z"
      },
      {
        "duration": 376,
        "start_time": "2023-10-12T16:11:59.490Z"
      },
      {
        "duration": 145,
        "start_time": "2023-10-12T16:12:10.365Z"
      },
      {
        "duration": 150,
        "start_time": "2023-10-12T16:12:13.341Z"
      },
      {
        "duration": 155,
        "start_time": "2023-10-12T16:12:16.348Z"
      },
      {
        "duration": 139,
        "start_time": "2023-10-12T16:12:19.261Z"
      },
      {
        "duration": 160,
        "start_time": "2023-10-12T16:12:51.984Z"
      },
      {
        "duration": 82,
        "start_time": "2023-10-12T16:14:29.203Z"
      },
      {
        "duration": 139,
        "start_time": "2023-10-12T16:14:37.419Z"
      },
      {
        "duration": 140,
        "start_time": "2023-10-12T16:14:43.770Z"
      },
      {
        "duration": 139,
        "start_time": "2023-10-12T16:14:58.539Z"
      },
      {
        "duration": 273,
        "start_time": "2023-10-12T16:15:57.818Z"
      },
      {
        "duration": 165,
        "start_time": "2023-10-12T16:16:04.018Z"
      },
      {
        "duration": 137,
        "start_time": "2023-10-12T16:18:05.416Z"
      },
      {
        "duration": 204,
        "start_time": "2023-10-12T16:18:17.193Z"
      },
      {
        "duration": 151,
        "start_time": "2023-10-12T16:20:30.695Z"
      },
      {
        "duration": 13,
        "start_time": "2023-10-12T16:20:37.678Z"
      },
      {
        "duration": 202,
        "start_time": "2023-10-12T16:20:42.415Z"
      },
      {
        "duration": 244,
        "start_time": "2023-10-12T16:21:47.670Z"
      },
      {
        "duration": 241,
        "start_time": "2023-10-12T16:21:53.774Z"
      },
      {
        "duration": 140,
        "start_time": "2023-10-12T16:22:03.573Z"
      },
      {
        "duration": 144,
        "start_time": "2023-10-12T16:23:07.037Z"
      },
      {
        "duration": 145,
        "start_time": "2023-10-12T16:24:01.732Z"
      },
      {
        "duration": 145,
        "start_time": "2023-10-12T16:24:16.096Z"
      },
      {
        "duration": 193,
        "start_time": "2023-10-12T16:24:22.436Z"
      },
      {
        "duration": 151,
        "start_time": "2023-10-12T16:24:41.492Z"
      },
      {
        "duration": 88,
        "start_time": "2023-10-12T16:26:17.284Z"
      },
      {
        "duration": 120,
        "start_time": "2023-10-12T16:26:36.034Z"
      },
      {
        "duration": 88,
        "start_time": "2023-10-12T16:29:50.584Z"
      },
      {
        "duration": 11,
        "start_time": "2023-10-12T16:31:54.391Z"
      },
      {
        "duration": 53,
        "start_time": "2023-10-12T16:32:30.582Z"
      },
      {
        "duration": 9,
        "start_time": "2023-10-12T16:33:27.886Z"
      },
      {
        "duration": 8,
        "start_time": "2023-10-12T16:33:34.253Z"
      },
      {
        "duration": 202,
        "start_time": "2023-10-12T16:34:06.439Z"
      },
      {
        "duration": 92,
        "start_time": "2023-10-12T16:34:17.004Z"
      },
      {
        "duration": 124,
        "start_time": "2023-10-12T16:34:28.813Z"
      },
      {
        "duration": 114,
        "start_time": "2023-10-12T16:34:44.886Z"
      },
      {
        "duration": 145,
        "start_time": "2023-10-12T16:34:55.021Z"
      },
      {
        "duration": 134,
        "start_time": "2023-10-12T16:35:30.853Z"
      },
      {
        "duration": 126,
        "start_time": "2023-10-12T16:37:49.867Z"
      },
      {
        "duration": 122,
        "start_time": "2023-10-12T16:37:56.378Z"
      },
      {
        "duration": 147,
        "start_time": "2023-10-12T16:38:26.922Z"
      },
      {
        "duration": 141,
        "start_time": "2023-10-12T16:38:29.980Z"
      },
      {
        "duration": 137,
        "start_time": "2023-10-12T16:38:35.325Z"
      },
      {
        "duration": 136,
        "start_time": "2023-10-12T16:38:38.570Z"
      },
      {
        "duration": 134,
        "start_time": "2023-10-12T16:38:48.755Z"
      },
      {
        "duration": 170,
        "start_time": "2023-10-12T16:39:01.922Z"
      },
      {
        "duration": 132,
        "start_time": "2023-10-12T16:39:10.746Z"
      },
      {
        "duration": 213,
        "start_time": "2023-10-12T16:39:14.746Z"
      },
      {
        "duration": 100,
        "start_time": "2023-10-12T16:40:00.650Z"
      },
      {
        "duration": 93,
        "start_time": "2023-10-12T16:40:43.041Z"
      },
      {
        "duration": 141,
        "start_time": "2023-10-12T16:45:07.787Z"
      },
      {
        "duration": 139,
        "start_time": "2023-10-12T16:45:13.012Z"
      },
      {
        "duration": 149,
        "start_time": "2023-10-12T16:45:17.371Z"
      },
      {
        "duration": 141,
        "start_time": "2023-10-12T16:45:20.146Z"
      },
      {
        "duration": 141,
        "start_time": "2023-10-12T16:45:24.650Z"
      },
      {
        "duration": 154,
        "start_time": "2023-10-12T16:45:36.210Z"
      },
      {
        "duration": 158,
        "start_time": "2023-10-12T21:08:18.784Z"
      },
      {
        "duration": 92,
        "start_time": "2023-10-12T21:08:35.058Z"
      },
      {
        "duration": 137,
        "start_time": "2023-10-12T21:08:37.727Z"
      },
      {
        "duration": 90,
        "start_time": "2023-10-12T21:10:14.924Z"
      },
      {
        "duration": 83,
        "start_time": "2023-10-12T21:10:59.836Z"
      },
      {
        "duration": 91,
        "start_time": "2023-10-12T21:11:08.092Z"
      },
      {
        "duration": 142,
        "start_time": "2023-10-12T21:11:10.235Z"
      },
      {
        "duration": 94,
        "start_time": "2023-10-12T21:11:47.019Z"
      },
      {
        "duration": 98,
        "start_time": "2023-10-12T21:12:00.029Z"
      },
      {
        "duration": 134,
        "start_time": "2023-10-12T21:13:08.554Z"
      },
      {
        "duration": 15,
        "start_time": "2023-10-12T21:15:05.409Z"
      },
      {
        "duration": 3,
        "start_time": "2023-10-12T21:16:26.416Z"
      },
      {
        "duration": 199,
        "start_time": "2023-10-12T21:20:03.068Z"
      },
      {
        "duration": 119,
        "start_time": "2023-10-12T21:20:25.412Z"
      },
      {
        "duration": 235,
        "start_time": "2023-10-12T21:20:41.492Z"
      },
      {
        "duration": 172,
        "start_time": "2023-10-12T21:21:04.731Z"
      },
      {
        "duration": 176,
        "start_time": "2023-10-12T21:21:31.412Z"
      },
      {
        "duration": 261,
        "start_time": "2023-10-12T21:21:38.915Z"
      },
      {
        "duration": 333,
        "start_time": "2023-10-12T21:21:41.650Z"
      },
      {
        "duration": 409,
        "start_time": "2023-10-12T21:21:52.355Z"
      },
      {
        "duration": 185,
        "start_time": "2023-10-12T21:22:22.841Z"
      },
      {
        "duration": 299,
        "start_time": "2023-10-12T21:22:30.698Z"
      },
      {
        "duration": 295,
        "start_time": "2023-10-12T21:23:26.017Z"
      },
      {
        "duration": 295,
        "start_time": "2023-10-12T21:23:32.545Z"
      },
      {
        "duration": 298,
        "start_time": "2023-10-12T21:24:05.576Z"
      },
      {
        "duration": 138,
        "start_time": "2023-10-12T21:25:17.840Z"
      },
      {
        "duration": 113,
        "start_time": "2023-10-12T21:25:29.538Z"
      },
      {
        "duration": 276,
        "start_time": "2023-10-12T21:25:44.839Z"
      },
      {
        "duration": 296,
        "start_time": "2023-10-12T21:25:56.423Z"
      },
      {
        "duration": 318,
        "start_time": "2023-10-12T21:26:01.183Z"
      },
      {
        "duration": 286,
        "start_time": "2023-10-12T21:26:17.256Z"
      },
      {
        "duration": 86,
        "start_time": "2023-10-12T21:28:28.329Z"
      },
      {
        "duration": 113,
        "start_time": "2023-10-12T21:28:37.373Z"
      },
      {
        "duration": 304,
        "start_time": "2023-10-12T21:29:14.565Z"
      },
      {
        "duration": 409,
        "start_time": "2023-10-12T21:32:08.050Z"
      },
      {
        "duration": 357,
        "start_time": "2023-10-12T21:32:52.428Z"
      },
      {
        "duration": 15,
        "start_time": "2023-10-12T21:38:44.173Z"
      },
      {
        "duration": 14,
        "start_time": "2023-10-12T21:39:01.213Z"
      },
      {
        "duration": 61,
        "start_time": "2023-10-13T19:10:55.217Z"
      },
      {
        "duration": 1408,
        "start_time": "2023-10-13T19:11:07.558Z"
      },
      {
        "duration": 201,
        "start_time": "2023-10-13T19:11:08.968Z"
      },
      {
        "duration": 3,
        "start_time": "2023-10-13T19:11:09.170Z"
      },
      {
        "duration": 23,
        "start_time": "2023-10-13T19:11:09.175Z"
      },
      {
        "duration": 235,
        "start_time": "2023-10-13T19:11:09.199Z"
      },
      {
        "duration": 153,
        "start_time": "2023-10-13T19:11:09.438Z"
      },
      {
        "duration": 133,
        "start_time": "2023-10-13T19:11:09.593Z"
      },
      {
        "duration": 23,
        "start_time": "2023-10-13T19:11:09.729Z"
      },
      {
        "duration": 438,
        "start_time": "2023-10-13T19:11:09.754Z"
      },
      {
        "duration": 27,
        "start_time": "2023-10-13T19:11:10.195Z"
      },
      {
        "duration": 9,
        "start_time": "2023-10-13T19:11:10.233Z"
      },
      {
        "duration": 9,
        "start_time": "2023-10-13T19:11:31.736Z"
      },
      {
        "duration": 6,
        "start_time": "2023-10-13T19:12:17.934Z"
      },
      {
        "duration": 6,
        "start_time": "2023-10-13T19:12:30.084Z"
      },
      {
        "duration": 6,
        "start_time": "2023-10-13T19:12:46.832Z"
      },
      {
        "duration": 3,
        "start_time": "2023-10-13T19:13:01.493Z"
      },
      {
        "duration": 9,
        "start_time": "2023-10-13T19:13:04.252Z"
      },
      {
        "duration": 7,
        "start_time": "2023-10-13T19:13:10.459Z"
      },
      {
        "duration": 7,
        "start_time": "2023-10-13T19:13:17.574Z"
      },
      {
        "duration": 16,
        "start_time": "2023-10-13T19:13:48.418Z"
      },
      {
        "duration": 7,
        "start_time": "2023-10-13T19:15:00.733Z"
      },
      {
        "duration": 15,
        "start_time": "2023-10-13T19:21:08.826Z"
      },
      {
        "duration": 29,
        "start_time": "2023-10-13T19:21:25.427Z"
      },
      {
        "duration": 106,
        "start_time": "2023-10-13T19:21:34.833Z"
      },
      {
        "duration": 6,
        "start_time": "2023-10-13T19:29:26.602Z"
      },
      {
        "duration": 5,
        "start_time": "2023-10-13T19:29:31.967Z"
      },
      {
        "duration": 8,
        "start_time": "2023-10-13T19:29:54.011Z"
      },
      {
        "duration": 7,
        "start_time": "2023-10-13T19:30:01.736Z"
      },
      {
        "duration": 6,
        "start_time": "2023-10-13T19:30:05.176Z"
      },
      {
        "duration": 16,
        "start_time": "2023-10-13T19:30:56.125Z"
      },
      {
        "duration": 8,
        "start_time": "2023-10-13T19:32:01.695Z"
      },
      {
        "duration": 7,
        "start_time": "2023-10-13T19:35:40.130Z"
      },
      {
        "duration": 7,
        "start_time": "2023-10-13T19:36:10.384Z"
      },
      {
        "duration": 170,
        "start_time": "2023-10-13T19:58:14.622Z"
      },
      {
        "duration": 114,
        "start_time": "2023-10-13T20:07:02.617Z"
      },
      {
        "duration": 18595,
        "start_time": "2023-10-13T20:14:23.734Z"
      },
      {
        "duration": 463,
        "start_time": "2023-10-13T20:14:57.404Z"
      },
      {
        "duration": 356,
        "start_time": "2023-10-13T20:23:13.652Z"
      },
      {
        "duration": 382,
        "start_time": "2023-10-13T20:28:50.364Z"
      },
      {
        "duration": 47,
        "start_time": "2023-10-14T18:13:31.706Z"
      },
      {
        "duration": 1264,
        "start_time": "2023-10-14T18:13:59.556Z"
      },
      {
        "duration": 194,
        "start_time": "2023-10-14T18:14:00.822Z"
      },
      {
        "duration": 3,
        "start_time": "2023-10-14T18:14:01.018Z"
      },
      {
        "duration": 42,
        "start_time": "2023-10-14T18:14:01.023Z"
      },
      {
        "duration": 23,
        "start_time": "2023-10-14T18:14:01.066Z"
      },
      {
        "duration": 31,
        "start_time": "2023-10-14T18:14:01.091Z"
      },
      {
        "duration": 39,
        "start_time": "2023-10-14T18:14:01.123Z"
      },
      {
        "duration": 34,
        "start_time": "2023-10-14T18:14:01.164Z"
      },
      {
        "duration": 71,
        "start_time": "2023-10-14T18:14:01.200Z"
      },
      {
        "duration": 18,
        "start_time": "2023-10-14T18:14:01.273Z"
      },
      {
        "duration": 22,
        "start_time": "2023-10-14T18:14:01.292Z"
      },
      {
        "duration": 18,
        "start_time": "2023-10-14T18:14:01.316Z"
      },
      {
        "duration": 27,
        "start_time": "2023-10-14T18:14:01.336Z"
      },
      {
        "duration": 183,
        "start_time": "2023-10-14T18:14:01.365Z"
      },
      {
        "duration": 109,
        "start_time": "2023-10-14T18:14:01.549Z"
      },
      {
        "duration": 151,
        "start_time": "2023-10-14T18:14:01.660Z"
      },
      {
        "duration": 312,
        "start_time": "2023-10-14T18:14:01.813Z"
      },
      {
        "duration": 99,
        "start_time": "2023-10-14T18:14:02.126Z"
      },
      {
        "duration": 101,
        "start_time": "2023-10-14T18:14:45.951Z"
      },
      {
        "duration": 8,
        "start_time": "2023-10-14T18:16:48.718Z"
      },
      {
        "duration": 7,
        "start_time": "2023-10-14T18:17:51.677Z"
      },
      {
        "duration": 5,
        "start_time": "2023-10-14T18:18:01.308Z"
      },
      {
        "duration": 6,
        "start_time": "2023-10-14T18:18:08.029Z"
      },
      {
        "duration": 5,
        "start_time": "2023-10-14T18:18:33.188Z"
      },
      {
        "duration": 3,
        "start_time": "2023-10-14T18:18:37.364Z"
      },
      {
        "duration": 6,
        "start_time": "2023-10-14T18:22:01.115Z"
      },
      {
        "duration": 7,
        "start_time": "2023-10-14T18:22:09.611Z"
      },
      {
        "duration": 5,
        "start_time": "2023-10-14T18:22:28.802Z"
      },
      {
        "duration": 5,
        "start_time": "2023-10-14T18:28:20.911Z"
      },
      {
        "duration": 5,
        "start_time": "2023-10-14T18:32:45.988Z"
      },
      {
        "duration": 7,
        "start_time": "2023-10-14T18:33:43.484Z"
      },
      {
        "duration": 8,
        "start_time": "2023-10-14T18:34:37.641Z"
      },
      {
        "duration": 159,
        "start_time": "2023-10-14T18:35:00.785Z"
      },
      {
        "duration": 13,
        "start_time": "2023-10-14T18:35:43.337Z"
      },
      {
        "duration": 265,
        "start_time": "2023-10-14T18:36:56.249Z"
      },
      {
        "duration": 164,
        "start_time": "2023-10-14T18:37:06.392Z"
      },
      {
        "duration": 180,
        "start_time": "2023-10-14T18:37:28.791Z"
      },
      {
        "duration": 7,
        "start_time": "2023-10-14T18:37:53.652Z"
      },
      {
        "duration": 150,
        "start_time": "2023-10-14T18:37:54.977Z"
      },
      {
        "duration": 159,
        "start_time": "2023-10-14T18:38:06.824Z"
      },
      {
        "duration": 7,
        "start_time": "2023-10-14T18:38:31.177Z"
      },
      {
        "duration": 1054,
        "start_time": "2023-10-14T18:38:35.975Z"
      },
      {
        "duration": 67,
        "start_time": "2023-10-14T18:38:37.030Z"
      },
      {
        "duration": 3,
        "start_time": "2023-10-14T18:38:37.099Z"
      },
      {
        "duration": 18,
        "start_time": "2023-10-14T18:38:37.104Z"
      },
      {
        "duration": 14,
        "start_time": "2023-10-14T18:38:37.124Z"
      },
      {
        "duration": 12,
        "start_time": "2023-10-14T18:38:37.149Z"
      },
      {
        "duration": 10,
        "start_time": "2023-10-14T18:38:37.163Z"
      },
      {
        "duration": 6,
        "start_time": "2023-10-14T18:38:37.174Z"
      },
      {
        "duration": 5,
        "start_time": "2023-10-14T18:38:37.181Z"
      },
      {
        "duration": 8,
        "start_time": "2023-10-14T18:38:37.188Z"
      },
      {
        "duration": 7,
        "start_time": "2023-10-14T18:38:37.198Z"
      },
      {
        "duration": 36,
        "start_time": "2023-10-14T18:38:37.206Z"
      },
      {
        "duration": 14,
        "start_time": "2023-10-14T18:38:37.243Z"
      },
      {
        "duration": 164,
        "start_time": "2023-10-14T18:38:37.259Z"
      },
      {
        "duration": 101,
        "start_time": "2023-10-14T18:38:37.424Z"
      },
      {
        "duration": 164,
        "start_time": "2023-10-14T18:38:37.527Z"
      },
      {
        "duration": 311,
        "start_time": "2023-10-14T18:38:37.692Z"
      },
      {
        "duration": 124,
        "start_time": "2023-10-14T18:38:38.004Z"
      },
      {
        "duration": 18,
        "start_time": "2023-10-14T18:38:38.130Z"
      },
      {
        "duration": 10,
        "start_time": "2023-10-14T18:38:38.149Z"
      },
      {
        "duration": 7,
        "start_time": "2023-10-14T18:38:38.160Z"
      },
      {
        "duration": 165,
        "start_time": "2023-10-14T18:38:38.168Z"
      },
      {
        "duration": 213,
        "start_time": "2023-10-14T18:38:48.553Z"
      },
      {
        "duration": 6,
        "start_time": "2023-10-14T18:41:29.429Z"
      },
      {
        "duration": 8,
        "start_time": "2023-10-14T18:41:47.500Z"
      },
      {
        "duration": 167,
        "start_time": "2023-10-14T18:41:48.596Z"
      },
      {
        "duration": 6,
        "start_time": "2023-10-14T18:42:05.693Z"
      },
      {
        "duration": 7,
        "start_time": "2023-10-14T18:42:31.068Z"
      },
      {
        "duration": 6,
        "start_time": "2023-10-14T18:42:47.835Z"
      },
      {
        "duration": 1134,
        "start_time": "2023-10-14T18:42:52.057Z"
      },
      {
        "duration": 73,
        "start_time": "2023-10-14T18:42:53.193Z"
      },
      {
        "duration": 2,
        "start_time": "2023-10-14T18:42:53.267Z"
      },
      {
        "duration": 29,
        "start_time": "2023-10-14T18:42:53.270Z"
      },
      {
        "duration": 14,
        "start_time": "2023-10-14T18:42:53.301Z"
      },
      {
        "duration": 20,
        "start_time": "2023-10-14T18:42:53.316Z"
      },
      {
        "duration": 18,
        "start_time": "2023-10-14T18:42:53.337Z"
      },
      {
        "duration": 8,
        "start_time": "2023-10-14T18:42:53.357Z"
      },
      {
        "duration": 6,
        "start_time": "2023-10-14T18:42:53.367Z"
      },
      {
        "duration": 7,
        "start_time": "2023-10-14T18:42:53.375Z"
      },
      {
        "duration": 8,
        "start_time": "2023-10-14T18:42:53.384Z"
      },
      {
        "duration": 7,
        "start_time": "2023-10-14T18:42:53.394Z"
      },
      {
        "duration": 5,
        "start_time": "2023-10-14T18:42:53.402Z"
      },
      {
        "duration": 196,
        "start_time": "2023-10-14T18:42:53.410Z"
      },
      {
        "duration": 103,
        "start_time": "2023-10-14T18:42:53.608Z"
      },
      {
        "duration": 152,
        "start_time": "2023-10-14T18:42:53.712Z"
      },
      {
        "duration": 330,
        "start_time": "2023-10-14T18:42:53.865Z"
      },
      {
        "duration": 121,
        "start_time": "2023-10-14T18:42:54.196Z"
      },
      {
        "duration": 5,
        "start_time": "2023-10-14T18:42:54.318Z"
      },
      {
        "duration": 20,
        "start_time": "2023-10-14T18:42:54.325Z"
      },
      {
        "duration": 7,
        "start_time": "2023-10-14T18:42:54.353Z"
      },
      {
        "duration": 161,
        "start_time": "2023-10-14T18:42:54.361Z"
      },
      {
        "duration": 8,
        "start_time": "2023-10-14T18:43:24.395Z"
      },
      {
        "duration": 227,
        "start_time": "2023-10-14T18:43:24.875Z"
      },
      {
        "duration": 6,
        "start_time": "2023-10-14T18:43:57.682Z"
      },
      {
        "duration": 7,
        "start_time": "2023-10-14T18:44:36.259Z"
      },
      {
        "duration": 1086,
        "start_time": "2023-10-14T18:45:17.052Z"
      },
      {
        "duration": 68,
        "start_time": "2023-10-14T18:45:18.140Z"
      },
      {
        "duration": 3,
        "start_time": "2023-10-14T18:45:18.210Z"
      },
      {
        "duration": 27,
        "start_time": "2023-10-14T18:45:18.217Z"
      },
      {
        "duration": 16,
        "start_time": "2023-10-14T18:45:18.253Z"
      },
      {
        "duration": 11,
        "start_time": "2023-10-14T18:45:18.271Z"
      },
      {
        "duration": 5,
        "start_time": "2023-10-14T18:45:18.284Z"
      },
      {
        "duration": 7,
        "start_time": "2023-10-14T18:45:18.291Z"
      },
      {
        "duration": 5,
        "start_time": "2023-10-14T18:45:18.299Z"
      },
      {
        "duration": 49,
        "start_time": "2023-10-14T18:45:18.305Z"
      },
      {
        "duration": 10,
        "start_time": "2023-10-14T18:45:18.356Z"
      },
      {
        "duration": 8,
        "start_time": "2023-10-14T18:45:18.368Z"
      },
      {
        "duration": 7,
        "start_time": "2023-10-14T18:45:18.378Z"
      },
      {
        "duration": 175,
        "start_time": "2023-10-14T18:45:18.388Z"
      },
      {
        "duration": 106,
        "start_time": "2023-10-14T18:45:18.565Z"
      },
      {
        "duration": 160,
        "start_time": "2023-10-14T18:45:18.673Z"
      },
      {
        "duration": 320,
        "start_time": "2023-10-14T18:45:18.839Z"
      },
      {
        "duration": 129,
        "start_time": "2023-10-14T18:45:19.160Z"
      },
      {
        "duration": 6,
        "start_time": "2023-10-14T18:45:19.291Z"
      },
      {
        "duration": 7,
        "start_time": "2023-10-14T18:45:19.298Z"
      },
      {
        "duration": 6,
        "start_time": "2023-10-14T18:45:19.306Z"
      },
      {
        "duration": 179,
        "start_time": "2023-10-14T18:45:19.313Z"
      },
      {
        "duration": 149,
        "start_time": "2023-10-14T18:45:53.420Z"
      },
      {
        "duration": 7,
        "start_time": "2023-10-14T18:47:49.587Z"
      },
      {
        "duration": 4,
        "start_time": "2023-10-14T18:48:09.915Z"
      },
      {
        "duration": 171,
        "start_time": "2023-10-14T18:51:24.217Z"
      },
      {
        "duration": 168,
        "start_time": "2023-10-14T18:51:31.002Z"
      },
      {
        "duration": 213,
        "start_time": "2023-10-14T18:51:42.905Z"
      },
      {
        "duration": 191,
        "start_time": "2023-10-14T18:51:55.536Z"
      },
      {
        "duration": 5,
        "start_time": "2023-10-14T18:55:29.227Z"
      },
      {
        "duration": 5,
        "start_time": "2023-10-14T18:56:12.227Z"
      },
      {
        "duration": 994,
        "start_time": "2023-10-14T18:56:27.798Z"
      },
      {
        "duration": 71,
        "start_time": "2023-10-14T18:56:28.793Z"
      },
      {
        "duration": 2,
        "start_time": "2023-10-14T18:56:28.866Z"
      },
      {
        "duration": 20,
        "start_time": "2023-10-14T18:56:28.870Z"
      },
      {
        "duration": 14,
        "start_time": "2023-10-14T18:56:28.891Z"
      },
      {
        "duration": 11,
        "start_time": "2023-10-14T18:56:28.906Z"
      },
      {
        "duration": 6,
        "start_time": "2023-10-14T18:56:28.918Z"
      },
      {
        "duration": 7,
        "start_time": "2023-10-14T18:56:28.940Z"
      },
      {
        "duration": 5,
        "start_time": "2023-10-14T18:56:28.949Z"
      },
      {
        "duration": 8,
        "start_time": "2023-10-14T18:56:28.957Z"
      },
      {
        "duration": 15,
        "start_time": "2023-10-14T18:56:28.966Z"
      },
      {
        "duration": 7,
        "start_time": "2023-10-14T18:56:28.982Z"
      },
      {
        "duration": 5,
        "start_time": "2023-10-14T18:56:28.990Z"
      },
      {
        "duration": 174,
        "start_time": "2023-10-14T18:56:28.996Z"
      },
      {
        "duration": 99,
        "start_time": "2023-10-14T18:56:29.171Z"
      },
      {
        "duration": 145,
        "start_time": "2023-10-14T18:56:29.271Z"
      },
      {
        "duration": 310,
        "start_time": "2023-10-14T18:56:29.418Z"
      },
      {
        "duration": 102,
        "start_time": "2023-10-14T18:56:29.729Z"
      },
      {
        "duration": 6,
        "start_time": "2023-10-14T18:56:29.840Z"
      },
      {
        "duration": 22,
        "start_time": "2023-10-14T18:56:29.847Z"
      },
      {
        "duration": 14,
        "start_time": "2023-10-14T18:56:29.870Z"
      },
      {
        "duration": 166,
        "start_time": "2023-10-14T18:56:29.885Z"
      },
      {
        "duration": 229,
        "start_time": "2023-10-14T22:58:58.687Z"
      },
      {
        "duration": 1495,
        "start_time": "2023-10-15T12:55:55.111Z"
      },
      {
        "duration": 194,
        "start_time": "2023-10-15T12:55:56.608Z"
      },
      {
        "duration": 2,
        "start_time": "2023-10-15T12:55:56.804Z"
      },
      {
        "duration": 28,
        "start_time": "2023-10-15T12:55:56.808Z"
      },
      {
        "duration": 48,
        "start_time": "2023-10-15T12:55:56.837Z"
      },
      {
        "duration": 14,
        "start_time": "2023-10-15T12:55:56.887Z"
      },
      {
        "duration": 13,
        "start_time": "2023-10-15T12:55:56.902Z"
      },
      {
        "duration": 7,
        "start_time": "2023-10-15T12:55:56.917Z"
      },
      {
        "duration": 6,
        "start_time": "2023-10-15T12:55:56.925Z"
      },
      {
        "duration": 24,
        "start_time": "2023-10-15T12:55:56.933Z"
      },
      {
        "duration": 11,
        "start_time": "2023-10-15T12:55:56.958Z"
      },
      {
        "duration": 9,
        "start_time": "2023-10-15T12:55:56.970Z"
      },
      {
        "duration": 7,
        "start_time": "2023-10-15T12:55:56.980Z"
      },
      {
        "duration": 212,
        "start_time": "2023-10-15T12:55:56.989Z"
      },
      {
        "duration": 121,
        "start_time": "2023-10-15T12:55:57.203Z"
      },
      {
        "duration": 192,
        "start_time": "2023-10-15T12:55:57.326Z"
      },
      {
        "duration": 387,
        "start_time": "2023-10-15T12:55:57.520Z"
      },
      {
        "duration": 139,
        "start_time": "2023-10-15T12:55:57.909Z"
      },
      {
        "duration": 6,
        "start_time": "2023-10-15T12:55:58.050Z"
      },
      {
        "duration": 16,
        "start_time": "2023-10-15T12:55:58.058Z"
      },
      {
        "duration": 9,
        "start_time": "2023-10-15T12:55:58.076Z"
      },
      {
        "duration": 218,
        "start_time": "2023-10-15T12:55:58.087Z"
      },
      {
        "duration": 10,
        "start_time": "2023-10-15T13:01:28.461Z"
      },
      {
        "duration": 11,
        "start_time": "2023-10-15T13:02:32.063Z"
      },
      {
        "duration": 20,
        "start_time": "2023-10-15T13:02:39.895Z"
      },
      {
        "duration": 12,
        "start_time": "2023-10-15T13:04:34.238Z"
      },
      {
        "duration": 14,
        "start_time": "2023-10-15T13:04:38.187Z"
      },
      {
        "duration": 12,
        "start_time": "2023-10-15T13:08:43.808Z"
      },
      {
        "duration": 194,
        "start_time": "2023-10-15T13:15:29.418Z"
      },
      {
        "duration": 163,
        "start_time": "2023-10-15T13:17:27.130Z"
      },
      {
        "duration": 173,
        "start_time": "2023-10-15T13:18:12.370Z"
      },
      {
        "duration": 444,
        "start_time": "2023-10-15T13:18:35.049Z"
      },
      {
        "duration": 239,
        "start_time": "2023-10-15T13:19:39.048Z"
      },
      {
        "duration": 305,
        "start_time": "2023-10-15T13:20:20.592Z"
      },
      {
        "duration": 303,
        "start_time": "2023-10-15T13:20:57.072Z"
      },
      {
        "duration": 452,
        "start_time": "2023-10-15T13:21:33.455Z"
      },
      {
        "duration": 376,
        "start_time": "2023-10-15T13:21:44.918Z"
      },
      {
        "duration": 326,
        "start_time": "2023-10-15T13:21:57.891Z"
      },
      {
        "duration": 352,
        "start_time": "2023-10-15T13:22:45.373Z"
      },
      {
        "duration": 268,
        "start_time": "2023-10-15T13:22:53.702Z"
      },
      {
        "duration": 303,
        "start_time": "2023-10-15T13:22:57.333Z"
      },
      {
        "duration": 472,
        "start_time": "2023-10-15T13:23:44.550Z"
      },
      {
        "duration": 343,
        "start_time": "2023-10-15T13:23:57.476Z"
      },
      {
        "duration": 395,
        "start_time": "2023-10-15T13:24:04.644Z"
      },
      {
        "duration": 361,
        "start_time": "2023-10-15T13:24:13.653Z"
      },
      {
        "duration": 358,
        "start_time": "2023-10-15T13:24:28.620Z"
      },
      {
        "duration": 428,
        "start_time": "2023-10-15T13:24:43.500Z"
      },
      {
        "duration": 357,
        "start_time": "2023-10-15T13:25:03.709Z"
      },
      {
        "duration": 349,
        "start_time": "2023-10-15T13:25:13.459Z"
      },
      {
        "duration": 328,
        "start_time": "2023-10-15T13:25:23.444Z"
      },
      {
        "duration": 316,
        "start_time": "2023-10-15T13:25:30.988Z"
      },
      {
        "duration": 315,
        "start_time": "2023-10-15T13:25:39.371Z"
      },
      {
        "duration": 413,
        "start_time": "2023-10-15T13:25:52.852Z"
      },
      {
        "duration": 370,
        "start_time": "2023-10-15T13:26:35.166Z"
      },
      {
        "duration": 330,
        "start_time": "2023-10-15T13:26:45.406Z"
      },
      {
        "duration": 321,
        "start_time": "2023-10-15T13:27:31.659Z"
      },
      {
        "duration": 317,
        "start_time": "2023-10-15T13:28:01.162Z"
      },
      {
        "duration": 218,
        "start_time": "2023-10-15T13:28:55.945Z"
      },
      {
        "duration": 233,
        "start_time": "2023-10-15T13:29:05.521Z"
      },
      {
        "duration": 9,
        "start_time": "2023-10-15T13:35:14.039Z"
      },
      {
        "duration": 1310,
        "start_time": "2023-10-15T13:35:22.070Z"
      },
      {
        "duration": 186,
        "start_time": "2023-10-15T13:35:30.101Z"
      },
      {
        "duration": 171,
        "start_time": "2023-10-15T13:35:40.822Z"
      },
      {
        "duration": 160,
        "start_time": "2023-10-15T13:36:00.828Z"
      },
      {
        "duration": 171,
        "start_time": "2023-10-15T13:36:15.844Z"
      },
      {
        "duration": 163,
        "start_time": "2023-10-15T13:37:19.620Z"
      },
      {
        "duration": 112,
        "start_time": "2023-10-15T13:38:04.978Z"
      },
      {
        "duration": 340,
        "start_time": "2023-10-15T13:38:11.243Z"
      },
      {
        "duration": 346,
        "start_time": "2023-10-15T13:38:31.362Z"
      },
      {
        "duration": 436,
        "start_time": "2023-10-15T13:38:40.369Z"
      },
      {
        "duration": 325,
        "start_time": "2023-10-15T13:38:52.202Z"
      },
      {
        "duration": 366,
        "start_time": "2023-10-15T13:38:58.840Z"
      },
      {
        "duration": 363,
        "start_time": "2023-10-15T13:39:06.513Z"
      },
      {
        "duration": 348,
        "start_time": "2023-10-15T13:39:17.472Z"
      },
      {
        "duration": 86,
        "start_time": "2023-10-15T13:39:36.216Z"
      },
      {
        "duration": 98,
        "start_time": "2023-10-15T13:40:01.319Z"
      },
      {
        "duration": 342,
        "start_time": "2023-10-15T13:40:07.440Z"
      },
      {
        "duration": 456,
        "start_time": "2023-10-15T13:40:18.543Z"
      },
      {
        "duration": 327,
        "start_time": "2023-10-15T13:40:33.559Z"
      },
      {
        "duration": 336,
        "start_time": "2023-10-15T13:40:42.938Z"
      },
      {
        "duration": 331,
        "start_time": "2023-10-15T13:40:46.494Z"
      },
      {
        "duration": 266,
        "start_time": "2023-10-15T13:42:06.141Z"
      },
      {
        "duration": 168,
        "start_time": "2023-10-15T13:42:23.014Z"
      },
      {
        "duration": 191,
        "start_time": "2023-10-15T13:42:30.725Z"
      },
      {
        "duration": 292,
        "start_time": "2023-10-15T13:42:58.348Z"
      },
      {
        "duration": 162,
        "start_time": "2023-10-15T13:44:08.020Z"
      },
      {
        "duration": 161,
        "start_time": "2023-10-15T13:44:41.178Z"
      },
      {
        "duration": 182,
        "start_time": "2023-10-15T13:44:59.282Z"
      },
      {
        "duration": 181,
        "start_time": "2023-10-15T13:45:08.266Z"
      },
      {
        "duration": 194,
        "start_time": "2023-10-15T13:45:23.433Z"
      },
      {
        "duration": 189,
        "start_time": "2023-10-15T13:47:39.617Z"
      },
      {
        "duration": 203,
        "start_time": "2023-10-15T13:47:53.984Z"
      },
      {
        "duration": 202,
        "start_time": "2023-10-15T13:48:01.583Z"
      },
      {
        "duration": 253,
        "start_time": "2023-10-15T13:48:15.991Z"
      },
      {
        "duration": 200,
        "start_time": "2023-10-15T13:48:40.744Z"
      },
      {
        "duration": 202,
        "start_time": "2023-10-15T13:49:11.989Z"
      },
      {
        "duration": 199,
        "start_time": "2023-10-15T13:49:21.469Z"
      },
      {
        "duration": 128,
        "start_time": "2023-10-15T13:51:12.924Z"
      },
      {
        "duration": 50,
        "start_time": "2023-10-15T13:53:07.100Z"
      },
      {
        "duration": 17,
        "start_time": "2023-10-15T13:53:19.098Z"
      },
      {
        "duration": 8,
        "start_time": "2023-10-15T13:53:27.826Z"
      },
      {
        "duration": 9,
        "start_time": "2023-10-15T13:53:29.517Z"
      },
      {
        "duration": 1273,
        "start_time": "2023-10-15T13:53:35.443Z"
      },
      {
        "duration": 71,
        "start_time": "2023-10-15T13:53:36.718Z"
      },
      {
        "duration": 3,
        "start_time": "2023-10-15T13:53:36.791Z"
      },
      {
        "duration": 38,
        "start_time": "2023-10-15T13:53:36.796Z"
      },
      {
        "duration": 38,
        "start_time": "2023-10-15T13:53:36.836Z"
      },
      {
        "duration": 16,
        "start_time": "2023-10-15T13:53:36.877Z"
      },
      {
        "duration": 16,
        "start_time": "2023-10-15T13:53:36.895Z"
      },
      {
        "duration": 12,
        "start_time": "2023-10-15T13:53:36.913Z"
      },
      {
        "duration": 40,
        "start_time": "2023-10-15T13:53:36.927Z"
      },
      {
        "duration": 19,
        "start_time": "2023-10-15T13:53:36.971Z"
      },
      {
        "duration": 40,
        "start_time": "2023-10-15T13:53:36.992Z"
      },
      {
        "duration": 31,
        "start_time": "2023-10-15T13:53:37.034Z"
      },
      {
        "duration": 9,
        "start_time": "2023-10-15T13:53:37.068Z"
      },
      {
        "duration": 232,
        "start_time": "2023-10-15T13:53:37.079Z"
      },
      {
        "duration": 125,
        "start_time": "2023-10-15T13:53:37.313Z"
      },
      {
        "duration": 181,
        "start_time": "2023-10-15T13:53:37.440Z"
      },
      {
        "duration": 391,
        "start_time": "2023-10-15T13:53:37.623Z"
      },
      {
        "duration": 164,
        "start_time": "2023-10-15T13:53:38.016Z"
      },
      {
        "duration": 9,
        "start_time": "2023-10-15T13:53:38.182Z"
      },
      {
        "duration": 19,
        "start_time": "2023-10-15T13:53:38.193Z"
      },
      {
        "duration": 9,
        "start_time": "2023-10-15T13:53:38.214Z"
      },
      {
        "duration": 23,
        "start_time": "2023-10-15T13:53:38.224Z"
      },
      {
        "duration": 458,
        "start_time": "2023-10-15T13:53:38.248Z"
      },
      {
        "duration": 10,
        "start_time": "2023-10-15T13:53:38.708Z"
      },
      {
        "duration": 9,
        "start_time": "2023-10-15T13:53:38.720Z"
      },
      {
        "duration": 32,
        "start_time": "2023-10-15T13:53:38.730Z"
      },
      {
        "duration": 22,
        "start_time": "2023-10-15T13:53:38.764Z"
      },
      {
        "duration": 197,
        "start_time": "2023-10-15T13:53:38.789Z"
      },
      {
        "duration": 208,
        "start_time": "2023-10-15T13:53:38.988Z"
      },
      {
        "duration": 1357,
        "start_time": "2023-10-15T18:00:50.762Z"
      },
      {
        "duration": 81,
        "start_time": "2023-10-15T18:00:52.122Z"
      },
      {
        "duration": 4,
        "start_time": "2023-10-15T18:00:52.206Z"
      },
      {
        "duration": 54,
        "start_time": "2023-10-15T18:00:52.212Z"
      },
      {
        "duration": 20,
        "start_time": "2023-10-15T18:00:52.269Z"
      },
      {
        "duration": 26,
        "start_time": "2023-10-15T18:00:52.291Z"
      },
      {
        "duration": 34,
        "start_time": "2023-10-15T18:00:52.320Z"
      },
      {
        "duration": 29,
        "start_time": "2023-10-15T18:00:52.356Z"
      },
      {
        "duration": 18,
        "start_time": "2023-10-15T18:00:52.387Z"
      },
      {
        "duration": 16,
        "start_time": "2023-10-15T18:00:52.408Z"
      },
      {
        "duration": 31,
        "start_time": "2023-10-15T18:00:52.425Z"
      },
      {
        "duration": 40,
        "start_time": "2023-10-15T18:00:52.458Z"
      },
      {
        "duration": 44,
        "start_time": "2023-10-15T18:00:52.501Z"
      },
      {
        "duration": 200,
        "start_time": "2023-10-15T18:00:52.547Z"
      },
      {
        "duration": 148,
        "start_time": "2023-10-15T18:00:52.749Z"
      },
      {
        "duration": 216,
        "start_time": "2023-10-15T18:00:52.900Z"
      },
      {
        "duration": 463,
        "start_time": "2023-10-15T18:00:53.117Z"
      },
      {
        "duration": 147,
        "start_time": "2023-10-15T18:00:53.583Z"
      },
      {
        "duration": 19,
        "start_time": "2023-10-15T18:00:53.733Z"
      },
      {
        "duration": 21,
        "start_time": "2023-10-15T18:00:53.754Z"
      },
      {
        "duration": 40,
        "start_time": "2023-10-15T18:00:53.777Z"
      },
      {
        "duration": 24,
        "start_time": "2023-10-15T18:00:53.819Z"
      },
      {
        "duration": 526,
        "start_time": "2023-10-15T18:00:53.845Z"
      },
      {
        "duration": 10,
        "start_time": "2023-10-15T18:00:54.373Z"
      },
      {
        "duration": 13,
        "start_time": "2023-10-15T18:00:54.385Z"
      },
      {
        "duration": 45,
        "start_time": "2023-10-15T18:00:54.400Z"
      },
      {
        "duration": 37,
        "start_time": "2023-10-15T18:00:54.447Z"
      },
      {
        "duration": 223,
        "start_time": "2023-10-15T18:00:54.488Z"
      },
      {
        "duration": 210,
        "start_time": "2023-10-15T18:00:54.713Z"
      },
      {
        "duration": 6,
        "start_time": "2023-10-15T18:03:15.821Z"
      },
      {
        "duration": 9,
        "start_time": "2023-10-15T18:22:56.755Z"
      },
      {
        "duration": 9,
        "start_time": "2023-10-15T18:24:03.469Z"
      },
      {
        "duration": 202,
        "start_time": "2023-10-15T18:26:15.046Z"
      },
      {
        "duration": 168,
        "start_time": "2023-10-15T18:26:54.202Z"
      },
      {
        "duration": 7,
        "start_time": "2023-10-15T18:29:32.424Z"
      },
      {
        "duration": 10,
        "start_time": "2023-10-15T18:29:43.546Z"
      },
      {
        "duration": 9,
        "start_time": "2023-10-15T18:29:44.535Z"
      },
      {
        "duration": 172,
        "start_time": "2023-10-15T18:30:03.089Z"
      },
      {
        "duration": 200,
        "start_time": "2023-10-15T18:30:12.505Z"
      },
      {
        "duration": 7,
        "start_time": "2023-10-15T18:30:33.759Z"
      },
      {
        "duration": 8,
        "start_time": "2023-10-15T18:30:41.304Z"
      },
      {
        "duration": 9,
        "start_time": "2023-10-15T18:30:42.017Z"
      },
      {
        "duration": 197,
        "start_time": "2023-10-15T18:30:57.087Z"
      },
      {
        "duration": 371,
        "start_time": "2023-10-15T18:33:24.269Z"
      },
      {
        "duration": 1209,
        "start_time": "2023-10-15T18:34:03.106Z"
      },
      {
        "duration": 70,
        "start_time": "2023-10-15T18:34:04.317Z"
      },
      {
        "duration": 3,
        "start_time": "2023-10-15T18:34:04.389Z"
      },
      {
        "duration": 36,
        "start_time": "2023-10-15T18:34:04.394Z"
      },
      {
        "duration": 32,
        "start_time": "2023-10-15T18:34:04.431Z"
      },
      {
        "duration": 78,
        "start_time": "2023-10-15T18:34:04.465Z"
      },
      {
        "duration": 145,
        "start_time": "2023-10-15T18:34:04.545Z"
      },
      {
        "duration": 43,
        "start_time": "2023-10-15T18:34:04.691Z"
      },
      {
        "duration": 6,
        "start_time": "2023-10-15T18:34:04.736Z"
      },
      {
        "duration": 12,
        "start_time": "2023-10-15T18:34:04.745Z"
      },
      {
        "duration": 22,
        "start_time": "2023-10-15T18:34:04.759Z"
      },
      {
        "duration": 8,
        "start_time": "2023-10-15T18:34:04.783Z"
      },
      {
        "duration": 14,
        "start_time": "2023-10-15T18:34:04.793Z"
      },
      {
        "duration": 194,
        "start_time": "2023-10-15T18:34:04.809Z"
      },
      {
        "duration": 124,
        "start_time": "2023-10-15T18:34:05.005Z"
      },
      {
        "duration": 229,
        "start_time": "2023-10-15T18:34:05.131Z"
      },
      {
        "duration": 408,
        "start_time": "2023-10-15T18:34:05.362Z"
      },
      {
        "duration": 8,
        "start_time": "2023-10-15T18:34:05.771Z"
      },
      {
        "duration": 37,
        "start_time": "2023-10-15T18:34:05.780Z"
      },
      {
        "duration": 9,
        "start_time": "2023-10-15T18:34:05.819Z"
      },
      {
        "duration": 31,
        "start_time": "2023-10-15T18:34:05.830Z"
      },
      {
        "duration": 22,
        "start_time": "2023-10-15T18:34:05.863Z"
      },
      {
        "duration": 27,
        "start_time": "2023-10-15T18:34:05.886Z"
      },
      {
        "duration": 9,
        "start_time": "2023-10-15T18:34:05.914Z"
      },
      {
        "duration": 233,
        "start_time": "2023-10-15T18:34:05.925Z"
      },
      {
        "duration": 187,
        "start_time": "2023-10-15T18:34:06.160Z"
      },
      {
        "duration": 283,
        "start_time": "2023-10-15T18:34:06.349Z"
      },
      {
        "duration": 9,
        "start_time": "2023-10-15T18:35:18.501Z"
      },
      {
        "duration": 1274,
        "start_time": "2023-10-15T18:35:23.030Z"
      },
      {
        "duration": 69,
        "start_time": "2023-10-15T18:35:24.306Z"
      },
      {
        "duration": 3,
        "start_time": "2023-10-15T18:35:24.376Z"
      },
      {
        "duration": 27,
        "start_time": "2023-10-15T18:35:24.381Z"
      },
      {
        "duration": 18,
        "start_time": "2023-10-15T18:35:24.410Z"
      },
      {
        "duration": 26,
        "start_time": "2023-10-15T18:35:24.430Z"
      },
      {
        "duration": 23,
        "start_time": "2023-10-15T18:35:24.458Z"
      },
      {
        "duration": 23,
        "start_time": "2023-10-15T18:35:24.482Z"
      },
      {
        "duration": 6,
        "start_time": "2023-10-15T18:35:24.506Z"
      },
      {
        "duration": 16,
        "start_time": "2023-10-15T18:35:24.514Z"
      },
      {
        "duration": 9,
        "start_time": "2023-10-15T18:35:24.531Z"
      },
      {
        "duration": 8,
        "start_time": "2023-10-15T18:35:24.546Z"
      },
      {
        "duration": 8,
        "start_time": "2023-10-15T18:35:24.555Z"
      },
      {
        "duration": 199,
        "start_time": "2023-10-15T18:35:24.567Z"
      },
      {
        "duration": 117,
        "start_time": "2023-10-15T18:35:24.768Z"
      },
      {
        "duration": 186,
        "start_time": "2023-10-15T18:35:24.887Z"
      },
      {
        "duration": 449,
        "start_time": "2023-10-15T18:35:25.075Z"
      },
      {
        "duration": 21,
        "start_time": "2023-10-15T18:35:25.526Z"
      },
      {
        "duration": 7,
        "start_time": "2023-10-15T18:35:25.549Z"
      },
      {
        "duration": 43,
        "start_time": "2023-10-15T18:35:25.557Z"
      },
      {
        "duration": 60,
        "start_time": "2023-10-15T18:35:25.602Z"
      },
      {
        "duration": 19,
        "start_time": "2023-10-15T18:35:25.664Z"
      },
      {
        "duration": 15,
        "start_time": "2023-10-15T18:35:25.685Z"
      },
      {
        "duration": 13,
        "start_time": "2023-10-15T18:35:25.701Z"
      },
      {
        "duration": 25,
        "start_time": "2023-10-15T18:35:25.716Z"
      },
      {
        "duration": 203,
        "start_time": "2023-10-15T18:35:25.743Z"
      },
      {
        "duration": 188,
        "start_time": "2023-10-15T18:35:25.948Z"
      },
      {
        "duration": 285,
        "start_time": "2023-10-15T18:35:26.138Z"
      },
      {
        "duration": 1269,
        "start_time": "2023-10-15T18:36:24.046Z"
      },
      {
        "duration": 75,
        "start_time": "2023-10-15T18:36:25.318Z"
      },
      {
        "duration": 4,
        "start_time": "2023-10-15T18:36:25.395Z"
      },
      {
        "duration": 28,
        "start_time": "2023-10-15T18:36:25.401Z"
      },
      {
        "duration": 19,
        "start_time": "2023-10-15T18:36:25.431Z"
      },
      {
        "duration": 24,
        "start_time": "2023-10-15T18:36:25.453Z"
      },
      {
        "duration": 14,
        "start_time": "2023-10-15T18:36:25.479Z"
      },
      {
        "duration": 10,
        "start_time": "2023-10-15T18:36:25.495Z"
      },
      {
        "duration": 12,
        "start_time": "2023-10-15T18:36:25.507Z"
      },
      {
        "duration": 11,
        "start_time": "2023-10-15T18:36:25.546Z"
      },
      {
        "duration": 24,
        "start_time": "2023-10-15T18:36:25.559Z"
      },
      {
        "duration": 9,
        "start_time": "2023-10-15T18:36:25.585Z"
      },
      {
        "duration": 7,
        "start_time": "2023-10-15T18:36:25.596Z"
      },
      {
        "duration": 206,
        "start_time": "2023-10-15T18:36:25.605Z"
      },
      {
        "duration": 117,
        "start_time": "2023-10-15T18:36:25.812Z"
      },
      {
        "duration": 192,
        "start_time": "2023-10-15T18:36:25.931Z"
      },
      {
        "duration": 396,
        "start_time": "2023-10-15T18:36:26.125Z"
      },
      {
        "duration": 10,
        "start_time": "2023-10-15T18:36:26.523Z"
      },
      {
        "duration": 21,
        "start_time": "2023-10-15T18:36:26.534Z"
      },
      {
        "duration": 15,
        "start_time": "2023-10-15T18:36:26.557Z"
      },
      {
        "duration": 24,
        "start_time": "2023-10-15T18:36:26.573Z"
      },
      {
        "duration": 215,
        "start_time": "2023-10-15T18:36:26.599Z"
      },
      {
        "duration": 193,
        "start_time": "2023-10-15T18:36:26.816Z"
      },
      {
        "duration": 21,
        "start_time": "2023-10-15T18:36:53.987Z"
      },
      {
        "duration": 13,
        "start_time": "2023-10-15T18:38:11.826Z"
      },
      {
        "duration": 185,
        "start_time": "2023-10-15T18:39:38.224Z"
      },
      {
        "duration": 1261,
        "start_time": "2023-10-15T18:39:54.066Z"
      },
      {
        "duration": 72,
        "start_time": "2023-10-15T18:39:55.329Z"
      },
      {
        "duration": 3,
        "start_time": "2023-10-15T18:39:55.403Z"
      },
      {
        "duration": 34,
        "start_time": "2023-10-15T18:39:55.408Z"
      },
      {
        "duration": 43,
        "start_time": "2023-10-15T18:39:55.444Z"
      },
      {
        "duration": 35,
        "start_time": "2023-10-15T18:39:55.488Z"
      },
      {
        "duration": 54,
        "start_time": "2023-10-15T18:39:55.525Z"
      },
      {
        "duration": 19,
        "start_time": "2023-10-15T18:39:55.580Z"
      },
      {
        "duration": 13,
        "start_time": "2023-10-15T18:39:55.601Z"
      },
      {
        "duration": 47,
        "start_time": "2023-10-15T18:39:55.617Z"
      },
      {
        "duration": 27,
        "start_time": "2023-10-15T18:39:55.666Z"
      },
      {
        "duration": 33,
        "start_time": "2023-10-15T18:39:55.694Z"
      },
      {
        "duration": 29,
        "start_time": "2023-10-15T18:39:55.729Z"
      },
      {
        "duration": 213,
        "start_time": "2023-10-15T18:39:55.760Z"
      },
      {
        "duration": 126,
        "start_time": "2023-10-15T18:39:55.975Z"
      },
      {
        "duration": 191,
        "start_time": "2023-10-15T18:39:56.103Z"
      },
      {
        "duration": 388,
        "start_time": "2023-10-15T18:39:56.296Z"
      },
      {
        "duration": 11,
        "start_time": "2023-10-15T18:39:56.686Z"
      },
      {
        "duration": 22,
        "start_time": "2023-10-15T18:39:56.698Z"
      },
      {
        "duration": 30,
        "start_time": "2023-10-15T18:39:56.722Z"
      },
      {
        "duration": 31,
        "start_time": "2023-10-15T18:39:56.753Z"
      },
      {
        "duration": 108,
        "start_time": "2023-10-15T18:39:56.785Z"
      },
      {
        "duration": 12,
        "start_time": "2023-10-15T18:39:56.894Z"
      },
      {
        "duration": 32,
        "start_time": "2023-10-15T18:39:56.907Z"
      },
      {
        "duration": 212,
        "start_time": "2023-10-15T18:39:56.947Z"
      },
      {
        "duration": 273,
        "start_time": "2023-10-15T18:39:57.161Z"
      },
      {
        "duration": 188,
        "start_time": "2023-10-15T18:42:49.391Z"
      },
      {
        "duration": 183,
        "start_time": "2023-10-15T18:43:08.368Z"
      },
      {
        "duration": 184,
        "start_time": "2023-10-15T18:43:26.839Z"
      },
      {
        "duration": 192,
        "start_time": "2023-10-15T18:44:25.639Z"
      },
      {
        "duration": 190,
        "start_time": "2023-10-15T18:44:38.839Z"
      },
      {
        "duration": 198,
        "start_time": "2023-10-15T18:45:16.574Z"
      },
      {
        "duration": 185,
        "start_time": "2023-10-15T18:45:41.422Z"
      },
      {
        "duration": 214,
        "start_time": "2023-10-15T18:45:58.417Z"
      },
      {
        "duration": 206,
        "start_time": "2023-10-15T18:46:17.222Z"
      },
      {
        "duration": 169,
        "start_time": "2023-10-15T18:48:13.190Z"
      },
      {
        "duration": 276,
        "start_time": "2023-10-15T18:48:27.230Z"
      },
      {
        "duration": 182,
        "start_time": "2023-10-15T18:48:48.134Z"
      },
      {
        "duration": 177,
        "start_time": "2023-10-15T18:48:56.119Z"
      },
      {
        "duration": 185,
        "start_time": "2023-10-15T18:49:13.784Z"
      },
      {
        "duration": 185,
        "start_time": "2023-10-15T18:49:18.477Z"
      },
      {
        "duration": 198,
        "start_time": "2023-10-15T18:49:30.418Z"
      },
      {
        "duration": 122,
        "start_time": "2023-10-15T21:42:40.693Z"
      },
      {
        "duration": 19,
        "start_time": "2023-10-15T21:42:51.091Z"
      },
      {
        "duration": 85,
        "start_time": "2023-10-15T21:45:15.779Z"
      },
      {
        "duration": 99,
        "start_time": "2023-10-15T21:46:09.009Z"
      },
      {
        "duration": 33,
        "start_time": "2023-10-15T21:46:50.472Z"
      },
      {
        "duration": 31,
        "start_time": "2023-10-15T21:47:06.538Z"
      },
      {
        "duration": 18,
        "start_time": "2023-10-15T21:48:59.519Z"
      },
      {
        "duration": 6,
        "start_time": "2023-10-15T21:49:35.279Z"
      },
      {
        "duration": 25,
        "start_time": "2023-10-15T21:49:41.438Z"
      },
      {
        "duration": 18,
        "start_time": "2023-10-15T21:55:00.970Z"
      },
      {
        "duration": 27,
        "start_time": "2023-10-15T21:55:23.082Z"
      },
      {
        "duration": 23,
        "start_time": "2023-10-15T21:55:32.706Z"
      },
      {
        "duration": 9,
        "start_time": "2023-10-15T21:55:57.674Z"
      },
      {
        "duration": 28,
        "start_time": "2023-10-15T21:56:15.289Z"
      },
      {
        "duration": 28,
        "start_time": "2023-10-15T21:56:29.651Z"
      },
      {
        "duration": 34,
        "start_time": "2023-10-15T21:56:48.561Z"
      },
      {
        "duration": 22,
        "start_time": "2023-10-15T21:57:16.881Z"
      },
      {
        "duration": 28,
        "start_time": "2023-10-15T21:58:01.401Z"
      },
      {
        "duration": 27,
        "start_time": "2023-10-15T21:58:32.928Z"
      },
      {
        "duration": 111,
        "start_time": "2023-10-15T21:58:41.505Z"
      },
      {
        "duration": 110,
        "start_time": "2023-10-15T21:59:20.583Z"
      },
      {
        "duration": 9,
        "start_time": "2023-10-15T22:01:03.061Z"
      },
      {
        "duration": 1337,
        "start_time": "2023-10-15T22:01:09.430Z"
      },
      {
        "duration": 70,
        "start_time": "2023-10-15T22:01:10.773Z"
      },
      {
        "duration": 13,
        "start_time": "2023-10-15T22:01:10.845Z"
      },
      {
        "duration": 29,
        "start_time": "2023-10-15T22:01:10.860Z"
      },
      {
        "duration": 34,
        "start_time": "2023-10-15T22:01:10.891Z"
      },
      {
        "duration": 14,
        "start_time": "2023-10-15T22:01:10.927Z"
      },
      {
        "duration": 13,
        "start_time": "2023-10-15T22:01:10.942Z"
      },
      {
        "duration": 23,
        "start_time": "2023-10-15T22:01:10.956Z"
      },
      {
        "duration": 6,
        "start_time": "2023-10-15T22:01:10.981Z"
      },
      {
        "duration": 13,
        "start_time": "2023-10-15T22:01:10.990Z"
      },
      {
        "duration": 31,
        "start_time": "2023-10-15T22:01:11.005Z"
      },
      {
        "duration": 28,
        "start_time": "2023-10-15T22:01:11.038Z"
      },
      {
        "duration": 10,
        "start_time": "2023-10-15T22:01:11.069Z"
      },
      {
        "duration": 202,
        "start_time": "2023-10-15T22:01:11.080Z"
      },
      {
        "duration": 126,
        "start_time": "2023-10-15T22:01:11.284Z"
      },
      {
        "duration": 190,
        "start_time": "2023-10-15T22:01:11.412Z"
      },
      {
        "duration": 425,
        "start_time": "2023-10-15T22:01:11.603Z"
      },
      {
        "duration": 23,
        "start_time": "2023-10-15T22:01:12.029Z"
      },
      {
        "duration": 17,
        "start_time": "2023-10-15T22:01:12.060Z"
      },
      {
        "duration": 21,
        "start_time": "2023-10-15T22:01:12.079Z"
      },
      {
        "duration": 21,
        "start_time": "2023-10-15T22:01:12.102Z"
      },
      {
        "duration": 11,
        "start_time": "2023-10-15T22:01:12.125Z"
      },
      {
        "duration": 230,
        "start_time": "2023-10-15T22:01:12.138Z"
      },
      {
        "duration": 217,
        "start_time": "2023-10-15T22:01:12.373Z"
      },
      {
        "duration": 137,
        "start_time": "2023-10-15T22:01:12.592Z"
      },
      {
        "duration": 118,
        "start_time": "2023-10-15T22:01:18.281Z"
      },
      {
        "duration": 114,
        "start_time": "2023-10-15T22:01:45.672Z"
      },
      {
        "duration": 197,
        "start_time": "2023-10-15T22:02:05.504Z"
      },
      {
        "duration": 25,
        "start_time": "2023-10-15T22:04:13.844Z"
      },
      {
        "duration": 15,
        "start_time": "2023-10-15T22:04:37.012Z"
      },
      {
        "duration": 4,
        "start_time": "2023-10-15T22:04:47.740Z"
      },
      {
        "duration": 27,
        "start_time": "2023-10-15T22:04:50.539Z"
      },
      {
        "duration": 3,
        "start_time": "2023-10-15T22:05:08.483Z"
      },
      {
        "duration": 3,
        "start_time": "2023-10-15T22:05:09.702Z"
      },
      {
        "duration": 2,
        "start_time": "2023-10-15T22:05:15.473Z"
      },
      {
        "duration": 10,
        "start_time": "2023-10-15T22:05:29.483Z"
      },
      {
        "duration": 1281,
        "start_time": "2023-10-15T22:05:40.783Z"
      },
      {
        "duration": 75,
        "start_time": "2023-10-15T22:05:42.066Z"
      },
      {
        "duration": 3,
        "start_time": "2023-10-15T22:05:42.142Z"
      },
      {
        "duration": 41,
        "start_time": "2023-10-15T22:05:42.153Z"
      },
      {
        "duration": 23,
        "start_time": "2023-10-15T22:05:42.196Z"
      },
      {
        "duration": 14,
        "start_time": "2023-10-15T22:05:42.221Z"
      },
      {
        "duration": 6,
        "start_time": "2023-10-15T22:05:42.237Z"
      },
      {
        "duration": 17,
        "start_time": "2023-10-15T22:05:42.247Z"
      },
      {
        "duration": 15,
        "start_time": "2023-10-15T22:05:42.274Z"
      },
      {
        "duration": 22,
        "start_time": "2023-10-15T22:05:42.291Z"
      },
      {
        "duration": 30,
        "start_time": "2023-10-15T22:05:42.315Z"
      },
      {
        "duration": 189,
        "start_time": "2023-10-15T22:05:42.347Z"
      },
      {
        "duration": 26,
        "start_time": "2023-10-15T22:05:42.538Z"
      },
      {
        "duration": 187,
        "start_time": "2023-10-15T22:05:42.567Z"
      },
      {
        "duration": 126,
        "start_time": "2023-10-15T22:05:42.758Z"
      },
      {
        "duration": 203,
        "start_time": "2023-10-15T22:05:42.885Z"
      },
      {
        "duration": 422,
        "start_time": "2023-10-15T22:05:43.090Z"
      },
      {
        "duration": 11,
        "start_time": "2023-10-15T22:05:43.513Z"
      },
      {
        "duration": 42,
        "start_time": "2023-10-15T22:05:43.526Z"
      },
      {
        "duration": 18,
        "start_time": "2023-10-15T22:05:43.573Z"
      },
      {
        "duration": 32,
        "start_time": "2023-10-15T22:05:43.593Z"
      },
      {
        "duration": 13,
        "start_time": "2023-10-15T22:05:43.627Z"
      },
      {
        "duration": 232,
        "start_time": "2023-10-15T22:05:43.642Z"
      },
      {
        "duration": 213,
        "start_time": "2023-10-15T22:05:43.876Z"
      },
      {
        "duration": 122,
        "start_time": "2023-10-15T22:05:44.091Z"
      },
      {
        "duration": 4,
        "start_time": "2023-10-15T22:05:44.215Z"
      },
      {
        "duration": 29,
        "start_time": "2023-10-15T22:05:44.221Z"
      },
      {
        "duration": 4,
        "start_time": "2023-10-15T22:06:01.272Z"
      },
      {
        "duration": 15,
        "start_time": "2023-10-15T22:06:01.626Z"
      },
      {
        "duration": 4,
        "start_time": "2023-10-15T22:06:41.010Z"
      },
      {
        "duration": 16,
        "start_time": "2023-10-15T22:07:06.890Z"
      },
      {
        "duration": 105,
        "start_time": "2023-10-15T22:10:27.175Z"
      },
      {
        "duration": 25,
        "start_time": "2023-10-15T22:15:51.707Z"
      },
      {
        "duration": 4,
        "start_time": "2023-10-15T22:15:52.715Z"
      },
      {
        "duration": 4,
        "start_time": "2023-10-15T22:15:53.338Z"
      },
      {
        "duration": 12,
        "start_time": "2023-10-15T22:15:53.931Z"
      },
      {
        "duration": 107,
        "start_time": "2023-10-15T22:16:13.835Z"
      },
      {
        "duration": 4,
        "start_time": "2023-10-15T22:16:14.138Z"
      },
      {
        "duration": 4,
        "start_time": "2023-10-15T22:16:15.530Z"
      },
      {
        "duration": 15,
        "start_time": "2023-10-15T22:16:16.020Z"
      },
      {
        "duration": 18,
        "start_time": "2023-10-15T22:16:35.346Z"
      },
      {
        "duration": 107,
        "start_time": "2023-10-15T22:22:47.393Z"
      },
      {
        "duration": 3,
        "start_time": "2023-10-15T22:22:54.793Z"
      },
      {
        "duration": 1491,
        "start_time": "2023-10-15T22:25:47.006Z"
      },
      {
        "duration": 1574,
        "start_time": "2023-10-15T22:26:12.607Z"
      },
      {
        "duration": 101,
        "start_time": "2023-10-15T22:27:02.975Z"
      },
      {
        "duration": 5,
        "start_time": "2023-10-15T22:27:04.774Z"
      },
      {
        "duration": 4,
        "start_time": "2023-10-15T22:27:06.341Z"
      },
      {
        "duration": 10,
        "start_time": "2023-10-15T22:27:06.976Z"
      },
      {
        "duration": 101,
        "start_time": "2023-10-15T22:27:38.133Z"
      },
      {
        "duration": 1031,
        "start_time": "2023-10-15T22:27:48.533Z"
      },
      {
        "duration": 4,
        "start_time": "2023-10-15T22:27:51.533Z"
      },
      {
        "duration": 8,
        "start_time": "2023-10-15T22:27:52.563Z"
      },
      {
        "duration": 11,
        "start_time": "2023-10-15T22:27:53.174Z"
      },
      {
        "duration": 1325,
        "start_time": "2023-10-15T22:28:28.377Z"
      },
      {
        "duration": 81,
        "start_time": "2023-10-15T22:28:29.705Z"
      },
      {
        "duration": 2,
        "start_time": "2023-10-15T22:28:29.788Z"
      },
      {
        "duration": 27,
        "start_time": "2023-10-15T22:28:29.793Z"
      },
      {
        "duration": 19,
        "start_time": "2023-10-15T22:28:29.822Z"
      },
      {
        "duration": 31,
        "start_time": "2023-10-15T22:28:29.843Z"
      },
      {
        "duration": 10,
        "start_time": "2023-10-15T22:28:29.875Z"
      },
      {
        "duration": 7,
        "start_time": "2023-10-15T22:28:29.886Z"
      },
      {
        "duration": 5,
        "start_time": "2023-10-15T22:28:29.895Z"
      },
      {
        "duration": 11,
        "start_time": "2023-10-15T22:28:29.903Z"
      },
      {
        "duration": 45,
        "start_time": "2023-10-15T22:28:29.916Z"
      },
      {
        "duration": 12,
        "start_time": "2023-10-15T22:28:29.967Z"
      },
      {
        "duration": 11,
        "start_time": "2023-10-15T22:28:29.981Z"
      },
      {
        "duration": 217,
        "start_time": "2023-10-15T22:28:29.993Z"
      },
      {
        "duration": 128,
        "start_time": "2023-10-15T22:28:30.212Z"
      },
      {
        "duration": 206,
        "start_time": "2023-10-15T22:28:30.342Z"
      },
      {
        "duration": 428,
        "start_time": "2023-10-15T22:28:30.554Z"
      },
      {
        "duration": 10,
        "start_time": "2023-10-15T22:28:30.984Z"
      },
      {
        "duration": 37,
        "start_time": "2023-10-15T22:28:30.996Z"
      },
      {
        "duration": 75,
        "start_time": "2023-10-15T22:28:31.035Z"
      },
      {
        "duration": 94,
        "start_time": "2023-10-15T22:28:31.112Z"
      },
      {
        "duration": 40,
        "start_time": "2023-10-15T22:28:31.208Z"
      },
      {
        "duration": 239,
        "start_time": "2023-10-15T22:28:31.257Z"
      },
      {
        "duration": 224,
        "start_time": "2023-10-15T22:28:31.498Z"
      },
      {
        "duration": 1109,
        "start_time": "2023-10-15T22:28:31.724Z"
      },
      {
        "duration": 4,
        "start_time": "2023-10-15T22:28:32.835Z"
      },
      {
        "duration": 62,
        "start_time": "2023-10-15T22:28:32.849Z"
      },
      {
        "duration": 91,
        "start_time": "2023-10-15T22:28:32.914Z"
      },
      {
        "duration": 31,
        "start_time": "2023-10-15T22:28:33.006Z"
      },
      {
        "duration": 1904,
        "start_time": "2023-10-15T22:28:33.039Z"
      },
      {
        "duration": 1329,
        "start_time": "2023-10-15T22:28:59.674Z"
      },
      {
        "duration": 7,
        "start_time": "2023-10-15T22:29:44.669Z"
      },
      {
        "duration": 1655,
        "start_time": "2023-10-15T22:30:47.244Z"
      },
      {
        "duration": 19,
        "start_time": "2023-10-15T22:30:55.747Z"
      },
      {
        "duration": 157,
        "start_time": "2023-10-15T22:30:56.931Z"
      },
      {
        "duration": 20,
        "start_time": "2023-10-15T22:31:10.173Z"
      },
      {
        "duration": 11,
        "start_time": "2023-10-15T22:34:50.672Z"
      },
      {
        "duration": 189,
        "start_time": "2023-10-15T22:35:12.265Z"
      },
      {
        "duration": 190,
        "start_time": "2023-10-15T22:35:48.520Z"
      },
      {
        "duration": 187,
        "start_time": "2023-10-15T22:36:09.136Z"
      },
      {
        "duration": 1008,
        "start_time": "2023-10-15T22:37:08.302Z"
      },
      {
        "duration": 0,
        "start_time": "2023-10-15T22:37:09.313Z"
      },
      {
        "duration": 396,
        "start_time": "2023-10-15T22:37:58.583Z"
      },
      {
        "duration": 4,
        "start_time": "2023-10-15T22:40:17.364Z"
      },
      {
        "duration": 9,
        "start_time": "2023-10-15T22:40:18.092Z"
      },
      {
        "duration": 18,
        "start_time": "2023-10-15T22:40:31.772Z"
      },
      {
        "duration": 1516,
        "start_time": "2023-10-15T22:41:28.105Z"
      },
      {
        "duration": 0,
        "start_time": "2023-10-15T22:41:29.623Z"
      },
      {
        "duration": 7,
        "start_time": "2023-10-15T22:41:48.023Z"
      },
      {
        "duration": 19,
        "start_time": "2023-10-15T22:41:52.660Z"
      },
      {
        "duration": 3,
        "start_time": "2023-10-15T22:42:10.427Z"
      },
      {
        "duration": 1193,
        "start_time": "2023-10-15T22:42:11.466Z"
      },
      {
        "duration": 140,
        "start_time": "2023-10-15T22:43:32.875Z"
      },
      {
        "duration": 22,
        "start_time": "2023-10-15T22:43:33.883Z"
      },
      {
        "duration": 12,
        "start_time": "2023-10-15T22:43:47.682Z"
      },
      {
        "duration": 16,
        "start_time": "2023-10-15T22:44:00.138Z"
      },
      {
        "duration": 1047,
        "start_time": "2023-10-15T22:46:01.577Z"
      },
      {
        "duration": 4,
        "start_time": "2023-10-15T22:46:02.626Z"
      },
      {
        "duration": 260,
        "start_time": "2023-10-15T22:46:02.699Z"
      },
      {
        "duration": 12,
        "start_time": "2023-10-15T22:46:03.585Z"
      },
      {
        "duration": 139,
        "start_time": "2023-10-15T22:46:13.159Z"
      },
      {
        "duration": 19,
        "start_time": "2023-10-15T22:46:17.345Z"
      },
      {
        "duration": 4,
        "start_time": "2023-10-15T22:46:19.232Z"
      },
      {
        "duration": 138,
        "start_time": "2023-10-15T22:46:19.601Z"
      },
      {
        "duration": 13,
        "start_time": "2023-10-15T22:46:19.897Z"
      },
      {
        "duration": 10,
        "start_time": "2023-10-16T22:20:27.283Z"
      },
      {
        "duration": 1337,
        "start_time": "2023-10-16T22:20:31.298Z"
      },
      {
        "duration": 197,
        "start_time": "2023-10-16T22:20:32.637Z"
      },
      {
        "duration": 3,
        "start_time": "2023-10-16T22:20:32.835Z"
      },
      {
        "duration": 30,
        "start_time": "2023-10-16T22:20:32.840Z"
      },
      {
        "duration": 21,
        "start_time": "2023-10-16T22:20:32.871Z"
      },
      {
        "duration": 12,
        "start_time": "2023-10-16T22:20:32.893Z"
      },
      {
        "duration": 12,
        "start_time": "2023-10-16T22:20:32.907Z"
      },
      {
        "duration": 30,
        "start_time": "2023-10-16T22:20:32.921Z"
      },
      {
        "duration": 10,
        "start_time": "2023-10-16T22:20:32.953Z"
      },
      {
        "duration": 15,
        "start_time": "2023-10-16T22:20:32.966Z"
      },
      {
        "duration": 9,
        "start_time": "2023-10-16T22:20:32.982Z"
      },
      {
        "duration": 9,
        "start_time": "2023-10-16T22:20:32.993Z"
      },
      {
        "duration": 7,
        "start_time": "2023-10-16T22:20:33.006Z"
      },
      {
        "duration": 164,
        "start_time": "2023-10-16T22:20:33.015Z"
      },
      {
        "duration": 129,
        "start_time": "2023-10-16T22:20:33.181Z"
      },
      {
        "duration": 181,
        "start_time": "2023-10-16T22:20:33.312Z"
      },
      {
        "duration": 360,
        "start_time": "2023-10-16T22:20:33.495Z"
      },
      {
        "duration": 9,
        "start_time": "2023-10-16T22:20:33.857Z"
      },
      {
        "duration": 36,
        "start_time": "2023-10-16T22:20:33.868Z"
      },
      {
        "duration": 14,
        "start_time": "2023-10-16T22:20:33.905Z"
      },
      {
        "duration": 19,
        "start_time": "2023-10-16T22:20:33.920Z"
      },
      {
        "duration": 22,
        "start_time": "2023-10-16T22:20:33.941Z"
      },
      {
        "duration": 177,
        "start_time": "2023-10-16T22:20:33.965Z"
      },
      {
        "duration": 256,
        "start_time": "2023-10-16T22:20:34.144Z"
      },
      {
        "duration": 829,
        "start_time": "2023-10-16T22:20:34.402Z"
      },
      {
        "duration": 99,
        "start_time": "2023-10-16T22:20:35.232Z"
      },
      {
        "duration": 0,
        "start_time": "2023-10-16T22:20:35.333Z"
      },
      {
        "duration": 0,
        "start_time": "2023-10-16T22:20:35.334Z"
      },
      {
        "duration": 0,
        "start_time": "2023-10-16T22:20:35.335Z"
      },
      {
        "duration": 0,
        "start_time": "2023-10-16T22:20:35.337Z"
      },
      {
        "duration": 0,
        "start_time": "2023-10-16T22:20:35.338Z"
      },
      {
        "duration": 0,
        "start_time": "2023-10-16T22:20:35.339Z"
      },
      {
        "duration": 4,
        "start_time": "2023-10-16T22:20:49.759Z"
      },
      {
        "duration": 4,
        "start_time": "2023-10-16T22:20:54.983Z"
      },
      {
        "duration": 9,
        "start_time": "2023-10-16T22:21:01.646Z"
      },
      {
        "duration": 1109,
        "start_time": "2023-10-16T22:21:11.318Z"
      },
      {
        "duration": 69,
        "start_time": "2023-10-16T22:21:12.429Z"
      },
      {
        "duration": 3,
        "start_time": "2023-10-16T22:21:12.499Z"
      },
      {
        "duration": 25,
        "start_time": "2023-10-16T22:21:12.504Z"
      },
      {
        "duration": 16,
        "start_time": "2023-10-16T22:21:12.531Z"
      },
      {
        "duration": 12,
        "start_time": "2023-10-16T22:21:12.549Z"
      },
      {
        "duration": 11,
        "start_time": "2023-10-16T22:21:12.563Z"
      },
      {
        "duration": 15,
        "start_time": "2023-10-16T22:21:12.575Z"
      },
      {
        "duration": 6,
        "start_time": "2023-10-16T22:21:12.606Z"
      },
      {
        "duration": 13,
        "start_time": "2023-10-16T22:21:12.614Z"
      },
      {
        "duration": 9,
        "start_time": "2023-10-16T22:21:12.628Z"
      },
      {
        "duration": 7,
        "start_time": "2023-10-16T22:21:12.638Z"
      },
      {
        "duration": 6,
        "start_time": "2023-10-16T22:21:12.646Z"
      },
      {
        "duration": 203,
        "start_time": "2023-10-16T22:21:12.654Z"
      },
      {
        "duration": 106,
        "start_time": "2023-10-16T22:21:12.858Z"
      },
      {
        "duration": 154,
        "start_time": "2023-10-16T22:21:12.965Z"
      },
      {
        "duration": 337,
        "start_time": "2023-10-16T22:21:13.121Z"
      },
      {
        "duration": 9,
        "start_time": "2023-10-16T22:21:13.460Z"
      },
      {
        "duration": 14,
        "start_time": "2023-10-16T22:21:13.470Z"
      },
      {
        "duration": 20,
        "start_time": "2023-10-16T22:21:13.486Z"
      },
      {
        "duration": 12,
        "start_time": "2023-10-16T22:21:13.508Z"
      },
      {
        "duration": 21,
        "start_time": "2023-10-16T22:21:13.522Z"
      },
      {
        "duration": 185,
        "start_time": "2023-10-16T22:21:13.545Z"
      },
      {
        "duration": 181,
        "start_time": "2023-10-16T22:21:13.731Z"
      },
      {
        "duration": 912,
        "start_time": "2023-10-16T22:21:13.914Z"
      },
      {
        "duration": 3,
        "start_time": "2023-10-16T22:21:14.827Z"
      },
      {
        "duration": 26,
        "start_time": "2023-10-16T22:21:14.832Z"
      },
      {
        "duration": 41,
        "start_time": "2023-10-16T22:21:14.861Z"
      },
      {
        "duration": 4,
        "start_time": "2023-10-16T22:21:14.903Z"
      },
      {
        "duration": 117,
        "start_time": "2023-10-16T22:21:14.909Z"
      },
      {
        "duration": 12,
        "start_time": "2023-10-16T22:21:15.028Z"
      },
      {
        "duration": 31,
        "start_time": "2023-10-16T22:21:15.041Z"
      },
      {
        "duration": 6,
        "start_time": "2023-10-16T22:24:08.284Z"
      },
      {
        "duration": 5,
        "start_time": "2023-10-16T22:30:22.280Z"
      },
      {
        "duration": 5,
        "start_time": "2023-10-16T22:30:53.879Z"
      },
      {
        "duration": 12,
        "start_time": "2023-10-16T22:36:43.827Z"
      },
      {
        "duration": 7,
        "start_time": "2023-10-16T22:37:46.076Z"
      },
      {
        "duration": 6,
        "start_time": "2023-10-16T22:38:07.643Z"
      },
      {
        "duration": 6,
        "start_time": "2023-10-16T22:54:59.381Z"
      },
      {
        "duration": 11,
        "start_time": "2023-10-16T22:55:04.712Z"
      },
      {
        "duration": 7,
        "start_time": "2023-10-16T22:55:11.405Z"
      },
      {
        "duration": 1529,
        "start_time": "2023-10-17T15:35:08.695Z"
      },
      {
        "duration": 320,
        "start_time": "2023-10-17T15:35:10.227Z"
      },
      {
        "duration": 3,
        "start_time": "2023-10-17T15:35:10.549Z"
      },
      {
        "duration": 34,
        "start_time": "2023-10-17T15:35:10.554Z"
      },
      {
        "duration": 22,
        "start_time": "2023-10-17T15:35:10.590Z"
      },
      {
        "duration": 20,
        "start_time": "2023-10-17T15:35:10.621Z"
      },
      {
        "duration": 8,
        "start_time": "2023-10-17T15:35:10.656Z"
      },
      {
        "duration": 11,
        "start_time": "2023-10-17T15:35:10.666Z"
      },
      {
        "duration": 7,
        "start_time": "2023-10-17T15:35:10.679Z"
      },
      {
        "duration": 18,
        "start_time": "2023-10-17T15:35:10.689Z"
      },
      {
        "duration": 27,
        "start_time": "2023-10-17T15:35:10.709Z"
      },
      {
        "duration": 19,
        "start_time": "2023-10-17T15:35:10.738Z"
      },
      {
        "duration": 8,
        "start_time": "2023-10-17T15:35:10.758Z"
      },
      {
        "duration": 198,
        "start_time": "2023-10-17T15:35:10.767Z"
      },
      {
        "duration": 122,
        "start_time": "2023-10-17T15:35:10.967Z"
      },
      {
        "duration": 177,
        "start_time": "2023-10-17T15:35:11.091Z"
      },
      {
        "duration": 380,
        "start_time": "2023-10-17T15:35:11.270Z"
      },
      {
        "duration": 12,
        "start_time": "2023-10-17T15:35:11.652Z"
      },
      {
        "duration": 13,
        "start_time": "2023-10-17T15:35:11.666Z"
      },
      {
        "duration": 18,
        "start_time": "2023-10-17T15:35:11.681Z"
      },
      {
        "duration": 39,
        "start_time": "2023-10-17T15:35:11.701Z"
      },
      {
        "duration": 16,
        "start_time": "2023-10-17T15:35:11.743Z"
      },
      {
        "duration": 213,
        "start_time": "2023-10-17T15:35:11.761Z"
      },
      {
        "duration": 199,
        "start_time": "2023-10-17T15:35:11.976Z"
      },
      {
        "duration": 1015,
        "start_time": "2023-10-17T15:35:12.176Z"
      },
      {
        "duration": 3,
        "start_time": "2023-10-17T15:35:13.193Z"
      },
      {
        "duration": 11,
        "start_time": "2023-10-17T15:35:13.198Z"
      },
      {
        "duration": 29,
        "start_time": "2023-10-17T15:35:13.213Z"
      },
      {
        "duration": 7,
        "start_time": "2023-10-17T15:35:13.244Z"
      },
      {
        "duration": 141,
        "start_time": "2023-10-17T15:35:13.253Z"
      },
      {
        "duration": 13,
        "start_time": "2023-10-17T15:35:13.396Z"
      },
      {
        "duration": 30,
        "start_time": "2023-10-17T15:35:13.410Z"
      },
      {
        "duration": 8,
        "start_time": "2023-10-17T15:35:13.442Z"
      },
      {
        "duration": 44,
        "start_time": "2023-10-17T15:35:13.451Z"
      },
      {
        "duration": 108,
        "start_time": "2023-10-17T15:54:29.651Z"
      },
      {
        "duration": 283,
        "start_time": "2023-10-17T15:54:46.684Z"
      },
      {
        "duration": 277,
        "start_time": "2023-10-17T15:55:16.147Z"
      },
      {
        "duration": 270,
        "start_time": "2023-10-17T15:55:49.611Z"
      },
      {
        "duration": 317,
        "start_time": "2023-10-17T15:55:58.911Z"
      },
      {
        "duration": 264,
        "start_time": "2023-10-17T15:56:10.293Z"
      },
      {
        "duration": 368,
        "start_time": "2023-10-17T15:56:30.845Z"
      },
      {
        "duration": 269,
        "start_time": "2023-10-17T15:56:37.554Z"
      },
      {
        "duration": 450,
        "start_time": "2023-10-17T15:56:48.961Z"
      },
      {
        "duration": 50,
        "start_time": "2023-10-17T15:57:21.575Z"
      },
      {
        "duration": 40,
        "start_time": "2023-10-17T15:57:43.881Z"
      },
      {
        "duration": 142,
        "start_time": "2023-10-17T15:57:52.489Z"
      },
      {
        "duration": 161,
        "start_time": "2023-10-17T15:59:51.048Z"
      },
      {
        "duration": 46,
        "start_time": "2023-10-17T16:00:06.102Z"
      },
      {
        "duration": 87,
        "start_time": "2023-10-17T16:00:24.482Z"
      },
      {
        "duration": 51,
        "start_time": "2023-10-17T16:00:28.729Z"
      },
      {
        "duration": 549,
        "start_time": "2023-10-17T16:01:12.335Z"
      },
      {
        "duration": 434,
        "start_time": "2023-10-17T16:01:20.710Z"
      },
      {
        "duration": 273,
        "start_time": "2023-10-17T16:01:26.151Z"
      },
      {
        "duration": 286,
        "start_time": "2023-10-17T16:02:09.414Z"
      },
      {
        "duration": 274,
        "start_time": "2023-10-17T16:17:02.165Z"
      },
      {
        "duration": 162,
        "start_time": "2023-10-17T16:17:09.397Z"
      },
      {
        "duration": 310,
        "start_time": "2023-10-17T16:17:18.901Z"
      },
      {
        "duration": 174,
        "start_time": "2023-10-17T16:17:25.255Z"
      },
      {
        "duration": 276,
        "start_time": "2023-10-17T16:18:22.453Z"
      },
      {
        "duration": 226,
        "start_time": "2023-10-17T16:20:18.627Z"
      },
      {
        "duration": 182,
        "start_time": "2023-10-17T16:20:42.827Z"
      },
      {
        "duration": 300,
        "start_time": "2023-10-17T16:20:59.299Z"
      },
      {
        "duration": 265,
        "start_time": "2023-10-17T16:21:15.573Z"
      },
      {
        "duration": 259,
        "start_time": "2023-10-17T16:21:42.666Z"
      },
      {
        "duration": 463,
        "start_time": "2023-10-17T16:21:47.175Z"
      },
      {
        "duration": 252,
        "start_time": "2023-10-17T16:21:57.145Z"
      },
      {
        "duration": 317,
        "start_time": "2023-10-17T16:22:10.018Z"
      },
      {
        "duration": 288,
        "start_time": "2023-10-17T16:22:16.494Z"
      },
      {
        "duration": 29,
        "start_time": "2023-10-17T16:22:31.298Z"
      },
      {
        "duration": 300,
        "start_time": "2023-10-17T16:22:38.330Z"
      },
      {
        "duration": 11,
        "start_time": "2023-10-17T16:24:06.865Z"
      },
      {
        "duration": 1677,
        "start_time": "2023-10-17T16:26:00.400Z"
      },
      {
        "duration": 1741,
        "start_time": "2023-10-17T16:26:13.685Z"
      },
      {
        "duration": 1380,
        "start_time": "2023-10-17T16:36:55.392Z"
      },
      {
        "duration": 1705,
        "start_time": "2023-10-17T16:37:09.654Z"
      },
      {
        "duration": 1420,
        "start_time": "2023-10-17T16:37:23.400Z"
      },
      {
        "duration": 1815,
        "start_time": "2023-10-17T16:38:25.613Z"
      },
      {
        "duration": 1390,
        "start_time": "2023-10-17T16:39:11.149Z"
      },
      {
        "duration": 1897,
        "start_time": "2023-10-17T16:39:24.133Z"
      },
      {
        "duration": 1354,
        "start_time": "2023-10-17T16:39:35.228Z"
      },
      {
        "duration": 2573,
        "start_time": "2023-10-17T16:39:46.035Z"
      },
      {
        "duration": 3676,
        "start_time": "2023-10-17T16:40:07.468Z"
      },
      {
        "duration": 6393,
        "start_time": "2023-10-17T16:40:20.965Z"
      },
      {
        "duration": 6751,
        "start_time": "2023-10-17T16:40:34.036Z"
      },
      {
        "duration": 722,
        "start_time": "2023-10-17T16:40:54.156Z"
      },
      {
        "duration": 691,
        "start_time": "2023-10-17T16:41:13.407Z"
      },
      {
        "duration": 800,
        "start_time": "2023-10-17T16:41:22.007Z"
      },
      {
        "duration": 1363,
        "start_time": "2023-10-17T16:42:14.452Z"
      },
      {
        "duration": 1898,
        "start_time": "2023-10-17T16:42:27.209Z"
      },
      {
        "duration": 295,
        "start_time": "2023-10-17T16:42:50.858Z"
      },
      {
        "duration": 1001,
        "start_time": "2023-10-17T16:43:40.010Z"
      },
      {
        "duration": 965,
        "start_time": "2023-10-17T16:44:13.798Z"
      },
      {
        "duration": 3,
        "start_time": "2023-10-17T16:47:53.201Z"
      },
      {
        "duration": 5,
        "start_time": "2023-10-17T16:48:05.032Z"
      },
      {
        "duration": 5,
        "start_time": "2023-10-17T16:48:11.567Z"
      },
      {
        "duration": 6,
        "start_time": "2023-10-17T16:48:16.448Z"
      },
      {
        "duration": 5,
        "start_time": "2023-10-17T16:48:23.899Z"
      },
      {
        "duration": 5,
        "start_time": "2023-10-17T16:48:28.550Z"
      },
      {
        "duration": 5,
        "start_time": "2023-10-17T16:48:32.567Z"
      },
      {
        "duration": 1100,
        "start_time": "2023-10-17T16:48:48.001Z"
      },
      {
        "duration": 1127,
        "start_time": "2023-10-17T16:49:39.286Z"
      },
      {
        "duration": 1388,
        "start_time": "2023-10-17T16:49:59.103Z"
      },
      {
        "duration": 1573,
        "start_time": "2023-10-17T16:50:18.696Z"
      },
      {
        "duration": 6,
        "start_time": "2023-10-17T16:50:53.705Z"
      },
      {
        "duration": 6,
        "start_time": "2023-10-17T16:50:59.370Z"
      },
      {
        "duration": 6,
        "start_time": "2023-10-17T16:51:03.502Z"
      },
      {
        "duration": 6,
        "start_time": "2023-10-17T16:51:08.370Z"
      },
      {
        "duration": 5,
        "start_time": "2023-10-17T16:51:12.118Z"
      },
      {
        "duration": 13,
        "start_time": "2023-10-17T16:51:16.454Z"
      },
      {
        "duration": 5,
        "start_time": "2023-10-17T16:51:23.101Z"
      },
      {
        "duration": 5,
        "start_time": "2023-10-17T16:51:27.246Z"
      },
      {
        "duration": 6,
        "start_time": "2023-10-17T16:51:31.370Z"
      },
      {
        "duration": 5,
        "start_time": "2023-10-17T16:51:36.502Z"
      },
      {
        "duration": 5,
        "start_time": "2023-10-17T16:51:42.046Z"
      },
      {
        "duration": 7,
        "start_time": "2023-10-17T16:51:49.099Z"
      },
      {
        "duration": 6,
        "start_time": "2023-10-17T16:51:53.421Z"
      },
      {
        "duration": 3845,
        "start_time": "2023-10-17T16:52:02.630Z"
      },
      {
        "duration": 1505,
        "start_time": "2023-10-17T16:53:46.517Z"
      },
      {
        "duration": 1473,
        "start_time": "2023-10-17T16:54:00.510Z"
      },
      {
        "duration": 1437,
        "start_time": "2023-10-17T16:54:19.405Z"
      },
      {
        "duration": 1472,
        "start_time": "2023-10-17T16:55:07.156Z"
      },
      {
        "duration": 3767,
        "start_time": "2023-10-17T16:55:23.453Z"
      },
      {
        "duration": 1235,
        "start_time": "2023-10-17T17:03:51.359Z"
      },
      {
        "duration": 987,
        "start_time": "2023-10-17T17:09:49.701Z"
      },
      {
        "duration": 1082,
        "start_time": "2023-10-17T17:10:02.525Z"
      },
      {
        "duration": 1198,
        "start_time": "2023-10-17T17:10:10.996Z"
      },
      {
        "duration": 1107,
        "start_time": "2023-10-17T17:10:53.294Z"
      },
      {
        "duration": 1089,
        "start_time": "2023-10-17T17:11:46.571Z"
      },
      {
        "duration": 1136,
        "start_time": "2023-10-17T17:12:11.146Z"
      },
      {
        "duration": 145,
        "start_time": "2023-10-17T17:29:36.170Z"
      },
      {
        "duration": 95,
        "start_time": "2023-10-17T17:29:44.898Z"
      },
      {
        "duration": 160,
        "start_time": "2023-10-17T17:29:51.010Z"
      },
      {
        "duration": 98,
        "start_time": "2023-10-17T17:31:59.761Z"
      },
      {
        "duration": 151,
        "start_time": "2023-10-17T17:32:40.960Z"
      },
      {
        "duration": 187,
        "start_time": "2023-10-17T17:44:37.737Z"
      },
      {
        "duration": 184,
        "start_time": "2023-10-17T17:44:49.521Z"
      },
      {
        "duration": 1280,
        "start_time": "2023-10-17T17:57:37.340Z"
      },
      {
        "duration": 74,
        "start_time": "2023-10-17T17:57:38.622Z"
      },
      {
        "duration": 3,
        "start_time": "2023-10-17T17:57:38.698Z"
      },
      {
        "duration": 32,
        "start_time": "2023-10-17T17:57:38.703Z"
      },
      {
        "duration": 30,
        "start_time": "2023-10-17T17:57:38.737Z"
      },
      {
        "duration": 20,
        "start_time": "2023-10-17T17:57:38.768Z"
      },
      {
        "duration": 35,
        "start_time": "2023-10-17T17:57:38.790Z"
      },
      {
        "duration": 35,
        "start_time": "2023-10-17T17:57:38.827Z"
      },
      {
        "duration": 25,
        "start_time": "2023-10-17T17:57:38.864Z"
      },
      {
        "duration": 21,
        "start_time": "2023-10-17T17:57:38.892Z"
      },
      {
        "duration": 59,
        "start_time": "2023-10-17T17:57:38.916Z"
      },
      {
        "duration": 36,
        "start_time": "2023-10-17T17:57:38.977Z"
      },
      {
        "duration": 20,
        "start_time": "2023-10-17T17:57:39.016Z"
      },
      {
        "duration": 221,
        "start_time": "2023-10-17T17:57:39.040Z"
      },
      {
        "duration": 105,
        "start_time": "2023-10-17T17:57:39.263Z"
      },
      {
        "duration": 163,
        "start_time": "2023-10-17T17:57:39.370Z"
      },
      {
        "duration": 394,
        "start_time": "2023-10-17T17:57:39.536Z"
      },
      {
        "duration": 23,
        "start_time": "2023-10-17T17:57:39.933Z"
      },
      {
        "duration": 12,
        "start_time": "2023-10-17T17:57:39.958Z"
      },
      {
        "duration": 15,
        "start_time": "2023-10-17T17:57:39.972Z"
      },
      {
        "duration": 54,
        "start_time": "2023-10-17T17:57:39.989Z"
      },
      {
        "duration": 36,
        "start_time": "2023-10-17T17:57:40.045Z"
      },
      {
        "duration": 195,
        "start_time": "2023-10-17T17:57:40.083Z"
      },
      {
        "duration": 213,
        "start_time": "2023-10-17T17:57:40.280Z"
      },
      {
        "duration": 1084,
        "start_time": "2023-10-17T17:57:40.495Z"
      },
      {
        "duration": 4,
        "start_time": "2023-10-17T17:57:41.581Z"
      },
      {
        "duration": 23,
        "start_time": "2023-10-17T17:57:41.587Z"
      },
      {
        "duration": 44,
        "start_time": "2023-10-17T17:57:41.612Z"
      },
      {
        "duration": 23,
        "start_time": "2023-10-17T17:57:41.659Z"
      },
      {
        "duration": 145,
        "start_time": "2023-10-17T17:57:41.684Z"
      },
      {
        "duration": 14,
        "start_time": "2023-10-17T17:57:41.831Z"
      },
      {
        "duration": 12,
        "start_time": "2023-10-17T17:57:41.846Z"
      },
      {
        "duration": 15,
        "start_time": "2023-10-17T17:57:41.860Z"
      },
      {
        "duration": 28,
        "start_time": "2023-10-17T17:57:41.876Z"
      },
      {
        "duration": 1332,
        "start_time": "2023-10-17T18:11:24.072Z"
      },
      {
        "duration": 312,
        "start_time": "2023-10-17T18:11:25.406Z"
      },
      {
        "duration": 3,
        "start_time": "2023-10-17T18:11:25.720Z"
      },
      {
        "duration": 60,
        "start_time": "2023-10-17T18:11:25.726Z"
      },
      {
        "duration": 36,
        "start_time": "2023-10-17T18:11:25.788Z"
      },
      {
        "duration": 40,
        "start_time": "2023-10-17T18:11:25.825Z"
      },
      {
        "duration": 39,
        "start_time": "2023-10-17T18:11:25.867Z"
      },
      {
        "duration": 51,
        "start_time": "2023-10-17T18:11:25.908Z"
      },
      {
        "duration": 35,
        "start_time": "2023-10-17T18:11:25.961Z"
      },
      {
        "duration": 47,
        "start_time": "2023-10-17T18:11:25.998Z"
      },
      {
        "duration": 25,
        "start_time": "2023-10-17T18:11:26.047Z"
      },
      {
        "duration": 18,
        "start_time": "2023-10-17T18:11:26.074Z"
      },
      {
        "duration": 18,
        "start_time": "2023-10-17T18:11:26.093Z"
      },
      {
        "duration": 181,
        "start_time": "2023-10-17T18:11:26.113Z"
      },
      {
        "duration": 109,
        "start_time": "2023-10-17T18:11:26.296Z"
      },
      {
        "duration": 166,
        "start_time": "2023-10-17T18:11:26.406Z"
      },
      {
        "duration": 411,
        "start_time": "2023-10-17T18:11:26.574Z"
      },
      {
        "duration": 12,
        "start_time": "2023-10-17T18:11:26.988Z"
      },
      {
        "duration": 10,
        "start_time": "2023-10-17T18:11:27.003Z"
      },
      {
        "duration": 41,
        "start_time": "2023-10-17T18:11:27.015Z"
      },
      {
        "duration": 17,
        "start_time": "2023-10-17T18:11:27.058Z"
      },
      {
        "duration": 13,
        "start_time": "2023-10-17T18:11:27.077Z"
      },
      {
        "duration": 221,
        "start_time": "2023-10-17T18:11:27.093Z"
      },
      {
        "duration": 197,
        "start_time": "2023-10-17T18:11:27.315Z"
      },
      {
        "duration": 1050,
        "start_time": "2023-10-17T18:11:27.513Z"
      },
      {
        "duration": 5,
        "start_time": "2023-10-17T18:11:28.566Z"
      },
      {
        "duration": 19,
        "start_time": "2023-10-17T18:11:28.573Z"
      },
      {
        "duration": 41,
        "start_time": "2023-10-17T18:11:28.594Z"
      },
      {
        "duration": 50,
        "start_time": "2023-10-17T18:11:28.636Z"
      },
      {
        "duration": 206,
        "start_time": "2023-10-17T18:11:28.689Z"
      },
      {
        "duration": 16,
        "start_time": "2023-10-17T18:11:28.898Z"
      },
      {
        "duration": 22,
        "start_time": "2023-10-17T18:11:28.916Z"
      },
      {
        "duration": 47,
        "start_time": "2023-10-17T18:11:28.941Z"
      },
      {
        "duration": 31,
        "start_time": "2023-10-17T18:11:28.990Z"
      },
      {
        "duration": 6,
        "start_time": "2023-10-17T18:28:31.077Z"
      },
      {
        "duration": 6,
        "start_time": "2023-10-17T18:28:41.994Z"
      },
      {
        "duration": 7,
        "start_time": "2023-10-17T18:28:52.021Z"
      },
      {
        "duration": 6,
        "start_time": "2023-10-17T18:28:57.220Z"
      },
      {
        "duration": 7,
        "start_time": "2023-10-17T18:33:12.046Z"
      },
      {
        "duration": 297,
        "start_time": "2023-10-17T18:35:18.872Z"
      },
      {
        "duration": 172,
        "start_time": "2023-10-17T18:35:31.009Z"
      },
      {
        "duration": 159,
        "start_time": "2023-10-17T18:37:35.857Z"
      },
      {
        "duration": 13,
        "start_time": "2023-10-17T18:41:42.197Z"
      },
      {
        "duration": 74,
        "start_time": "2023-10-17T18:42:26.332Z"
      },
      {
        "duration": 125,
        "start_time": "2023-10-17T18:42:29.706Z"
      },
      {
        "duration": 106,
        "start_time": "2023-10-17T18:42:41.426Z"
      },
      {
        "duration": 129,
        "start_time": "2023-10-17T18:44:05.572Z"
      },
      {
        "duration": 104,
        "start_time": "2023-10-17T18:44:19.884Z"
      },
      {
        "duration": 110,
        "start_time": "2023-10-17T18:45:05.124Z"
      },
      {
        "duration": 107,
        "start_time": "2023-10-17T18:45:20.091Z"
      },
      {
        "duration": 158,
        "start_time": "2023-10-17T18:45:58.715Z"
      },
      {
        "duration": 219,
        "start_time": "2023-10-17T18:46:15.612Z"
      },
      {
        "duration": 137,
        "start_time": "2023-10-17T18:46:47.626Z"
      },
      {
        "duration": 129,
        "start_time": "2023-10-17T18:47:06.466Z"
      },
      {
        "duration": 181,
        "start_time": "2023-10-17T18:47:18.009Z"
      },
      {
        "duration": 298,
        "start_time": "2023-10-17T18:47:27.769Z"
      },
      {
        "duration": 261,
        "start_time": "2023-10-17T18:47:34.274Z"
      },
      {
        "duration": 516,
        "start_time": "2023-10-17T18:47:58.098Z"
      },
      {
        "duration": 510,
        "start_time": "2023-10-17T18:48:13.569Z"
      },
      {
        "duration": 544,
        "start_time": "2023-10-17T18:48:23.873Z"
      },
      {
        "duration": 535,
        "start_time": "2023-10-17T18:48:43.425Z"
      },
      {
        "duration": 481,
        "start_time": "2023-10-17T18:49:03.562Z"
      },
      {
        "duration": 185,
        "start_time": "2023-10-17T18:49:20.231Z"
      },
      {
        "duration": 315,
        "start_time": "2023-10-17T18:49:35.232Z"
      },
      {
        "duration": 319,
        "start_time": "2023-10-17T18:49:44.064Z"
      },
      {
        "duration": 321,
        "start_time": "2023-10-17T18:49:59.792Z"
      },
      {
        "duration": 4,
        "start_time": "2023-10-17T18:57:37.787Z"
      },
      {
        "duration": 3,
        "start_time": "2023-10-17T18:57:45.627Z"
      },
      {
        "duration": 4,
        "start_time": "2023-10-17T18:58:30.378Z"
      },
      {
        "duration": 4,
        "start_time": "2023-10-17T18:58:53.722Z"
      },
      {
        "duration": 4,
        "start_time": "2023-10-17T18:58:57.690Z"
      },
      {
        "duration": 4,
        "start_time": "2023-10-17T18:59:05.738Z"
      },
      {
        "duration": 5,
        "start_time": "2023-10-17T19:00:48.883Z"
      },
      {
        "duration": 8,
        "start_time": "2023-10-17T19:01:28.544Z"
      },
      {
        "duration": 7,
        "start_time": "2023-10-17T19:03:50.552Z"
      },
      {
        "duration": 5,
        "start_time": "2023-10-17T19:04:00.046Z"
      },
      {
        "duration": 5,
        "start_time": "2023-10-17T19:04:47.902Z"
      },
      {
        "duration": 4,
        "start_time": "2023-10-17T19:05:14.247Z"
      },
      {
        "duration": 4,
        "start_time": "2023-10-17T19:05:35.142Z"
      },
      {
        "duration": 5,
        "start_time": "2023-10-17T19:06:05.981Z"
      },
      {
        "duration": 7,
        "start_time": "2023-10-17T19:12:48.496Z"
      },
      {
        "duration": 8,
        "start_time": "2023-10-17T19:13:06.335Z"
      },
      {
        "duration": 1064,
        "start_time": "2023-10-17T19:13:58.802Z"
      },
      {
        "duration": 9,
        "start_time": "2023-10-17T19:14:01.054Z"
      },
      {
        "duration": 4,
        "start_time": "2023-10-17T19:14:05.150Z"
      },
      {
        "duration": 12,
        "start_time": "2023-10-17T19:14:17.158Z"
      },
      {
        "duration": 5,
        "start_time": "2023-10-17T19:18:24.935Z"
      },
      {
        "duration": 1018,
        "start_time": "2023-10-17T19:18:28.924Z"
      },
      {
        "duration": 7,
        "start_time": "2023-10-17T19:18:29.944Z"
      },
      {
        "duration": 5,
        "start_time": "2023-10-17T19:18:31.203Z"
      },
      {
        "duration": 17,
        "start_time": "2023-10-17T19:18:32.859Z"
      },
      {
        "duration": 5,
        "start_time": "2023-10-17T19:44:28.426Z"
      },
      {
        "duration": 5,
        "start_time": "2023-10-17T19:44:32.506Z"
      },
      {
        "duration": 6,
        "start_time": "2023-10-17T19:45:22.233Z"
      },
      {
        "duration": 1231,
        "start_time": "2023-10-17T20:33:46.995Z"
      },
      {
        "duration": 88,
        "start_time": "2023-10-17T20:33:48.228Z"
      },
      {
        "duration": 88,
        "start_time": "2023-10-17T20:33:48.319Z"
      },
      {
        "duration": 57,
        "start_time": "2023-10-17T20:33:48.410Z"
      },
      {
        "duration": 35,
        "start_time": "2023-10-17T20:33:48.470Z"
      },
      {
        "duration": 19,
        "start_time": "2023-10-17T20:33:48.507Z"
      },
      {
        "duration": 7,
        "start_time": "2023-10-17T20:33:48.527Z"
      },
      {
        "duration": 65,
        "start_time": "2023-10-17T20:33:48.535Z"
      },
      {
        "duration": 21,
        "start_time": "2023-10-17T20:33:48.602Z"
      },
      {
        "duration": 12,
        "start_time": "2023-10-17T20:33:48.625Z"
      },
      {
        "duration": 31,
        "start_time": "2023-10-17T20:33:48.639Z"
      },
      {
        "duration": 26,
        "start_time": "2023-10-17T20:33:48.672Z"
      },
      {
        "duration": 19,
        "start_time": "2023-10-17T20:33:48.700Z"
      },
      {
        "duration": 35,
        "start_time": "2023-10-17T20:33:48.721Z"
      },
      {
        "duration": 222,
        "start_time": "2023-10-17T20:33:48.758Z"
      },
      {
        "duration": 133,
        "start_time": "2023-10-17T20:33:48.983Z"
      },
      {
        "duration": 161,
        "start_time": "2023-10-17T20:33:49.119Z"
      },
      {
        "duration": 115,
        "start_time": "2023-10-17T20:33:49.281Z"
      },
      {
        "duration": 329,
        "start_time": "2023-10-17T20:33:49.398Z"
      },
      {
        "duration": 395,
        "start_time": "2023-10-17T20:33:49.728Z"
      },
      {
        "duration": 5,
        "start_time": "2023-10-17T20:33:50.125Z"
      },
      {
        "duration": 25,
        "start_time": "2023-10-17T20:33:50.131Z"
      },
      {
        "duration": 8,
        "start_time": "2023-10-17T20:33:50.159Z"
      },
      {
        "duration": 6,
        "start_time": "2023-10-17T20:33:50.169Z"
      },
      {
        "duration": 20,
        "start_time": "2023-10-17T20:33:50.177Z"
      },
      {
        "duration": 27,
        "start_time": "2023-10-17T20:33:50.198Z"
      },
      {
        "duration": 17,
        "start_time": "2023-10-17T20:33:50.227Z"
      },
      {
        "duration": 203,
        "start_time": "2023-10-17T20:33:50.247Z"
      },
      {
        "duration": 193,
        "start_time": "2023-10-17T20:33:50.452Z"
      },
      {
        "duration": 9,
        "start_time": "2023-10-17T20:33:50.647Z"
      },
      {
        "duration": 900,
        "start_time": "2023-10-17T20:33:50.658Z"
      },
      {
        "duration": 6,
        "start_time": "2023-10-17T20:33:51.560Z"
      },
      {
        "duration": 22,
        "start_time": "2023-10-17T20:33:51.568Z"
      },
      {
        "duration": 23,
        "start_time": "2023-10-17T20:33:51.592Z"
      },
      {
        "duration": 38,
        "start_time": "2023-10-17T20:33:51.617Z"
      },
      {
        "duration": 37,
        "start_time": "2023-10-17T20:33:51.657Z"
      },
      {
        "duration": 126,
        "start_time": "2023-10-17T20:33:51.695Z"
      },
      {
        "duration": 12,
        "start_time": "2023-10-17T20:33:51.823Z"
      },
      {
        "duration": 24,
        "start_time": "2023-10-17T20:33:51.837Z"
      },
      {
        "duration": 24,
        "start_time": "2023-10-17T20:33:51.863Z"
      },
      {
        "duration": 21,
        "start_time": "2023-10-17T20:33:51.889Z"
      }
    ],
    "kernelspec": {
      "display_name": "Python 3 (ipykernel)",
      "language": "python",
      "name": "python3"
    },
    "language_info": {
      "codemirror_mode": {
        "name": "ipython",
        "version": 3
      },
      "file_extension": ".py",
      "mimetype": "text/x-python",
      "name": "python",
      "nbconvert_exporter": "python",
      "pygments_lexer": "ipython3",
      "version": "3.9.5"
    },
    "toc": {
      "base_numbering": 1,
      "nav_menu": {
        "height": "359px",
        "width": "241px"
      },
      "number_sections": true,
      "sideBar": true,
      "skip_h1_title": true,
      "title_cell": "Table of Contents",
      "title_sidebar": "Contents",
      "toc_cell": false,
      "toc_position": {},
      "toc_section_display": true,
      "toc_window_display": false
    },
    "colab": {
      "provenance": []
    }
  },
  "nbformat": 4,
  "nbformat_minor": 5
}