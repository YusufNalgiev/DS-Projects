{
  "cells": [
    {
      "cell_type": "markdown",
      "id": "fee6c35b-87f0-4fca-9950-d0df10f9ddda",
      "metadata": {
        "id": "fee6c35b-87f0-4fca-9950-d0df10f9ddda"
      },
      "source": [
        "# Прогнозирование заказов такси"
      ]
    },
    {
      "cell_type": "markdown",
      "id": "57c3d237-68a1-4539-9ef5-d9489cb63730",
      "metadata": {
        "id": "57c3d237-68a1-4539-9ef5-d9489cb63730"
      },
      "source": [
        "## Описание проекта"
      ]
    },
    {
      "cell_type": "markdown",
      "id": "accad210-eea6-4ace-998a-943f6a07d0ce",
      "metadata": {
        "id": "accad210-eea6-4ace-998a-943f6a07d0ce"
      },
      "source": [
        "Компания «Чётенькое такси» хочет разработать систему, которая будет способна привлекать больше водителей в аэропорт в период пиковой нагрузки. Для решения этой задачи нужно спрогнозировать количество заказов такси на следующий час."
      ]
    },
    {
      "cell_type": "markdown",
      "id": "816312e8-07e8-4b87-bada-e775003e6e20",
      "metadata": {
        "id": "816312e8-07e8-4b87-bada-e775003e6e20"
      },
      "source": [
        "## Данные"
      ]
    },
    {
      "cell_type": "markdown",
      "id": "09760e48-5895-48af-adc5-6c58dd20375c",
      "metadata": {
        "id": "09760e48-5895-48af-adc5-6c58dd20375c"
      },
      "source": [
        "Данные лежат в файле `/datasets/taxi.csv`. Количество заказов находится в столбце `num_orders` (от англ. number of orders, «число заказов»)."
      ]
    },
    {
      "cell_type": "markdown",
      "id": "44643308-1774-48d4-bd51-5b364e0e1e14",
      "metadata": {
        "id": "44643308-1774-48d4-bd51-5b364e0e1e14"
      },
      "source": [
        "## Задача"
      ]
    },
    {
      "cell_type": "markdown",
      "id": "e1768811-d0f6-4777-9842-108e6803c0b9",
      "metadata": {
        "id": "e1768811-d0f6-4777-9842-108e6803c0b9"
      },
      "source": [
        "Построить модель машинного обучения, которая будет прогнозировать количесвто заказаов на час вперёд, обучив её исторических данных, продоставленных компанией \"Чётенькое такси\". При этом метрика проверки качества модели $RMSE$ должна быть не больше 48."
      ]
    },
    {
      "cell_type": "code",
      "execution_count": null,
      "id": "93802d70-1b79-44d5-ae86-7cad4adbf14b",
      "metadata": {
        "scrolled": true,
        "id": "93802d70-1b79-44d5-ae86-7cad4adbf14b"
      },
      "outputs": [],
      "source": [
        "!pip install -q statsmodels"
      ]
    },
    {
      "cell_type": "markdown",
      "id": "49bfb4c3-ccda-4016-a6c2-9fb685c88f45",
      "metadata": {
        "id": "49bfb4c3-ccda-4016-a6c2-9fb685c88f45"
      },
      "source": [
        "## Загрузка данных"
      ]
    },
    {
      "cell_type": "code",
      "execution_count": null,
      "id": "203679ad-e5e1-4d28-a965-1881fa587936",
      "metadata": {
        "id": "203679ad-e5e1-4d28-a965-1881fa587936"
      },
      "outputs": [],
      "source": [
        "import pandas as pd\n",
        "import seaborn as sns\n",
        "import numpy as np\n",
        "import matplotlib.pyplot as plt\n",
        "\n",
        "from lightgbm import LGBMRegressor\n",
        "from catboost import CatBoostRegressor\n",
        "from statsmodels.tsa.seasonal import seasonal_decompose\n",
        "from sklearn.model_selection import train_test_split, TimeSeriesSplit, GridSearchCV\n",
        "from sklearn.metrics import mean_squared_error\n",
        "from sklearn.tree import DecisionTreeRegressor\n",
        "\n",
        "import time\n",
        "import warnings"
      ]
    },
    {
      "cell_type": "code",
      "execution_count": null,
      "id": "3cf9124e-5927-4869-96bf-c547344b13af",
      "metadata": {
        "id": "3cf9124e-5927-4869-96bf-c547344b13af"
      },
      "outputs": [],
      "source": [
        "TEST_SIZE = 0.1\n",
        "RANDOM_STATE = 42"
      ]
    },
    {
      "cell_type": "code",
      "execution_count": null,
      "id": "7d465326-8e80-4367-a1c1-a33cca9ac665",
      "metadata": {
        "id": "7d465326-8e80-4367-a1c1-a33cca9ac665"
      },
      "outputs": [],
      "source": [
        "data = pd.read_csv('https://code.s3.yandex.net/datasets/taxi.csv', index_col=[0], parse_dates=[0])"
      ]
    },
    {
      "cell_type": "code",
      "execution_count": null,
      "id": "c5c5f54f-4458-4094-af1b-885af215f506",
      "metadata": {
        "id": "c5c5f54f-4458-4094-af1b-885af215f506",
        "outputId": "352ec776-bd09-4f7c-e73f-ea0314d7d190"
      },
      "outputs": [
        {
          "data": {
            "text/html": [
              "<div>\n",
              "<style scoped>\n",
              "    .dataframe tbody tr th:only-of-type {\n",
              "        vertical-align: middle;\n",
              "    }\n",
              "\n",
              "    .dataframe tbody tr th {\n",
              "        vertical-align: top;\n",
              "    }\n",
              "\n",
              "    .dataframe thead th {\n",
              "        text-align: right;\n",
              "    }\n",
              "</style>\n",
              "<table border=\"1\" class=\"dataframe\">\n",
              "  <thead>\n",
              "    <tr style=\"text-align: right;\">\n",
              "      <th></th>\n",
              "      <th>num_orders</th>\n",
              "    </tr>\n",
              "    <tr>\n",
              "      <th>datetime</th>\n",
              "      <th></th>\n",
              "    </tr>\n",
              "  </thead>\n",
              "  <tbody>\n",
              "    <tr>\n",
              "      <th>2018-03-01 00:00:00</th>\n",
              "      <td>9</td>\n",
              "    </tr>\n",
              "    <tr>\n",
              "      <th>2018-03-01 00:10:00</th>\n",
              "      <td>14</td>\n",
              "    </tr>\n",
              "    <tr>\n",
              "      <th>2018-03-01 00:20:00</th>\n",
              "      <td>28</td>\n",
              "    </tr>\n",
              "    <tr>\n",
              "      <th>2018-03-01 00:30:00</th>\n",
              "      <td>20</td>\n",
              "    </tr>\n",
              "    <tr>\n",
              "      <th>2018-03-01 00:40:00</th>\n",
              "      <td>32</td>\n",
              "    </tr>\n",
              "  </tbody>\n",
              "</table>\n",
              "</div>"
            ],
            "text/plain": [
              "                     num_orders\n",
              "datetime                       \n",
              "2018-03-01 00:00:00           9\n",
              "2018-03-01 00:10:00          14\n",
              "2018-03-01 00:20:00          28\n",
              "2018-03-01 00:30:00          20\n",
              "2018-03-01 00:40:00          32"
            ]
          },
          "execution_count": 5,
          "metadata": {},
          "output_type": "execute_result"
        }
      ],
      "source": [
        "data.head()"
      ]
    },
    {
      "cell_type": "code",
      "execution_count": null,
      "id": "5607d479-5c86-45b3-9aaf-b626058ac135",
      "metadata": {
        "id": "5607d479-5c86-45b3-9aaf-b626058ac135",
        "outputId": "52e832a8-5ac0-4381-a8e7-b6fb5bc8304a"
      },
      "outputs": [
        {
          "name": "stdout",
          "output_type": "stream",
          "text": [
            "<class 'pandas.core.frame.DataFrame'>\n",
            "DatetimeIndex: 26496 entries, 2018-03-01 00:00:00 to 2018-08-31 23:50:00\n",
            "Data columns (total 1 columns):\n",
            " #   Column      Non-Null Count  Dtype\n",
            "---  ------      --------------  -----\n",
            " 0   num_orders  26496 non-null  int64\n",
            "dtypes: int64(1)\n",
            "memory usage: 414.0 KB\n"
          ]
        }
      ],
      "source": [
        "data.info()"
      ]
    },
    {
      "cell_type": "markdown",
      "id": "f1f22b01-4abb-478b-8b3d-419c1dc9c75b",
      "metadata": {
        "id": "f1f22b01-4abb-478b-8b3d-419c1dc9c75b"
      },
      "source": [
        "Отсортируем индексы"
      ]
    },
    {
      "cell_type": "code",
      "execution_count": null,
      "id": "2133fd0e-ae5b-486f-ab7c-53eab1dd0720",
      "metadata": {
        "id": "2133fd0e-ae5b-486f-ab7c-53eab1dd0720"
      },
      "outputs": [],
      "source": [
        "data = data.sort_index()"
      ]
    },
    {
      "cell_type": "markdown",
      "id": "d1faafc9-a93d-4349-bacf-6a90a7320de1",
      "metadata": {
        "id": "d1faafc9-a93d-4349-bacf-6a90a7320de1"
      },
      "source": [
        "Проверим последовательность рядов"
      ]
    },
    {
      "cell_type": "code",
      "execution_count": null,
      "id": "30d12a96-fd77-4921-9bb2-72dfcff28ebd",
      "metadata": {
        "id": "30d12a96-fd77-4921-9bb2-72dfcff28ebd",
        "outputId": "7dea01cb-51ed-4ef7-c9e6-ccc7fb182627"
      },
      "outputs": [
        {
          "data": {
            "text/plain": [
              "num_orders    0\n",
              "dtype: int64"
            ]
          },
          "execution_count": 8,
          "metadata": {},
          "output_type": "execute_result"
        }
      ],
      "source": [
        "data.isna().sum()"
      ]
    },
    {
      "cell_type": "code",
      "execution_count": null,
      "id": "a256aa92-bd98-4bec-a1bd-79a6f5d672d1",
      "metadata": {
        "id": "a256aa92-bd98-4bec-a1bd-79a6f5d672d1",
        "outputId": "dd0a46ce-8954-4fc5-9521-5c151f345fae"
      },
      "outputs": [
        {
          "data": {
            "text/plain": [
              "True"
            ]
          },
          "execution_count": 9,
          "metadata": {},
          "output_type": "execute_result"
        }
      ],
      "source": [
        "data.index.is_monotonic_increasing"
      ]
    },
    {
      "cell_type": "markdown",
      "id": "6b5e0dcb-b94f-430f-96e4-ac745b807835",
      "metadata": {
        "id": "6b5e0dcb-b94f-430f-96e4-ac745b807835"
      },
      "source": [
        "Ресемплируем по одному часу"
      ]
    },
    {
      "cell_type": "code",
      "execution_count": null,
      "id": "8b92286f-cfdc-486f-af1e-ed2fd0f84a82",
      "metadata": {
        "id": "8b92286f-cfdc-486f-af1e-ed2fd0f84a82"
      },
      "outputs": [],
      "source": [
        "data=data.resample('1H').sum()"
      ]
    },
    {
      "cell_type": "markdown",
      "id": "e370c625-6faf-426e-a828-912dd6c06d55",
      "metadata": {
        "id": "e370c625-6faf-426e-a828-912dd6c06d55"
      },
      "source": [
        "## Анализ данных"
      ]
    },
    {
      "cell_type": "code",
      "execution_count": null,
      "id": "ee0d8685-5523-43fb-b90c-382e7390df84",
      "metadata": {
        "id": "ee0d8685-5523-43fb-b90c-382e7390df84",
        "outputId": "9d4685d6-762e-4bc9-ce94-f6941995dcd5"
      },
      "outputs": [
        {
          "data": {
            "image/png": "[encoded data removed]",
            "text/plain": [
              "<Figure size 1008x288 with 1 Axes>"
            ]
          },
          "metadata": {
            "needs_background": "light"
          },
          "output_type": "display_data"
        }
      ],
      "source": [
        "plt.figure(figsize=(14, 4))\n",
        "plt.title(\"Заказы такси\")\n",
        "data.plot(ax=plt.gca())\n",
        "plt.show()"
      ]
    },
    {
      "cell_type": "code",
      "execution_count": null,
      "id": "56d0e07a-a4d2-42fa-9f9f-917ccaacebff",
      "metadata": {
        "id": "56d0e07a-a4d2-42fa-9f9f-917ccaacebff",
        "outputId": "5807b3b5-3ba9-4300-bf17-6fc12e237981"
      },
      "outputs": [
        {
          "data": {
            "text/html": [
              "<div>\n",
              "<style scoped>\n",
              "    .dataframe tbody tr th:only-of-type {\n",
              "        vertical-align: middle;\n",
              "    }\n",
              "\n",
              "    .dataframe tbody tr th {\n",
              "        vertical-align: top;\n",
              "    }\n",
              "\n",
              "    .dataframe thead th {\n",
              "        text-align: right;\n",
              "    }\n",
              "</style>\n",
              "<table border=\"1\" class=\"dataframe\">\n",
              "  <thead>\n",
              "    <tr style=\"text-align: right;\">\n",
              "      <th></th>\n",
              "      <th>num_orders</th>\n",
              "    </tr>\n",
              "    <tr>\n",
              "      <th>datetime</th>\n",
              "      <th></th>\n",
              "    </tr>\n",
              "  </thead>\n",
              "  <tbody>\n",
              "    <tr>\n",
              "      <th>2018-03-01 00:00:00</th>\n",
              "      <td>124</td>\n",
              "    </tr>\n",
              "    <tr>\n",
              "      <th>2018-03-01 01:00:00</th>\n",
              "      <td>85</td>\n",
              "    </tr>\n",
              "    <tr>\n",
              "      <th>2018-03-01 02:00:00</th>\n",
              "      <td>71</td>\n",
              "    </tr>\n",
              "    <tr>\n",
              "      <th>2018-03-01 03:00:00</th>\n",
              "      <td>66</td>\n",
              "    </tr>\n",
              "    <tr>\n",
              "      <th>2018-03-01 04:00:00</th>\n",
              "      <td>43</td>\n",
              "    </tr>\n",
              "  </tbody>\n",
              "</table>\n",
              "</div>"
            ],
            "text/plain": [
              "                     num_orders\n",
              "datetime                       \n",
              "2018-03-01 00:00:00         124\n",
              "2018-03-01 01:00:00          85\n",
              "2018-03-01 02:00:00          71\n",
              "2018-03-01 03:00:00          66\n",
              "2018-03-01 04:00:00          43"
            ]
          },
          "execution_count": 12,
          "metadata": {},
          "output_type": "execute_result"
        }
      ],
      "source": [
        "data.head()"
      ]
    },
    {
      "cell_type": "code",
      "execution_count": null,
      "id": "04fdfe5d-781f-4df1-a4fd-64aae62c19db",
      "metadata": {
        "id": "04fdfe5d-781f-4df1-a4fd-64aae62c19db",
        "outputId": "b9908ff2-a607-42c4-f6d0-3f8f83601515"
      },
      "outputs": [
        {
          "name": "stdout",
          "output_type": "stream",
          "text": [
            "Начало периода: 2018-03-01 00:00:00\n",
            "Конец периода: 2018-08-31 23:00:00\n"
          ]
        }
      ],
      "source": [
        "print(f'Начало периода: {data.index.min()}')\n",
        "print(f'Конец периода: {data.index.max()}')"
      ]
    },
    {
      "cell_type": "markdown",
      "id": "93fc4fa7-28c1-4304-9c98-ff50fda30264",
      "metadata": {
        "id": "93fc4fa7-28c1-4304-9c98-ff50fda30264"
      },
      "source": [
        "Данные представлены с 1 марта 2018 по 31 августа 2018"
      ]
    },
    {
      "cell_type": "code",
      "execution_count": null,
      "id": "e3531af7-2a6a-45b8-b2ea-7f3db9e13b07",
      "metadata": {
        "id": "e3531af7-2a6a-45b8-b2ea-7f3db9e13b07",
        "outputId": "83b434d5-e741-45b5-b911-c2f6a4abce9e"
      },
      "outputs": [
        {
          "data": {
            "image/png": "[encoded data removed]",
            "text/plain": [
              "<Figure size 1008x720 with 3 Axes>"
            ]
          },
          "metadata": {
            "needs_background": "light"
          },
          "output_type": "display_data"
        }
      ],
      "source": [
        "decomposed = seasonal_decompose(data)\n",
        "\n",
        "plt.figure(figsize=(14, 10))\n",
        "plt.subplot(311)\n",
        "\n",
        "decomposed.trend.plot(ax=plt.gca())\n",
        "plt.title('Trend')\n",
        "plt.subplot(312)\n",
        "\n",
        "decomposed.seasonal.plot(ax=plt.gca())\n",
        "plt.title('Seasonality')\n",
        "plt.subplot(313)\n",
        "\n",
        "decomposed.resid.plot(ax=plt.gca())\n",
        "plt.title('Residuals')\n",
        "plt.tight_layout()"
      ]
    },
    {
      "cell_type": "markdown",
      "id": "70526b54-0cc7-4ed9-a3d8-75b527966660",
      "metadata": {
        "id": "70526b54-0cc7-4ed9-a3d8-75b527966660"
      },
      "source": [
        "Из графиков видно, что количество заказов росло в течение полугода. Сезонность мы рассмотрим в промежутке двух недель августа"
      ]
    },
    {
      "cell_type": "code",
      "execution_count": null,
      "id": "fe6c7be4-4771-4ade-9010-e35297316a8a",
      "metadata": {
        "id": "fe6c7be4-4771-4ade-9010-e35297316a8a",
        "outputId": "97195797-7e1e-4023-d594-79e38c3bdb1c"
      },
      "outputs": [
        {
          "data": {
            "image/png": "[encoded data removed]",
            "text/plain": [
              "<Figure size 1008x288 with 1 Axes>"
            ]
          },
          "metadata": {
            "needs_background": "light"
          },
          "output_type": "display_data"
        }
      ],
      "source": [
        "plt.figure(figsize=(14, 4))\n",
        "plt.title(\"Сезонность заказов (период - 2 недели)\")\n",
        "decomposed.seasonal['2018-08-01':'2018-08-14'].plot(ax=plt.gca())\n",
        "plt.show()"
      ]
    },
    {
      "cell_type": "markdown",
      "id": "a8bf2b69-2938-4b2c-a3da-09a995db4314",
      "metadata": {
        "id": "a8bf2b69-2938-4b2c-a3da-09a995db4314"
      },
      "source": [
        "Временной ряд стационарный, так как среднее значение и стандартное отклонение не меняется"
      ]
    },
    {
      "cell_type": "code",
      "execution_count": null,
      "id": "01005e40-01f1-4af5-bb0c-9a5708913bea",
      "metadata": {
        "id": "01005e40-01f1-4af5-bb0c-9a5708913bea",
        "outputId": "6088943f-298c-491d-df62-47e6b2bd4885"
      },
      "outputs": [
        {
          "data": {
            "image/png": "[encoded data removed]",
            "text/plain": [
              "<Figure size 1008x288 with 1 Axes>"
            ]
          },
          "metadata": {
            "needs_background": "light"
          },
          "output_type": "display_data"
        }
      ],
      "source": [
        "plt.figure(figsize=(14, 4))\n",
        "plt.title(\"Сезонность заказов (период - 2 дня)\")\n",
        "decomposed.seasonal['2018-08-15':'2018-08-16'].plot(ax=plt.gca(), grid=True)\n",
        "plt.show()"
      ]
    },
    {
      "cell_type": "markdown",
      "id": "95f02e63-cea1-495c-8b32-d8f9ad1aa137",
      "metadata": {
        "id": "95f02e63-cea1-495c-8b32-d8f9ad1aa137"
      },
      "source": [
        "Большинство заказов приходится на полночь, скорее всего, большее количество рейсов - ночные. Утренних заказов в 6 часов совсем мало. Рост наблюдается с 18:00 по 00:00 и с 12:00 по 17:00."
      ]
    },
    {
      "cell_type": "markdown",
      "id": "c71cd138-d1a5-4909-9789-edfbbe5a1272",
      "metadata": {
        "id": "c71cd138-d1a5-4909-9789-edfbbe5a1272"
      },
      "source": [
        "## Обучение модели"
      ]
    },
    {
      "cell_type": "code",
      "execution_count": null,
      "id": "2a76382c-dc97-4d0c-a228-e2927ce9bb84",
      "metadata": {
        "id": "2a76382c-dc97-4d0c-a228-e2927ce9bb84"
      },
      "outputs": [],
      "source": [
        "def make_features(data, max_lag, rolling_mean_size):\n",
        "    data['hour'] = data.index.hour\n",
        "    data['dayofweek'] = data.index.dayofweek\n",
        "\n",
        "    for lag in range(1, max_lag + 1):\n",
        "        data['lag_{}'.format(lag)] = data['num_orders'].shift(lag)\n",
        "\n",
        "    data['rolling_mean'] = data['num_orders'].shift().rolling(rolling_mean_size).mean()"
      ]
    },
    {
      "cell_type": "code",
      "execution_count": null,
      "id": "f6bd7708-a487-410f-8c28-5432958387cb",
      "metadata": {
        "id": "f6bd7708-a487-410f-8c28-5432958387cb"
      },
      "outputs": [],
      "source": [
        "make_features(data, 24, 24)"
      ]
    },
    {
      "cell_type": "code",
      "execution_count": null,
      "id": "5e142ba6-01ec-48bc-a90d-5c368ab6c175",
      "metadata": {
        "id": "5e142ba6-01ec-48bc-a90d-5c368ab6c175",
        "outputId": "4bf19289-c849-4b6e-869e-59b28e8693f1"
      },
      "outputs": [
        {
          "data": {
            "text/html": [
              "<div>\n",
              "<style scoped>\n",
              "    .dataframe tbody tr th:only-of-type {\n",
              "        vertical-align: middle;\n",
              "    }\n",
              "\n",
              "    .dataframe tbody tr th {\n",
              "        vertical-align: top;\n",
              "    }\n",
              "\n",
              "    .dataframe thead th {\n",
              "        text-align: right;\n",
              "    }\n",
              "</style>\n",
              "<table border=\"1\" class=\"dataframe\">\n",
              "  <thead>\n",
              "    <tr style=\"text-align: right;\">\n",
              "      <th></th>\n",
              "      <th>num_orders</th>\n",
              "      <th>hour</th>\n",
              "      <th>dayofweek</th>\n",
              "      <th>lag_1</th>\n",
              "      <th>lag_2</th>\n",
              "      <th>lag_3</th>\n",
              "      <th>lag_4</th>\n",
              "      <th>lag_5</th>\n",
              "      <th>lag_6</th>\n",
              "      <th>lag_7</th>\n",
              "      <th>...</th>\n",
              "      <th>lag_16</th>\n",
              "      <th>lag_17</th>\n",
              "      <th>lag_18</th>\n",
              "      <th>lag_19</th>\n",
              "      <th>lag_20</th>\n",
              "      <th>lag_21</th>\n",
              "      <th>lag_22</th>\n",
              "      <th>lag_23</th>\n",
              "      <th>lag_24</th>\n",
              "      <th>rolling_mean</th>\n",
              "    </tr>\n",
              "    <tr>\n",
              "      <th>datetime</th>\n",
              "      <th></th>\n",
              "      <th></th>\n",
              "      <th></th>\n",
              "      <th></th>\n",
              "      <th></th>\n",
              "      <th></th>\n",
              "      <th></th>\n",
              "      <th></th>\n",
              "      <th></th>\n",
              "      <th></th>\n",
              "      <th></th>\n",
              "      <th></th>\n",
              "      <th></th>\n",
              "      <th></th>\n",
              "      <th></th>\n",
              "      <th></th>\n",
              "      <th></th>\n",
              "      <th></th>\n",
              "      <th></th>\n",
              "      <th></th>\n",
              "      <th></th>\n",
              "    </tr>\n",
              "  </thead>\n",
              "  <tbody>\n",
              "    <tr>\n",
              "      <th>2018-03-01 00:00:00</th>\n",
              "      <td>124</td>\n",
              "      <td>0</td>\n",
              "      <td>3</td>\n",
              "      <td>NaN</td>\n",
              "      <td>NaN</td>\n",
              "      <td>NaN</td>\n",
              "      <td>NaN</td>\n",
              "      <td>NaN</td>\n",
              "      <td>NaN</td>\n",
              "      <td>NaN</td>\n",
              "      <td>...</td>\n",
              "      <td>NaN</td>\n",
              "      <td>NaN</td>\n",
              "      <td>NaN</td>\n",
              "      <td>NaN</td>\n",
              "      <td>NaN</td>\n",
              "      <td>NaN</td>\n",
              "      <td>NaN</td>\n",
              "      <td>NaN</td>\n",
              "      <td>NaN</td>\n",
              "      <td>NaN</td>\n",
              "    </tr>\n",
              "    <tr>\n",
              "      <th>2018-03-01 01:00:00</th>\n",
              "      <td>85</td>\n",
              "      <td>1</td>\n",
              "      <td>3</td>\n",
              "      <td>124.0</td>\n",
              "      <td>NaN</td>\n",
              "      <td>NaN</td>\n",
              "      <td>NaN</td>\n",
              "      <td>NaN</td>\n",
              "      <td>NaN</td>\n",
              "      <td>NaN</td>\n",
              "      <td>...</td>\n",
              "      <td>NaN</td>\n",
              "      <td>NaN</td>\n",
              "      <td>NaN</td>\n",
              "      <td>NaN</td>\n",
              "      <td>NaN</td>\n",
              "      <td>NaN</td>\n",
              "      <td>NaN</td>\n",
              "      <td>NaN</td>\n",
              "      <td>NaN</td>\n",
              "      <td>NaN</td>\n",
              "    </tr>\n",
              "    <tr>\n",
              "      <th>2018-03-01 02:00:00</th>\n",
              "      <td>71</td>\n",
              "      <td>2</td>\n",
              "      <td>3</td>\n",
              "      <td>85.0</td>\n",
              "      <td>124.0</td>\n",
              "      <td>NaN</td>\n",
              "      <td>NaN</td>\n",
              "      <td>NaN</td>\n",
              "      <td>NaN</td>\n",
              "      <td>NaN</td>\n",
              "      <td>...</td>\n",
              "      <td>NaN</td>\n",
              "      <td>NaN</td>\n",
              "      <td>NaN</td>\n",
              "      <td>NaN</td>\n",
              "      <td>NaN</td>\n",
              "      <td>NaN</td>\n",
              "      <td>NaN</td>\n",
              "      <td>NaN</td>\n",
              "      <td>NaN</td>\n",
              "      <td>NaN</td>\n",
              "    </tr>\n",
              "    <tr>\n",
              "      <th>2018-03-01 03:00:00</th>\n",
              "      <td>66</td>\n",
              "      <td>3</td>\n",
              "      <td>3</td>\n",
              "      <td>71.0</td>\n",
              "      <td>85.0</td>\n",
              "      <td>124.0</td>\n",
              "      <td>NaN</td>\n",
              "      <td>NaN</td>\n",
              "      <td>NaN</td>\n",
              "      <td>NaN</td>\n",
              "      <td>...</td>\n",
              "      <td>NaN</td>\n",
              "      <td>NaN</td>\n",
              "      <td>NaN</td>\n",
              "      <td>NaN</td>\n",
              "      <td>NaN</td>\n",
              "      <td>NaN</td>\n",
              "      <td>NaN</td>\n",
              "      <td>NaN</td>\n",
              "      <td>NaN</td>\n",
              "      <td>NaN</td>\n",
              "    </tr>\n",
              "    <tr>\n",
              "      <th>2018-03-01 04:00:00</th>\n",
              "      <td>43</td>\n",
              "      <td>4</td>\n",
              "      <td>3</td>\n",
              "      <td>66.0</td>\n",
              "      <td>71.0</td>\n",
              "      <td>85.0</td>\n",
              "      <td>124.0</td>\n",
              "      <td>NaN</td>\n",
              "      <td>NaN</td>\n",
              "      <td>NaN</td>\n",
              "      <td>...</td>\n",
              "      <td>NaN</td>\n",
              "      <td>NaN</td>\n",
              "      <td>NaN</td>\n",
              "      <td>NaN</td>\n",
              "      <td>NaN</td>\n",
              "      <td>NaN</td>\n",
              "      <td>NaN</td>\n",
              "      <td>NaN</td>\n",
              "      <td>NaN</td>\n",
              "      <td>NaN</td>\n",
              "    </tr>\n",
              "  </tbody>\n",
              "</table>\n",
              "<p>5 rows × 28 columns</p>\n",
              "</div>"
            ],
            "text/plain": [
              "                     num_orders  hour  dayofweek  lag_1  lag_2  lag_3  lag_4  \\\n",
              "datetime                                                                       \n",
              "2018-03-01 00:00:00         124     0          3    NaN    NaN    NaN    NaN   \n",
              "2018-03-01 01:00:00          85     1          3  124.0    NaN    NaN    NaN   \n",
              "2018-03-01 02:00:00          71     2          3   85.0  124.0    NaN    NaN   \n",
              "2018-03-01 03:00:00          66     3          3   71.0   85.0  124.0    NaN   \n",
              "2018-03-01 04:00:00          43     4          3   66.0   71.0   85.0  124.0   \n",
              "\n",
              "                     lag_5  lag_6  lag_7  ...  lag_16  lag_17  lag_18  lag_19  \\\n",
              "datetime                                  ...                                   \n",
              "2018-03-01 00:00:00    NaN    NaN    NaN  ...     NaN     NaN     NaN     NaN   \n",
              "2018-03-01 01:00:00    NaN    NaN    NaN  ...     NaN     NaN     NaN     NaN   \n",
              "2018-03-01 02:00:00    NaN    NaN    NaN  ...     NaN     NaN     NaN     NaN   \n",
              "2018-03-01 03:00:00    NaN    NaN    NaN  ...     NaN     NaN     NaN     NaN   \n",
              "2018-03-01 04:00:00    NaN    NaN    NaN  ...     NaN     NaN     NaN     NaN   \n",
              "\n",
              "                     lag_20  lag_21  lag_22  lag_23  lag_24  rolling_mean  \n",
              "datetime                                                                   \n",
              "2018-03-01 00:00:00     NaN     NaN     NaN     NaN     NaN           NaN  \n",
              "2018-03-01 01:00:00     NaN     NaN     NaN     NaN     NaN           NaN  \n",
              "2018-03-01 02:00:00     NaN     NaN     NaN     NaN     NaN           NaN  \n",
              "2018-03-01 03:00:00     NaN     NaN     NaN     NaN     NaN           NaN  \n",
              "2018-03-01 04:00:00     NaN     NaN     NaN     NaN     NaN           NaN  \n",
              "\n",
              "[5 rows x 28 columns]"
            ]
          },
          "execution_count": 19,
          "metadata": {},
          "output_type": "execute_result"
        }
      ],
      "source": [
        "data.head()"
      ]
    },
    {
      "cell_type": "code",
      "execution_count": null,
      "id": "d992ab22-f943-438b-aaa3-62ab13d8f01d",
      "metadata": {
        "id": "d992ab22-f943-438b-aaa3-62ab13d8f01d"
      },
      "outputs": [],
      "source": [
        "train, test = train_test_split(\n",
        "    data,\n",
        "    shuffle=False,\n",
        "    test_size=TEST_SIZE\n",
        ")"
      ]
    },
    {
      "cell_type": "markdown",
      "id": "57a7eb60-f563-4da4-8ffa-880a996c2b72",
      "metadata": {
        "id": "57a7eb60-f563-4da4-8ffa-880a996c2b72"
      },
      "source": [
        "Обучать модель с пропусками в данных нельзя, поэтому их придется удалить"
      ]
    },
    {
      "cell_type": "code",
      "execution_count": null,
      "id": "32300ccb-f05d-4d3c-b421-f3d9dbf9781c",
      "metadata": {
        "id": "32300ccb-f05d-4d3c-b421-f3d9dbf9781c"
      },
      "outputs": [],
      "source": [
        "train = train.dropna()"
      ]
    },
    {
      "cell_type": "code",
      "execution_count": null,
      "id": "345e903d-cd0c-40ee-9f14-794e596652f2",
      "metadata": {
        "id": "345e903d-cd0c-40ee-9f14-794e596652f2"
      },
      "outputs": [],
      "source": [
        "X_train = train.drop(['num_orders'], axis = 1)\n",
        "y_train = train['num_orders']\n",
        "X_test = test.drop(['num_orders'], axis = 1)\n",
        "y_test = test['num_orders']"
      ]
    },
    {
      "cell_type": "markdown",
      "id": "f67856dd-bfb1-4ce3-88a9-1e5015efa20d",
      "metadata": {
        "id": "f67856dd-bfb1-4ce3-88a9-1e5015efa20d"
      },
      "source": [
        "Создадим функцию для кроссвалидации моделей"
      ]
    },
    {
      "cell_type": "code",
      "execution_count": null,
      "id": "09716f6d-a088-450e-a595-d29eec75f51c",
      "metadata": {
        "id": "09716f6d-a088-450e-a595-d29eec75f51c"
      },
      "outputs": [],
      "source": [
        "def choose_model(model, parameters, n_split):\n",
        "    time_series = TimeSeriesSplit(n_splits=n_split)\n",
        "    grid_search = GridSearchCV(\n",
        "        model,\n",
        "        parameters,\n",
        "        scoring='neg_root_mean_squared_error',\n",
        "        n_jobs=-1,\n",
        "        cv=time_series\n",
        "    )\n",
        "    grid_search.fit(X_train, y_train)\n",
        "\n",
        "    start = time.time()\n",
        "    predict = grid_search.predict(X_train)\n",
        "    end = time.time() - start\n",
        "\n",
        "    print('Метрика лучшей модели на обучающей выборке:', grid_search.best_score_ * -1)\n",
        "    return grid_search.best_score_ * -1, grid_search, end"
      ]
    },
    {
      "cell_type": "markdown",
      "id": "e913a9e3-afe2-4cbc-ae56-0022e0136e3d",
      "metadata": {
        "id": "e913a9e3-afe2-4cbc-ae56-0022e0136e3d"
      },
      "source": [
        "### CatBoostRegressor"
      ]
    },
    {
      "cell_type": "code",
      "execution_count": null,
      "id": "92781723-41fc-4f99-b9b4-d60b96d17cb1",
      "metadata": {
        "id": "92781723-41fc-4f99-b9b4-d60b96d17cb1"
      },
      "outputs": [],
      "source": [
        "cb_param_grid = {\n",
        "    'iterations': [150, 200],\n",
        "    'learning_rate': [0.05, 0.1]\n",
        "}"
      ]
    },
    {
      "cell_type": "code",
      "execution_count": null,
      "id": "694a0d89-c795-4dd3-a029-0457807b3725",
      "metadata": {
        "id": "694a0d89-c795-4dd3-a029-0457807b3725",
        "outputId": "526e2ff3-d70e-4460-baee-9fe6c8f045c5"
      },
      "outputs": [
        {
          "name": "stdout",
          "output_type": "stream",
          "text": [
            "0:\tlearn: 28.9938410\ttotal: 51.6ms\tremaining: 7.7s\n",
            "149:\tlearn: 11.9957843\ttotal: 572ms\tremaining: 0us\n",
            "0:\tlearn: 29.7126090\ttotal: 5.88ms\tremaining: 876ms\n",
            "149:\tlearn: 14.4620698\ttotal: 643ms\tremaining: 0us\n",
            "0:\tlearn: 31.2844477\ttotal: 6.17ms\tremaining: 919ms\n",
            "149:\tlearn: 15.8808186\ttotal: 696ms\tremaining: 0us\n",
            "0:\tlearn: 32.6350799\ttotal: 6.09ms\tremaining: 908ms\n",
            "149:\tlearn: 17.2672498\ttotal: 780ms\tremaining: 0us\n",
            "0:\tlearn: 34.0046735\ttotal: 6.13ms\tremaining: 914ms\n",
            "149:\tlearn: 18.3554894\ttotal: 804ms\tremaining: 0us\n",
            "0:\tlearn: 28.3153152\ttotal: 3.64ms\tremaining: 543ms\n",
            "149:\tlearn: 8.5388558\ttotal: 507ms\tremaining: 0us\n",
            "0:\tlearn: 29.1149933\ttotal: 6.85ms\tremaining: 1.02s\n",
            "149:\tlearn: 11.2636862\ttotal: 653ms\tremaining: 0us\n",
            "0:\tlearn: 30.5702732\ttotal: 4.71ms\tremaining: 703ms\n",
            "149:\tlearn: 13.2631108\ttotal: 692ms\tremaining: 0us\n",
            "0:\tlearn: 31.9045871\ttotal: 5.29ms\tremaining: 789ms\n",
            "149:\tlearn: 14.6283858\ttotal: 783ms\tremaining: 0us\n",
            "0:\tlearn: 33.2308376\ttotal: 5.81ms\tremaining: 865ms\n",
            "149:\tlearn: 15.8680648\ttotal: 859ms\tremaining: 0us\n",
            "0:\tlearn: 28.9938410\ttotal: 3.73ms\tremaining: 742ms\n",
            "199:\tlearn: 10.7189628\ttotal: 702ms\tremaining: 0us\n",
            "0:\tlearn: 29.7126090\ttotal: 4.13ms\tremaining: 821ms\n",
            "199:\tlearn: 13.4315614\ttotal: 822ms\tremaining: 0us\n",
            "0:\tlearn: 31.2844477\ttotal: 4.84ms\tremaining: 964ms\n",
            "199:\tlearn: 14.9178159\ttotal: 914ms\tremaining: 0us\n",
            "0:\tlearn: 32.6350799\ttotal: 5.2ms\tremaining: 1.03s\n",
            "199:\tlearn: 16.3715442\ttotal: 1.03s\tremaining: 0us\n",
            "0:\tlearn: 34.0046735\ttotal: 5.67ms\tremaining: 1.13s\n",
            "199:\tlearn: 17.5459533\ttotal: 1.1s\tremaining: 0us\n",
            "0:\tlearn: 28.3153152\ttotal: 3.67ms\tremaining: 731ms\n",
            "199:\tlearn: 6.6312411\ttotal: 721ms\tremaining: 0us\n",
            "0:\tlearn: 29.1149933\ttotal: 4.32ms\tremaining: 859ms\n",
            "199:\tlearn: 9.8883231\ttotal: 817ms\tremaining: 0us\n",
            "0:\tlearn: 30.5702732\ttotal: 4.59ms\tremaining: 914ms\n",
            "199:\tlearn: 11.8132238\ttotal: 924ms\tremaining: 0us\n",
            "0:\tlearn: 31.9045871\ttotal: 5.1ms\tremaining: 1.01s\n",
            "199:\tlearn: 13.2563472\ttotal: 1.01s\tremaining: 0us\n",
            "0:\tlearn: 33.2308376\ttotal: 5.63ms\tremaining: 1.12s\n",
            "199:\tlearn: 14.5284966\ttotal: 1.09s\tremaining: 0us\n",
            "0:\tlearn: 36.8679443\ttotal: 6.69ms\tremaining: 1.33s\n",
            "199:\tlearn: 16.3809413\ttotal: 1.15s\tremaining: 0us\n",
            "Метрика лучшей модели на обучающей выборке: 24.60798509633748\n"
          ]
        }
      ],
      "source": [
        "cb_rmse, cb_model, cb_time = choose_model(CatBoostRegressor(verbose=200, random_state=RANDOM_STATE), cb_param_grid, 5)"
      ]
    },
    {
      "cell_type": "markdown",
      "id": "ad8f747c-6082-4f8b-b3e3-3410c0bec1b7",
      "metadata": {
        "id": "ad8f747c-6082-4f8b-b3e3-3410c0bec1b7"
      },
      "source": [
        "### DecisionTreeRegressor"
      ]
    },
    {
      "cell_type": "code",
      "execution_count": null,
      "id": "08a48e6d-34ea-4471-a168-80165f4373c0",
      "metadata": {
        "id": "08a48e6d-34ea-4471-a168-80165f4373c0"
      },
      "outputs": [],
      "source": [
        "dt_param_grid = {'max_depth': range (1, 8),\n",
        "           'min_samples_leaf': range (1, 8),\n",
        "           'min_samples_split': range (2, 5)}"
      ]
    },
    {
      "cell_type": "code",
      "execution_count": null,
      "id": "d7a412a6-1177-4c45-99eb-4718f2c377b7",
      "metadata": {
        "id": "d7a412a6-1177-4c45-99eb-4718f2c377b7",
        "outputId": "bd94fb1e-334a-47ba-88bf-4deafcfbc3d6"
      },
      "outputs": [
        {
          "name": "stdout",
          "output_type": "stream",
          "text": [
            "Метрика лучшей модели на обучающей выборке: 29.31878333212337\n"
          ]
        }
      ],
      "source": [
        "dt_rmse, dt_model, dt_time = choose_model(DecisionTreeRegressor(), dt_param_grid, 5)"
      ]
    },
    {
      "cell_type": "markdown",
      "id": "8ef5635e-440d-458d-94ff-1d0f39e02736",
      "metadata": {
        "id": "8ef5635e-440d-458d-94ff-1d0f39e02736"
      },
      "source": [
        "### LightGBMRegressor"
      ]
    },
    {
      "cell_type": "code",
      "execution_count": null,
      "id": "25038927-331b-4305-96e7-91c1167a9853",
      "metadata": {
        "id": "25038927-331b-4305-96e7-91c1167a9853"
      },
      "outputs": [],
      "source": [
        "lgbm_param_grid = {'num_leaves': [150, 200],\n",
        "                   'learning_rate': [0.05, 0.1]}"
      ]
    },
    {
      "cell_type": "code",
      "execution_count": null,
      "id": "b621f201-124c-4e66-9653-3541d3fc9715",
      "metadata": {
        "id": "b621f201-124c-4e66-9653-3541d3fc9715",
        "outputId": "aea01e9f-be5c-4988-9368-a20872239061"
      },
      "outputs": [
        {
          "name": "stdout",
          "output_type": "stream",
          "text": [
            "Метрика лучшей модели на обучающей выборке: 24.996961293781986\n"
          ]
        }
      ],
      "source": [
        "lgbm_rmse, lgbm_model, lgbm_time = choose_model(LGBMRegressor(random_state=RANDOM_STATE, verbose=-1), lgbm_param_grid, 5)"
      ]
    },
    {
      "cell_type": "code",
      "execution_count": null,
      "id": "406be6c3-ed2f-4dbc-93e5-30cb22911f3d",
      "metadata": {
        "id": "406be6c3-ed2f-4dbc-93e5-30cb22911f3d"
      },
      "outputs": [],
      "source": [
        "results = pd.DataFrame({\n",
        "    'DecisionTreeRegressor': [dt_rmse, dt_time],\n",
        "    'CatBoostRegressor': [cb_rmse, cb_time],\n",
        "    'LGBMRegressor': [lgbm_rmse, lgbm_time]\n",
        "}, index=['Метрика RMSE', 'Время предсказания'])"
      ]
    },
    {
      "cell_type": "code",
      "execution_count": null,
      "id": "e7e45aad-20e1-4949-a54a-daed89268bad",
      "metadata": {
        "id": "e7e45aad-20e1-4949-a54a-daed89268bad",
        "outputId": "f875b106-005d-4331-be32-467288b00ff7"
      },
      "outputs": [
        {
          "data": {
            "text/html": [
              "<div>\n",
              "<style scoped>\n",
              "    .dataframe tbody tr th:only-of-type {\n",
              "        vertical-align: middle;\n",
              "    }\n",
              "\n",
              "    .dataframe tbody tr th {\n",
              "        vertical-align: top;\n",
              "    }\n",
              "\n",
              "    .dataframe thead th {\n",
              "        text-align: right;\n",
              "    }\n",
              "</style>\n",
              "<table border=\"1\" class=\"dataframe\">\n",
              "  <thead>\n",
              "    <tr style=\"text-align: right;\">\n",
              "      <th></th>\n",
              "      <th>Метрика RMSE</th>\n",
              "      <th>Время предсказания</th>\n",
              "    </tr>\n",
              "  </thead>\n",
              "  <tbody>\n",
              "    <tr>\n",
              "      <th>DecisionTreeRegressor</th>\n",
              "      <td>29.318783</td>\n",
              "      <td>0.002115</td>\n",
              "    </tr>\n",
              "    <tr>\n",
              "      <th>CatBoostRegressor</th>\n",
              "      <td>24.607985</td>\n",
              "      <td>0.003016</td>\n",
              "    </tr>\n",
              "    <tr>\n",
              "      <th>LGBMRegressor</th>\n",
              "      <td>24.996961</td>\n",
              "      <td>0.104820</td>\n",
              "    </tr>\n",
              "  </tbody>\n",
              "</table>\n",
              "</div>"
            ],
            "text/plain": [
              "                       Метрика RMSE  Время предсказания\n",
              "DecisionTreeRegressor     29.318783            0.002115\n",
              "CatBoostRegressor         24.607985            0.003016\n",
              "LGBMRegressor             24.996961            0.104820"
            ]
          },
          "execution_count": 31,
          "metadata": {},
          "output_type": "execute_result"
        }
      ],
      "source": [
        "results.T"
      ]
    },
    {
      "cell_type": "markdown",
      "id": "2bf1e17b-fa27-4256-969e-1335a83a61ed",
      "metadata": {
        "id": "2bf1e17b-fa27-4256-969e-1335a83a61ed"
      },
      "source": [
        "По итогам обучения и предсказания, лучшей моделью с точки зрения метрики и времени предсказания оказалась модель CatBoostRegressor"
      ]
    },
    {
      "cell_type": "markdown",
      "id": "33b4b072-076c-44ca-b900-f427f7d38af0",
      "metadata": {
        "id": "33b4b072-076c-44ca-b900-f427f7d38af0"
      },
      "source": [
        "### Предсказание на тестовой выборке"
      ]
    },
    {
      "cell_type": "code",
      "execution_count": null,
      "id": "113e635f-a925-4415-801d-11ea29285b54",
      "metadata": {
        "id": "113e635f-a925-4415-801d-11ea29285b54"
      },
      "outputs": [],
      "source": [
        "predictions = cb_model.predict(X_test)"
      ]
    },
    {
      "cell_type": "code",
      "execution_count": null,
      "id": "3c11ec63-a5fb-4ba9-bd0a-521e4d054602",
      "metadata": {
        "id": "3c11ec63-a5fb-4ba9-bd0a-521e4d054602"
      },
      "outputs": [],
      "source": [
        "test_score = mean_squared_error(y_test, predictions, squared=False)"
      ]
    },
    {
      "cell_type": "code",
      "execution_count": null,
      "id": "76ca1a9a-b090-4edc-8044-a22fdb185d65",
      "metadata": {
        "id": "76ca1a9a-b090-4edc-8044-a22fdb185d65",
        "outputId": "f210e0d6-6537-4b19-dec2-3a099c4f6f25"
      },
      "outputs": [
        {
          "name": "stdout",
          "output_type": "stream",
          "text": [
            "RMSE лучшей модели: 42.77141426863502\n"
          ]
        }
      ],
      "source": [
        "print('RMSE лучшей модели:', test_score)"
      ]
    },
    {
      "cell_type": "markdown",
      "id": "3a602933-b3b5-42e0-9f17-38254583f266",
      "metadata": {
        "id": "3a602933-b3b5-42e0-9f17-38254583f266"
      },
      "source": [
        "Метрика RMSE соответствует условиям заказчика. Построим график, на котором изобразим тестовые данные и предсказания"
      ]
    },
    {
      "cell_type": "code",
      "execution_count": null,
      "id": "b49ad4ec-70d8-411a-a14e-b8e66cff61ee",
      "metadata": {
        "id": "b49ad4ec-70d8-411a-a14e-b8e66cff61ee"
      },
      "outputs": [],
      "source": [
        "y_pred = pd.Series(predictions, index=y_test.index)"
      ]
    },
    {
      "cell_type": "code",
      "execution_count": null,
      "id": "20b456ac-03f1-4e29-8057-3e0271aee210",
      "metadata": {
        "id": "20b456ac-03f1-4e29-8057-3e0271aee210",
        "outputId": "298f4275-8d35-4384-9acd-892019edc47f"
      },
      "outputs": [
        {
          "data": {
            "image/png": "[encoded data removed]",
            "text/plain": [
              "<Figure size 1008x576 with 1 Axes>"
            ]
          },
          "metadata": {
            "needs_background": "light"
          },
          "output_type": "display_data"
        }
      ],
      "source": [
        "plt.figure(figsize=(14, 8))\n",
        "\n",
        "plt.plot(y_test['2018-08-13':'2018-08-17'], label='True')\n",
        "plt.plot(y_pred['2018-08-13':'2018-08-17'], label='Predict')\n",
        "\n",
        "plt.title('Анализ истинных и предсказанных значений')\n",
        "plt.legend()\n",
        "plt.show()"
      ]
    },
    {
      "cell_type": "markdown",
      "id": "b37375a2-8cd4-4d01-b55f-1beb5021f10e",
      "metadata": {
        "id": "b37375a2-8cd4-4d01-b55f-1beb5021f10e"
      },
      "source": [
        "## Вывод"
      ]
    },
    {
      "cell_type": "markdown",
      "id": "42374799-a447-4a2a-b9d1-210a63db1b01",
      "metadata": {
        "id": "42374799-a447-4a2a-b9d1-210a63db1b01"
      },
      "source": [
        "1. Мы загрузили данные из .csv файла и передали аргумент `parse_dates` и `index_col`. Выяснили, что датасет состоит из 26496 строк и 1 столбца - `num_orders`\n",
        "2. Отсортировали индексы и обнаружили отсутствие пропусков. Ряд был монотонным\n",
        "3. Ресемплировали по одному часу и вывели тренд, сезонность и остатки\n",
        "4. Добавили новые признаки: число столбцов увеличилось до 30\n",
        "5. Обучили три модели на кросс-валидации: DecisionTreeRegressor, CatBoostRegressor, LGBMRegressor\n",
        "6. Посчитали метрики на кросс-валидационной выборке и сравнили. Результаты:\n",
        "| Модель                 | Метрика RMSE | Время предсказания |\n",
        "|------------------------|--------------|--------------------|\n",
        "| DecisionTreeRegressor  | 29.318783    | 0.002256           |\n",
        "| CatBoostRegressor      | 24.607985    | 0.002898           |\n",
        "| LGBMRegressor          | 24.996961    | 0.105016           |\n",
        "\n",
        "\n",
        "7. Самой лучшей моделью оказалась CatBoostRegressor. **Метрика RMSE на тестовой выборке - 42.77**\n",
        "\n",
        "Важно отметить, что время предсказания для CatBoostRegressor и DecisionTreeRegressor оказалось примерно одинаковым, но для LGBMRegressor время предсказания чуть больше. Это может быть важным фактором при выборе модели для конкретного применения, особенно если скорость предсказания имеет значение."
      ]
    },
    {
      "cell_type": "code",
      "source": [],
      "metadata": {
        "id": "Zbhe8A6qwoiN"
      },
      "id": "Zbhe8A6qwoiN",
      "execution_count": null,
      "outputs": []
    }
  ],
  "metadata": {
    "ExecuteTimeLog": [
      {
        "duration": 1930,
        "start_time": "2024-04-08T11:19:52.387Z"
      },
      {
        "duration": 2561,
        "start_time": "2024-04-08T11:20:41.178Z"
      },
      {
        "duration": 3555,
        "start_time": "2024-04-08T11:20:43.742Z"
      },
      {
        "duration": 2,
        "start_time": "2024-04-08T11:20:47.299Z"
      },
      {
        "duration": 161,
        "start_time": "2024-04-08T11:20:47.304Z"
      },
      {
        "duration": 10,
        "start_time": "2024-04-08T11:20:47.467Z"
      },
      {
        "duration": 14,
        "start_time": "2024-04-08T11:20:47.478Z"
      },
      {
        "duration": 5,
        "start_time": "2024-04-08T11:20:47.494Z"
      },
      {
        "duration": 10,
        "start_time": "2024-04-08T11:20:47.501Z"
      },
      {
        "duration": 21,
        "start_time": "2024-04-08T11:20:47.513Z"
      },
      {
        "duration": 24,
        "start_time": "2024-04-08T11:20:47.537Z"
      },
      {
        "duration": 285,
        "start_time": "2024-04-08T11:20:47.563Z"
      },
      {
        "duration": 7,
        "start_time": "2024-04-08T11:20:47.849Z"
      },
      {
        "duration": 14,
        "start_time": "2024-04-08T11:20:47.857Z"
      },
      {
        "duration": 1004,
        "start_time": "2024-04-08T11:20:47.873Z"
      },
      {
        "duration": 206,
        "start_time": "2024-04-08T11:20:48.879Z"
      },
      {
        "duration": 181,
        "start_time": "2024-04-08T11:20:49.086Z"
      },
      {
        "duration": 4,
        "start_time": "2024-04-08T11:20:49.269Z"
      },
      {
        "duration": 31,
        "start_time": "2024-04-08T11:20:49.280Z"
      },
      {
        "duration": 23,
        "start_time": "2024-04-08T11:20:49.312Z"
      },
      {
        "duration": 6,
        "start_time": "2024-04-08T11:20:49.337Z"
      },
      {
        "duration": 6,
        "start_time": "2024-04-08T11:20:49.345Z"
      },
      {
        "duration": 6,
        "start_time": "2024-04-08T11:20:49.352Z"
      },
      {
        "duration": 23,
        "start_time": "2024-04-08T11:20:49.359Z"
      },
      {
        "duration": 6,
        "start_time": "2024-04-08T11:20:49.383Z"
      },
      {
        "duration": 39048,
        "start_time": "2024-04-08T11:20:49.391Z"
      },
      {
        "duration": 3,
        "start_time": "2024-04-08T11:21:28.442Z"
      },
      {
        "duration": 12717,
        "start_time": "2024-04-08T11:21:28.448Z"
      },
      {
        "duration": 4,
        "start_time": "2024-04-08T11:21:41.170Z"
      },
      {
        "duration": 571808,
        "start_time": "2024-04-08T11:21:41.182Z"
      },
      {
        "duration": 4,
        "start_time": "2024-04-08T11:31:12.992Z"
      },
      {
        "duration": 17,
        "start_time": "2024-04-08T11:31:12.998Z"
      },
      {
        "duration": 5,
        "start_time": "2024-04-08T11:31:13.080Z"
      },
      {
        "duration": 11,
        "start_time": "2024-04-08T11:31:13.087Z"
      },
      {
        "duration": 14,
        "start_time": "2024-04-08T11:31:13.100Z"
      },
      {
        "duration": 14,
        "start_time": "2024-04-08T11:31:13.116Z"
      },
      {
        "duration": 471,
        "start_time": "2024-04-08T11:31:13.132Z"
      },
      {
        "duration": 2839,
        "start_time": "2024-04-08T12:52:50.277Z"
      },
      {
        "duration": 4,
        "start_time": "2024-04-08T12:57:54.644Z"
      },
      {
        "duration": 2513,
        "start_time": "2024-04-08T12:58:01.358Z"
      },
      {
        "duration": 1707,
        "start_time": "2024-04-08T12:58:03.874Z"
      },
      {
        "duration": 3,
        "start_time": "2024-04-08T12:58:05.583Z"
      },
      {
        "duration": 199,
        "start_time": "2024-04-08T12:58:05.587Z"
      },
      {
        "duration": 11,
        "start_time": "2024-04-08T12:58:05.788Z"
      },
      {
        "duration": 66,
        "start_time": "2024-04-08T12:58:05.800Z"
      },
      {
        "duration": 32,
        "start_time": "2024-04-08T12:58:05.869Z"
      },
      {
        "duration": 7,
        "start_time": "2024-04-08T12:58:05.903Z"
      },
      {
        "duration": 7,
        "start_time": "2024-04-08T12:58:05.912Z"
      },
      {
        "duration": 31,
        "start_time": "2024-04-08T12:58:05.920Z"
      },
      {
        "duration": 259,
        "start_time": "2024-04-08T12:58:05.953Z"
      },
      {
        "duration": 7,
        "start_time": "2024-04-08T12:58:06.214Z"
      },
      {
        "duration": 39,
        "start_time": "2024-04-08T12:58:06.222Z"
      },
      {
        "duration": 970,
        "start_time": "2024-04-08T12:58:06.266Z"
      },
      {
        "duration": 203,
        "start_time": "2024-04-08T12:58:07.238Z"
      },
      {
        "duration": 193,
        "start_time": "2024-04-08T12:58:07.442Z"
      },
      {
        "duration": 4,
        "start_time": "2024-04-08T12:58:07.637Z"
      },
      {
        "duration": 29,
        "start_time": "2024-04-08T12:58:07.643Z"
      },
      {
        "duration": 37,
        "start_time": "2024-04-08T12:58:07.674Z"
      },
      {
        "duration": 8,
        "start_time": "2024-04-08T12:58:07.729Z"
      },
      {
        "duration": 20,
        "start_time": "2024-04-08T12:58:07.739Z"
      },
      {
        "duration": 15,
        "start_time": "2024-04-08T12:58:07.761Z"
      },
      {
        "duration": 5,
        "start_time": "2024-04-08T12:58:07.778Z"
      },
      {
        "duration": 23,
        "start_time": "2024-04-08T12:58:07.785Z"
      },
      {
        "duration": 33848,
        "start_time": "2024-04-08T12:58:07.810Z"
      },
      {
        "duration": 3,
        "start_time": "2024-04-08T12:58:41.660Z"
      },
      {
        "duration": 11953,
        "start_time": "2024-04-08T12:58:41.664Z"
      },
      {
        "duration": 3,
        "start_time": "2024-04-08T12:58:53.618Z"
      },
      {
        "duration": 2557,
        "start_time": "2024-04-08T12:58:59.182Z"
      },
      {
        "duration": 1503,
        "start_time": "2024-04-08T12:59:01.741Z"
      },
      {
        "duration": 3,
        "start_time": "2024-04-08T12:59:03.245Z"
      },
      {
        "duration": 183,
        "start_time": "2024-04-08T12:59:03.249Z"
      },
      {
        "duration": 40,
        "start_time": "2024-04-08T12:59:03.434Z"
      },
      {
        "duration": 40,
        "start_time": "2024-04-08T12:59:03.475Z"
      },
      {
        "duration": 23,
        "start_time": "2024-04-08T12:59:03.517Z"
      },
      {
        "duration": 19,
        "start_time": "2024-04-08T12:59:03.542Z"
      },
      {
        "duration": 18,
        "start_time": "2024-04-08T12:59:03.563Z"
      },
      {
        "duration": 44,
        "start_time": "2024-04-08T12:59:03.582Z"
      },
      {
        "duration": 278,
        "start_time": "2024-04-08T12:59:03.628Z"
      },
      {
        "duration": 7,
        "start_time": "2024-04-08T12:59:03.908Z"
      },
      {
        "duration": 65,
        "start_time": "2024-04-08T12:59:03.916Z"
      },
      {
        "duration": 1136,
        "start_time": "2024-04-08T12:59:03.984Z"
      },
      {
        "duration": 214,
        "start_time": "2024-04-08T12:59:05.122Z"
      },
      {
        "duration": 178,
        "start_time": "2024-04-08T12:59:05.338Z"
      },
      {
        "duration": 11,
        "start_time": "2024-04-08T12:59:05.518Z"
      },
      {
        "duration": 36,
        "start_time": "2024-04-08T12:59:05.531Z"
      },
      {
        "duration": 31,
        "start_time": "2024-04-08T12:59:05.569Z"
      },
      {
        "duration": 7,
        "start_time": "2024-04-08T12:59:05.601Z"
      },
      {
        "duration": 30,
        "start_time": "2024-04-08T12:59:05.609Z"
      },
      {
        "duration": 20,
        "start_time": "2024-04-08T12:59:05.641Z"
      },
      {
        "duration": 8,
        "start_time": "2024-04-08T12:59:05.663Z"
      },
      {
        "duration": 8,
        "start_time": "2024-04-08T12:59:05.673Z"
      },
      {
        "duration": 32784,
        "start_time": "2024-04-08T12:59:05.682Z"
      },
      {
        "duration": 3,
        "start_time": "2024-04-08T12:59:38.468Z"
      },
      {
        "duration": 2518,
        "start_time": "2024-04-08T12:59:44.200Z"
      },
      {
        "duration": 1525,
        "start_time": "2024-04-08T12:59:46.720Z"
      },
      {
        "duration": 2,
        "start_time": "2024-04-08T12:59:48.247Z"
      },
      {
        "duration": 86,
        "start_time": "2024-04-08T12:59:48.251Z"
      },
      {
        "duration": 13,
        "start_time": "2024-04-08T12:59:48.339Z"
      },
      {
        "duration": 12,
        "start_time": "2024-04-08T12:59:48.354Z"
      },
      {
        "duration": 17,
        "start_time": "2024-04-08T12:59:48.367Z"
      },
      {
        "duration": 15,
        "start_time": "2024-04-08T12:59:48.386Z"
      },
      {
        "duration": 7,
        "start_time": "2024-04-08T12:59:48.403Z"
      },
      {
        "duration": 35,
        "start_time": "2024-04-08T12:59:48.413Z"
      },
      {
        "duration": 272,
        "start_time": "2024-04-08T12:59:48.450Z"
      },
      {
        "duration": 9,
        "start_time": "2024-04-08T12:59:48.724Z"
      },
      {
        "duration": 38,
        "start_time": "2024-04-08T12:59:48.734Z"
      },
      {
        "duration": 934,
        "start_time": "2024-04-08T12:59:48.774Z"
      },
      {
        "duration": 204,
        "start_time": "2024-04-08T12:59:49.710Z"
      },
      {
        "duration": 181,
        "start_time": "2024-04-08T12:59:49.915Z"
      },
      {
        "duration": 4,
        "start_time": "2024-04-08T12:59:50.098Z"
      },
      {
        "duration": 36,
        "start_time": "2024-04-08T12:59:50.104Z"
      },
      {
        "duration": 37,
        "start_time": "2024-04-08T12:59:50.142Z"
      },
      {
        "duration": 7,
        "start_time": "2024-04-08T12:59:50.181Z"
      },
      {
        "duration": 34,
        "start_time": "2024-04-08T12:59:50.189Z"
      },
      {
        "duration": 17,
        "start_time": "2024-04-08T12:59:50.224Z"
      },
      {
        "duration": 31,
        "start_time": "2024-04-08T12:59:50.243Z"
      },
      {
        "duration": 23,
        "start_time": "2024-04-08T12:59:50.276Z"
      },
      {
        "duration": 2609,
        "start_time": "2024-04-08T12:59:57.527Z"
      },
      {
        "duration": 1619,
        "start_time": "2024-04-08T13:00:00.139Z"
      },
      {
        "duration": 2,
        "start_time": "2024-04-08T13:00:01.760Z"
      },
      {
        "duration": 242,
        "start_time": "2024-04-08T13:00:01.764Z"
      },
      {
        "duration": 12,
        "start_time": "2024-04-08T13:00:02.008Z"
      },
      {
        "duration": 78,
        "start_time": "2024-04-08T13:00:02.021Z"
      },
      {
        "duration": 54,
        "start_time": "2024-04-08T13:00:02.101Z"
      },
      {
        "duration": 69,
        "start_time": "2024-04-08T13:00:02.156Z"
      },
      {
        "duration": 82,
        "start_time": "2024-04-08T13:00:02.227Z"
      },
      {
        "duration": 79,
        "start_time": "2024-04-08T13:00:02.311Z"
      },
      {
        "duration": 316,
        "start_time": "2024-04-08T13:00:02.392Z"
      },
      {
        "duration": 7,
        "start_time": "2024-04-08T13:00:02.710Z"
      },
      {
        "duration": 54,
        "start_time": "2024-04-08T13:00:02.719Z"
      },
      {
        "duration": 999,
        "start_time": "2024-04-08T13:00:02.777Z"
      },
      {
        "duration": 201,
        "start_time": "2024-04-08T13:00:03.778Z"
      },
      {
        "duration": 186,
        "start_time": "2024-04-08T13:00:03.986Z"
      },
      {
        "duration": 4,
        "start_time": "2024-04-08T13:00:04.173Z"
      },
      {
        "duration": 30,
        "start_time": "2024-04-08T13:00:04.178Z"
      },
      {
        "duration": 30,
        "start_time": "2024-04-08T13:00:04.209Z"
      },
      {
        "duration": 6,
        "start_time": "2024-04-08T13:00:04.241Z"
      },
      {
        "duration": 16,
        "start_time": "2024-04-08T13:00:04.249Z"
      },
      {
        "duration": 10,
        "start_time": "2024-04-08T13:00:04.267Z"
      },
      {
        "duration": 6,
        "start_time": "2024-04-08T13:00:04.279Z"
      },
      {
        "duration": 11,
        "start_time": "2024-04-08T13:00:04.287Z"
      },
      {
        "duration": 24344,
        "start_time": "2024-04-08T13:00:04.299Z"
      },
      {
        "duration": 3,
        "start_time": "2024-04-08T13:00:28.645Z"
      },
      {
        "duration": 12119,
        "start_time": "2024-04-08T13:00:28.650Z"
      },
      {
        "duration": 3,
        "start_time": "2024-04-08T13:00:40.772Z"
      },
      {
        "duration": 2611,
        "start_time": "2024-04-08T13:01:57.054Z"
      },
      {
        "duration": 1551,
        "start_time": "2024-04-08T13:01:59.668Z"
      },
      {
        "duration": 3,
        "start_time": "2024-04-08T13:02:01.221Z"
      },
      {
        "duration": 203,
        "start_time": "2024-04-08T13:02:01.225Z"
      },
      {
        "duration": 11,
        "start_time": "2024-04-08T13:02:01.429Z"
      },
      {
        "duration": 84,
        "start_time": "2024-04-08T13:02:01.442Z"
      },
      {
        "duration": 44,
        "start_time": "2024-04-08T13:02:01.527Z"
      },
      {
        "duration": 65,
        "start_time": "2024-04-08T13:02:01.573Z"
      },
      {
        "duration": 63,
        "start_time": "2024-04-08T13:02:01.640Z"
      },
      {
        "duration": 177,
        "start_time": "2024-04-08T13:02:01.706Z"
      },
      {
        "duration": 513,
        "start_time": "2024-04-08T13:02:01.885Z"
      },
      {
        "duration": 7,
        "start_time": "2024-04-08T13:02:02.400Z"
      },
      {
        "duration": 55,
        "start_time": "2024-04-08T13:02:02.409Z"
      },
      {
        "duration": 1006,
        "start_time": "2024-04-08T13:02:02.466Z"
      },
      {
        "duration": 233,
        "start_time": "2024-04-08T13:02:03.474Z"
      },
      {
        "duration": 194,
        "start_time": "2024-04-08T13:02:03.709Z"
      },
      {
        "duration": 4,
        "start_time": "2024-04-08T13:02:03.905Z"
      },
      {
        "duration": 31,
        "start_time": "2024-04-08T13:02:03.911Z"
      },
      {
        "duration": 46,
        "start_time": "2024-04-08T13:02:03.943Z"
      },
      {
        "duration": 46,
        "start_time": "2024-04-08T13:02:03.991Z"
      },
      {
        "duration": 24,
        "start_time": "2024-04-08T13:02:04.038Z"
      },
      {
        "duration": 6,
        "start_time": "2024-04-08T13:02:04.063Z"
      },
      {
        "duration": 24,
        "start_time": "2024-04-08T13:02:04.071Z"
      },
      {
        "duration": 12,
        "start_time": "2024-04-08T13:02:04.097Z"
      },
      {
        "duration": 2553,
        "start_time": "2024-04-08T13:02:19.556Z"
      },
      {
        "duration": 1507,
        "start_time": "2024-04-08T13:02:22.111Z"
      },
      {
        "duration": 3,
        "start_time": "2024-04-08T13:02:23.620Z"
      },
      {
        "duration": 96,
        "start_time": "2024-04-08T13:02:23.629Z"
      },
      {
        "duration": 10,
        "start_time": "2024-04-08T13:02:23.729Z"
      },
      {
        "duration": 34,
        "start_time": "2024-04-08T13:02:23.741Z"
      },
      {
        "duration": 31,
        "start_time": "2024-04-08T13:02:23.777Z"
      },
      {
        "duration": 10,
        "start_time": "2024-04-08T13:02:23.810Z"
      },
      {
        "duration": 13,
        "start_time": "2024-04-08T13:02:23.821Z"
      },
      {
        "duration": 25,
        "start_time": "2024-04-08T13:02:23.835Z"
      },
      {
        "duration": 284,
        "start_time": "2024-04-08T13:02:23.862Z"
      },
      {
        "duration": 7,
        "start_time": "2024-04-08T13:02:24.147Z"
      },
      {
        "duration": 14,
        "start_time": "2024-04-08T13:02:24.156Z"
      },
      {
        "duration": 947,
        "start_time": "2024-04-08T13:02:24.173Z"
      },
      {
        "duration": 202,
        "start_time": "2024-04-08T13:02:25.122Z"
      },
      {
        "duration": 190,
        "start_time": "2024-04-08T13:02:25.325Z"
      },
      {
        "duration": 4,
        "start_time": "2024-04-08T13:02:25.516Z"
      },
      {
        "duration": 38,
        "start_time": "2024-04-08T13:02:25.531Z"
      },
      {
        "duration": 23,
        "start_time": "2024-04-08T13:02:25.570Z"
      },
      {
        "duration": 33,
        "start_time": "2024-04-08T13:02:25.595Z"
      },
      {
        "duration": 23,
        "start_time": "2024-04-08T13:02:25.629Z"
      },
      {
        "duration": 15,
        "start_time": "2024-04-08T13:02:25.654Z"
      },
      {
        "duration": 24,
        "start_time": "2024-04-08T13:02:25.671Z"
      },
      {
        "duration": 12,
        "start_time": "2024-04-08T13:02:25.696Z"
      },
      {
        "duration": 24876,
        "start_time": "2024-04-08T13:02:25.710Z"
      },
      {
        "duration": 3,
        "start_time": "2024-04-08T13:02:50.588Z"
      },
      {
        "duration": 12242,
        "start_time": "2024-04-08T13:02:50.592Z"
      },
      {
        "duration": 2,
        "start_time": "2024-04-08T13:03:02.836Z"
      },
      {
        "duration": 76590,
        "start_time": "2024-04-08T13:03:02.840Z"
      },
      {
        "duration": 4,
        "start_time": "2024-04-08T13:04:19.432Z"
      },
      {
        "duration": 24,
        "start_time": "2024-04-08T13:04:19.438Z"
      },
      {
        "duration": 13,
        "start_time": "2024-04-08T13:04:19.464Z"
      },
      {
        "duration": 8,
        "start_time": "2024-04-08T13:04:19.478Z"
      },
      {
        "duration": 6,
        "start_time": "2024-04-08T13:04:19.488Z"
      },
      {
        "duration": 15,
        "start_time": "2024-04-08T13:04:19.496Z"
      },
      {
        "duration": 326,
        "start_time": "2024-04-08T13:04:19.513Z"
      },
      {
        "duration": 2,
        "start_time": "2024-04-08T13:05:44.260Z"
      },
      {
        "duration": 2518,
        "start_time": "2024-04-08T13:05:49.770Z"
      },
      {
        "duration": 1474,
        "start_time": "2024-04-08T13:05:52.290Z"
      },
      {
        "duration": 3,
        "start_time": "2024-04-08T13:05:53.765Z"
      },
      {
        "duration": 87,
        "start_time": "2024-04-08T13:05:53.770Z"
      },
      {
        "duration": 11,
        "start_time": "2024-04-08T13:05:53.859Z"
      },
      {
        "duration": 18,
        "start_time": "2024-04-08T13:05:53.871Z"
      },
      {
        "duration": 3,
        "start_time": "2024-04-08T13:05:53.891Z"
      },
      {
        "duration": 7,
        "start_time": "2024-04-08T13:05:53.896Z"
      },
      {
        "duration": 6,
        "start_time": "2024-04-08T13:05:53.905Z"
      },
      {
        "duration": 10,
        "start_time": "2024-04-08T13:05:53.930Z"
      },
      {
        "duration": 290,
        "start_time": "2024-04-08T13:05:53.941Z"
      },
      {
        "duration": 7,
        "start_time": "2024-04-08T13:05:54.232Z"
      },
      {
        "duration": 14,
        "start_time": "2024-04-08T13:05:54.240Z"
      },
      {
        "duration": 949,
        "start_time": "2024-04-08T13:05:54.257Z"
      },
      {
        "duration": 212,
        "start_time": "2024-04-08T13:05:55.208Z"
      },
      {
        "duration": 196,
        "start_time": "2024-04-08T13:05:55.421Z"
      },
      {
        "duration": 3,
        "start_time": "2024-04-08T13:05:55.619Z"
      },
      {
        "duration": 23,
        "start_time": "2024-04-08T13:05:55.628Z"
      },
      {
        "duration": 25,
        "start_time": "2024-04-08T13:05:55.653Z"
      },
      {
        "duration": 6,
        "start_time": "2024-04-08T13:05:55.679Z"
      },
      {
        "duration": 16,
        "start_time": "2024-04-08T13:05:55.686Z"
      },
      {
        "duration": 25,
        "start_time": "2024-04-08T13:05:55.704Z"
      },
      {
        "duration": 4,
        "start_time": "2024-04-08T13:05:55.731Z"
      },
      {
        "duration": 23,
        "start_time": "2024-04-08T13:05:55.736Z"
      },
      {
        "duration": 29706,
        "start_time": "2024-04-08T13:05:55.760Z"
      },
      {
        "duration": 2,
        "start_time": "2024-04-08T13:06:25.468Z"
      },
      {
        "duration": 12207,
        "start_time": "2024-04-08T13:06:25.472Z"
      },
      {
        "duration": 3,
        "start_time": "2024-04-08T13:06:37.681Z"
      },
      {
        "duration": 88053,
        "start_time": "2024-04-08T13:06:37.686Z"
      },
      {
        "duration": 4,
        "start_time": "2024-04-08T13:08:05.741Z"
      },
      {
        "duration": 27,
        "start_time": "2024-04-08T13:08:05.747Z"
      },
      {
        "duration": 19,
        "start_time": "2024-04-08T13:08:05.776Z"
      },
      {
        "duration": 32,
        "start_time": "2024-04-08T13:08:05.797Z"
      },
      {
        "duration": 6,
        "start_time": "2024-04-08T13:08:05.831Z"
      },
      {
        "duration": 7,
        "start_time": "2024-04-08T13:08:05.839Z"
      },
      {
        "duration": 350,
        "start_time": "2024-04-08T13:08:05.848Z"
      },
      {
        "duration": 2582,
        "start_time": "2024-04-08T13:19:55.494Z"
      },
      {
        "duration": 1472,
        "start_time": "2024-04-08T13:19:58.079Z"
      },
      {
        "duration": 3,
        "start_time": "2024-04-08T13:19:59.552Z"
      },
      {
        "duration": 96,
        "start_time": "2024-04-08T13:19:59.557Z"
      },
      {
        "duration": 9,
        "start_time": "2024-04-08T13:19:59.655Z"
      },
      {
        "duration": 28,
        "start_time": "2024-04-08T13:19:59.666Z"
      },
      {
        "duration": 23,
        "start_time": "2024-04-08T13:19:59.696Z"
      },
      {
        "duration": 26,
        "start_time": "2024-04-08T13:19:59.721Z"
      },
      {
        "duration": 6,
        "start_time": "2024-04-08T13:19:59.749Z"
      },
      {
        "duration": 13,
        "start_time": "2024-04-08T13:19:59.758Z"
      },
      {
        "duration": 297,
        "start_time": "2024-04-08T13:19:59.773Z"
      },
      {
        "duration": 7,
        "start_time": "2024-04-08T13:20:00.072Z"
      },
      {
        "duration": 135,
        "start_time": "2024-04-08T13:20:00.081Z"
      },
      {
        "duration": 1150,
        "start_time": "2024-04-08T13:20:00.218Z"
      },
      {
        "duration": 205,
        "start_time": "2024-04-08T13:20:01.370Z"
      },
      {
        "duration": 181,
        "start_time": "2024-04-08T13:20:01.576Z"
      },
      {
        "duration": 4,
        "start_time": "2024-04-08T13:20:01.759Z"
      },
      {
        "duration": 112,
        "start_time": "2024-04-08T13:20:01.764Z"
      },
      {
        "duration": 124,
        "start_time": "2024-04-08T13:20:01.878Z"
      },
      {
        "duration": 103,
        "start_time": "2024-04-08T13:20:02.004Z"
      },
      {
        "duration": 158,
        "start_time": "2024-04-08T13:20:02.109Z"
      },
      {
        "duration": 165,
        "start_time": "2024-04-08T13:20:02.268Z"
      },
      {
        "duration": 41,
        "start_time": "2024-04-08T13:20:02.434Z"
      },
      {
        "duration": 22,
        "start_time": "2024-04-08T13:20:02.477Z"
      },
      {
        "duration": 35354,
        "start_time": "2024-04-08T13:20:02.501Z"
      },
      {
        "duration": 3,
        "start_time": "2024-04-08T13:20:37.857Z"
      },
      {
        "duration": 12156,
        "start_time": "2024-04-08T13:20:37.862Z"
      },
      {
        "duration": 2,
        "start_time": "2024-04-08T13:20:50.021Z"
      },
      {
        "duration": 78614,
        "start_time": "2024-04-08T13:20:50.025Z"
      },
      {
        "duration": 4,
        "start_time": "2024-04-08T13:22:08.641Z"
      },
      {
        "duration": 55,
        "start_time": "2024-04-08T13:22:08.647Z"
      },
      {
        "duration": 27,
        "start_time": "2024-04-08T13:22:08.704Z"
      },
      {
        "duration": 14,
        "start_time": "2024-04-08T13:22:08.733Z"
      },
      {
        "duration": 17,
        "start_time": "2024-04-08T13:22:08.748Z"
      },
      {
        "duration": 21,
        "start_time": "2024-04-08T13:22:08.766Z"
      },
      {
        "duration": 327,
        "start_time": "2024-04-08T13:22:08.788Z"
      },
      {
        "duration": 1501,
        "start_time": "2024-04-08T14:12:54.574Z"
      },
      {
        "duration": 1390,
        "start_time": "2024-04-08T14:13:08.912Z"
      },
      {
        "duration": 1286,
        "start_time": "2024-04-08T14:14:18.824Z"
      }
    ],
    "kernelspec": {
      "display_name": "Python 3 (ipykernel)",
      "language": "python",
      "name": "python3"
    },
    "language_info": {
      "codemirror_mode": {
        "name": "ipython",
        "version": 3
      },
      "file_extension": ".py",
      "mimetype": "text/x-python",
      "name": "python",
      "nbconvert_exporter": "python",
      "pygments_lexer": "ipython3",
      "version": "3.9.5"
    },
    "toc": {
      "base_numbering": 1,
      "nav_menu": {},
      "number_sections": true,
      "sideBar": true,
      "skip_h1_title": true,
      "title_cell": "Table of Contents",
      "title_sidebar": "Contents",
      "toc_cell": false,
      "toc_position": {},
      "toc_section_display": true,
      "toc_window_display": false
    },
    "colab": {
      "provenance": []
    }
  },
  "nbformat": 4,
  "nbformat_minor": 5
}